{
 "cells": [
  {
   "cell_type": "markdown",
   "id": "622225bc-b011-40d1-a79f-6242f59be99d",
   "metadata": {},
   "source": [
    "feature engineering to prepare training data for XGBoost and logistic regression.\n",
    "1. Build a switcher where I can turn on and off each feature engineering step. In the notebook. should I still build the feature engineering steps on top of each other? i.e. ohe on imputed df.\n",
    "2. Outliers: We don't want to remove it, leaving them untouched for XGBoost. However, logistic regression is more sensitive to outliers, so we need to handle it.\n",
    "3. Missing values: XGBoost is good at dealing missing values. However, missing values are still imputed to prepare for other algorithm and compare model performance. \n",
    "4. Scaling: scale the data with robust scaler because there are significant outliers, still scaling is not very helpful for xgboost but we add it case we are trying other algorithms.\n",
    "5. Mutual information evaluation after all the preprocessing to find significant input features. \n",
    "6. Build a base model evalution for the dataset, which is evaluated by recall@5% because it's highly imbalanced. "
   ]
  },
  {
   "cell_type": "markdown",
   "id": "60767c46-e67b-4dc2-8a6d-9845f4989725",
   "metadata": {},
   "source": [
    "# 1. Setup"
   ]
  },
  {
   "cell_type": "markdown",
   "id": "6ab0c6fb-1024-48f5-98ef-fb3c54cd12bc",
   "metadata": {},
   "source": [
    "## 1.1 Import libraries and reading data"
   ]
  },
  {
   "cell_type": "code",
   "execution_count": 1,
   "id": "fee9f5a8-0f0f-4594-ba39-2922ab4bbf41",
   "metadata": {},
   "outputs": [],
   "source": [
    "import os\n",
    "import yaml\n",
    "\n",
    "with open('../params.yaml') as file:\n",
    "    params = yaml.safe_load(file)\n",
    "dir_path = os.getcwd()\n",
    "parent_dir = os.path.dirname(dir_path)"
   ]
  },
  {
   "cell_type": "code",
   "execution_count": 2,
   "id": "54b8e8cd-cb1c-4584-8f6a-c919f537c737",
   "metadata": {},
   "outputs": [],
   "source": [
    "import pandas as pd\n",
    "import numpy as np\n",
    "import matplotlib.pylab as plt\n",
    "plt.style.use('ggplot')\n",
    "\n",
    "from pylab import rcParams\n",
    "\n",
    "import seaborn as sns\n",
    "sns.set_style('whitegrid')\n",
    "my_palette = sns.color_palette(\"Paired\")\n",
    "\n",
    "from scipy.stats import chi2_contingency, pearsonr\n",
    "\n",
    "import sklearn\n",
    "from sklearn import preprocessing\n",
    "from sklearn.preprocessing import scale\n",
    "from sklearn.impute import SimpleImputer\n",
    "from sklearn.feature_selection import chi2\n",
    "\n",
    "pd.set_option('display.max_columns', 500)\n",
    "\n",
    "import warnings as wr\n",
    "wr.filterwarnings('ignore')\n"
   ]
  },
  {
   "cell_type": "code",
   "execution_count": 3,
   "id": "3861ac05-ff21-424a-a351-9285eeb42783",
   "metadata": {},
   "outputs": [],
   "source": [
    "# df_base = pd.read_csv(f\"{params['data_location']}/Base_backup.csv\")\n",
    "df_base = pd.read_csv(f\"{parent_dir}/data/Base_backup.csv\", header=0)\n",
    "df = df_base.copy()"
   ]
  },
  {
   "cell_type": "markdown",
   "id": "180026e8-5622-4513-88ef-fdbdc9a051ac",
   "metadata": {},
   "source": [
    "### Helper functions"
   ]
  },
  {
   "cell_type": "code",
   "execution_count": 4,
   "id": "9a8b8378-d7fd-418c-b599-ab0fe60f7530",
   "metadata": {},
   "outputs": [],
   "source": [
    "# split categorical and numerical features\n",
    "def split_num_cat(df):\n",
    "    \"\"\"\n",
    "    Function to split columns into two, one having categorical features and another having numerical feautures\n",
    "    Parameters\n",
    "    ----------\n",
    "    df : dataframe\n",
    "            pass in full dataframe\n",
    "    ----------\n",
    "    Returns: \n",
    "        a list of categorical features\n",
    "        a list of numerical features\n",
    "    \"\"\"\n",
    "    categorical_features = []\n",
    "    numerical_features = []\n",
    "\n",
    "    for x in df.columns: \n",
    "        if df[x].nunique() > 12:\n",
    "            numerical_features.append(x)\n",
    "        elif df[x].nunique() >=2:\n",
    "            categorical_features.append(x)\n",
    "\n",
    "    if 'fraud_bool' in categorical_features:\n",
    "        categorical_features.remove('fraud_bool')\n",
    "    \n",
    "    return categorical_features, numerical_features\n",
    "\n",
    "def drop_unnecessary_columns(df, column_name):\n",
    "    \"\"\"\n",
    "    Function to delete the list of columns \n",
    "    Parameters\n",
    "    ----------\n",
    "    df : dataframe\n",
    "            pass in full dataframe\n",
    "    column_name : list\n",
    "            pass in list of full column\n",
    "    ----------\n",
    "    Returns: Dataframe\n",
    "    \"\"\"\n",
    "    df = df.drop(column_name, axis=1)\n",
    "    return df"
   ]
  },
  {
   "cell_type": "markdown",
   "id": "07fedc08-12c2-417e-bf08-2d362c90b01f",
   "metadata": {},
   "source": [
    "## 1.2 Drop features with no variance"
   ]
  },
  {
   "cell_type": "code",
   "execution_count": 5,
   "id": "58137586-3887-4a74-961c-40cad6d9183c",
   "metadata": {},
   "outputs": [
    {
     "name": "stdout",
     "output_type": "stream",
     "text": [
      "Constant features: ['device_fraud_count']\n"
     ]
    }
   ],
   "source": [
    "constant_feature =[]\n",
    "for x in df.columns:\n",
    "    if df[x].nunique() == 1:\n",
    "        constant_feature.append(x)\n",
    "\n",
    "print(\"Constant features:\", constant_feature)"
   ]
  },
  {
   "cell_type": "code",
   "execution_count": 6,
   "id": "abc949d6-d5dc-4002-873d-f0ea77e5666f",
   "metadata": {},
   "outputs": [],
   "source": [
    "df = drop_unnecessary_columns(df, df[constant_feature])"
   ]
  },
  {
   "cell_type": "markdown",
   "id": "f3cb48e6-24f3-48dd-b29a-f179a6943080",
   "metadata": {},
   "source": [
    "### 1.3 Change the dataype of binary features into type boolean"
   ]
  },
  {
   "cell_type": "code",
   "execution_count": 7,
   "id": "7e25dfa0-06a7-40fc-a394-8cbbe8acba0a",
   "metadata": {},
   "outputs": [
    {
     "name": "stdout",
     "output_type": "stream",
     "text": [
      "fraud_bool            bool\n",
      "email_is_free         bool\n",
      "phone_home_valid      bool\n",
      "phone_mobile_valid    bool\n",
      "has_other_cards       bool\n",
      "foreign_request       bool\n",
      "keep_alive_session    bool\n",
      "dtype: object\n"
     ]
    }
   ],
   "source": [
    "binary_features = df.columns[df.nunique() == 2].tolist()\n",
    "\n",
    "binary_features.remove('source')\n",
    "# Convert these features\"to boolean\n",
    "df[binary_features] = df[binary_features].astype(bool)\n",
    "\n",
    "# Verify changes\n",
    "print(df[binary_features].dtypes)"
   ]
  },
  {
   "cell_type": "markdown",
   "id": "afbad7ac-6f1e-4359-9e82-fc7d882c95e3",
   "metadata": {},
   "source": [
    "## 1.3 Train test split"
   ]
  },
  {
   "cell_type": "code",
   "execution_count": 8,
   "id": "1d475a78-740e-4faa-ae2f-37ae8cdc7b57",
   "metadata": {},
   "outputs": [],
   "source": [
    "y = df['fraud_bool']\n",
    "X = df.drop(columns=['fraud_bool'], axis = 1)"
   ]
  },
  {
   "cell_type": "code",
   "execution_count": 9,
   "id": "38615872-31c4-4f21-b032-134f726b63cf",
   "metadata": {},
   "outputs": [],
   "source": [
    "from sklearn.model_selection import train_test_split\n",
    "\n",
    "test_size = 0.2\n",
    "X_train, X_test, y_train, y_test = train_test_split(X, y, test_size=test_size, random_state=42)"
   ]
  },
  {
   "cell_type": "code",
   "execution_count": 10,
   "id": "46d91e63-9a1e-4b5e-963f-a663288cbbbc",
   "metadata": {},
   "outputs": [
    {
     "data": {
      "text/plain": [
       "(800000, 30)"
      ]
     },
     "execution_count": 10,
     "metadata": {},
     "output_type": "execute_result"
    }
   ],
   "source": [
    "X_train.shape"
   ]
  },
  {
   "cell_type": "code",
   "execution_count": 11,
   "id": "ed757084-0e2c-4fa3-b494-e6060aa49774",
   "metadata": {},
   "outputs": [
    {
     "data": {
      "text/plain": [
       "(800000,)"
      ]
     },
     "execution_count": 11,
     "metadata": {},
     "output_type": "execute_result"
    }
   ],
   "source": [
    "y_train.shape"
   ]
  },
  {
   "cell_type": "code",
   "execution_count": 153,
   "id": "75f79efa-dbf5-4782-ad60-00e88cea57f4",
   "metadata": {},
   "outputs": [
    {
     "data": {
      "text/html": [
       "<div>\n",
       "<style scoped>\n",
       "    .dataframe tbody tr th:only-of-type {\n",
       "        vertical-align: middle;\n",
       "    }\n",
       "\n",
       "    .dataframe tbody tr th {\n",
       "        vertical-align: top;\n",
       "    }\n",
       "\n",
       "    .dataframe thead th {\n",
       "        text-align: right;\n",
       "    }\n",
       "</style>\n",
       "<table border=\"1\" class=\"dataframe\">\n",
       "  <thead>\n",
       "    <tr style=\"text-align: right;\">\n",
       "      <th></th>\n",
       "      <th>income</th>\n",
       "      <th>name_email_similarity</th>\n",
       "      <th>prev_address_months_count</th>\n",
       "      <th>current_address_months_count</th>\n",
       "      <th>customer_age</th>\n",
       "      <th>days_since_request</th>\n",
       "      <th>intended_balcon_amount</th>\n",
       "      <th>zip_count_4w</th>\n",
       "      <th>velocity_6h</th>\n",
       "      <th>velocity_24h</th>\n",
       "      <th>velocity_4w</th>\n",
       "      <th>bank_branch_count_8w</th>\n",
       "      <th>date_of_birth_distinct_emails_4w</th>\n",
       "      <th>credit_risk_score</th>\n",
       "      <th>bank_months_count</th>\n",
       "      <th>proposed_credit_limit</th>\n",
       "      <th>session_length_in_minutes</th>\n",
       "      <th>device_distinct_emails_8w</th>\n",
       "      <th>month</th>\n",
       "    </tr>\n",
       "  </thead>\n",
       "  <tbody>\n",
       "    <tr>\n",
       "      <th>count</th>\n",
       "      <td>800000.000000</td>\n",
       "      <td>800000.000000</td>\n",
       "      <td>800000.000000</td>\n",
       "      <td>800000.000000</td>\n",
       "      <td>800000.000000</td>\n",
       "      <td>8.000000e+05</td>\n",
       "      <td>800000.000000</td>\n",
       "      <td>800000.000000</td>\n",
       "      <td>800000.000000</td>\n",
       "      <td>800000.000000</td>\n",
       "      <td>800000.000000</td>\n",
       "      <td>800000.000000</td>\n",
       "      <td>800000.000000</td>\n",
       "      <td>800000.000000</td>\n",
       "      <td>800000.000000</td>\n",
       "      <td>800000.000000</td>\n",
       "      <td>800000.000000</td>\n",
       "      <td>800000.000000</td>\n",
       "      <td>800000.000000</td>\n",
       "    </tr>\n",
       "    <tr>\n",
       "      <th>mean</th>\n",
       "      <td>0.562838</td>\n",
       "      <td>0.493679</td>\n",
       "      <td>16.727529</td>\n",
       "      <td>86.651003</td>\n",
       "      <td>33.683575</td>\n",
       "      <td>1.024581e+00</td>\n",
       "      <td>8.666942</td>\n",
       "      <td>1572.691783</td>\n",
       "      <td>5664.123809</td>\n",
       "      <td>4768.744070</td>\n",
       "      <td>4856.113352</td>\n",
       "      <td>184.627865</td>\n",
       "      <td>9.502435</td>\n",
       "      <td>131.055336</td>\n",
       "      <td>10.847309</td>\n",
       "      <td>516.355675</td>\n",
       "      <td>7.548144</td>\n",
       "      <td>1.018345</td>\n",
       "      <td>3.289231</td>\n",
       "    </tr>\n",
       "    <tr>\n",
       "      <th>std</th>\n",
       "      <td>0.290284</td>\n",
       "      <td>0.289083</td>\n",
       "      <td>44.073072</td>\n",
       "      <td>88.428548</td>\n",
       "      <td>12.023340</td>\n",
       "      <td>5.384940e+00</td>\n",
       "      <td>20.255749</td>\n",
       "      <td>1005.553072</td>\n",
       "      <td>3010.204130</td>\n",
       "      <td>1478.809582</td>\n",
       "      <td>919.994441</td>\n",
       "      <td>459.934773</td>\n",
       "      <td>5.033803</td>\n",
       "      <td>69.742814</td>\n",
       "      <td>12.118281</td>\n",
       "      <td>487.806283</td>\n",
       "      <td>8.042752</td>\n",
       "      <td>0.180952</td>\n",
       "      <td>2.209984</td>\n",
       "    </tr>\n",
       "    <tr>\n",
       "      <th>min</th>\n",
       "      <td>0.100000</td>\n",
       "      <td>0.000001</td>\n",
       "      <td>-1.000000</td>\n",
       "      <td>-1.000000</td>\n",
       "      <td>10.000000</td>\n",
       "      <td>4.036860e-09</td>\n",
       "      <td>-15.530555</td>\n",
       "      <td>1.000000</td>\n",
       "      <td>-170.603072</td>\n",
       "      <td>1320.283991</td>\n",
       "      <td>2825.748405</td>\n",
       "      <td>0.000000</td>\n",
       "      <td>0.000000</td>\n",
       "      <td>-169.000000</td>\n",
       "      <td>-1.000000</td>\n",
       "      <td>190.000000</td>\n",
       "      <td>-1.000000</td>\n",
       "      <td>-1.000000</td>\n",
       "      <td>0.000000</td>\n",
       "    </tr>\n",
       "    <tr>\n",
       "      <th>25%</th>\n",
       "      <td>0.300000</td>\n",
       "      <td>0.225180</td>\n",
       "      <td>-1.000000</td>\n",
       "      <td>19.000000</td>\n",
       "      <td>20.000000</td>\n",
       "      <td>7.183933e-03</td>\n",
       "      <td>-1.181387</td>\n",
       "      <td>894.000000</td>\n",
       "      <td>3435.962936</td>\n",
       "      <td>3592.988203</td>\n",
       "      <td>4268.319057</td>\n",
       "      <td>1.000000</td>\n",
       "      <td>6.000000</td>\n",
       "      <td>83.000000</td>\n",
       "      <td>-1.000000</td>\n",
       "      <td>200.000000</td>\n",
       "      <td>3.102776</td>\n",
       "      <td>1.000000</td>\n",
       "      <td>1.000000</td>\n",
       "    </tr>\n",
       "    <tr>\n",
       "      <th>50%</th>\n",
       "      <td>0.600000</td>\n",
       "      <td>0.492253</td>\n",
       "      <td>-1.000000</td>\n",
       "      <td>52.000000</td>\n",
       "      <td>30.000000</td>\n",
       "      <td>1.517071e-02</td>\n",
       "      <td>-0.830680</td>\n",
       "      <td>1263.000000</td>\n",
       "      <td>5317.126477</td>\n",
       "      <td>4749.005380</td>\n",
       "      <td>4913.667485</td>\n",
       "      <td>9.000000</td>\n",
       "      <td>9.000000</td>\n",
       "      <td>122.000000</td>\n",
       "      <td>5.000000</td>\n",
       "      <td>200.000000</td>\n",
       "      <td>5.114818</td>\n",
       "      <td>1.000000</td>\n",
       "      <td>3.000000</td>\n",
       "    </tr>\n",
       "    <tr>\n",
       "      <th>75%</th>\n",
       "      <td>0.800000</td>\n",
       "      <td>0.755595</td>\n",
       "      <td>12.000000</td>\n",
       "      <td>130.000000</td>\n",
       "      <td>40.000000</td>\n",
       "      <td>2.632796e-02</td>\n",
       "      <td>4.984334</td>\n",
       "      <td>1943.000000</td>\n",
       "      <td>7681.772107</td>\n",
       "      <td>5750.629217</td>\n",
       "      <td>5487.721416</td>\n",
       "      <td>25.000000</td>\n",
       "      <td>13.000000</td>\n",
       "      <td>178.000000</td>\n",
       "      <td>25.000000</td>\n",
       "      <td>500.000000</td>\n",
       "      <td>8.870898</td>\n",
       "      <td>1.000000</td>\n",
       "      <td>5.000000</td>\n",
       "    </tr>\n",
       "    <tr>\n",
       "      <th>max</th>\n",
       "      <td>0.900000</td>\n",
       "      <td>0.999999</td>\n",
       "      <td>381.000000</td>\n",
       "      <td>428.000000</td>\n",
       "      <td>90.000000</td>\n",
       "      <td>7.845690e+01</td>\n",
       "      <td>112.956928</td>\n",
       "      <td>6700.000000</td>\n",
       "      <td>16640.749743</td>\n",
       "      <td>9506.896596</td>\n",
       "      <td>6994.764201</td>\n",
       "      <td>2385.000000</td>\n",
       "      <td>39.000000</td>\n",
       "      <td>386.000000</td>\n",
       "      <td>32.000000</td>\n",
       "      <td>2100.000000</td>\n",
       "      <td>83.376775</td>\n",
       "      <td>2.000000</td>\n",
       "      <td>7.000000</td>\n",
       "    </tr>\n",
       "  </tbody>\n",
       "</table>\n",
       "</div>"
      ],
      "text/plain": [
       "              income  name_email_similarity  prev_address_months_count  \\\n",
       "count  800000.000000          800000.000000              800000.000000   \n",
       "mean        0.562838               0.493679                  16.727529   \n",
       "std         0.290284               0.289083                  44.073072   \n",
       "min         0.100000               0.000001                  -1.000000   \n",
       "25%         0.300000               0.225180                  -1.000000   \n",
       "50%         0.600000               0.492253                  -1.000000   \n",
       "75%         0.800000               0.755595                  12.000000   \n",
       "max         0.900000               0.999999                 381.000000   \n",
       "\n",
       "       current_address_months_count   customer_age  days_since_request  \\\n",
       "count                 800000.000000  800000.000000        8.000000e+05   \n",
       "mean                      86.651003      33.683575        1.024581e+00   \n",
       "std                       88.428548      12.023340        5.384940e+00   \n",
       "min                       -1.000000      10.000000        4.036860e-09   \n",
       "25%                       19.000000      20.000000        7.183933e-03   \n",
       "50%                       52.000000      30.000000        1.517071e-02   \n",
       "75%                      130.000000      40.000000        2.632796e-02   \n",
       "max                      428.000000      90.000000        7.845690e+01   \n",
       "\n",
       "       intended_balcon_amount   zip_count_4w    velocity_6h   velocity_24h  \\\n",
       "count           800000.000000  800000.000000  800000.000000  800000.000000   \n",
       "mean                 8.666942    1572.691783    5664.123809    4768.744070   \n",
       "std                 20.255749    1005.553072    3010.204130    1478.809582   \n",
       "min                -15.530555       1.000000    -170.603072    1320.283991   \n",
       "25%                 -1.181387     894.000000    3435.962936    3592.988203   \n",
       "50%                 -0.830680    1263.000000    5317.126477    4749.005380   \n",
       "75%                  4.984334    1943.000000    7681.772107    5750.629217   \n",
       "max                112.956928    6700.000000   16640.749743    9506.896596   \n",
       "\n",
       "         velocity_4w  bank_branch_count_8w  date_of_birth_distinct_emails_4w  \\\n",
       "count  800000.000000         800000.000000                     800000.000000   \n",
       "mean     4856.113352            184.627865                          9.502435   \n",
       "std       919.994441            459.934773                          5.033803   \n",
       "min      2825.748405              0.000000                          0.000000   \n",
       "25%      4268.319057              1.000000                          6.000000   \n",
       "50%      4913.667485              9.000000                          9.000000   \n",
       "75%      5487.721416             25.000000                         13.000000   \n",
       "max      6994.764201           2385.000000                         39.000000   \n",
       "\n",
       "       credit_risk_score  bank_months_count  proposed_credit_limit  \\\n",
       "count      800000.000000      800000.000000          800000.000000   \n",
       "mean          131.055336          10.847309             516.355675   \n",
       "std            69.742814          12.118281             487.806283   \n",
       "min          -169.000000          -1.000000             190.000000   \n",
       "25%            83.000000          -1.000000             200.000000   \n",
       "50%           122.000000           5.000000             200.000000   \n",
       "75%           178.000000          25.000000             500.000000   \n",
       "max           386.000000          32.000000            2100.000000   \n",
       "\n",
       "       session_length_in_minutes  device_distinct_emails_8w          month  \n",
       "count              800000.000000              800000.000000  800000.000000  \n",
       "mean                    7.548144                   1.018345       3.289231  \n",
       "std                     8.042752                   0.180952       2.209984  \n",
       "min                    -1.000000                  -1.000000       0.000000  \n",
       "25%                     3.102776                   1.000000       1.000000  \n",
       "50%                     5.114818                   1.000000       3.000000  \n",
       "75%                     8.870898                   1.000000       5.000000  \n",
       "max                    83.376775                   2.000000       7.000000  "
      ]
     },
     "execution_count": 153,
     "metadata": {},
     "output_type": "execute_result"
    }
   ],
   "source": [
    "X_train.describe()"
   ]
  },
  {
   "cell_type": "code",
   "execution_count": 12,
   "id": "1f1ccfde-69ea-40a2-8a54-2ffe89f9c9ab",
   "metadata": {},
   "outputs": [
    {
     "name": "stdout",
     "output_type": "stream",
     "text": [
      "Categorical features: ['income', 'customer_age', 'payment_type', 'employment_status', 'email_is_free', 'housing_status', 'phone_home_valid', 'phone_mobile_valid', 'has_other_cards', 'proposed_credit_limit', 'foreign_request', 'source', 'device_os', 'keep_alive_session', 'device_distinct_emails_8w', 'month']\n",
      "Numerical features: ['name_email_similarity', 'prev_address_months_count', 'current_address_months_count', 'days_since_request', 'intended_balcon_amount', 'zip_count_4w', 'velocity_6h', 'velocity_24h', 'velocity_4w', 'bank_branch_count_8w', 'date_of_birth_distinct_emails_4w', 'credit_risk_score', 'bank_months_count', 'session_length_in_minutes']\n"
     ]
    }
   ],
   "source": [
    "categorical_features, numerical_features = split_num_cat(df)\n",
    "print('Categorical features:', categorical_features)\n",
    "print('Numerical features:', numerical_features)"
   ]
  },
  {
   "cell_type": "markdown",
   "id": "753b4513-99d8-4cea-a20e-6e397fba181d",
   "metadata": {},
   "source": [
    "# 2. Handle missing values¶"
   ]
  },
  {
   "cell_type": "markdown",
   "id": "dc8be95a-eb30-4f07-b932-c4159f9dbd6b",
   "metadata": {},
   "source": [
    "XGBoost supports missing values by default. In tree algorithms, branch directions for missing values are learned during training. And the gblinear booster treats missing values as zeros.\n",
    "\n",
    "We still choose to handle missing values in case of we are using any other types of models. \n",
    "Also for features with high percentage of missing values, we choose to add an additional column to indicate where the value is missing, so the model can still learn from missing values. "
   ]
  },
  {
   "cell_type": "code",
   "execution_count": 13,
   "id": "512ed412-acec-4018-8263-f7ec7bb4bd08",
   "metadata": {},
   "outputs": [
    {
     "name": "stdout",
     "output_type": "stream",
     "text": [
      "Features with missing values represented by -1:\n",
      "['prev_address_months_count', 'current_address_months_count', 'bank_months_count', 'session_length_in_minutes', 'device_distinct_emails_8w']\n"
     ]
    }
   ],
   "source": [
    "# Get names of columns with missing values\n",
    "missing_value_val = [x for x in X_train.columns if (X_train[x].min() == -1)]\n",
    "\n",
    "print(\"Features with missing values represented by -1:\")\n",
    "print(missing_value_val)\n",
    "\n",
    "# Replace all missing value (-1) with NaN\n",
    "X_train[missing_value_val] = X_train[missing_value_val].replace(-1, np.nan)\n",
    "X_test[missing_value_val] = X_test[missing_value_val].replace(-1, np.nan)"
   ]
  },
  {
   "cell_type": "markdown",
   "id": "a33f0247-6c8c-428d-bb4c-bd41c8d2a0bf",
   "metadata": {},
   "source": [
    "device_distinct_emails_8w: with median/mean/mode all = 1\n",
    "\n",
    "session_length_in_minutes: impute with median, skewed to the right\n",
    "\n",
    "current_address_months_count: impute with median\n",
    "\n",
    "prev_address_months_count: Longer current address durations correlate with higher missing values in months_in_previous_address, it indicates the missing values are likely not missing at random. Since the missing value correlates with current_address_months_count, use its value as a condition for imputation.\n",
    "\n",
    "bank_months_count: \n",
    "- How old is previous account (if held) in months. Ranges between [−1, 31] months (-1 is a missing value).\n",
    "- fill with 0s, meaning the previous account doesn't exist."
   ]
  },
  {
   "cell_type": "code",
   "execution_count": 14,
   "id": "9abf7f9e-c012-469e-bbfd-963f0ee13820",
   "metadata": {},
   "outputs": [],
   "source": [
    "df_train_imputed = X_train.copy()\n",
    "df_test_imputed = X_test.copy()"
   ]
  },
  {
   "cell_type": "code",
   "execution_count": 15,
   "id": "a43b966f-3cd3-497f-b6cd-e575357906b6",
   "metadata": {},
   "outputs": [
    {
     "name": "stdout",
     "output_type": "stream",
     "text": [
      "current_address_months_count    0\n",
      "session_length_in_minutes       0\n",
      "device_distinct_emails_8w       0\n",
      "dtype: int64\n",
      "current_address_months_count    0\n",
      "session_length_in_minutes       0\n",
      "device_distinct_emails_8w       0\n",
      "dtype: int64\n"
     ]
    }
   ],
   "source": [
    "# For features with missing_vals_percentage < 1, impute missing values with the median of the group \n",
    "columns_to_impute = ['current_address_months_count', 'session_length_in_minutes', 'device_distinct_emails_8w']\n",
    "\n",
    "medians = {}\n",
    "for column in columns_to_impute:\n",
    "    medians[column] = df_train_imputed[column].median()\n",
    "\n",
    "for column in columns_to_impute:\n",
    "    df_train_imputed[column] = df_train_imputed[column].fillna(medians[column])\n",
    "    df_test_imputed[column] = df_test_imputed[column].fillna(medians[column])\n",
    "\n",
    "# Verify no more null values\n",
    "print((df_train_imputed[columns_to_impute].isna()).sum())\n",
    "print((df_test_imputed[columns_to_impute].isna()).sum())"
   ]
  },
  {
   "cell_type": "code",
   "execution_count": 16,
   "id": "b367b654-1af9-4b5d-9d97-d8dbeece4844",
   "metadata": {},
   "outputs": [],
   "source": [
    "# For bank_months_count, fill missing data with 0s \n",
    "# add additional column to indicate where missing value is\n",
    "\n",
    "df_train_imputed['bank_months_count_was_missing'] = df_train_imputed['bank_months_count'].isna().astype(int)\n",
    "df_test_imputed['bank_months_count_was_missing'] = df_test_imputed['bank_months_count'].isna().astype(int)\n",
    "\n",
    "df_train_imputed['bank_months_count'] = df_train_imputed['bank_months_count'].fillna(0)\n",
    "df_test_imputed['bank_months_count'] = df_test_imputed['bank_months_count'].fillna(0)"
   ]
  },
  {
   "cell_type": "code",
   "execution_count": 17,
   "id": "6ddc3baa-82dd-4b22-8d11-34a01ebd10a4",
   "metadata": {},
   "outputs": [
    {
     "data": {
      "text/plain": [
       "income                                   0\n",
       "name_email_similarity                    0\n",
       "prev_address_months_count           570300\n",
       "current_address_months_count             0\n",
       "customer_age                             0\n",
       "days_since_request                       0\n",
       "intended_balcon_amount                   0\n",
       "payment_type                             0\n",
       "zip_count_4w                             0\n",
       "velocity_6h                              0\n",
       "velocity_24h                             0\n",
       "velocity_4w                              0\n",
       "bank_branch_count_8w                     0\n",
       "date_of_birth_distinct_emails_4w         0\n",
       "employment_status                        0\n",
       "credit_risk_score                        0\n",
       "email_is_free                            0\n",
       "housing_status                           0\n",
       "phone_home_valid                         0\n",
       "phone_mobile_valid                       0\n",
       "bank_months_count                        0\n",
       "has_other_cards                          0\n",
       "proposed_credit_limit                    0\n",
       "foreign_request                          0\n",
       "source                                   0\n",
       "session_length_in_minutes                0\n",
       "device_os                                0\n",
       "keep_alive_session                       0\n",
       "device_distinct_emails_8w                0\n",
       "month                                    0\n",
       "bank_months_count_was_missing            0\n",
       "dtype: int64"
      ]
     },
     "execution_count": 17,
     "metadata": {},
     "output_type": "execute_result"
    }
   ],
   "source": [
    "df_train_imputed.isna().sum()"
   ]
  },
  {
   "cell_type": "code",
   "execution_count": 18,
   "id": "c3386572-8512-4c9d-b5e0-1ca9e3919192",
   "metadata": {},
   "outputs": [],
   "source": [
    "# Impute prev_address_months_count by the median of each current_address_months_count bin bucket\n",
    "bin_edges = pd.cut(df_train_imputed['current_address_months_count'], 12, retbins=True)[1]\n",
    "\n",
    "df_train_imputed['current_address_bucket'] = pd.cut(df_train_imputed['current_address_months_count'], bins=bin_edges)\n",
    "df_test_imputed['current_address_bucket'] = pd.cut(df_test_imputed['current_address_months_count'], bins=bin_edges)\n",
    "\n",
    "bucket_medians = df_train_imputed.groupby('current_address_bucket')['prev_address_months_count'].median()\n",
    "\n",
    "df_train_imputed['prev_address_months_count_was_missing'] = df_train_imputed['prev_address_months_count'].isna().astype(int)\n",
    "df_test_imputed['prev_address_months_count_was_missing'] = df_test_imputed['prev_address_months_count'].isna().astype(int)\n",
    "\n",
    "df_train_imputed['prev_address_months_count'] = df_train_imputed.groupby('current_address_bucket')['prev_address_months_count'].transform(\n",
    "    lambda x: x.fillna(x.median())\n",
    ")\n",
    "\n",
    "# Impute test set using training bucket medians\n",
    "df_test_imputed['prev_address_months_count'] = df_test_imputed.apply(\n",
    "    lambda row: bucket_medians[row['current_address_bucket']] if pd.isna(row['prev_address_months_count']) and row['current_address_bucket'] in bucket_medians else row['prev_address_months_count'], axis=1\n",
    ")\n",
    "\n",
    "# Drop the temporary bucket column\n",
    "df_train_imputed = df_train_imputed.drop(\"current_address_bucket\", axis=1)\n",
    "df_test_imputed = df_test_imputed.drop(\"current_address_bucket\", axis=1)"
   ]
  },
  {
   "cell_type": "code",
   "execution_count": 20,
   "id": "822064ac-60b0-4545-b09d-ddaf85374781",
   "metadata": {},
   "outputs": [
    {
     "data": {
      "text/html": [
       "<div>\n",
       "<style scoped>\n",
       "    .dataframe tbody tr th:only-of-type {\n",
       "        vertical-align: middle;\n",
       "    }\n",
       "\n",
       "    .dataframe tbody tr th {\n",
       "        vertical-align: top;\n",
       "    }\n",
       "\n",
       "    .dataframe thead th {\n",
       "        text-align: right;\n",
       "    }\n",
       "</style>\n",
       "<table border=\"1\" class=\"dataframe\">\n",
       "  <thead>\n",
       "    <tr style=\"text-align: right;\">\n",
       "      <th></th>\n",
       "      <th>count</th>\n",
       "      <th>mean</th>\n",
       "      <th>std</th>\n",
       "      <th>min</th>\n",
       "      <th>25%</th>\n",
       "      <th>50%</th>\n",
       "      <th>75%</th>\n",
       "      <th>max</th>\n",
       "    </tr>\n",
       "  </thead>\n",
       "  <tbody>\n",
       "    <tr>\n",
       "      <th>income</th>\n",
       "      <td>800000.0</td>\n",
       "      <td>0.562838</td>\n",
       "      <td>0.290284</td>\n",
       "      <td>1.000000e-01</td>\n",
       "      <td>0.300000</td>\n",
       "      <td>0.600000</td>\n",
       "      <td>0.800000</td>\n",
       "      <td>0.900000</td>\n",
       "    </tr>\n",
       "    <tr>\n",
       "      <th>name_email_similarity</th>\n",
       "      <td>800000.0</td>\n",
       "      <td>0.493679</td>\n",
       "      <td>0.289083</td>\n",
       "      <td>1.434550e-06</td>\n",
       "      <td>0.225180</td>\n",
       "      <td>0.492253</td>\n",
       "      <td>0.755595</td>\n",
       "      <td>0.999999</td>\n",
       "    </tr>\n",
       "    <tr>\n",
       "      <th>prev_address_months_count</th>\n",
       "      <td>800000.0</td>\n",
       "      <td>51.640779</td>\n",
       "      <td>37.007722</td>\n",
       "      <td>5.000000e+00</td>\n",
       "      <td>33.000000</td>\n",
       "      <td>51.000000</td>\n",
       "      <td>56.000000</td>\n",
       "      <td>381.000000</td>\n",
       "    </tr>\n",
       "    <tr>\n",
       "      <th>current_address_months_count</th>\n",
       "      <td>800000.0</td>\n",
       "      <td>86.881245</td>\n",
       "      <td>88.270189</td>\n",
       "      <td>0.000000e+00</td>\n",
       "      <td>20.000000</td>\n",
       "      <td>53.000000</td>\n",
       "      <td>130.000000</td>\n",
       "      <td>428.000000</td>\n",
       "    </tr>\n",
       "    <tr>\n",
       "      <th>customer_age</th>\n",
       "      <td>800000.0</td>\n",
       "      <td>33.683575</td>\n",
       "      <td>12.023340</td>\n",
       "      <td>1.000000e+01</td>\n",
       "      <td>20.000000</td>\n",
       "      <td>30.000000</td>\n",
       "      <td>40.000000</td>\n",
       "      <td>90.000000</td>\n",
       "    </tr>\n",
       "    <tr>\n",
       "      <th>days_since_request</th>\n",
       "      <td>800000.0</td>\n",
       "      <td>1.024581</td>\n",
       "      <td>5.384940</td>\n",
       "      <td>4.036860e-09</td>\n",
       "      <td>0.007184</td>\n",
       "      <td>0.015171</td>\n",
       "      <td>0.026328</td>\n",
       "      <td>78.456904</td>\n",
       "    </tr>\n",
       "    <tr>\n",
       "      <th>intended_balcon_amount</th>\n",
       "      <td>800000.0</td>\n",
       "      <td>8.666942</td>\n",
       "      <td>20.255749</td>\n",
       "      <td>-1.553055e+01</td>\n",
       "      <td>-1.181387</td>\n",
       "      <td>-0.830680</td>\n",
       "      <td>4.984334</td>\n",
       "      <td>112.956928</td>\n",
       "    </tr>\n",
       "    <tr>\n",
       "      <th>zip_count_4w</th>\n",
       "      <td>800000.0</td>\n",
       "      <td>1572.691783</td>\n",
       "      <td>1005.553072</td>\n",
       "      <td>1.000000e+00</td>\n",
       "      <td>894.000000</td>\n",
       "      <td>1263.000000</td>\n",
       "      <td>1943.000000</td>\n",
       "      <td>6700.000000</td>\n",
       "    </tr>\n",
       "    <tr>\n",
       "      <th>velocity_6h</th>\n",
       "      <td>800000.0</td>\n",
       "      <td>5664.123809</td>\n",
       "      <td>3010.204130</td>\n",
       "      <td>-1.706031e+02</td>\n",
       "      <td>3435.962936</td>\n",
       "      <td>5317.126477</td>\n",
       "      <td>7681.772107</td>\n",
       "      <td>16640.749743</td>\n",
       "    </tr>\n",
       "    <tr>\n",
       "      <th>velocity_24h</th>\n",
       "      <td>800000.0</td>\n",
       "      <td>4768.744070</td>\n",
       "      <td>1478.809582</td>\n",
       "      <td>1.320284e+03</td>\n",
       "      <td>3592.988203</td>\n",
       "      <td>4749.005380</td>\n",
       "      <td>5750.629217</td>\n",
       "      <td>9506.896596</td>\n",
       "    </tr>\n",
       "    <tr>\n",
       "      <th>velocity_4w</th>\n",
       "      <td>800000.0</td>\n",
       "      <td>4856.113352</td>\n",
       "      <td>919.994441</td>\n",
       "      <td>2.825748e+03</td>\n",
       "      <td>4268.319057</td>\n",
       "      <td>4913.667485</td>\n",
       "      <td>5487.721416</td>\n",
       "      <td>6994.764201</td>\n",
       "    </tr>\n",
       "    <tr>\n",
       "      <th>bank_branch_count_8w</th>\n",
       "      <td>800000.0</td>\n",
       "      <td>184.627865</td>\n",
       "      <td>459.934773</td>\n",
       "      <td>0.000000e+00</td>\n",
       "      <td>1.000000</td>\n",
       "      <td>9.000000</td>\n",
       "      <td>25.000000</td>\n",
       "      <td>2385.000000</td>\n",
       "    </tr>\n",
       "    <tr>\n",
       "      <th>date_of_birth_distinct_emails_4w</th>\n",
       "      <td>800000.0</td>\n",
       "      <td>9.502435</td>\n",
       "      <td>5.033803</td>\n",
       "      <td>0.000000e+00</td>\n",
       "      <td>6.000000</td>\n",
       "      <td>9.000000</td>\n",
       "      <td>13.000000</td>\n",
       "      <td>39.000000</td>\n",
       "    </tr>\n",
       "    <tr>\n",
       "      <th>credit_risk_score</th>\n",
       "      <td>800000.0</td>\n",
       "      <td>131.055336</td>\n",
       "      <td>69.742814</td>\n",
       "      <td>-1.690000e+02</td>\n",
       "      <td>83.000000</td>\n",
       "      <td>122.000000</td>\n",
       "      <td>178.000000</td>\n",
       "      <td>386.000000</td>\n",
       "    </tr>\n",
       "    <tr>\n",
       "      <th>bank_months_count</th>\n",
       "      <td>800000.0</td>\n",
       "      <td>11.100916</td>\n",
       "      <td>11.875727</td>\n",
       "      <td>0.000000e+00</td>\n",
       "      <td>0.000000</td>\n",
       "      <td>5.000000</td>\n",
       "      <td>25.000000</td>\n",
       "      <td>32.000000</td>\n",
       "    </tr>\n",
       "    <tr>\n",
       "      <th>proposed_credit_limit</th>\n",
       "      <td>800000.0</td>\n",
       "      <td>516.355675</td>\n",
       "      <td>487.806283</td>\n",
       "      <td>1.900000e+02</td>\n",
       "      <td>200.000000</td>\n",
       "      <td>200.000000</td>\n",
       "      <td>500.000000</td>\n",
       "      <td>2100.000000</td>\n",
       "    </tr>\n",
       "    <tr>\n",
       "      <th>session_length_in_minutes</th>\n",
       "      <td>800000.0</td>\n",
       "      <td>7.560475</td>\n",
       "      <td>8.034326</td>\n",
       "      <td>8.720274e-04</td>\n",
       "      <td>3.121877</td>\n",
       "      <td>5.123322</td>\n",
       "      <td>8.870898</td>\n",
       "      <td>83.376775</td>\n",
       "    </tr>\n",
       "    <tr>\n",
       "      <th>device_distinct_emails_8w</th>\n",
       "      <td>800000.0</td>\n",
       "      <td>1.019105</td>\n",
       "      <td>0.176621</td>\n",
       "      <td>0.000000e+00</td>\n",
       "      <td>1.000000</td>\n",
       "      <td>1.000000</td>\n",
       "      <td>1.000000</td>\n",
       "      <td>2.000000</td>\n",
       "    </tr>\n",
       "    <tr>\n",
       "      <th>month</th>\n",
       "      <td>800000.0</td>\n",
       "      <td>3.289231</td>\n",
       "      <td>2.209984</td>\n",
       "      <td>0.000000e+00</td>\n",
       "      <td>1.000000</td>\n",
       "      <td>3.000000</td>\n",
       "      <td>5.000000</td>\n",
       "      <td>7.000000</td>\n",
       "    </tr>\n",
       "    <tr>\n",
       "      <th>bank_months_count_was_missing</th>\n",
       "      <td>800000.0</td>\n",
       "      <td>0.253607</td>\n",
       "      <td>0.435076</td>\n",
       "      <td>0.000000e+00</td>\n",
       "      <td>0.000000</td>\n",
       "      <td>0.000000</td>\n",
       "      <td>1.000000</td>\n",
       "      <td>1.000000</td>\n",
       "    </tr>\n",
       "    <tr>\n",
       "      <th>prev_address_months_count_was_missing</th>\n",
       "      <td>800000.0</td>\n",
       "      <td>0.712875</td>\n",
       "      <td>0.452421</td>\n",
       "      <td>0.000000e+00</td>\n",
       "      <td>0.000000</td>\n",
       "      <td>1.000000</td>\n",
       "      <td>1.000000</td>\n",
       "      <td>1.000000</td>\n",
       "    </tr>\n",
       "  </tbody>\n",
       "</table>\n",
       "</div>"
      ],
      "text/plain": [
       "                                          count         mean          std  \\\n",
       "income                                 800000.0     0.562838     0.290284   \n",
       "name_email_similarity                  800000.0     0.493679     0.289083   \n",
       "prev_address_months_count              800000.0    51.640779    37.007722   \n",
       "current_address_months_count           800000.0    86.881245    88.270189   \n",
       "customer_age                           800000.0    33.683575    12.023340   \n",
       "days_since_request                     800000.0     1.024581     5.384940   \n",
       "intended_balcon_amount                 800000.0     8.666942    20.255749   \n",
       "zip_count_4w                           800000.0  1572.691783  1005.553072   \n",
       "velocity_6h                            800000.0  5664.123809  3010.204130   \n",
       "velocity_24h                           800000.0  4768.744070  1478.809582   \n",
       "velocity_4w                            800000.0  4856.113352   919.994441   \n",
       "bank_branch_count_8w                   800000.0   184.627865   459.934773   \n",
       "date_of_birth_distinct_emails_4w       800000.0     9.502435     5.033803   \n",
       "credit_risk_score                      800000.0   131.055336    69.742814   \n",
       "bank_months_count                      800000.0    11.100916    11.875727   \n",
       "proposed_credit_limit                  800000.0   516.355675   487.806283   \n",
       "session_length_in_minutes              800000.0     7.560475     8.034326   \n",
       "device_distinct_emails_8w              800000.0     1.019105     0.176621   \n",
       "month                                  800000.0     3.289231     2.209984   \n",
       "bank_months_count_was_missing          800000.0     0.253607     0.435076   \n",
       "prev_address_months_count_was_missing  800000.0     0.712875     0.452421   \n",
       "\n",
       "                                                min          25%          50%  \\\n",
       "income                                 1.000000e-01     0.300000     0.600000   \n",
       "name_email_similarity                  1.434550e-06     0.225180     0.492253   \n",
       "prev_address_months_count              5.000000e+00    33.000000    51.000000   \n",
       "current_address_months_count           0.000000e+00    20.000000    53.000000   \n",
       "customer_age                           1.000000e+01    20.000000    30.000000   \n",
       "days_since_request                     4.036860e-09     0.007184     0.015171   \n",
       "intended_balcon_amount                -1.553055e+01    -1.181387    -0.830680   \n",
       "zip_count_4w                           1.000000e+00   894.000000  1263.000000   \n",
       "velocity_6h                           -1.706031e+02  3435.962936  5317.126477   \n",
       "velocity_24h                           1.320284e+03  3592.988203  4749.005380   \n",
       "velocity_4w                            2.825748e+03  4268.319057  4913.667485   \n",
       "bank_branch_count_8w                   0.000000e+00     1.000000     9.000000   \n",
       "date_of_birth_distinct_emails_4w       0.000000e+00     6.000000     9.000000   \n",
       "credit_risk_score                     -1.690000e+02    83.000000   122.000000   \n",
       "bank_months_count                      0.000000e+00     0.000000     5.000000   \n",
       "proposed_credit_limit                  1.900000e+02   200.000000   200.000000   \n",
       "session_length_in_minutes              8.720274e-04     3.121877     5.123322   \n",
       "device_distinct_emails_8w              0.000000e+00     1.000000     1.000000   \n",
       "month                                  0.000000e+00     1.000000     3.000000   \n",
       "bank_months_count_was_missing          0.000000e+00     0.000000     0.000000   \n",
       "prev_address_months_count_was_missing  0.000000e+00     0.000000     1.000000   \n",
       "\n",
       "                                               75%           max  \n",
       "income                                    0.800000      0.900000  \n",
       "name_email_similarity                     0.755595      0.999999  \n",
       "prev_address_months_count                56.000000    381.000000  \n",
       "current_address_months_count            130.000000    428.000000  \n",
       "customer_age                             40.000000     90.000000  \n",
       "days_since_request                        0.026328     78.456904  \n",
       "intended_balcon_amount                    4.984334    112.956928  \n",
       "zip_count_4w                           1943.000000   6700.000000  \n",
       "velocity_6h                            7681.772107  16640.749743  \n",
       "velocity_24h                           5750.629217   9506.896596  \n",
       "velocity_4w                            5487.721416   6994.764201  \n",
       "bank_branch_count_8w                     25.000000   2385.000000  \n",
       "date_of_birth_distinct_emails_4w         13.000000     39.000000  \n",
       "credit_risk_score                       178.000000    386.000000  \n",
       "bank_months_count                        25.000000     32.000000  \n",
       "proposed_credit_limit                   500.000000   2100.000000  \n",
       "session_length_in_minutes                 8.870898     83.376775  \n",
       "device_distinct_emails_8w                 1.000000      2.000000  \n",
       "month                                     5.000000      7.000000  \n",
       "bank_months_count_was_missing             1.000000      1.000000  \n",
       "prev_address_months_count_was_missing     1.000000      1.000000  "
      ]
     },
     "execution_count": 20,
     "metadata": {},
     "output_type": "execute_result"
    }
   ],
   "source": [
    "df_train_imputed.describe().transpose()"
   ]
  },
  {
   "cell_type": "code",
   "execution_count": 19,
   "id": "690c18aa-f469-44b7-9a9e-7edc07320565",
   "metadata": {},
   "outputs": [
    {
     "name": "stdout",
     "output_type": "stream",
     "text": [
      "Train set null values after imputation:\n",
      "prev_address_months_count       0\n",
      "current_address_months_count    0\n",
      "bank_months_count               0\n",
      "session_length_in_minutes       0\n",
      "device_distinct_emails_8w       0\n",
      "dtype: int64\n",
      "\n",
      "Test set null values after imputation:\n",
      "prev_address_months_count       0\n",
      "current_address_months_count    0\n",
      "bank_months_count               0\n",
      "session_length_in_minutes       0\n",
      "device_distinct_emails_8w       0\n",
      "dtype: int64\n"
     ]
    }
   ],
   "source": [
    "# Verify results\n",
    "print(\"Train set null values after imputation:\")\n",
    "print((df_train_imputed[missing_value_val].isna()).sum())\n",
    "\n",
    "print(\"\\nTest set null values after imputation:\")\n",
    "print((df_test_imputed[missing_value_val].isna()).sum())"
   ]
  },
  {
   "cell_type": "markdown",
   "id": "ca802b63-6844-4470-a476-4ea9678f6b63",
   "metadata": {},
   "source": [
    "## 3. One-hot encode for categorical features"
   ]
  },
  {
   "cell_type": "code",
   "execution_count": 20,
   "id": "81ea1c2a-9233-4518-a396-c1950aeb18f3",
   "metadata": {},
   "outputs": [
    {
     "name": "stdout",
     "output_type": "stream",
     "text": [
      "['payment_type', 'employment_status', 'housing_status', 'source', 'device_os']\n"
     ]
    }
   ],
   "source": [
    "X_train = df_train_imputed.copy()\n",
    "X_test = df_test_imputed.copy()\n",
    "\n",
    "# One-hot encoding for categorical featuers with dtype as 'object'\n",
    "object_features = [col for col in X_train.columns if X_train[col].dtypes == 'object']\n",
    "print(object_features)"
   ]
  },
  {
   "cell_type": "code",
   "execution_count": 163,
   "id": "e12380cf-f1d3-4654-b50e-8b243ffc0666",
   "metadata": {},
   "outputs": [
    {
     "name": "stdout",
     "output_type": "stream",
     "text": [
      "payment_type \n",
      " ['AB' 'AC' 'AA' 'AD' 'AE'] \n",
      "\n",
      "employment_status \n",
      " ['CD' 'CB' 'CA' 'CF' 'CE' 'CC' 'CG'] \n",
      "\n",
      "housing_status \n",
      " ['BB' 'BC' 'BE' 'BA' 'BD' 'BF' 'BG'] \n",
      "\n",
      "source \n",
      " ['INTERNET' 'TELEAPP'] \n",
      "\n",
      "device_os \n",
      " ['macintosh' 'linux' 'windows' 'other' 'x11'] \n",
      "\n"
     ]
    }
   ],
   "source": [
    "for i in object_features:\n",
    "    print(i, '\\n', X_train[i].unique(), '\\n')"
   ]
  },
  {
   "cell_type": "code",
   "execution_count": 21,
   "id": "1cf0e18f-e589-4b05-8fee-8a3e9e35803d",
   "metadata": {},
   "outputs": [],
   "source": [
    "df_train_encoded = X_train.copy()\n",
    "df_test_encoded = X_test.copy()"
   ]
  },
  {
   "cell_type": "code",
   "execution_count": 22,
   "id": "d07af514-8e9b-4ae7-93fa-21f2831fc086",
   "metadata": {},
   "outputs": [],
   "source": [
    "from sklearn.preprocessing import OneHotEncoder\n",
    "\n",
    "ohe = OneHotEncoder(sparse_output=False, handle_unknown='ignore')\n",
    "\n",
    "ohe_X_train = pd.DataFrame(ohe.fit_transform(df_train_encoded[object_features]))\n",
    "\n",
    "ohe_X_test = pd.DataFrame(ohe.transform(df_test_encoded[object_features]))\n",
    "\n",
    "ohe_X_train.index = df_train_encoded.index\n",
    "ohe_X_test.index = df_test_encoded.index\n",
    "\n",
    "ohe_feature_names = ohe.get_feature_names_out(input_features=object_features)\n",
    "ohe_X_train.columns = ohe_feature_names\n",
    "ohe_X_test.columns = ohe_feature_names\n",
    "\n",
    "num_X_train = df_train_encoded.drop(object_features, axis=1)\n",
    "num_X_test = df_test_encoded.drop(object_features, axis=1)\n",
    "\n",
    "X_train_encoded = pd.concat([num_X_train, ohe_X_train], axis=1)\n",
    "# X_train = X_train_encoded.drop(object_features, axis=1)\n",
    "X_test_encoded = pd.concat([num_X_test, ohe_X_test], axis=1)\n",
    "# X_test = X_test_encoded.drop(object_features, axis=1)"
   ]
  },
  {
   "cell_type": "code",
   "execution_count": 23,
   "id": "8b24e2a9-beda-423e-ae52-ca2c74fcb555",
   "metadata": {},
   "outputs": [
    {
     "data": {
      "text/plain": [
       "Index(['income', 'name_email_similarity', 'prev_address_months_count',\n",
       "       'current_address_months_count', 'customer_age', 'days_since_request',\n",
       "       'intended_balcon_amount', 'zip_count_4w', 'velocity_6h', 'velocity_24h',\n",
       "       'velocity_4w', 'bank_branch_count_8w',\n",
       "       'date_of_birth_distinct_emails_4w', 'credit_risk_score',\n",
       "       'email_is_free', 'phone_home_valid', 'phone_mobile_valid',\n",
       "       'bank_months_count', 'has_other_cards', 'proposed_credit_limit',\n",
       "       'foreign_request', 'session_length_in_minutes', 'keep_alive_session',\n",
       "       'device_distinct_emails_8w', 'month', 'bank_months_count_was_missing',\n",
       "       'prev_address_months_count_was_missing', 'payment_type_AA',\n",
       "       'payment_type_AB', 'payment_type_AC', 'payment_type_AD',\n",
       "       'payment_type_AE', 'employment_status_CA', 'employment_status_CB',\n",
       "       'employment_status_CC', 'employment_status_CD', 'employment_status_CE',\n",
       "       'employment_status_CF', 'employment_status_CG', 'housing_status_BA',\n",
       "       'housing_status_BB', 'housing_status_BC', 'housing_status_BD',\n",
       "       'housing_status_BE', 'housing_status_BF', 'housing_status_BG',\n",
       "       'source_INTERNET', 'source_TELEAPP', 'device_os_linux',\n",
       "       'device_os_macintosh', 'device_os_other', 'device_os_windows',\n",
       "       'device_os_x11'],\n",
       "      dtype='object')"
      ]
     },
     "execution_count": 23,
     "metadata": {},
     "output_type": "execute_result"
    }
   ],
   "source": [
    "X_train_encoded.columns"
   ]
  },
  {
   "cell_type": "code",
   "execution_count": 24,
   "id": "074f66ae-453c-4cbe-b02f-368032bba3d9",
   "metadata": {},
   "outputs": [
    {
     "data": {
      "text/plain": [
       "(200000, 53)"
      ]
     },
     "execution_count": 24,
     "metadata": {},
     "output_type": "execute_result"
    }
   ],
   "source": [
    "X_test_encoded.shape"
   ]
  },
  {
   "cell_type": "markdown",
   "id": "a903c761-5a13-4840-ad34-3788f46fdafd",
   "metadata": {},
   "source": [
    "Leave the outliers untouched because we don't want to lose over 50% of positive cases in an extremely imbalanced dataset."
   ]
  },
  {
   "cell_type": "markdown",
   "id": "f055bb71-8114-41a5-88b6-2d4f4c46a483",
   "metadata": {},
   "source": [
    "# 4. Binning"
   ]
  },
  {
   "cell_type": "markdown",
   "id": "0ed1f13d-2b48-4ab0-85ea-04c16d301707",
   "metadata": {},
   "source": [
    "Binning the bank_months_count, to turn it into a categorical variable for lower cardinality. \n",
    "\n",
    "Don't want to bin any other features as we don't want to lose details of the data "
   ]
  },
  {
   "cell_type": "code",
   "execution_count": 28,
   "id": "865df2e0-fecc-4549-97a5-1c70e5c8f18d",
   "metadata": {},
   "outputs": [
    {
     "data": {
      "text/plain": [
       "array([ 1., 10.,  0., 31., 25.,  5., 28., 21., 15., 26., 30., 11., 22.,\n",
       "       29., 23.,  2., 20.,  6.,  7.,  4., 19., 27.,  3., 16.,  9., 24.,\n",
       "       18., 14., 12., 32.,  8., 17., 13.])"
      ]
     },
     "execution_count": 28,
     "metadata": {},
     "output_type": "execute_result"
    }
   ],
   "source": [
    "X_train = X_train_encoded.copy()\n",
    "X_test = X_test_encoded.copy()\n",
    "\n",
    "X_train['bank_months_count'].unique()"
   ]
  },
  {
   "cell_type": "code",
   "execution_count": 29,
   "id": "9382afdc-5a71-4a06-b132-76f9d1a1eaea",
   "metadata": {},
   "outputs": [
    {
     "data": {
      "text/plain": [
       "(200000, 53)"
      ]
     },
     "execution_count": 29,
     "metadata": {},
     "output_type": "execute_result"
    }
   ],
   "source": [
    "X_test.shape"
   ]
  },
  {
   "cell_type": "code",
   "execution_count": 30,
   "id": "90d912f2-f2f8-404b-950a-401d3f03a4ae",
   "metadata": {},
   "outputs": [
    {
     "name": "stdout",
     "output_type": "stream",
     "text": [
      "Bin medians and counts:\n",
      "bank_months_count_binned\n",
      "0.0     202886\n",
      "2.5     186125\n",
      "6.5      37373\n",
      "10.5     53539\n",
      "14.5     51345\n",
      "18.5     31604\n",
      "22.5     30427\n",
      "26.5    119801\n",
      "30.5     86900\n",
      "Name: count, dtype: int64\n"
     ]
    }
   ],
   "source": [
    "X_train_binning = X_train_encoded.copy()\n",
    "X_test_binning = X_test_encoded.copy()\n",
    "\n",
    "# Define bins where the first bin includes only 0 and the rest are grouped in equal intervals of 4\n",
    "bins = [0, 1] + [i for i in range(5, 37, 4)] \n",
    "\n",
    "# Define the corresponding median values for each bin\n",
    "median_labels = [0, 2.5, 6.5, 10.5, 14.5, 18.5, 22.5, 26.5, 30.5]\n",
    "\n",
    "# Bin the 'bank_months_count' feature and replace labels with medians\n",
    "X_train_binning['bank_months_count_binned'] = pd.cut(\n",
    "    X_train_binning['bank_months_count'], bins=bins, labels=median_labels, include_lowest=True, right=False\n",
    ").astype(float)\n",
    "\n",
    "X_test_binning['bank_months_count_binned'] = pd.cut(\n",
    "    X_test_binning['bank_months_count'], bins=bins, labels=median_labels, include_lowest=True, right=False\n",
    ").astype(float)\n",
    "\n",
    "# Display the bin ranges (as medians) and their respective counts\n",
    "bin_counts = X_train_binning['bank_months_count_binned'].value_counts().sort_index()\n",
    "\n",
    "print(\"Bin medians and counts:\")\n",
    "print(bin_counts)"
   ]
  },
  {
   "cell_type": "code",
   "execution_count": 31,
   "id": "35c96790-0233-4e7e-9f2a-a12b0f4932fe",
   "metadata": {},
   "outputs": [
    {
     "data": {
      "text/plain": [
       "np.int64(800000)"
      ]
     },
     "execution_count": 31,
     "metadata": {},
     "output_type": "execute_result"
    }
   ],
   "source": [
    "X_train_binning.value_counts().sum()"
   ]
  },
  {
   "cell_type": "code",
   "execution_count": 32,
   "id": "fae73f50-687b-40ef-a9f8-6b61f92ac1dc",
   "metadata": {},
   "outputs": [
    {
     "data": {
      "image/png": "[encoded data removed]",
      "text/plain": [
       "<Figure size 640x480 with 1 Axes>"
      ]
     },
     "metadata": {},
     "output_type": "display_data"
    }
   ],
   "source": [
    "X_train_binning['fraud_bool'] = y_train\n",
    "fraud_proportion = (\n",
    "    X_train_binning.groupby('bank_months_count_binned')['fraud_bool']\n",
    ")\n",
    "\n",
    "plot_data = (\n",
    "    X_train_binning[X_train_binning['fraud_bool'] == 1]['bank_months_count_binned']\n",
    "    .value_counts(normalize=True)\n",
    "    .sort_index() \n",
    ")\n",
    "\n",
    "# Plot the proportion for fraud_bool = 1\n",
    "plot_data.plot(kind='bar', color='#fc8d62', edgecolor='black')\n",
    "plt.xlabel('Bank Months Count Binned')\n",
    "plt.ylabel('Proportion of Fraud (fraud_bool = 1)')\n",
    "plt.title('Proportion of Fraud by Bank Months Count Binned')\n",
    "plt.xticks(rotation=45)\n",
    "\n",
    "plt.tight_layout()\n",
    "plt.show()\n",
    "X_train_binning = X_train_binning.drop(columns=['fraud_bool'])"
   ]
  },
  {
   "cell_type": "code",
   "execution_count": 53,
   "id": "63d0696f-7d64-4368-8c6d-c24fe659bdc6",
   "metadata": {
    "scrolled": true
   },
   "outputs": [
    {
     "data": {
      "text/plain": [
       "Index(['income', 'name_email_similarity', 'prev_address_months_count',\n",
       "       'current_address_months_count', 'customer_age', 'days_since_request',\n",
       "       'intended_balcon_amount', 'zip_count_4w', 'velocity_6h', 'velocity_24h',\n",
       "       'velocity_4w', 'bank_branch_count_8w',\n",
       "       'date_of_birth_distinct_emails_4w', 'credit_risk_score',\n",
       "       'email_is_free', 'phone_home_valid', 'phone_mobile_valid',\n",
       "       'bank_months_count', 'has_other_cards', 'proposed_credit_limit',\n",
       "       'foreign_request', 'session_length_in_minutes', 'keep_alive_session',\n",
       "       'device_distinct_emails_8w', 'device_fraud_count', 'month',\n",
       "       'bank_months_count_was_missing',\n",
       "       'prev_address_months_count_was_missing', 'payment_type_AA',\n",
       "       'payment_type_AB', 'payment_type_AC', 'payment_type_AD',\n",
       "       'payment_type_AE', 'employment_status_CA', 'employment_status_CB',\n",
       "       'employment_status_CC', 'employment_status_CD', 'employment_status_CE',\n",
       "       'employment_status_CF', 'employment_status_CG', 'housing_status_BA',\n",
       "       'housing_status_BB', 'housing_status_BC', 'housing_status_BD',\n",
       "       'housing_status_BE', 'housing_status_BF', 'housing_status_BG',\n",
       "       'source_INTERNET', 'source_TELEAPP', 'device_os_linux',\n",
       "       'device_os_macintosh', 'device_os_other', 'device_os_windows',\n",
       "       'device_os_x11', 'bank_months_count_binned'],\n",
       "      dtype='object')"
      ]
     },
     "execution_count": 53,
     "metadata": {},
     "output_type": "execute_result"
    }
   ],
   "source": [
    "X_train_binning.columns"
   ]
  },
  {
   "cell_type": "code",
   "execution_count": 33,
   "id": "ee35a64e-2e71-4302-a4e1-7f92137c8578",
   "metadata": {
    "scrolled": true
   },
   "outputs": [],
   "source": [
    "X_train_binning.drop(columns=\"bank_months_count\", inplace=True)\n",
    "X_test_binning.drop(columns=\"bank_months_count\", inplace=True)"
   ]
  },
  {
   "cell_type": "code",
   "execution_count": 34,
   "id": "c2878020-8d11-4408-a8cb-83ad62e6188a",
   "metadata": {},
   "outputs": [
    {
     "data": {
      "text/plain": [
       "(800000, 53)"
      ]
     },
     "execution_count": 34,
     "metadata": {},
     "output_type": "execute_result"
    }
   ],
   "source": [
    "X_train_binning.shape"
   ]
  },
  {
   "cell_type": "code",
   "execution_count": 35,
   "id": "80b4ec84-508b-4a0b-a5ab-0388c600031a",
   "metadata": {},
   "outputs": [
    {
     "data": {
      "text/plain": [
       "(200000, 53)"
      ]
     },
     "execution_count": 35,
     "metadata": {},
     "output_type": "execute_result"
    }
   ],
   "source": [
    "X_test_binning.shape"
   ]
  },
  {
   "cell_type": "markdown",
   "id": "e0e3d12e-c35e-436c-87c1-2dd568c49b04",
   "metadata": {},
   "source": [
    "# 5. Scaling"
   ]
  },
  {
   "cell_type": "markdown",
   "id": "4a6786d6-f52d-4492-a683-81372fe04924",
   "metadata": {},
   "source": [
    "help with unsupervised learning, minimise bias against one variabel "
   ]
  },
  {
   "cell_type": "code",
   "execution_count": 36,
   "id": "50b73082-93aa-4d95-a094-10a25d2269bb",
   "metadata": {},
   "outputs": [
    {
     "name": "stdout",
     "output_type": "stream",
     "text": [
      "Categorical features: ['income', 'customer_age', 'email_is_free', 'phone_home_valid', 'phone_mobile_valid', 'has_other_cards', 'proposed_credit_limit', 'foreign_request', 'keep_alive_session', 'device_distinct_emails_8w', 'month', 'bank_months_count_was_missing', 'prev_address_months_count_was_missing', 'payment_type_AA', 'payment_type_AB', 'payment_type_AC', 'payment_type_AD', 'payment_type_AE', 'employment_status_CA', 'employment_status_CB', 'employment_status_CC', 'employment_status_CD', 'employment_status_CE', 'employment_status_CF', 'employment_status_CG', 'housing_status_BA', 'housing_status_BB', 'housing_status_BC', 'housing_status_BD', 'housing_status_BE', 'housing_status_BF', 'housing_status_BG', 'source_INTERNET', 'source_TELEAPP', 'device_os_linux', 'device_os_macintosh', 'device_os_other', 'device_os_windows', 'device_os_x11', 'bank_months_count_binned']\n",
      "Numerical features: ['name_email_similarity', 'prev_address_months_count', 'current_address_months_count', 'days_since_request', 'intended_balcon_amount', 'zip_count_4w', 'velocity_6h', 'velocity_24h', 'velocity_4w', 'bank_branch_count_8w', 'date_of_birth_distinct_emails_4w', 'credit_risk_score', 'session_length_in_minutes']\n"
     ]
    }
   ],
   "source": [
    "categorical_features, numerical_features = split_num_cat(X_train_binning)\n",
    "print('Categorical features:', categorical_features)\n",
    "print('Numerical features:', numerical_features)"
   ]
  },
  {
   "cell_type": "code",
   "execution_count": 37,
   "id": "79a98ff2-3cc4-4d39-85c1-dfcb5cf9d8b9",
   "metadata": {},
   "outputs": [
    {
     "data": {
      "text/html": [
       "<div>\n",
       "<style scoped>\n",
       "    .dataframe tbody tr th:only-of-type {\n",
       "        vertical-align: middle;\n",
       "    }\n",
       "\n",
       "    .dataframe tbody tr th {\n",
       "        vertical-align: top;\n",
       "    }\n",
       "\n",
       "    .dataframe thead th {\n",
       "        text-align: right;\n",
       "    }\n",
       "</style>\n",
       "<table border=\"1\" class=\"dataframe\">\n",
       "  <thead>\n",
       "    <tr style=\"text-align: right;\">\n",
       "      <th></th>\n",
       "      <th>name_email_similarity</th>\n",
       "      <th>prev_address_months_count</th>\n",
       "      <th>current_address_months_count</th>\n",
       "      <th>days_since_request</th>\n",
       "      <th>intended_balcon_amount</th>\n",
       "      <th>zip_count_4w</th>\n",
       "      <th>velocity_6h</th>\n",
       "      <th>velocity_24h</th>\n",
       "      <th>velocity_4w</th>\n",
       "      <th>bank_branch_count_8w</th>\n",
       "      <th>date_of_birth_distinct_emails_4w</th>\n",
       "      <th>credit_risk_score</th>\n",
       "      <th>session_length_in_minutes</th>\n",
       "    </tr>\n",
       "  </thead>\n",
       "  <tbody>\n",
       "    <tr>\n",
       "      <th>count</th>\n",
       "      <td>800000.000000</td>\n",
       "      <td>800000.000000</td>\n",
       "      <td>800000.000000</td>\n",
       "      <td>8.000000e+05</td>\n",
       "      <td>800000.000000</td>\n",
       "      <td>800000.000000</td>\n",
       "      <td>800000.000000</td>\n",
       "      <td>800000.000000</td>\n",
       "      <td>800000.000000</td>\n",
       "      <td>800000.000000</td>\n",
       "      <td>800000.000000</td>\n",
       "      <td>800000.000000</td>\n",
       "      <td>800000.000000</td>\n",
       "    </tr>\n",
       "    <tr>\n",
       "      <th>mean</th>\n",
       "      <td>0.493679</td>\n",
       "      <td>51.640779</td>\n",
       "      <td>86.881245</td>\n",
       "      <td>1.024581e+00</td>\n",
       "      <td>8.666942</td>\n",
       "      <td>1572.691783</td>\n",
       "      <td>5664.123809</td>\n",
       "      <td>4768.744070</td>\n",
       "      <td>4856.113352</td>\n",
       "      <td>184.627865</td>\n",
       "      <td>9.502435</td>\n",
       "      <td>131.055336</td>\n",
       "      <td>7.560475</td>\n",
       "    </tr>\n",
       "    <tr>\n",
       "      <th>std</th>\n",
       "      <td>0.289083</td>\n",
       "      <td>37.007722</td>\n",
       "      <td>88.270189</td>\n",
       "      <td>5.384940e+00</td>\n",
       "      <td>20.255749</td>\n",
       "      <td>1005.553072</td>\n",
       "      <td>3010.204130</td>\n",
       "      <td>1478.809582</td>\n",
       "      <td>919.994441</td>\n",
       "      <td>459.934773</td>\n",
       "      <td>5.033803</td>\n",
       "      <td>69.742814</td>\n",
       "      <td>8.034326</td>\n",
       "    </tr>\n",
       "    <tr>\n",
       "      <th>min</th>\n",
       "      <td>0.000001</td>\n",
       "      <td>5.000000</td>\n",
       "      <td>0.000000</td>\n",
       "      <td>4.036860e-09</td>\n",
       "      <td>-15.530555</td>\n",
       "      <td>1.000000</td>\n",
       "      <td>-170.603072</td>\n",
       "      <td>1320.283991</td>\n",
       "      <td>2825.748405</td>\n",
       "      <td>0.000000</td>\n",
       "      <td>0.000000</td>\n",
       "      <td>-169.000000</td>\n",
       "      <td>0.000872</td>\n",
       "    </tr>\n",
       "    <tr>\n",
       "      <th>25%</th>\n",
       "      <td>0.225180</td>\n",
       "      <td>33.000000</td>\n",
       "      <td>20.000000</td>\n",
       "      <td>7.183933e-03</td>\n",
       "      <td>-1.181387</td>\n",
       "      <td>894.000000</td>\n",
       "      <td>3435.962936</td>\n",
       "      <td>3592.988203</td>\n",
       "      <td>4268.319057</td>\n",
       "      <td>1.000000</td>\n",
       "      <td>6.000000</td>\n",
       "      <td>83.000000</td>\n",
       "      <td>3.121877</td>\n",
       "    </tr>\n",
       "    <tr>\n",
       "      <th>50%</th>\n",
       "      <td>0.492253</td>\n",
       "      <td>51.000000</td>\n",
       "      <td>53.000000</td>\n",
       "      <td>1.517071e-02</td>\n",
       "      <td>-0.830680</td>\n",
       "      <td>1263.000000</td>\n",
       "      <td>5317.126477</td>\n",
       "      <td>4749.005380</td>\n",
       "      <td>4913.667485</td>\n",
       "      <td>9.000000</td>\n",
       "      <td>9.000000</td>\n",
       "      <td>122.000000</td>\n",
       "      <td>5.123322</td>\n",
       "    </tr>\n",
       "    <tr>\n",
       "      <th>75%</th>\n",
       "      <td>0.755595</td>\n",
       "      <td>56.000000</td>\n",
       "      <td>130.000000</td>\n",
       "      <td>2.632796e-02</td>\n",
       "      <td>4.984334</td>\n",
       "      <td>1943.000000</td>\n",
       "      <td>7681.772107</td>\n",
       "      <td>5750.629217</td>\n",
       "      <td>5487.721416</td>\n",
       "      <td>25.000000</td>\n",
       "      <td>13.000000</td>\n",
       "      <td>178.000000</td>\n",
       "      <td>8.870898</td>\n",
       "    </tr>\n",
       "    <tr>\n",
       "      <th>max</th>\n",
       "      <td>0.999999</td>\n",
       "      <td>381.000000</td>\n",
       "      <td>428.000000</td>\n",
       "      <td>7.845690e+01</td>\n",
       "      <td>112.956928</td>\n",
       "      <td>6700.000000</td>\n",
       "      <td>16640.749743</td>\n",
       "      <td>9506.896596</td>\n",
       "      <td>6994.764201</td>\n",
       "      <td>2385.000000</td>\n",
       "      <td>39.000000</td>\n",
       "      <td>386.000000</td>\n",
       "      <td>83.376775</td>\n",
       "    </tr>\n",
       "  </tbody>\n",
       "</table>\n",
       "</div>"
      ],
      "text/plain": [
       "       name_email_similarity  prev_address_months_count  \\\n",
       "count          800000.000000              800000.000000   \n",
       "mean                0.493679                  51.640779   \n",
       "std                 0.289083                  37.007722   \n",
       "min                 0.000001                   5.000000   \n",
       "25%                 0.225180                  33.000000   \n",
       "50%                 0.492253                  51.000000   \n",
       "75%                 0.755595                  56.000000   \n",
       "max                 0.999999                 381.000000   \n",
       "\n",
       "       current_address_months_count  days_since_request  \\\n",
       "count                 800000.000000        8.000000e+05   \n",
       "mean                      86.881245        1.024581e+00   \n",
       "std                       88.270189        5.384940e+00   \n",
       "min                        0.000000        4.036860e-09   \n",
       "25%                       20.000000        7.183933e-03   \n",
       "50%                       53.000000        1.517071e-02   \n",
       "75%                      130.000000        2.632796e-02   \n",
       "max                      428.000000        7.845690e+01   \n",
       "\n",
       "       intended_balcon_amount   zip_count_4w    velocity_6h   velocity_24h  \\\n",
       "count           800000.000000  800000.000000  800000.000000  800000.000000   \n",
       "mean                 8.666942    1572.691783    5664.123809    4768.744070   \n",
       "std                 20.255749    1005.553072    3010.204130    1478.809582   \n",
       "min                -15.530555       1.000000    -170.603072    1320.283991   \n",
       "25%                 -1.181387     894.000000    3435.962936    3592.988203   \n",
       "50%                 -0.830680    1263.000000    5317.126477    4749.005380   \n",
       "75%                  4.984334    1943.000000    7681.772107    5750.629217   \n",
       "max                112.956928    6700.000000   16640.749743    9506.896596   \n",
       "\n",
       "         velocity_4w  bank_branch_count_8w  date_of_birth_distinct_emails_4w  \\\n",
       "count  800000.000000         800000.000000                     800000.000000   \n",
       "mean     4856.113352            184.627865                          9.502435   \n",
       "std       919.994441            459.934773                          5.033803   \n",
       "min      2825.748405              0.000000                          0.000000   \n",
       "25%      4268.319057              1.000000                          6.000000   \n",
       "50%      4913.667485              9.000000                          9.000000   \n",
       "75%      5487.721416             25.000000                         13.000000   \n",
       "max      6994.764201           2385.000000                         39.000000   \n",
       "\n",
       "       credit_risk_score  session_length_in_minutes  \n",
       "count      800000.000000              800000.000000  \n",
       "mean          131.055336                   7.560475  \n",
       "std            69.742814                   8.034326  \n",
       "min          -169.000000                   0.000872  \n",
       "25%            83.000000                   3.121877  \n",
       "50%           122.000000                   5.123322  \n",
       "75%           178.000000                   8.870898  \n",
       "max           386.000000                  83.376775  "
      ]
     },
     "execution_count": 37,
     "metadata": {},
     "output_type": "execute_result"
    }
   ],
   "source": [
    "X_train = X_train_binning.copy()\n",
    "X_test = X_test_binning.copy()\n",
    "\n",
    "X_train[numerical_features].describe()"
   ]
  },
  {
   "cell_type": "markdown",
   "id": "6da26a10-30df-4b4d-80fd-c26cddfbc38f",
   "metadata": {},
   "source": [
    "### Robust Scaler\n",
    "https://proclusacademy.com/blog/robust-scaler-outliers/"
   ]
  },
  {
   "cell_type": "code",
   "execution_count": 38,
   "id": "4613b18e-6b12-497a-a36e-1bb71c315011",
   "metadata": {},
   "outputs": [
    {
     "data": {
      "text/html": [
       "<div>\n",
       "<style scoped>\n",
       "    .dataframe tbody tr th:only-of-type {\n",
       "        vertical-align: middle;\n",
       "    }\n",
       "\n",
       "    .dataframe tbody tr th {\n",
       "        vertical-align: top;\n",
       "    }\n",
       "\n",
       "    .dataframe thead th {\n",
       "        text-align: right;\n",
       "    }\n",
       "</style>\n",
       "<table border=\"1\" class=\"dataframe\">\n",
       "  <thead>\n",
       "    <tr style=\"text-align: right;\">\n",
       "      <th></th>\n",
       "      <th>income</th>\n",
       "      <th>name_email_similarity</th>\n",
       "      <th>prev_address_months_count</th>\n",
       "      <th>current_address_months_count</th>\n",
       "      <th>customer_age</th>\n",
       "      <th>days_since_request</th>\n",
       "      <th>intended_balcon_amount</th>\n",
       "      <th>zip_count_4w</th>\n",
       "      <th>velocity_6h</th>\n",
       "      <th>velocity_24h</th>\n",
       "      <th>velocity_4w</th>\n",
       "      <th>bank_branch_count_8w</th>\n",
       "      <th>date_of_birth_distinct_emails_4w</th>\n",
       "      <th>credit_risk_score</th>\n",
       "      <th>proposed_credit_limit</th>\n",
       "      <th>session_length_in_minutes</th>\n",
       "      <th>device_distinct_emails_8w</th>\n",
       "      <th>month</th>\n",
       "      <th>bank_months_count_was_missing</th>\n",
       "      <th>prev_address_months_count_was_missing</th>\n",
       "      <th>payment_type_AA</th>\n",
       "      <th>payment_type_AB</th>\n",
       "      <th>payment_type_AC</th>\n",
       "      <th>payment_type_AD</th>\n",
       "      <th>payment_type_AE</th>\n",
       "      <th>employment_status_CA</th>\n",
       "      <th>employment_status_CB</th>\n",
       "      <th>employment_status_CC</th>\n",
       "      <th>employment_status_CD</th>\n",
       "      <th>employment_status_CE</th>\n",
       "      <th>employment_status_CF</th>\n",
       "      <th>employment_status_CG</th>\n",
       "      <th>housing_status_BA</th>\n",
       "      <th>housing_status_BB</th>\n",
       "      <th>housing_status_BC</th>\n",
       "      <th>housing_status_BD</th>\n",
       "      <th>housing_status_BE</th>\n",
       "      <th>housing_status_BF</th>\n",
       "      <th>housing_status_BG</th>\n",
       "      <th>source_INTERNET</th>\n",
       "      <th>source_TELEAPP</th>\n",
       "      <th>device_os_linux</th>\n",
       "      <th>device_os_macintosh</th>\n",
       "      <th>device_os_other</th>\n",
       "      <th>device_os_windows</th>\n",
       "      <th>device_os_x11</th>\n",
       "      <th>bank_months_count_binned</th>\n",
       "      <th>scaled_name_email_similarity</th>\n",
       "      <th>scaled_prev_address_months_count</th>\n",
       "      <th>scaled_current_address_months_count</th>\n",
       "      <th>scaled_days_since_request</th>\n",
       "      <th>scaled_intended_balcon_amount</th>\n",
       "      <th>scaled_zip_count_4w</th>\n",
       "      <th>scaled_velocity_6h</th>\n",
       "      <th>scaled_velocity_24h</th>\n",
       "      <th>scaled_velocity_4w</th>\n",
       "      <th>scaled_bank_branch_count_8w</th>\n",
       "      <th>scaled_date_of_birth_distinct_emails_4w</th>\n",
       "      <th>scaled_credit_risk_score</th>\n",
       "      <th>scaled_session_length_in_minutes</th>\n",
       "    </tr>\n",
       "  </thead>\n",
       "  <tbody>\n",
       "    <tr>\n",
       "      <th>count</th>\n",
       "      <td>800000.000000</td>\n",
       "      <td>800000.000000</td>\n",
       "      <td>800000.000000</td>\n",
       "      <td>800000.000000</td>\n",
       "      <td>800000.000000</td>\n",
       "      <td>8.000000e+05</td>\n",
       "      <td>800000.000000</td>\n",
       "      <td>800000.000000</td>\n",
       "      <td>800000.000000</td>\n",
       "      <td>800000.000000</td>\n",
       "      <td>800000.000000</td>\n",
       "      <td>800000.000000</td>\n",
       "      <td>800000.000000</td>\n",
       "      <td>800000.000000</td>\n",
       "      <td>800000.000000</td>\n",
       "      <td>800000.000000</td>\n",
       "      <td>800000.000000</td>\n",
       "      <td>800000.000000</td>\n",
       "      <td>800000.000000</td>\n",
       "      <td>800000.000000</td>\n",
       "      <td>800000.000000</td>\n",
       "      <td>800000.000000</td>\n",
       "      <td>800000.000000</td>\n",
       "      <td>800000.000000</td>\n",
       "      <td>800000.000000</td>\n",
       "      <td>800000.000000</td>\n",
       "      <td>800000.000000</td>\n",
       "      <td>800000.000000</td>\n",
       "      <td>800000.000000</td>\n",
       "      <td>800000.000000</td>\n",
       "      <td>800000.000000</td>\n",
       "      <td>800000.000000</td>\n",
       "      <td>800000.000000</td>\n",
       "      <td>800000.000000</td>\n",
       "      <td>800000.000000</td>\n",
       "      <td>800000.000000</td>\n",
       "      <td>800000.000000</td>\n",
       "      <td>800000.000000</td>\n",
       "      <td>800000.000000</td>\n",
       "      <td>800000.000000</td>\n",
       "      <td>800000.000000</td>\n",
       "      <td>800000.000000</td>\n",
       "      <td>800000.000000</td>\n",
       "      <td>800000.000000</td>\n",
       "      <td>800000.000000</td>\n",
       "      <td>800000.000000</td>\n",
       "      <td>800000.000000</td>\n",
       "      <td>800000.000000</td>\n",
       "      <td>800000.000000</td>\n",
       "      <td>800000.000000</td>\n",
       "      <td>8.000000e+05</td>\n",
       "      <td>800000.000000</td>\n",
       "      <td>800000.000000</td>\n",
       "      <td>800000.000000</td>\n",
       "      <td>8.000000e+05</td>\n",
       "      <td>8.000000e+05</td>\n",
       "      <td>800000.000000</td>\n",
       "      <td>800000.000000</td>\n",
       "      <td>800000.000000</td>\n",
       "      <td>800000.000000</td>\n",
       "    </tr>\n",
       "    <tr>\n",
       "      <th>mean</th>\n",
       "      <td>0.562838</td>\n",
       "      <td>0.493679</td>\n",
       "      <td>51.640779</td>\n",
       "      <td>86.881245</td>\n",
       "      <td>33.683575</td>\n",
       "      <td>1.024581e+00</td>\n",
       "      <td>8.666942</td>\n",
       "      <td>1572.691783</td>\n",
       "      <td>5664.123809</td>\n",
       "      <td>4768.744070</td>\n",
       "      <td>4856.113352</td>\n",
       "      <td>184.627865</td>\n",
       "      <td>9.502435</td>\n",
       "      <td>131.055336</td>\n",
       "      <td>516.355675</td>\n",
       "      <td>7.560475</td>\n",
       "      <td>1.019105</td>\n",
       "      <td>3.289231</td>\n",
       "      <td>0.253607</td>\n",
       "      <td>0.712875</td>\n",
       "      <td>0.258252</td>\n",
       "      <td>0.370686</td>\n",
       "      <td>0.252069</td>\n",
       "      <td>0.118703</td>\n",
       "      <td>0.000290</td>\n",
       "      <td>0.730457</td>\n",
       "      <td>0.138044</td>\n",
       "      <td>0.037816</td>\n",
       "      <td>0.026511</td>\n",
       "      <td>0.022756</td>\n",
       "      <td>0.043951</td>\n",
       "      <td>0.000464</td>\n",
       "      <td>0.169824</td>\n",
       "      <td>0.260911</td>\n",
       "      <td>0.371921</td>\n",
       "      <td>0.026196</td>\n",
       "      <td>0.169220</td>\n",
       "      <td>0.001677</td>\n",
       "      <td>0.000250</td>\n",
       "      <td>0.992920</td>\n",
       "      <td>0.007080</td>\n",
       "      <td>0.332508</td>\n",
       "      <td>0.053678</td>\n",
       "      <td>0.342805</td>\n",
       "      <td>0.263790</td>\n",
       "      <td>0.007220</td>\n",
       "      <td>11.386696</td>\n",
       "      <td>0.002689</td>\n",
       "      <td>0.027860</td>\n",
       "      <td>0.308011</td>\n",
       "      <td>5.272720e+01</td>\n",
       "      <td>1.540391</td>\n",
       "      <td>0.295226</td>\n",
       "      <td>0.081727</td>\n",
       "      <td>9.148273e-03</td>\n",
       "      <td>-4.719864e-02</td>\n",
       "      <td>7.317828</td>\n",
       "      <td>0.071776</td>\n",
       "      <td>0.095319</td>\n",
       "      <td>0.423925</td>\n",
       "    </tr>\n",
       "    <tr>\n",
       "      <th>std</th>\n",
       "      <td>0.290284</td>\n",
       "      <td>0.289083</td>\n",
       "      <td>37.007722</td>\n",
       "      <td>88.270189</td>\n",
       "      <td>12.023340</td>\n",
       "      <td>5.384940e+00</td>\n",
       "      <td>20.255749</td>\n",
       "      <td>1005.553072</td>\n",
       "      <td>3010.204130</td>\n",
       "      <td>1478.809582</td>\n",
       "      <td>919.994441</td>\n",
       "      <td>459.934773</td>\n",
       "      <td>5.033803</td>\n",
       "      <td>69.742814</td>\n",
       "      <td>487.806283</td>\n",
       "      <td>8.034326</td>\n",
       "      <td>0.176621</td>\n",
       "      <td>2.209984</td>\n",
       "      <td>0.435076</td>\n",
       "      <td>0.452421</td>\n",
       "      <td>0.437674</td>\n",
       "      <td>0.482989</td>\n",
       "      <td>0.434201</td>\n",
       "      <td>0.323438</td>\n",
       "      <td>0.017027</td>\n",
       "      <td>0.443722</td>\n",
       "      <td>0.344946</td>\n",
       "      <td>0.190752</td>\n",
       "      <td>0.160650</td>\n",
       "      <td>0.149126</td>\n",
       "      <td>0.204987</td>\n",
       "      <td>0.021530</td>\n",
       "      <td>0.375478</td>\n",
       "      <td>0.439132</td>\n",
       "      <td>0.483318</td>\n",
       "      <td>0.159719</td>\n",
       "      <td>0.374946</td>\n",
       "      <td>0.040923</td>\n",
       "      <td>0.015809</td>\n",
       "      <td>0.083844</td>\n",
       "      <td>0.083844</td>\n",
       "      <td>0.471112</td>\n",
       "      <td>0.225380</td>\n",
       "      <td>0.474647</td>\n",
       "      <td>0.440687</td>\n",
       "      <td>0.084663</td>\n",
       "      <td>11.559845</td>\n",
       "      <td>0.545014</td>\n",
       "      <td>1.609031</td>\n",
       "      <td>0.802456</td>\n",
       "      <td>2.812857e+02</td>\n",
       "      <td>3.285220</td>\n",
       "      <td>0.958583</td>\n",
       "      <td>0.708982</td>\n",
       "      <td>6.853826e-01</td>\n",
       "      <td>7.544634e-01</td>\n",
       "      <td>19.163949</td>\n",
       "      <td>0.719115</td>\n",
       "      <td>0.734135</td>\n",
       "      <td>1.397512</td>\n",
       "    </tr>\n",
       "    <tr>\n",
       "      <th>min</th>\n",
       "      <td>0.100000</td>\n",
       "      <td>0.000001</td>\n",
       "      <td>5.000000</td>\n",
       "      <td>0.000000</td>\n",
       "      <td>10.000000</td>\n",
       "      <td>4.036860e-09</td>\n",
       "      <td>-15.530555</td>\n",
       "      <td>1.000000</td>\n",
       "      <td>-170.603072</td>\n",
       "      <td>1320.283991</td>\n",
       "      <td>2825.748405</td>\n",
       "      <td>0.000000</td>\n",
       "      <td>0.000000</td>\n",
       "      <td>-169.000000</td>\n",
       "      <td>190.000000</td>\n",
       "      <td>0.000872</td>\n",
       "      <td>0.000000</td>\n",
       "      <td>0.000000</td>\n",
       "      <td>0.000000</td>\n",
       "      <td>0.000000</td>\n",
       "      <td>0.000000</td>\n",
       "      <td>0.000000</td>\n",
       "      <td>0.000000</td>\n",
       "      <td>0.000000</td>\n",
       "      <td>0.000000</td>\n",
       "      <td>0.000000</td>\n",
       "      <td>0.000000</td>\n",
       "      <td>0.000000</td>\n",
       "      <td>0.000000</td>\n",
       "      <td>0.000000</td>\n",
       "      <td>0.000000</td>\n",
       "      <td>0.000000</td>\n",
       "      <td>0.000000</td>\n",
       "      <td>0.000000</td>\n",
       "      <td>0.000000</td>\n",
       "      <td>0.000000</td>\n",
       "      <td>0.000000</td>\n",
       "      <td>0.000000</td>\n",
       "      <td>0.000000</td>\n",
       "      <td>0.000000</td>\n",
       "      <td>0.000000</td>\n",
       "      <td>0.000000</td>\n",
       "      <td>0.000000</td>\n",
       "      <td>0.000000</td>\n",
       "      <td>0.000000</td>\n",
       "      <td>0.000000</td>\n",
       "      <td>0.000000</td>\n",
       "      <td>-0.928051</td>\n",
       "      <td>-2.000000</td>\n",
       "      <td>-0.481818</td>\n",
       "      <td>-7.924511e-01</td>\n",
       "      <td>-2.384129</td>\n",
       "      <td>-1.203051</td>\n",
       "      <td>-1.292505</td>\n",
       "      <td>-1.589107e+00</td>\n",
       "      <td>-1.712248e+00</td>\n",
       "      <td>-0.375000</td>\n",
       "      <td>-1.285714</td>\n",
       "      <td>-3.063158</td>\n",
       "      <td>-0.891013</td>\n",
       "    </tr>\n",
       "    <tr>\n",
       "      <th>25%</th>\n",
       "      <td>0.300000</td>\n",
       "      <td>0.225180</td>\n",
       "      <td>33.000000</td>\n",
       "      <td>20.000000</td>\n",
       "      <td>20.000000</td>\n",
       "      <td>7.183933e-03</td>\n",
       "      <td>-1.181387</td>\n",
       "      <td>894.000000</td>\n",
       "      <td>3435.962936</td>\n",
       "      <td>3592.988203</td>\n",
       "      <td>4268.319057</td>\n",
       "      <td>1.000000</td>\n",
       "      <td>6.000000</td>\n",
       "      <td>83.000000</td>\n",
       "      <td>200.000000</td>\n",
       "      <td>3.121877</td>\n",
       "      <td>1.000000</td>\n",
       "      <td>1.000000</td>\n",
       "      <td>0.000000</td>\n",
       "      <td>0.000000</td>\n",
       "      <td>0.000000</td>\n",
       "      <td>0.000000</td>\n",
       "      <td>0.000000</td>\n",
       "      <td>0.000000</td>\n",
       "      <td>0.000000</td>\n",
       "      <td>0.000000</td>\n",
       "      <td>0.000000</td>\n",
       "      <td>0.000000</td>\n",
       "      <td>0.000000</td>\n",
       "      <td>0.000000</td>\n",
       "      <td>0.000000</td>\n",
       "      <td>0.000000</td>\n",
       "      <td>0.000000</td>\n",
       "      <td>0.000000</td>\n",
       "      <td>0.000000</td>\n",
       "      <td>0.000000</td>\n",
       "      <td>0.000000</td>\n",
       "      <td>0.000000</td>\n",
       "      <td>0.000000</td>\n",
       "      <td>1.000000</td>\n",
       "      <td>0.000000</td>\n",
       "      <td>0.000000</td>\n",
       "      <td>0.000000</td>\n",
       "      <td>0.000000</td>\n",
       "      <td>0.000000</td>\n",
       "      <td>0.000000</td>\n",
       "      <td>0.000000</td>\n",
       "      <td>-0.503517</td>\n",
       "      <td>-0.782609</td>\n",
       "      <td>-0.300000</td>\n",
       "      <td>-4.171941e-01</td>\n",
       "      <td>-0.056880</td>\n",
       "      <td>-0.351764</td>\n",
       "      <td>-0.443064</td>\n",
       "      <td>-5.357783e-01</td>\n",
       "      <td>-5.292334e-01</td>\n",
       "      <td>-0.333333</td>\n",
       "      <td>-0.428571</td>\n",
       "      <td>-0.410526</td>\n",
       "      <td>-0.348137</td>\n",
       "    </tr>\n",
       "    <tr>\n",
       "      <th>50%</th>\n",
       "      <td>0.600000</td>\n",
       "      <td>0.492253</td>\n",
       "      <td>51.000000</td>\n",
       "      <td>53.000000</td>\n",
       "      <td>30.000000</td>\n",
       "      <td>1.517071e-02</td>\n",
       "      <td>-0.830680</td>\n",
       "      <td>1263.000000</td>\n",
       "      <td>5317.126477</td>\n",
       "      <td>4749.005380</td>\n",
       "      <td>4913.667485</td>\n",
       "      <td>9.000000</td>\n",
       "      <td>9.000000</td>\n",
       "      <td>122.000000</td>\n",
       "      <td>200.000000</td>\n",
       "      <td>5.123322</td>\n",
       "      <td>1.000000</td>\n",
       "      <td>3.000000</td>\n",
       "      <td>0.000000</td>\n",
       "      <td>1.000000</td>\n",
       "      <td>0.000000</td>\n",
       "      <td>0.000000</td>\n",
       "      <td>0.000000</td>\n",
       "      <td>0.000000</td>\n",
       "      <td>0.000000</td>\n",
       "      <td>1.000000</td>\n",
       "      <td>0.000000</td>\n",
       "      <td>0.000000</td>\n",
       "      <td>0.000000</td>\n",
       "      <td>0.000000</td>\n",
       "      <td>0.000000</td>\n",
       "      <td>0.000000</td>\n",
       "      <td>0.000000</td>\n",
       "      <td>0.000000</td>\n",
       "      <td>0.000000</td>\n",
       "      <td>0.000000</td>\n",
       "      <td>0.000000</td>\n",
       "      <td>0.000000</td>\n",
       "      <td>0.000000</td>\n",
       "      <td>1.000000</td>\n",
       "      <td>0.000000</td>\n",
       "      <td>0.000000</td>\n",
       "      <td>0.000000</td>\n",
       "      <td>0.000000</td>\n",
       "      <td>0.000000</td>\n",
       "      <td>0.000000</td>\n",
       "      <td>6.500000</td>\n",
       "      <td>0.000000</td>\n",
       "      <td>0.000000</td>\n",
       "      <td>0.000000</td>\n",
       "      <td>-4.530716e-17</td>\n",
       "      <td>0.000000</td>\n",
       "      <td>0.000000</td>\n",
       "      <td>0.000000</td>\n",
       "      <td>-2.107614e-16</td>\n",
       "      <td>3.729266e-16</td>\n",
       "      <td>0.000000</td>\n",
       "      <td>0.000000</td>\n",
       "      <td>0.000000</td>\n",
       "      <td>0.000000</td>\n",
       "    </tr>\n",
       "    <tr>\n",
       "      <th>75%</th>\n",
       "      <td>0.800000</td>\n",
       "      <td>0.755595</td>\n",
       "      <td>56.000000</td>\n",
       "      <td>130.000000</td>\n",
       "      <td>40.000000</td>\n",
       "      <td>2.632796e-02</td>\n",
       "      <td>4.984334</td>\n",
       "      <td>1943.000000</td>\n",
       "      <td>7681.772107</td>\n",
       "      <td>5750.629217</td>\n",
       "      <td>5487.721416</td>\n",
       "      <td>25.000000</td>\n",
       "      <td>13.000000</td>\n",
       "      <td>178.000000</td>\n",
       "      <td>500.000000</td>\n",
       "      <td>8.870898</td>\n",
       "      <td>1.000000</td>\n",
       "      <td>5.000000</td>\n",
       "      <td>1.000000</td>\n",
       "      <td>1.000000</td>\n",
       "      <td>1.000000</td>\n",
       "      <td>1.000000</td>\n",
       "      <td>1.000000</td>\n",
       "      <td>0.000000</td>\n",
       "      <td>0.000000</td>\n",
       "      <td>1.000000</td>\n",
       "      <td>0.000000</td>\n",
       "      <td>0.000000</td>\n",
       "      <td>0.000000</td>\n",
       "      <td>0.000000</td>\n",
       "      <td>0.000000</td>\n",
       "      <td>0.000000</td>\n",
       "      <td>0.000000</td>\n",
       "      <td>1.000000</td>\n",
       "      <td>1.000000</td>\n",
       "      <td>0.000000</td>\n",
       "      <td>0.000000</td>\n",
       "      <td>0.000000</td>\n",
       "      <td>0.000000</td>\n",
       "      <td>1.000000</td>\n",
       "      <td>0.000000</td>\n",
       "      <td>1.000000</td>\n",
       "      <td>0.000000</td>\n",
       "      <td>1.000000</td>\n",
       "      <td>1.000000</td>\n",
       "      <td>0.000000</td>\n",
       "      <td>26.500000</td>\n",
       "      <td>0.496483</td>\n",
       "      <td>0.217391</td>\n",
       "      <td>0.700000</td>\n",
       "      <td>5.828059e-01</td>\n",
       "      <td>0.943120</td>\n",
       "      <td>0.648236</td>\n",
       "      <td>0.556936</td>\n",
       "      <td>4.642217e-01</td>\n",
       "      <td>4.707666e-01</td>\n",
       "      <td>0.666667</td>\n",
       "      <td>0.571429</td>\n",
       "      <td>0.589474</td>\n",
       "      <td>0.651863</td>\n",
       "    </tr>\n",
       "    <tr>\n",
       "      <th>max</th>\n",
       "      <td>0.900000</td>\n",
       "      <td>0.999999</td>\n",
       "      <td>381.000000</td>\n",
       "      <td>428.000000</td>\n",
       "      <td>90.000000</td>\n",
       "      <td>7.845690e+01</td>\n",
       "      <td>112.956928</td>\n",
       "      <td>6700.000000</td>\n",
       "      <td>16640.749743</td>\n",
       "      <td>9506.896596</td>\n",
       "      <td>6994.764201</td>\n",
       "      <td>2385.000000</td>\n",
       "      <td>39.000000</td>\n",
       "      <td>386.000000</td>\n",
       "      <td>2100.000000</td>\n",
       "      <td>83.376775</td>\n",
       "      <td>2.000000</td>\n",
       "      <td>7.000000</td>\n",
       "      <td>1.000000</td>\n",
       "      <td>1.000000</td>\n",
       "      <td>1.000000</td>\n",
       "      <td>1.000000</td>\n",
       "      <td>1.000000</td>\n",
       "      <td>1.000000</td>\n",
       "      <td>1.000000</td>\n",
       "      <td>1.000000</td>\n",
       "      <td>1.000000</td>\n",
       "      <td>1.000000</td>\n",
       "      <td>1.000000</td>\n",
       "      <td>1.000000</td>\n",
       "      <td>1.000000</td>\n",
       "      <td>1.000000</td>\n",
       "      <td>1.000000</td>\n",
       "      <td>1.000000</td>\n",
       "      <td>1.000000</td>\n",
       "      <td>1.000000</td>\n",
       "      <td>1.000000</td>\n",
       "      <td>1.000000</td>\n",
       "      <td>1.000000</td>\n",
       "      <td>1.000000</td>\n",
       "      <td>1.000000</td>\n",
       "      <td>1.000000</td>\n",
       "      <td>1.000000</td>\n",
       "      <td>1.000000</td>\n",
       "      <td>1.000000</td>\n",
       "      <td>1.000000</td>\n",
       "      <td>30.500000</td>\n",
       "      <td>0.957262</td>\n",
       "      <td>14.347826</td>\n",
       "      <td>3.409091</td>\n",
       "      <td>4.097453e+03</td>\n",
       "      <td>18.454873</td>\n",
       "      <td>5.183031</td>\n",
       "      <td>2.667012</td>\n",
       "      <td>2.205136e+00</td>\n",
       "      <td>1.706653e+00</td>\n",
       "      <td>99.000000</td>\n",
       "      <td>4.285714</td>\n",
       "      <td>2.778947</td>\n",
       "      <td>13.611614</td>\n",
       "    </tr>\n",
       "  </tbody>\n",
       "</table>\n",
       "</div>"
      ],
      "text/plain": [
       "              income  name_email_similarity  prev_address_months_count  \\\n",
       "count  800000.000000          800000.000000              800000.000000   \n",
       "mean        0.562838               0.493679                  51.640779   \n",
       "std         0.290284               0.289083                  37.007722   \n",
       "min         0.100000               0.000001                   5.000000   \n",
       "25%         0.300000               0.225180                  33.000000   \n",
       "50%         0.600000               0.492253                  51.000000   \n",
       "75%         0.800000               0.755595                  56.000000   \n",
       "max         0.900000               0.999999                 381.000000   \n",
       "\n",
       "       current_address_months_count   customer_age  days_since_request  \\\n",
       "count                 800000.000000  800000.000000        8.000000e+05   \n",
       "mean                      86.881245      33.683575        1.024581e+00   \n",
       "std                       88.270189      12.023340        5.384940e+00   \n",
       "min                        0.000000      10.000000        4.036860e-09   \n",
       "25%                       20.000000      20.000000        7.183933e-03   \n",
       "50%                       53.000000      30.000000        1.517071e-02   \n",
       "75%                      130.000000      40.000000        2.632796e-02   \n",
       "max                      428.000000      90.000000        7.845690e+01   \n",
       "\n",
       "       intended_balcon_amount   zip_count_4w    velocity_6h   velocity_24h  \\\n",
       "count           800000.000000  800000.000000  800000.000000  800000.000000   \n",
       "mean                 8.666942    1572.691783    5664.123809    4768.744070   \n",
       "std                 20.255749    1005.553072    3010.204130    1478.809582   \n",
       "min                -15.530555       1.000000    -170.603072    1320.283991   \n",
       "25%                 -1.181387     894.000000    3435.962936    3592.988203   \n",
       "50%                 -0.830680    1263.000000    5317.126477    4749.005380   \n",
       "75%                  4.984334    1943.000000    7681.772107    5750.629217   \n",
       "max                112.956928    6700.000000   16640.749743    9506.896596   \n",
       "\n",
       "         velocity_4w  bank_branch_count_8w  date_of_birth_distinct_emails_4w  \\\n",
       "count  800000.000000         800000.000000                     800000.000000   \n",
       "mean     4856.113352            184.627865                          9.502435   \n",
       "std       919.994441            459.934773                          5.033803   \n",
       "min      2825.748405              0.000000                          0.000000   \n",
       "25%      4268.319057              1.000000                          6.000000   \n",
       "50%      4913.667485              9.000000                          9.000000   \n",
       "75%      5487.721416             25.000000                         13.000000   \n",
       "max      6994.764201           2385.000000                         39.000000   \n",
       "\n",
       "       credit_risk_score  proposed_credit_limit  session_length_in_minutes  \\\n",
       "count      800000.000000          800000.000000              800000.000000   \n",
       "mean          131.055336             516.355675                   7.560475   \n",
       "std            69.742814             487.806283                   8.034326   \n",
       "min          -169.000000             190.000000                   0.000872   \n",
       "25%            83.000000             200.000000                   3.121877   \n",
       "50%           122.000000             200.000000                   5.123322   \n",
       "75%           178.000000             500.000000                   8.870898   \n",
       "max           386.000000            2100.000000                  83.376775   \n",
       "\n",
       "       device_distinct_emails_8w          month  \\\n",
       "count              800000.000000  800000.000000   \n",
       "mean                    1.019105       3.289231   \n",
       "std                     0.176621       2.209984   \n",
       "min                     0.000000       0.000000   \n",
       "25%                     1.000000       1.000000   \n",
       "50%                     1.000000       3.000000   \n",
       "75%                     1.000000       5.000000   \n",
       "max                     2.000000       7.000000   \n",
       "\n",
       "       bank_months_count_was_missing  prev_address_months_count_was_missing  \\\n",
       "count                  800000.000000                          800000.000000   \n",
       "mean                        0.253607                               0.712875   \n",
       "std                         0.435076                               0.452421   \n",
       "min                         0.000000                               0.000000   \n",
       "25%                         0.000000                               0.000000   \n",
       "50%                         0.000000                               1.000000   \n",
       "75%                         1.000000                               1.000000   \n",
       "max                         1.000000                               1.000000   \n",
       "\n",
       "       payment_type_AA  payment_type_AB  payment_type_AC  payment_type_AD  \\\n",
       "count    800000.000000    800000.000000    800000.000000    800000.000000   \n",
       "mean          0.258252         0.370686         0.252069         0.118703   \n",
       "std           0.437674         0.482989         0.434201         0.323438   \n",
       "min           0.000000         0.000000         0.000000         0.000000   \n",
       "25%           0.000000         0.000000         0.000000         0.000000   \n",
       "50%           0.000000         0.000000         0.000000         0.000000   \n",
       "75%           1.000000         1.000000         1.000000         0.000000   \n",
       "max           1.000000         1.000000         1.000000         1.000000   \n",
       "\n",
       "       payment_type_AE  employment_status_CA  employment_status_CB  \\\n",
       "count    800000.000000         800000.000000         800000.000000   \n",
       "mean          0.000290              0.730457              0.138044   \n",
       "std           0.017027              0.443722              0.344946   \n",
       "min           0.000000              0.000000              0.000000   \n",
       "25%           0.000000              0.000000              0.000000   \n",
       "50%           0.000000              1.000000              0.000000   \n",
       "75%           0.000000              1.000000              0.000000   \n",
       "max           1.000000              1.000000              1.000000   \n",
       "\n",
       "       employment_status_CC  employment_status_CD  employment_status_CE  \\\n",
       "count         800000.000000         800000.000000         800000.000000   \n",
       "mean               0.037816              0.026511              0.022756   \n",
       "std                0.190752              0.160650              0.149126   \n",
       "min                0.000000              0.000000              0.000000   \n",
       "25%                0.000000              0.000000              0.000000   \n",
       "50%                0.000000              0.000000              0.000000   \n",
       "75%                0.000000              0.000000              0.000000   \n",
       "max                1.000000              1.000000              1.000000   \n",
       "\n",
       "       employment_status_CF  employment_status_CG  housing_status_BA  \\\n",
       "count         800000.000000         800000.000000      800000.000000   \n",
       "mean               0.043951              0.000464           0.169824   \n",
       "std                0.204987              0.021530           0.375478   \n",
       "min                0.000000              0.000000           0.000000   \n",
       "25%                0.000000              0.000000           0.000000   \n",
       "50%                0.000000              0.000000           0.000000   \n",
       "75%                0.000000              0.000000           0.000000   \n",
       "max                1.000000              1.000000           1.000000   \n",
       "\n",
       "       housing_status_BB  housing_status_BC  housing_status_BD  \\\n",
       "count      800000.000000      800000.000000      800000.000000   \n",
       "mean            0.260911           0.371921           0.026196   \n",
       "std             0.439132           0.483318           0.159719   \n",
       "min             0.000000           0.000000           0.000000   \n",
       "25%             0.000000           0.000000           0.000000   \n",
       "50%             0.000000           0.000000           0.000000   \n",
       "75%             1.000000           1.000000           0.000000   \n",
       "max             1.000000           1.000000           1.000000   \n",
       "\n",
       "       housing_status_BE  housing_status_BF  housing_status_BG  \\\n",
       "count      800000.000000      800000.000000      800000.000000   \n",
       "mean            0.169220           0.001677           0.000250   \n",
       "std             0.374946           0.040923           0.015809   \n",
       "min             0.000000           0.000000           0.000000   \n",
       "25%             0.000000           0.000000           0.000000   \n",
       "50%             0.000000           0.000000           0.000000   \n",
       "75%             0.000000           0.000000           0.000000   \n",
       "max             1.000000           1.000000           1.000000   \n",
       "\n",
       "       source_INTERNET  source_TELEAPP  device_os_linux  device_os_macintosh  \\\n",
       "count    800000.000000   800000.000000    800000.000000        800000.000000   \n",
       "mean          0.992920        0.007080         0.332508             0.053678   \n",
       "std           0.083844        0.083844         0.471112             0.225380   \n",
       "min           0.000000        0.000000         0.000000             0.000000   \n",
       "25%           1.000000        0.000000         0.000000             0.000000   \n",
       "50%           1.000000        0.000000         0.000000             0.000000   \n",
       "75%           1.000000        0.000000         1.000000             0.000000   \n",
       "max           1.000000        1.000000         1.000000             1.000000   \n",
       "\n",
       "       device_os_other  device_os_windows  device_os_x11  \\\n",
       "count    800000.000000      800000.000000  800000.000000   \n",
       "mean          0.342805           0.263790       0.007220   \n",
       "std           0.474647           0.440687       0.084663   \n",
       "min           0.000000           0.000000       0.000000   \n",
       "25%           0.000000           0.000000       0.000000   \n",
       "50%           0.000000           0.000000       0.000000   \n",
       "75%           1.000000           1.000000       0.000000   \n",
       "max           1.000000           1.000000       1.000000   \n",
       "\n",
       "       bank_months_count_binned  scaled_name_email_similarity  \\\n",
       "count             800000.000000                 800000.000000   \n",
       "mean                  11.386696                      0.002689   \n",
       "std                   11.559845                      0.545014   \n",
       "min                    0.000000                     -0.928051   \n",
       "25%                    0.000000                     -0.503517   \n",
       "50%                    6.500000                      0.000000   \n",
       "75%                   26.500000                      0.496483   \n",
       "max                   30.500000                      0.957262   \n",
       "\n",
       "       scaled_prev_address_months_count  scaled_current_address_months_count  \\\n",
       "count                     800000.000000                        800000.000000   \n",
       "mean                           0.027860                             0.308011   \n",
       "std                            1.609031                             0.802456   \n",
       "min                           -2.000000                            -0.481818   \n",
       "25%                           -0.782609                            -0.300000   \n",
       "50%                            0.000000                             0.000000   \n",
       "75%                            0.217391                             0.700000   \n",
       "max                           14.347826                             3.409091   \n",
       "\n",
       "       scaled_days_since_request  scaled_intended_balcon_amount  \\\n",
       "count               8.000000e+05                  800000.000000   \n",
       "mean                5.272720e+01                       1.540391   \n",
       "std                 2.812857e+02                       3.285220   \n",
       "min                -7.924511e-01                      -2.384129   \n",
       "25%                -4.171941e-01                      -0.056880   \n",
       "50%                -4.530716e-17                       0.000000   \n",
       "75%                 5.828059e-01                       0.943120   \n",
       "max                 4.097453e+03                      18.454873   \n",
       "\n",
       "       scaled_zip_count_4w  scaled_velocity_6h  scaled_velocity_24h  \\\n",
       "count        800000.000000       800000.000000         8.000000e+05   \n",
       "mean              0.295226            0.081727         9.148273e-03   \n",
       "std               0.958583            0.708982         6.853826e-01   \n",
       "min              -1.203051           -1.292505        -1.589107e+00   \n",
       "25%              -0.351764           -0.443064        -5.357783e-01   \n",
       "50%               0.000000            0.000000        -2.107614e-16   \n",
       "75%               0.648236            0.556936         4.642217e-01   \n",
       "max               5.183031            2.667012         2.205136e+00   \n",
       "\n",
       "       scaled_velocity_4w  scaled_bank_branch_count_8w  \\\n",
       "count        8.000000e+05                800000.000000   \n",
       "mean        -4.719864e-02                     7.317828   \n",
       "std          7.544634e-01                    19.163949   \n",
       "min         -1.712248e+00                    -0.375000   \n",
       "25%         -5.292334e-01                    -0.333333   \n",
       "50%          3.729266e-16                     0.000000   \n",
       "75%          4.707666e-01                     0.666667   \n",
       "max          1.706653e+00                    99.000000   \n",
       "\n",
       "       scaled_date_of_birth_distinct_emails_4w  scaled_credit_risk_score  \\\n",
       "count                            800000.000000             800000.000000   \n",
       "mean                                  0.071776                  0.095319   \n",
       "std                                   0.719115                  0.734135   \n",
       "min                                  -1.285714                 -3.063158   \n",
       "25%                                  -0.428571                 -0.410526   \n",
       "50%                                   0.000000                  0.000000   \n",
       "75%                                   0.571429                  0.589474   \n",
       "max                                   4.285714                  2.778947   \n",
       "\n",
       "       scaled_session_length_in_minutes  \n",
       "count                     800000.000000  \n",
       "mean                           0.423925  \n",
       "std                            1.397512  \n",
       "min                           -0.891013  \n",
       "25%                           -0.348137  \n",
       "50%                            0.000000  \n",
       "75%                            0.651863  \n",
       "max                           13.611614  "
      ]
     },
     "execution_count": 38,
     "metadata": {},
     "output_type": "execute_result"
    }
   ],
   "source": [
    "X_train_scaled = X_train.copy()\n",
    "X_test_scaled = X_test.copy()\n",
    "\n",
    "from sklearn.preprocessing import RobustScaler\n",
    " \n",
    "robust_scaler = RobustScaler()\n",
    "\n",
    "scaled_train = robust_scaler.fit_transform(X_train_scaled[numerical_features])\n",
    "scaled_test = robust_scaler.transform(X_test_scaled[numerical_features])\n",
    "\n",
    "# add new columns scaled features while keeping the original feature with the unscaled values. \n",
    "for i, feature in enumerate(numerical_features):\n",
    "    X_train_scaled['scaled_' + feature] = scaled_train[:, i]\n",
    "    X_test_scaled['scaled_' + feature] = scaled_test[:, i]\n",
    "\n",
    "X_train_scaled.describe()"
   ]
  },
  {
   "cell_type": "code",
   "execution_count": 39,
   "id": "eabbd331-f7a1-4742-85d4-735ac6c62099",
   "metadata": {},
   "outputs": [],
   "source": [
    "# drop the original columns before scaling:\n",
    "X_train_scaled.drop(columns=numerical_features, inplace=True)\n",
    "X_test_scaled.drop(columns=numerical_features, inplace=True)"
   ]
  },
  {
   "cell_type": "code",
   "execution_count": 40,
   "id": "da4c635c-1d60-4d32-ab41-fd406f8ad0b9",
   "metadata": {},
   "outputs": [],
   "source": [
    "X_train = X_train_scaled.copy()\n",
    "X_test = X_test_scaled.copy()"
   ]
  },
  {
   "cell_type": "markdown",
   "id": "09ce2dd7-04e5-4a6b-a4fa-58060be99915",
   "metadata": {},
   "source": [
    "# 5. Handle outliers - not used"
   ]
  },
  {
   "cell_type": "code",
   "execution_count": 41,
   "id": "0520f7d2-1935-48af-bd8d-f193eed53216",
   "metadata": {},
   "outputs": [
    {
     "name": "stdout",
     "output_type": "stream",
     "text": [
      "Categorical features: ['income', 'customer_age', 'email_is_free', 'phone_home_valid', 'phone_mobile_valid', 'has_other_cards', 'proposed_credit_limit', 'foreign_request', 'keep_alive_session', 'device_distinct_emails_8w', 'month', 'bank_months_count_was_missing', 'prev_address_months_count_was_missing', 'payment_type_AA', 'payment_type_AB', 'payment_type_AC', 'payment_type_AD', 'payment_type_AE', 'employment_status_CA', 'employment_status_CB', 'employment_status_CC', 'employment_status_CD', 'employment_status_CE', 'employment_status_CF', 'employment_status_CG', 'housing_status_BA', 'housing_status_BB', 'housing_status_BC', 'housing_status_BD', 'housing_status_BE', 'housing_status_BF', 'housing_status_BG', 'source_INTERNET', 'source_TELEAPP', 'device_os_linux', 'device_os_macintosh', 'device_os_other', 'device_os_windows', 'device_os_x11', 'bank_months_count_binned']\n",
      "Numerical features: ['scaled_name_email_similarity', 'scaled_prev_address_months_count', 'scaled_current_address_months_count', 'scaled_days_since_request', 'scaled_intended_balcon_amount', 'scaled_zip_count_4w', 'scaled_velocity_6h', 'scaled_velocity_24h', 'scaled_velocity_4w', 'scaled_bank_branch_count_8w', 'scaled_date_of_birth_distinct_emails_4w', 'scaled_credit_risk_score', 'scaled_session_length_in_minutes']\n"
     ]
    }
   ],
   "source": [
    "categorical_features, numerical_features = split_num_cat(X_train)\n",
    "print('Categorical features:', categorical_features)\n",
    "print('Numerical features:', numerical_features)"
   ]
  },
  {
   "cell_type": "code",
   "execution_count": 42,
   "id": "040b9004-ce83-4739-8425-c68cad474965",
   "metadata": {},
   "outputs": [
    {
     "name": "stdout",
     "output_type": "stream",
     "text": [
      "percentage of outliers per numerical variable\n",
      " scaled_name_email_similarity                0.000000\n",
      "scaled_prev_address_months_count            5.987000\n",
      "scaled_current_address_months_count         4.142875\n",
      "scaled_days_since_request                   9.477125\n",
      "scaled_intended_balcon_amount              22.265250\n",
      "scaled_zip_count_4w                         6.002250\n",
      "scaled_velocity_6h                          0.892500\n",
      "scaled_velocity_24h                         0.299625\n",
      "scaled_velocity_4w                          0.000000\n",
      "scaled_bank_branch_count_8w                17.557250\n",
      "scaled_date_of_birth_distinct_emails_4w     0.978250\n",
      "scaled_credit_risk_score                    0.874500\n",
      "scaled_session_length_in_minutes            7.897500\n",
      "dtype: float64\n"
     ]
    }
   ],
   "source": [
    "def detect_outliers(series):\n",
    "    Q1 = series.quantile(0.25)\n",
    "    Q3 = series.quantile(0.75)\n",
    "    IQR = Q3 - Q1\n",
    "    lower_bound = Q1 - 1.5 * IQR\n",
    "    upper_bound = Q3 + 1.5 * IQR\n",
    "    outliers = ((series < lower_bound) | (series > upper_bound))\n",
    "    return outliers\n",
    "\n",
    "total_outliers = X_train[numerical_features].apply(detect_outliers).sum()\n",
    "outlier_percentage = (total_outliers/len(X_train))*100\n",
    "print(\"percentage of outliers per numerical variable\\n\", outlier_percentage)\n"
   ]
  },
  {
   "cell_type": "code",
   "execution_count": 43,
   "id": "be40c9a1-9bd1-4087-b84e-422aa23e5fc7",
   "metadata": {
    "scrolled": true
   },
   "outputs": [
    {
     "name": "stdout",
     "output_type": "stream",
     "text": [
      "Percentage of outliers among the fraud cases (fraud_bool = 1):\n",
      "scaled_name_email_similarity                0.000000\n",
      "scaled_prev_address_months_count            2.735426\n",
      "scaled_current_address_months_count         4.349776\n",
      "scaled_days_since_request                  11.188341\n",
      "scaled_intended_balcon_amount              11.479821\n",
      "scaled_zip_count_4w                         4.517937\n",
      "scaled_velocity_6h                          1.065022\n",
      "scaled_velocity_24h                         0.213004\n",
      "scaled_velocity_4w                          0.000000\n",
      "scaled_bank_branch_count_8w                14.798206\n",
      "scaled_date_of_birth_distinct_emails_4w     2.006726\n",
      "scaled_credit_risk_score                    0.033632\n",
      "scaled_session_length_in_minutes           11.121076\n",
      "dtype: float64\n"
     ]
    }
   ],
   "source": [
    "# For all the fraud cases, what percentage of data is outliers (per feature)\n",
    "# Filter rows where fraud_bool = 1\n",
    "X_train_fraud_only = X_train[y_train == 1].copy()\n",
    "total_outlier_fraud_only= detect_outliers(X_train_fraud_only[numerical_features]).sum()\n",
    "outlier_percentages_fraud_only = (total_outlier_fraud_only/len(X_train_fraud_only)) *100\n",
    "\n",
    "print(\"Percentage of outliers among the fraud cases (fraud_bool = 1):\")\n",
    "print(outlier_percentages_fraud_only)"
   ]
  },
  {
   "cell_type": "code",
   "execution_count": 44,
   "id": "257fc5ea-a470-4310-b8cf-d4940351b2cf",
   "metadata": {},
   "outputs": [
    {
     "name": "stdout",
     "output_type": "stream",
     "text": [
      "percentage of outliers of all data that is fraud: \n",
      "{'scaled_name_email_similarity': 0.0, 'scaled_prev_address_months_count': 0.0305, 'scaled_current_address_months_count': 0.057375, 'scaled_days_since_request': 0.12375000000000001, 'scaled_intended_balcon_amount': 0.112875, 'scaled_zip_count_4w': 0.071125, 'scaled_velocity_6h': 0.006625, 'scaled_velocity_24h': 0.000625, 'scaled_velocity_4w': 0.0, 'scaled_bank_branch_count_8w': 0.13337500000000002, 'scaled_date_of_birth_distinct_emails_4w': 0.006125, 'scaled_credit_risk_score': 0.034999999999999996, 'scaled_session_length_in_minutes': 0.116375}\n"
     ]
    }
   ],
   "source": [
    "outlier_fraud_percentages = {}\n",
    "\n",
    "# Loop through each numerical feature in X_train\n",
    "for feature in numerical_features:\n",
    "    outliers = detect_outliers(X_train[feature])\n",
    "    fraud_outliers = X_train.loc[outliers & (y_train == 1), feature]\n",
    "    percentage_fraud_outliers = (len(fraud_outliers) / len(X_train[X_train[feature].notna()])) * 100\n",
    "    outlier_fraud_percentages[feature] = percentage_fraud_outliers\n",
    "\n",
    "print(\"percentage of outliers that is fraud: \")\n",
    "print(outlier_fraud_percentages)"
   ]
  },
  {
   "cell_type": "markdown",
   "id": "9646c516-4960-4493-a0ad-b1ab0b9b7a52",
   "metadata": {},
   "source": [
    "No significant association between fraud and outliers. "
   ]
  },
  {
   "cell_type": "code",
   "execution_count": 47,
   "id": "f9582863-71f6-4d07-84c3-f574d12a2dff",
   "metadata": {},
   "outputs": [],
   "source": [
    "q1 = X_train[numerical_features].quantile(0.01)\n",
    "q99 = X_train[numerical_features].quantile(0.99)"
   ]
  },
  {
   "cell_type": "code",
   "execution_count": 48,
   "id": "aa7cd2ba-1f26-471b-b47d-e428730a20a0",
   "metadata": {},
   "outputs": [],
   "source": [
    "X_train_cleaned = X_train[(X_train[numerical_features] >= q1).all(axis=1) & (X_train[numerical_features] <= q99).all(axis=1)]"
   ]
  },
  {
   "cell_type": "code",
   "execution_count": 49,
   "id": "5935856d-d9e7-44ce-b8d4-3b25e0298dfb",
   "metadata": {},
   "outputs": [],
   "source": [
    "y_train_cleaned = y_train.loc[X_train_cleaned.index].copy()"
   ]
  },
  {
   "cell_type": "code",
   "execution_count": 50,
   "id": "f6bd9989-9804-43aa-825d-3758be4cb64f",
   "metadata": {},
   "outputs": [
    {
     "name": "stdout",
     "output_type": "stream",
     "text": [
      "Percentage of data retained after dropping outliers: 78.87%\n"
     ]
    }
   ],
   "source": [
    "# Calculate percentage of data retained\n",
    "percentage_retained = (len(X_train_cleaned) / len(X_train)) * 100\n",
    "\n",
    "print(f\"Percentage of data retained after dropping outliers: {percentage_retained:.2f}%\")"
   ]
  },
  {
   "cell_type": "code",
   "execution_count": 51,
   "id": "b464a6cd-d105-4403-b9f8-29b2af488a07",
   "metadata": {},
   "outputs": [
    {
     "name": "stdout",
     "output_type": "stream",
     "text": [
      "Percentage of fraud_bool = 1 retained in cleaned data: 75.59%\n"
     ]
    }
   ],
   "source": [
    "fraud_indices = y_train[y_train == 1].index\n",
    "fraud_retained = len(fraud_indices.intersection(X_train_cleaned.index))\n",
    "\n",
    "# The percentage of fraud_bool = 1 retained in X_train after dropping the outliersX_train)) * 100\n",
    "percentage_fraud_retained = (fraud_retained / len(fraud_indices)) * 100\n",
    "print(f\"Percentage of fraud_bool = 1 retained in cleaned data: {percentage_fraud_retained:.2f}%\")"
   ]
  },
  {
   "cell_type": "code",
   "execution_count": 52,
   "id": "f1fbf8a8-ba9e-4d28-aaf5-51be39e51bb7",
   "metadata": {},
   "outputs": [
    {
     "data": {
      "text/plain": [
       "(630939, 53)"
      ]
     },
     "execution_count": 52,
     "metadata": {},
     "output_type": "execute_result"
    }
   ],
   "source": [
    "X_train_cleaned.shape"
   ]
  },
  {
   "cell_type": "code",
   "execution_count": 53,
   "id": "88d94250-280f-47eb-8d39-e86e846b95b8",
   "metadata": {},
   "outputs": [
    {
     "data": {
      "text/plain": [
       "(630939,)"
      ]
     },
     "execution_count": 53,
     "metadata": {},
     "output_type": "execute_result"
    }
   ],
   "source": [
    "y_train_cleaned.shape"
   ]
  },
  {
   "cell_type": "code",
   "execution_count": 60,
   "id": "270362de-c61b-45e4-a4fe-8daf5f16b489",
   "metadata": {},
   "outputs": [
    {
     "name": "stdout",
     "output_type": "stream",
     "text": [
      "Percentage of data retained after dropping outliers: 46.71%\n"
     ]
    }
   ],
   "source": [
    "X_train_cleaned = X_train.copy()\n",
    "\n",
    "# Identify outlier rows\n",
    "outlier_flags = detect_outliers(X_train_cleaned[numerical_features])\n",
    "outlier_flags\n",
    "# Detect outliers for numerical features\n",
    "rows_outliers = outlier_flags.any(axis=1)  # Rows flagged as outliers\n",
    "\n",
    "# Drop rows with outliers\n",
    "X_train_cleaned = X_train_cleaned[~rows_outliers]\n",
    "\n",
    "# Calculate percentage of data retained\n",
    "percentage_retained = (len(X_train_cleaned) / len(X_train)) * 100\n",
    "\n",
    "print(f\"Percentage of data retained after dropping outliers: {percentage_retained:.2f}%\")"
   ]
  },
  {
   "cell_type": "code",
   "execution_count": 61,
   "id": "e2027e89-9687-4df2-b1fd-226ef205c667",
   "metadata": {},
   "outputs": [
    {
     "name": "stdout",
     "output_type": "stream",
     "text": [
      "Percentage of fraud_bool = 1 retained in cleaned data: 53.81%\n"
     ]
    }
   ],
   "source": [
    "fraud_indices = y_train[y_train == 1].index\n",
    "fraud_retained = len(fraud_indices.intersection(X_train_cleaned.index))\n",
    "\n",
    "# The percentage of fraud_bool = 1 retained in X_train after dropping the outliers\n",
    "percentage_fraud_retained = (fraud_retained / len(fraud_indices)) * 100\n",
    "print(f\"Percentage of fraud_bool = 1 retained after dropping outliers: {percentage_fraud_retained:.2f}%\")"
   ]
  },
  {
   "cell_type": "code",
   "execution_count": 62,
   "id": "35a88744-52ef-4562-9d96-b465b61a0098",
   "metadata": {},
   "outputs": [
    {
     "data": {
      "text/plain": [
       "(373702, 53)"
      ]
     },
     "execution_count": 62,
     "metadata": {},
     "output_type": "execute_result"
    }
   ],
   "source": [
    "X_train_cleaned.shape"
   ]
  },
  {
   "cell_type": "code",
   "execution_count": 63,
   "id": "490ebb19-2da8-47cd-8275-6329b4f704b1",
   "metadata": {},
   "outputs": [],
   "source": [
    "# Ensure y_train has the same indices as X_train_cleaned\n",
    "y_train_cleaned = y_train.loc[X_train_cleaned.index].copy()"
   ]
  },
  {
   "cell_type": "markdown",
   "id": "76f11c6e-2cbe-4cbe-87fa-b4bd751f0033",
   "metadata": {},
   "source": [
    "# Handle imbalance with SMOTE, only on the training set"
   ]
  },
  {
   "cell_type": "code",
   "execution_count": 54,
   "id": "a9759245-a72c-4908-86fe-67ab94cc8a2e",
   "metadata": {},
   "outputs": [],
   "source": [
    "X_train = X_train_scaled.copy()\n",
    "X_test = X_test_scaled.copy()"
   ]
  },
  {
   "cell_type": "code",
   "execution_count": 55,
   "id": "ef8ee074-3635-4ded-a00a-e2610e6fa39c",
   "metadata": {},
   "outputs": [
    {
     "data": {
      "text/plain": [
       "(800000, 53)"
      ]
     },
     "execution_count": 55,
     "metadata": {},
     "output_type": "execute_result"
    }
   ],
   "source": [
    "X_train.shape"
   ]
  },
  {
   "cell_type": "code",
   "execution_count": 56,
   "id": "a84fe6a6-2d7a-4ab6-b1c0-8fc05226f69d",
   "metadata": {},
   "outputs": [
    {
     "data": {
      "text/plain": [
       "(800000,)"
      ]
     },
     "execution_count": 56,
     "metadata": {},
     "output_type": "execute_result"
    }
   ],
   "source": [
    "y_train.shape"
   ]
  },
  {
   "cell_type": "code",
   "execution_count": 57,
   "id": "4aee3f13-372b-4593-9e2a-53263dc5dc26",
   "metadata": {},
   "outputs": [
    {
     "data": {
      "text/plain": [
       "(200000, 53)"
      ]
     },
     "execution_count": 57,
     "metadata": {},
     "output_type": "execute_result"
    }
   ],
   "source": [
    "X_test.shape"
   ]
  },
  {
   "cell_type": "code",
   "execution_count": 58,
   "id": "78050a4a-b286-408b-a775-e5b4c9ecc6ad",
   "metadata": {},
   "outputs": [
    {
     "name": "stdout",
     "output_type": "stream",
     "text": [
      "Before SMOTE: Counter({False: 791080, True: 8920})\n",
      "Before SMOTE, shape of the training set (800000, 53)\n"
     ]
    }
   ],
   "source": [
    "from collections import Counter\n",
    "print(f\"Before SMOTE: {Counter(y_train)}\")\n",
    "print(\"Before SMOTE, shape of the training set\", X_train.shape)"
   ]
  },
  {
   "cell_type": "markdown",
   "id": "8d741245-d005-4b54-87db-326ea50f05b1",
   "metadata": {
    "jp-MarkdownHeadingCollapsed": true
   },
   "source": [
    "#### SMOTE NO.1  - not used "
   ]
  },
  {
   "cell_type": "code",
   "execution_count": 88,
   "id": "d6cc5a05-0bd0-40a2-8f44-3fd306c82d93",
   "metadata": {},
   "outputs": [
    {
     "name": "stdout",
     "output_type": "stream",
     "text": [
      "After SMOTE: Counter({0: 791080, 1: 237324})\n",
      "After RandomUnderSampler: Counter({0: 593310, 1: 237324})\n",
      "After RandomUnderSampler, shape of the training set (830634, 53)\n"
     ]
    }
   ],
   "source": [
    "\n",
    "\n",
    "# Oversample the minority class to 30% of the majority class\n",
    "over = SMOTE(sampling_strategy=0.3, random_state=2)\n",
    "X_train_res1, y_train_res1 = over.fit_resample(X_train, y_train)\n",
    "\n",
    "print(f\"After SMOTE: {Counter(y_train_res1)}\") \n",
    "\n",
    "# Undersample the majority class to create a 0.4:1 minority-to-majority ratio\n",
    "under = RandomUnderSampler(sampling_strategy=0.4, random_state=2)\n",
    "X_train_res, y_train_res = under.fit_resample(X_train_res1, y_train_res1)\n",
    "\n",
    "print(f\"After RandomUnderSampler: {Counter(y_train_res)}\")\n",
    "print(\"After RandomUnderSampler, shape of the training set\", X_train_res.shape)"
   ]
  },
  {
   "cell_type": "code",
   "execution_count": null,
   "id": "fedb1a5c-96cc-4354-afbd-7d4d8152aeef",
   "metadata": {},
   "outputs": [],
   "source": []
  },
  {
   "cell_type": "markdown",
   "id": "09e55f46-3fdb-4b83-bcc0-403bdea87808",
   "metadata": {},
   "source": [
    "#### SMOTE NO.2"
   ]
  },
  {
   "cell_type": "code",
   "execution_count": 59,
   "id": "2a17de50-e9ed-41af-ba8e-575e803a259d",
   "metadata": {},
   "outputs": [
    {
     "name": "stdout",
     "output_type": "stream",
     "text": [
      "After oversampling the minority class: Counter({False: 791080, True: 632864})\n",
      "After RandomUnderSampler: Counter({False: 632864, True: 632864})\n",
      "After RandomUnderSampler, shape of the training set (1265728, 53)\n"
     ]
    }
   ],
   "source": [
    "from imblearn.over_sampling import SMOTE\n",
    "from imblearn.under_sampling import RandomUnderSampler\n",
    "from collections import Counter\n",
    "\n",
    "over = SMOTE(sampling_strategy=0.8, random_state=2)\n",
    "X_train_res3, y_train_res3 = over.fit_resample(X_train, y_train)\n",
    "\n",
    "print(f\"After oversampling the minority class: {Counter(y_train_res3)}\") \n",
    "\n",
    "# Undersample the majority class to create a 1:1 minority-to-majority ratio\n",
    "under = RandomUnderSampler(sampling_strategy=1, random_state=2)\n",
    "X_train_res4, y_train_res4 = under.fit_resample(X_train_res3, y_train_res3)\n",
    "\n",
    "print(f\"After RandomUnderSampler: {Counter(y_train_res4)}\")\n",
    "print(\"After RandomUnderSampler, shape of the training set\", X_train_res4.shape)"
   ]
  },
  {
   "cell_type": "markdown",
   "id": "e9735dc5-c69b-43e2-88d3-e2de1b7fe2c8",
   "metadata": {
    "jp-MarkdownHeadingCollapsed": true
   },
   "source": [
    "#### SMOTE NO.3 (not used)"
   ]
  },
  {
   "cell_type": "code",
   "execution_count": 178,
   "id": "912cffa7-1aa6-4efc-b445-453aceff09f1",
   "metadata": {},
   "outputs": [
    {
     "name": "stdout",
     "output_type": "stream",
     "text": [
      "After SMOTE: Counter({0: 791080, 1: 791080})\n",
      "After RandomUnderSampler: Counter({0: 791080, 1: 791080})\n",
      "After RandomUnderSampler, shape of the training set (1582160,)\n"
     ]
    }
   ],
   "source": [
    "over = SMOTE(sampling_strategy=1, random_state=2)\n",
    "X_train_res5, y_train_res5 = over.fit_resample(X_train, y_train)\n",
    "\n",
    "print(f\"After SMOTE: {Counter(y_train_res5)}\") \n",
    "\n",
    "# Undersample the majority class to create a 1:1 minority-to-majority ratio\n",
    "under = RandomUnderSampler(sampling_strategy=1, random_state=2)\n",
    "X_train_res6, y_train_res6 = under.fit_resample(X_train_res5, y_train_res5)\n",
    "\n",
    "print(f\"After RandomUnderSampler: {Counter(y_train_res6)}\")\n",
    "print(\"After RandomUnderSampler, shape of the training set\", y_train_res6.shape)"
   ]
  },
  {
   "cell_type": "code",
   "execution_count": 170,
   "id": "498ea451-787a-44ef-a843-cde50198e5e9",
   "metadata": {},
   "outputs": [],
   "source": [
    "X_train_res6.to_csv(\"../data/x_train_data_smote3.csv\", index=True)\n",
    "\n",
    "y_train_res6.to_csv(\"../data/y_train_data_smote3.csv\")"
   ]
  },
  {
   "cell_type": "code",
   "execution_count": 177,
   "id": "0ecc3e45-45a4-4077-bfce-507757bd83c1",
   "metadata": {
    "jupyter": {
     "source_hidden": true
    },
    "scrolled": true
   },
   "outputs": [
    {
     "data": {
      "text/plain": [
       "(800000,)"
      ]
     },
     "execution_count": 177,
     "metadata": {},
     "output_type": "execute_result"
    }
   ],
   "source": [
    "y_train.shape"
   ]
  },
  {
   "cell_type": "markdown",
   "id": "a05d4900-3676-413c-ae46-3cb95de0bd72",
   "metadata": {},
   "source": [
    "# Feature Selection"
   ]
  },
  {
   "cell_type": "markdown",
   "id": "e1565950-b3e8-4b57-b6c4-526cf97e5a8c",
   "metadata": {},
   "source": [
    "## Mutual Information"
   ]
  },
  {
   "cell_type": "code",
   "execution_count": 60,
   "id": "c73b2c16-cebc-4513-84a4-d5aee88a804b",
   "metadata": {},
   "outputs": [],
   "source": [
    "X_train = X_train_res4.copy()\n",
    "y_train = y_train_res4.copy()\n",
    "\n",
    "X = X_train.copy()\n",
    "y = y_train.copy()\n",
    "\n",
    "# Label encoding for categoricals\n",
    "for colname in X.select_dtypes([\"category\", \"object\"]):\n",
    "    X[colname], _ = X[colname].factorize()\n",
    "\n",
    "# All discrete features should now have integer dtypes (double-check this before using MI!)\n",
    "discrete_features = X.dtypes == int"
   ]
  },
  {
   "cell_type": "code",
   "execution_count": 61,
   "id": "71017ec0-945d-4564-80d1-acbf5fda7d6a",
   "metadata": {
    "scrolled": true
   },
   "outputs": [
    {
     "data": {
      "text/plain": [
       "scaled_credit_risk_score                   0.644657\n",
       "scaled_current_address_months_count        0.642372\n",
       "scaled_zip_count_4w                        0.622493\n",
       "scaled_date_of_birth_distinct_emails_4w    0.523567\n",
       "scaled_bank_branch_count_8w                0.468762\n",
       "income                                     0.438402\n",
       "scaled_prev_address_months_count           0.408084\n",
       "housing_status_BA                          0.231736\n",
       "device_os_windows                          0.222728\n",
       "housing_status_BC                          0.138889\n",
       "device_os_linux                            0.138117\n",
       "device_os_other                            0.137299\n",
       "prev_address_months_count_was_missing      0.128191\n",
       "housing_status_BB                          0.116257\n",
       "employment_status_CA                       0.111987\n",
       "customer_age                               0.096576\n",
       "bank_months_count_binned                   0.093145\n",
       "bank_months_count_was_missing              0.088763\n",
       "payment_type_AB                            0.087346\n",
       "employment_status_CB                       0.072796\n",
       "payment_type_AA                            0.069221\n",
       "housing_status_BE                          0.068975\n",
       "payment_type_AD                            0.067519\n",
       "email_is_free                              0.066412\n",
       "device_distinct_emails_8w                  0.059684\n",
       "proposed_credit_limit                      0.046927\n",
       "payment_type_AC                            0.045604\n",
       "device_os_macintosh                        0.044357\n",
       "scaled_velocity_4w                         0.041331\n",
       "employment_status_CC                       0.039364\n",
       "scaled_intended_balcon_amount              0.034998\n",
       "scaled_name_email_similarity               0.033203\n",
       "scaled_days_since_request                  0.030580\n",
       "month                                      0.023859\n",
       "employment_status_CF                       0.019420\n",
       "housing_status_BD                          0.019370\n",
       "employment_status_CD                       0.014087\n",
       "scaled_session_length_in_minutes           0.012893\n",
       "scaled_velocity_24h                        0.012794\n",
       "scaled_velocity_6h                         0.012098\n",
       "phone_mobile_valid                         0.011490\n",
       "foreign_request                            0.010203\n",
       "employment_status_CE                       0.009472\n",
       "device_os_x11                              0.007368\n",
       "source_INTERNET                            0.006747\n",
       "source_TELEAPP                             0.006504\n",
       "has_other_cards                            0.004514\n",
       "keep_alive_session                         0.002296\n",
       "payment_type_AE                            0.001285\n",
       "employment_status_CG                       0.000591\n",
       "housing_status_BF                          0.000519\n",
       "phone_home_valid                           0.000273\n",
       "housing_status_BG                          0.000000\n",
       "Name: MI Scores, dtype: float64"
      ]
     },
     "execution_count": 61,
     "metadata": {},
     "output_type": "execute_result"
    }
   ],
   "source": [
    "from sklearn.feature_selection import mutual_info_regression\n",
    "\n",
    "def make_mi_scores(X, y, discrete_features):\n",
    "    mi_scores = mutual_info_regression(X, y, discrete_features=discrete_features)\n",
    "    mi_scores = pd.Series(mi_scores, name=\"MI Scores\", index=X.columns)\n",
    "    mi_scores = mi_scores.sort_values(ascending=False)\n",
    "    return mi_scores\n",
    "\n",
    "mi_scores = make_mi_scores(X, y, discrete_features)\n",
    "mi_scores "
   ]
  },
  {
   "cell_type": "code",
   "execution_count": 62,
   "id": "12ab93b6-04e6-40b8-ab25-d2284b1e0185",
   "metadata": {
    "scrolled": true
   },
   "outputs": [
    {
     "data": {
      "image/png": "[encoded data removed]",
      "text/plain": [
       "<Figure size 800x1600 with 1 Axes>"
      ]
     },
     "metadata": {},
     "output_type": "display_data"
    }
   ],
   "source": [
    "def plot_mi_scores(scores):\n",
    "    scores = scores.sort_values(ascending=True)\n",
    "    width = np.arange(len(scores))\n",
    "    ticks = list(scores.index)\n",
    "    plt.barh(width, scores)\n",
    "    plt.yticks(width, ticks)\n",
    "    plt.title(\"Mutual Information Scores\")\n",
    "\n",
    "plt.figure(dpi=100, figsize=(8, 16))\n",
    "plot_mi_scores(mi_scores)"
   ]
  },
  {
   "cell_type": "markdown",
   "id": "f28dd3aa-abdd-421c-ae17-a15fcede864a",
   "metadata": {},
   "source": [
    "MI can help you to understand the relative potential of a feature as a predictor of the target, considered by itself.\n",
    "It's possible for a feature to be very informative when interacting with other features, but not so informative all alone. MI can't detect interactions between features. It is a univariate metric.\n",
    "The actual usefulness of a feature depends on the model you use it with. A feature is only useful to the extent that its relationship with the target is one your model can learn. Just because a feature has a high MI score doesn't mean your model will be able to do anything with that information. You may need to transform the feature first to expose the association."
   ]
  },
  {
   "cell_type": "code",
   "execution_count": 63,
   "id": "1e3e9a2e-60d4-4fb6-9bc1-12eb90b60d8e",
   "metadata": {
    "scrolled": true
   },
   "outputs": [
    {
     "name": "stdout",
     "output_type": "stream",
     "text": [
      "                                  feature    chi2_score        p_value\n",
      "0                                  income  8.285670e+03   0.000000e+00\n",
      "37                      device_os_windows  9.342696e+04   0.000000e+00\n",
      "36                        device_os_other  3.915670e+04   0.000000e+00\n",
      "34                        device_os_linux  4.712684e+04   0.000000e+00\n",
      "29                      housing_status_BE  4.152246e+04   0.000000e+00\n",
      "27                      housing_status_BC  3.300030e+04   0.000000e+00\n",
      "26                      housing_status_BB  2.695103e+04   0.000000e+00\n",
      "25                      housing_status_BA  1.548215e+05   0.000000e+00\n",
      "23                   employment_status_CF  1.812819e+04   0.000000e+00\n",
      "22                   employment_status_CE  8.096893e+03   0.000000e+00\n",
      "21                   employment_status_CD  6.404470e+03   0.000000e+00\n",
      "20                   employment_status_CC  1.082027e+04   0.000000e+00\n",
      "18                   employment_status_CA  3.764893e+03   0.000000e+00\n",
      "15                        payment_type_AC  1.898540e+04   0.000000e+00\n",
      "19                   employment_status_CB  1.314384e+04   0.000000e+00\n",
      "13                        payment_type_AA  3.991648e+04   0.000000e+00\n",
      "1                            customer_age  4.439739e+05   0.000000e+00\n",
      "2                           email_is_free  4.951957e+04   0.000000e+00\n",
      "4                      phone_mobile_valid  1.896578e+03   0.000000e+00\n",
      "6                   proposed_credit_limit  4.876248e+07   0.000000e+00\n",
      "7                         foreign_request  2.369367e+04   0.000000e+00\n",
      "8                      keep_alive_session  1.909110e+03   0.000000e+00\n",
      "5                         has_other_cards  1.120017e+04   0.000000e+00\n",
      "39               bank_months_count_binned  2.303795e+03   0.000000e+00\n",
      "11          bank_months_count_was_missing  1.073044e+04   0.000000e+00\n",
      "12  prev_address_months_count_was_missing  1.166905e+04   0.000000e+00\n",
      "9               device_distinct_emails_8w  8.889096e+02  2.527836e-195\n",
      "28                      housing_status_BD  6.864312e+02  2.669135e-151\n",
      "30                      housing_status_BF  5.995731e+02  2.073243e-132\n",
      "3                        phone_home_valid  5.901716e+02  2.299249e-130\n",
      "14                        payment_type_AB  4.245127e+02   2.542300e-94\n",
      "35                    device_os_macintosh  2.989664e+02   5.533020e-67\n",
      "16                        payment_type_AD  2.106270e+02   1.002471e-47\n",
      "17                        payment_type_AE  1.860000e+02   2.374064e-42\n",
      "31                      housing_status_BG  7.668736e+01   2.002810e-18\n",
      "10                                  month  5.914947e+01   1.461387e-14\n",
      "38                          device_os_x11  4.770961e+01   4.942631e-12\n",
      "33                         source_TELEAPP  4.487278e+01   2.102603e-11\n",
      "24                   employment_status_CG  3.174638e+01   1.756764e-08\n",
      "32                        source_INTERNET  3.422834e-01   5.585141e-01\n"
     ]
    },
    {
     "data": {
      "image/png": "[encoded data removed]",
      "text/plain": [
       "<Figure size 1500x1000 with 1 Axes>"
      ]
     },
     "metadata": {},
     "output_type": "display_data"
    }
   ],
   "source": [
    "from sklearn.feature_selection import chi2, SelectKBest\n",
    "\n",
    "x = X_train[categorical_features]\n",
    "y = y_train\n",
    "\n",
    "chi2_test = SelectKBest(score_func=chi2).fit(x, y)\n",
    "\n",
    "chi2_output = pd.DataFrame()\n",
    "chi2_output['feature'] = x.columns\n",
    "chi2_output['chi2_score'] = chi2_test.scores_\n",
    "chi2_output['p_value'] = chi2_test.pvalues_\n",
    "chi2_output = chi2_output.sort_values(by=['p_value'])\n",
    "\n",
    "print(chi2_output)\n",
    "\n",
    "chi2_output_significant = chi2_output[chi2_output['p_value'] <= 0.05]\n",
    "\n",
    "plt.figure(figsize=(15, 10))\n",
    "sns.barplot(data = chi2_output_significant, x = 'chi2_score', y = 'feature' )\n",
    "plt.show()"
   ]
  },
  {
   "cell_type": "markdown",
   "id": "aee56d1c-82f9-4d1b-88ea-c9311b152907",
   "metadata": {},
   "source": [
    "# Finalize data for training"
   ]
  },
  {
   "cell_type": "code",
   "execution_count": 120,
   "id": "3357d9d7-9e29-4778-8125-8cd287dbcb18",
   "metadata": {},
   "outputs": [],
   "source": [
    "X_train = X_train_res4.copy()\n",
    "y_train = y_train_res4.copy()"
   ]
  },
  {
   "cell_type": "code",
   "execution_count": 66,
   "id": "aacdc134-9022-40e8-a5c9-6ca5c089597e",
   "metadata": {},
   "outputs": [],
   "source": [
    "bool_features = [col for col in X_train.columns if X_train[col].dtypes == 'bool']\n",
    "X_train[bool_features] = X_train[bool_features].astype(\"int\")"
   ]
  },
  {
   "cell_type": "code",
   "execution_count": 67,
   "id": "50e8db46-1adc-4dcb-ba48-f460d7268b22",
   "metadata": {
    "scrolled": true
   },
   "outputs": [
    {
     "name": "stdout",
     "output_type": "stream",
     "text": [
      "<class 'pandas.core.frame.DataFrame'>\n",
      "Index: 1265728 entries, 484141 to 1423943\n",
      "Data columns (total 53 columns):\n",
      " #   Column                                   Non-Null Count    Dtype  \n",
      "---  ------                                   --------------    -----  \n",
      " 0   income                                   1265728 non-null  float64\n",
      " 1   customer_age                             1265728 non-null  int64  \n",
      " 2   email_is_free                            1265728 non-null  int64  \n",
      " 3   phone_home_valid                         1265728 non-null  int64  \n",
      " 4   phone_mobile_valid                       1265728 non-null  int64  \n",
      " 5   has_other_cards                          1265728 non-null  int64  \n",
      " 6   proposed_credit_limit                    1265728 non-null  float64\n",
      " 7   foreign_request                          1265728 non-null  int64  \n",
      " 8   keep_alive_session                       1265728 non-null  int64  \n",
      " 9   device_distinct_emails_8w                1265728 non-null  float64\n",
      " 10  month                                    1265728 non-null  int64  \n",
      " 11  bank_months_count_was_missing            1265728 non-null  int64  \n",
      " 12  prev_address_months_count_was_missing    1265728 non-null  int64  \n",
      " 13  payment_type_AA                          1265728 non-null  float64\n",
      " 14  payment_type_AB                          1265728 non-null  float64\n",
      " 15  payment_type_AC                          1265728 non-null  float64\n",
      " 16  payment_type_AD                          1265728 non-null  float64\n",
      " 17  payment_type_AE                          1265728 non-null  float64\n",
      " 18  employment_status_CA                     1265728 non-null  float64\n",
      " 19  employment_status_CB                     1265728 non-null  float64\n",
      " 20  employment_status_CC                     1265728 non-null  float64\n",
      " 21  employment_status_CD                     1265728 non-null  float64\n",
      " 22  employment_status_CE                     1265728 non-null  float64\n",
      " 23  employment_status_CF                     1265728 non-null  float64\n",
      " 24  employment_status_CG                     1265728 non-null  float64\n",
      " 25  housing_status_BA                        1265728 non-null  float64\n",
      " 26  housing_status_BB                        1265728 non-null  float64\n",
      " 27  housing_status_BC                        1265728 non-null  float64\n",
      " 28  housing_status_BD                        1265728 non-null  float64\n",
      " 29  housing_status_BE                        1265728 non-null  float64\n",
      " 30  housing_status_BF                        1265728 non-null  float64\n",
      " 31  housing_status_BG                        1265728 non-null  float64\n",
      " 32  source_INTERNET                          1265728 non-null  float64\n",
      " 33  source_TELEAPP                           1265728 non-null  float64\n",
      " 34  device_os_linux                          1265728 non-null  float64\n",
      " 35  device_os_macintosh                      1265728 non-null  float64\n",
      " 36  device_os_other                          1265728 non-null  float64\n",
      " 37  device_os_windows                        1265728 non-null  float64\n",
      " 38  device_os_x11                            1265728 non-null  float64\n",
      " 39  bank_months_count_binned                 1265728 non-null  float64\n",
      " 40  scaled_name_email_similarity             1265728 non-null  float64\n",
      " 41  scaled_prev_address_months_count         1265728 non-null  float64\n",
      " 42  scaled_current_address_months_count      1265728 non-null  float64\n",
      " 43  scaled_days_since_request                1265728 non-null  float64\n",
      " 44  scaled_intended_balcon_amount            1265728 non-null  float64\n",
      " 45  scaled_zip_count_4w                      1265728 non-null  float64\n",
      " 46  scaled_velocity_6h                       1265728 non-null  float64\n",
      " 47  scaled_velocity_24h                      1265728 non-null  float64\n",
      " 48  scaled_velocity_4w                       1265728 non-null  float64\n",
      " 49  scaled_bank_branch_count_8w              1265728 non-null  float64\n",
      " 50  scaled_date_of_birth_distinct_emails_4w  1265728 non-null  float64\n",
      " 51  scaled_credit_risk_score                 1265728 non-null  float64\n",
      " 52  scaled_session_length_in_minutes         1265728 non-null  float64\n",
      "dtypes: float64(43), int64(10)\n",
      "memory usage: 521.5 MB\n"
     ]
    }
   ],
   "source": [
    "X_train[bool_features] = X_train[bool_features].astype(\"int\")\n",
    "X_train.info()"
   ]
  },
  {
   "cell_type": "code",
   "execution_count": 68,
   "id": "2067b951-f8aa-4f70-8adb-6cdbe11e8f32",
   "metadata": {},
   "outputs": [
    {
     "name": "stdout",
     "output_type": "stream",
     "text": [
      "<class 'pandas.core.series.Series'>\n",
      "Index: 1265728 entries, 484141 to 1423943\n",
      "Series name: fraud_bool\n",
      "Non-Null Count    Dtype\n",
      "--------------    -----\n",
      "1265728 non-null  int64\n",
      "dtypes: int64(1)\n",
      "memory usage: 19.3 MB\n"
     ]
    }
   ],
   "source": [
    "y_train = y_train.astype(\"int\")\n",
    "y_train.info()"
   ]
  },
  {
   "cell_type": "code",
   "execution_count": 69,
   "id": "91f8dd8f-09da-4368-ab3d-7a71e98d5fa5",
   "metadata": {
    "scrolled": true
   },
   "outputs": [
    {
     "name": "stdout",
     "output_type": "stream",
     "text": [
      "<class 'pandas.core.frame.DataFrame'>\n",
      "Index: 200000 entries, 987231 to 390499\n",
      "Data columns (total 53 columns):\n",
      " #   Column                                   Non-Null Count   Dtype  \n",
      "---  ------                                   --------------   -----  \n",
      " 0   income                                   200000 non-null  float64\n",
      " 1   customer_age                             200000 non-null  int64  \n",
      " 2   email_is_free                            200000 non-null  int64  \n",
      " 3   phone_home_valid                         200000 non-null  int64  \n",
      " 4   phone_mobile_valid                       200000 non-null  int64  \n",
      " 5   has_other_cards                          200000 non-null  int64  \n",
      " 6   proposed_credit_limit                    200000 non-null  float64\n",
      " 7   foreign_request                          200000 non-null  int64  \n",
      " 8   keep_alive_session                       200000 non-null  int64  \n",
      " 9   device_distinct_emails_8w                200000 non-null  float64\n",
      " 10  month                                    200000 non-null  int64  \n",
      " 11  bank_months_count_was_missing            200000 non-null  int64  \n",
      " 12  prev_address_months_count_was_missing    200000 non-null  int64  \n",
      " 13  payment_type_AA                          200000 non-null  float64\n",
      " 14  payment_type_AB                          200000 non-null  float64\n",
      " 15  payment_type_AC                          200000 non-null  float64\n",
      " 16  payment_type_AD                          200000 non-null  float64\n",
      " 17  payment_type_AE                          200000 non-null  float64\n",
      " 18  employment_status_CA                     200000 non-null  float64\n",
      " 19  employment_status_CB                     200000 non-null  float64\n",
      " 20  employment_status_CC                     200000 non-null  float64\n",
      " 21  employment_status_CD                     200000 non-null  float64\n",
      " 22  employment_status_CE                     200000 non-null  float64\n",
      " 23  employment_status_CF                     200000 non-null  float64\n",
      " 24  employment_status_CG                     200000 non-null  float64\n",
      " 25  housing_status_BA                        200000 non-null  float64\n",
      " 26  housing_status_BB                        200000 non-null  float64\n",
      " 27  housing_status_BC                        200000 non-null  float64\n",
      " 28  housing_status_BD                        200000 non-null  float64\n",
      " 29  housing_status_BE                        200000 non-null  float64\n",
      " 30  housing_status_BF                        200000 non-null  float64\n",
      " 31  housing_status_BG                        200000 non-null  float64\n",
      " 32  source_INTERNET                          200000 non-null  float64\n",
      " 33  source_TELEAPP                           200000 non-null  float64\n",
      " 34  device_os_linux                          200000 non-null  float64\n",
      " 35  device_os_macintosh                      200000 non-null  float64\n",
      " 36  device_os_other                          200000 non-null  float64\n",
      " 37  device_os_windows                        200000 non-null  float64\n",
      " 38  device_os_x11                            200000 non-null  float64\n",
      " 39  bank_months_count_binned                 200000 non-null  float64\n",
      " 40  scaled_name_email_similarity             200000 non-null  float64\n",
      " 41  scaled_prev_address_months_count         200000 non-null  float64\n",
      " 42  scaled_current_address_months_count      200000 non-null  float64\n",
      " 43  scaled_days_since_request                200000 non-null  float64\n",
      " 44  scaled_intended_balcon_amount            200000 non-null  float64\n",
      " 45  scaled_zip_count_4w                      200000 non-null  float64\n",
      " 46  scaled_velocity_6h                       200000 non-null  float64\n",
      " 47  scaled_velocity_24h                      200000 non-null  float64\n",
      " 48  scaled_velocity_4w                       200000 non-null  float64\n",
      " 49  scaled_bank_branch_count_8w              200000 non-null  float64\n",
      " 50  scaled_date_of_birth_distinct_emails_4w  200000 non-null  float64\n",
      " 51  scaled_credit_risk_score                 200000 non-null  float64\n",
      " 52  scaled_session_length_in_minutes         200000 non-null  float64\n",
      "dtypes: float64(43), int64(10)\n",
      "memory usage: 82.4 MB\n"
     ]
    }
   ],
   "source": [
    "X_test[bool_features] = X_test[bool_features].astype(\"int\")\n",
    "X_test.info()"
   ]
  },
  {
   "cell_type": "code",
   "execution_count": 70,
   "id": "e0f4695a-210f-4ffc-a2f6-42857e1f1630",
   "metadata": {
    "scrolled": true
   },
   "outputs": [
    {
     "name": "stdout",
     "output_type": "stream",
     "text": [
      "<class 'pandas.core.series.Series'>\n",
      "Index: 200000 entries, 987231 to 390499\n",
      "Series name: fraud_bool\n",
      "Non-Null Count   Dtype\n",
      "--------------   -----\n",
      "200000 non-null  int64\n",
      "dtypes: int64(1)\n",
      "memory usage: 3.1 MB\n"
     ]
    }
   ],
   "source": [
    "y_test = y_test.astype(\"int\")\n",
    "y_test.info()"
   ]
  },
  {
   "cell_type": "code",
   "execution_count": 64,
   "id": "e4a01c62-56e3-4f7a-a9f7-03a72431a3d4",
   "metadata": {},
   "outputs": [
    {
     "data": {
      "text/plain": [
       "(1265728,)"
      ]
     },
     "execution_count": 64,
     "metadata": {},
     "output_type": "execute_result"
    }
   ],
   "source": [
    "y_train.shape"
   ]
  },
  {
   "cell_type": "code",
   "execution_count": 65,
   "id": "8dc1ac00-9c1a-4e86-a278-1122e27708a0",
   "metadata": {},
   "outputs": [
    {
     "data": {
      "text/plain": [
       "(1265728, 53)"
      ]
     },
     "execution_count": 65,
     "metadata": {},
     "output_type": "execute_result"
    }
   ],
   "source": [
    "X_train.shape"
   ]
  },
  {
   "cell_type": "code",
   "execution_count": 71,
   "id": "5192bb40-b9d4-4a9f-8c6b-41a97d2fc820",
   "metadata": {},
   "outputs": [
    {
     "data": {
      "text/plain": [
       "(200000, 53)"
      ]
     },
     "execution_count": 71,
     "metadata": {},
     "output_type": "execute_result"
    }
   ],
   "source": [
    "X_test.shape"
   ]
  },
  {
   "cell_type": "code",
   "execution_count": 72,
   "id": "83a89c65-9da4-4e79-81a2-e5e4fbd9f2d6",
   "metadata": {},
   "outputs": [
    {
     "data": {
      "text/plain": [
       "(200000,)"
      ]
     },
     "execution_count": 72,
     "metadata": {},
     "output_type": "execute_result"
    }
   ],
   "source": [
    "y_test.shape"
   ]
  },
  {
   "cell_type": "code",
   "execution_count": 130,
   "id": "31b39bf3-6d83-4836-bd90-99add573172a",
   "metadata": {},
   "outputs": [],
   "source": [
    "X_train.to_csv(\"../data/x_train_data.csv\", index=True)\n",
    "X_test.to_csv(\"../data/x_test_data.csv\")\n",
    "\n",
    "y_train.to_csv(\"../data/y_train_data.csv\")\n",
    "y_test.to_csv(\"../data/y_test_data.csv\")"
   ]
  }
 ],
 "metadata": {
  "kernelspec": {
   "display_name": "Python 3 (ipykernel)",
   "language": "python",
   "name": "python3"
  },
  "language_info": {
   "codemirror_mode": {
    "name": "ipython",
    "version": 3
   },
   "file_extension": ".py",
   "mimetype": "text/x-python",
   "name": "python",
   "nbconvert_exporter": "python",
   "pygments_lexer": "ipython3",
   "version": "3.11.10"
  }
 },
 "nbformat": 4,
 "nbformat_minor": 5
}
