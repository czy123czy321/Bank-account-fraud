{
 "cells": [
  {
   "cell_type": "code",
   "execution_count": 1,
   "id": "b80c5648-0c00-467c-b639-c5e68298d374",
   "metadata": {},
   "outputs": [
    {
     "data": {
      "text/plain": [
       "{'data_location': '/Users/zoe/Documents/Bank-account-fraud/data',\n",
       " 'output_location': '/Users/zoe/Documents/Bank-account-fraud/output'}"
      ]
     },
     "execution_count": 1,
     "metadata": {},
     "output_type": "execute_result"
    }
   ],
   "source": [
    "import yaml\n",
    "with open (\"/Users/zoe/Documents/Bank-account-fraud/params.yaml\") as p:\n",
    "    params = yaml.safe_load(p)\n",
    "params"
   ]
  },
  {
   "cell_type": "code",
   "execution_count": 2,
   "id": "25e8de4b-a7f1-4f4f-9e6c-8299a2a4840c",
   "metadata": {},
   "outputs": [],
   "source": [
    "import pandas as pd\n",
    "import numpy as np\n",
    "pd.set_option('display.max_columns', 500)\n",
    "import warnings as wr\n",
    "wr.filterwarnings('ignore')\n",
    "\n",
    "import matplotlib.pyplot as plt\n",
    "import seaborn as sns"
   ]
  },
  {
   "cell_type": "code",
   "execution_count": 3,
   "id": "d4b5edcc-38a5-49b0-87a5-42d352bf158b",
   "metadata": {},
   "outputs": [],
   "source": [
    "X_train = pd.read_csv(f\"{params['data_location']}/x_train_data.csv\", index_col=0)\n",
    "y_train = pd.read_csv(f\"{params['data_location']}/y_train_data.csv\", index_col=0)\n",
    "X_test = pd.read_csv(f\"{params['data_location']}/x_test_data.csv\", index_col=0)\n",
    "y_test = pd.read_csv(f\"{params['data_location']}/y_test_data.csv\", index_col=0)"
   ]
  },
  {
   "cell_type": "code",
   "execution_count": 40,
   "id": "8ebad10f-6f54-41fe-b446-c885f227a3b3",
   "metadata": {},
   "outputs": [],
   "source": [
    "import xgboost as xgb\n",
    "from xgboost import XGBClassifier"
   ]
  },
  {
   "cell_type": "markdown",
   "id": "0155834e-bfc6-4bfc-9759-f4ece3975ff4",
   "metadata": {},
   "source": [
    "# Baseline model"
   ]
  },
  {
   "cell_type": "code",
   "execution_count": 5,
   "id": "5d367c4d-0036-4eaf-84fa-9968967a8f15",
   "metadata": {},
   "outputs": [],
   "source": [
    "# imbalaned dataset with low percentage of positive cases\n",
    "# use AUC as the measuring metrics\n",
    "# assume it's more costly to have higher FN(misclassified fraud cases as not fraud) than higher FP (false alarm for not fraud as fraud)."
   ]
  },
  {
   "cell_type": "code",
   "execution_count": 6,
   "id": "accdd6cc-72a9-4c80-b92b-2520b3a80b76",
   "metadata": {},
   "outputs": [],
   "source": [
    "from sklearn.metrics import roc_auc_score, confusion_matrix, roc_curve\n",
    "\n",
    "def baseline_model_score(X, y, model):\n",
    "    \"\"\"\n",
    "    Function to compute the AUC of the baseline model and compare FN and FP costs.\n",
    "    \n",
    "    Parameters:\n",
    "        X: DataFrame with the training features\n",
    "        y: Series with the true labels (fraud_bool)\n",
    "        model: The model to be evaluated (must have a 'predict_proba' method)\n",
    "        \n",
    "    Returns:\n",
    "        auc_score: AUC score of the model\n",
    "        fn_cost: The number of false negatives for the given model\n",
    "        fp_cost: The number of false positives for the given model\n",
    "    \"\"\"\n",
    "    for colname in X.select_dtypes([\"category\", \"object\"]):\n",
    "        X[colname], _ = X[colname].factorize()\n",
    "        \n",
    "    model.fit(X, y)\n",
    "    \n",
    "    # Predict probabilities of the positive class (fraud) using the model\n",
    "    probs = model.predict_proba(X)[:, 1]\n",
    "    \n",
    "    # AUC score\n",
    "    auc_score = roc_auc_score(y, probs)\n",
    "    \n",
    "    # y_pred = 1 if probs >=0.5, y_pred = 0 if prob < 0.5\n",
    "    y_pred = (probs >= 0.5).astype(int)\n",
    "    \n",
    "    # Confusion matrix\n",
    "    tn, fp, fn, tp = confusion_matrix(y, y_pred).ravel()\n",
    "    cm = confusion_matrix(y, y_pred)\n",
    "    \n",
    "    # ROC curve data\n",
    "    fpr, tpr, thresholds = roc_curve(y, probs)\n",
    "    \n",
    "    # Print performance metrics\n",
    "    print(f\"AUC: {auc_score:.4f}\")\n",
    "    print(f\"Recall (TPR): {tp / (tp + fn):.4f}\")\n",
    "    print(f\"False Positive Rate (FPR): {fp / (fp + tn):.4f}\")\n",
    "    \n",
    "    return auc_score, fpr, tpr, y_pred, cm"
   ]
  },
  {
   "cell_type": "code",
   "execution_count": 19,
   "id": "140b65b3-59e1-4a98-8b6c-4a95f482960a",
   "metadata": {},
   "outputs": [
    {
     "name": "stdout",
     "output_type": "stream",
     "text": [
      "AUC: 0.9537\n",
      "Recall (TPR): 0.1011\n",
      "False Positive Rate (FPR): 0.0002\n"
     ]
    },
    {
     "data": {
      "image/png": "[encoded data removed]",
      "text/plain": [
       "<Figure size 800x600 with 1 Axes>"
      ]
     },
     "metadata": {},
     "output_type": "display_data"
    }
   ],
   "source": [
    "model = XGBClassifier()\n",
    "auc_score, fpr, tpr, y_pred, cm = baseline_model_score(X_train, y_train, model=model)\n",
    "\n",
    "# Plot confusion matrix\n",
    "plt.figure(figsize=(8, 6))\n",
    "sns.heatmap(cm, annot=True, fmt='d', cmap='Blues', cbar=False, xticklabels=['Not Fraud', 'Fraud'], yticklabels=['Not Fraud', 'Fraud'])\n",
    "plt.xlabel('Predicted')\n",
    "plt.ylabel('Actual')\n",
    "plt.title('Confusion Matrix')\n",
    "plt.show()"
   ]
  },
  {
   "cell_type": "markdown",
   "id": "5ca780fe-1d05-4fbc-91a9-a14c361632a5",
   "metadata": {},
   "source": [
    "how is the true negative different from the one's that are not captured as fraud;\n",
    "exmaine the true negatives and go back to the features to alter the figure\n",
    "and let the model learn from new features "
   ]
  },
  {
   "cell_type": "markdown",
   "id": "4a78b877-fa50-4aeb-a64b-dd6491558bbf",
   "metadata": {},
   "source": [
    "# Cross validation"
   ]
  },
  {
   "cell_type": "code",
   "execution_count": 82,
   "id": "89823f20-65b0-4c6d-ba26-a795a0ef5164",
   "metadata": {},
   "outputs": [],
   "source": [
    "dtrain = xgb.DMatrix(X_train, label=y_train)\n",
    "dtest = xgb.DMatrix(X_test, label=y_test)"
   ]
  },
  {
   "cell_type": "code",
   "execution_count": 68,
   "id": "329c1a99-5bed-40c9-856b-9db152a72e55",
   "metadata": {},
   "outputs": [],
   "source": [
    "model = XGBClassifier()\n",
    "parameters = {\n",
    "    # 'max_depth': 4,\n",
    "    #           'eta':0.4,\n",
    "    #           'gamma': 0.2, \n",
    "    #           'objective':'binary:logistic',\n",
    "    #           'eval_metric': 'auc',\n",
    "    #           'min_child_weight': 1\n",
    "             }"
   ]
  },
  {
   "cell_type": "code",
   "execution_count": 69,
   "id": "1a901841-b089-4fa7-affa-4294629e69e5",
   "metadata": {},
   "outputs": [
    {
     "name": "stdout",
     "output_type": "stream",
     "text": [
      "[0]\ttrain-auc:0.82805+0.00085\ttest-auc:0.82369+0.00515\n",
      "[1]\ttrain-auc:0.85139+0.00199\ttest-auc:0.84421+0.00399\n",
      "[2]\ttrain-auc:0.85789+0.00092\ttest-auc:0.84987+0.00505\n",
      "[3]\ttrain-auc:0.86552+0.00100\ttest-auc:0.85636+0.00534\n",
      "[4]\ttrain-auc:0.87017+0.00106\ttest-auc:0.86107+0.00674\n",
      "[5]\ttrain-auc:0.87443+0.00110\ttest-auc:0.86512+0.00650\n",
      "[6]\ttrain-auc:0.87779+0.00100\ttest-auc:0.86748+0.00634\n",
      "[7]\ttrain-auc:0.88081+0.00109\ttest-auc:0.86924+0.00594\n",
      "[8]\ttrain-auc:0.88367+0.00103\ttest-auc:0.87105+0.00616\n",
      "[9]\ttrain-auc:0.88581+0.00108\ttest-auc:0.87277+0.00624\n",
      "[10]\ttrain-auc:0.88775+0.00078\ttest-auc:0.87356+0.00641\n",
      "[11]\ttrain-auc:0.88957+0.00089\ttest-auc:0.87438+0.00641\n",
      "[12]\ttrain-auc:0.89117+0.00092\ttest-auc:0.87537+0.00619\n",
      "[13]\ttrain-auc:0.89251+0.00094\ttest-auc:0.87608+0.00616\n",
      "[14]\ttrain-auc:0.89376+0.00087\ttest-auc:0.87634+0.00623\n",
      "[15]\ttrain-auc:0.89506+0.00094\ttest-auc:0.87688+0.00613\n",
      "[16]\ttrain-auc:0.89621+0.00094\ttest-auc:0.87738+0.00591\n",
      "[17]\ttrain-auc:0.89740+0.00089\ttest-auc:0.87801+0.00544\n",
      "[18]\ttrain-auc:0.89834+0.00093\ttest-auc:0.87819+0.00574\n",
      "[19]\ttrain-auc:0.89927+0.00098\ttest-auc:0.87824+0.00528\n",
      "[20]\ttrain-auc:0.90019+0.00082\ttest-auc:0.87846+0.00540\n",
      "[21]\ttrain-auc:0.90109+0.00094\ttest-auc:0.87845+0.00540\n",
      "[22]\ttrain-auc:0.90189+0.00099\ttest-auc:0.87858+0.00579\n",
      "[23]\ttrain-auc:0.90261+0.00087\ttest-auc:0.87847+0.00547\n",
      "[24]\ttrain-auc:0.90327+0.00086\ttest-auc:0.87860+0.00551\n",
      "[25]\ttrain-auc:0.90398+0.00083\ttest-auc:0.87862+0.00535\n",
      "[26]\ttrain-auc:0.90457+0.00087\ttest-auc:0.87885+0.00544\n",
      "[27]\ttrain-auc:0.90512+0.00080\ttest-auc:0.87860+0.00519\n",
      "[28]\ttrain-auc:0.90572+0.00079\ttest-auc:0.87844+0.00534\n",
      "[29]\ttrain-auc:0.90635+0.00081\ttest-auc:0.87823+0.00516\n",
      "[30]\ttrain-auc:0.90677+0.00086\ttest-auc:0.87823+0.00530\n"
     ]
    }
   ],
   "source": [
    "# Specify cross-validation parameters\n",
    "num_boost_round = 1000\n",
    "n_folds = 10\n",
    "early_stopping_rounds = 5\n",
    "\n",
    "cv_results = xgb.cv(\n",
    "    params=parameters,\n",
    "    dtrain=dtrain,\n",
    "    num_boost_round=num_boost_round,\n",
    "    nfold=n_folds,\n",
    "    metrics='auc',\n",
    "    early_stopping_rounds=early_stopping_rounds,\n",
    "    seed=42,\n",
    "    verbose_eval=True,\n",
    ")"
   ]
  },
  {
   "cell_type": "code",
   "execution_count": 70,
   "id": "1a001f1f-d355-4eb5-81c2-4ddfc48f198c",
   "metadata": {},
   "outputs": [
    {
     "name": "stdout",
     "output_type": "stream",
     "text": [
      "Optimal number of boosting rounds: 27\n",
      "Best CV AUC: 0.8789\n"
     ]
    }
   ],
   "source": [
    "optimal_num_rounds = len(cv_results)\n",
    "print(f\"Optimal number of boosting rounds: {optimal_num_rounds}\")\n",
    "\n",
    "best_auc = cv_results['test-auc-mean'].max()\n",
    "print(f\"Best CV AUC: {best_auc:.4f}\")"
   ]
  },
  {
   "cell_type": "code",
   "execution_count": 71,
   "id": "947a64eb-c3bc-4b1a-b244-439fd37fc611",
   "metadata": {
    "scrolled": true
   },
   "outputs": [
    {
     "name": "stdout",
     "output_type": "stream",
     "text": [
      "    train-auc-mean  train-auc-std  test-auc-mean  test-auc-std\n",
      "0         0.828047       0.000850       0.823690      0.005148\n",
      "1         0.851392       0.001988       0.844211      0.003991\n",
      "2         0.857890       0.000919       0.849869      0.005050\n",
      "3         0.865522       0.000996       0.856356      0.005335\n",
      "4         0.870169       0.001058       0.861074      0.006743\n",
      "5         0.874427       0.001104       0.865123      0.006502\n",
      "6         0.877790       0.001000       0.867480      0.006338\n",
      "7         0.880811       0.001090       0.869242      0.005944\n",
      "8         0.883670       0.001032       0.871052      0.006159\n",
      "9         0.885810       0.001078       0.872773      0.006239\n",
      "10        0.887747       0.000777       0.873559      0.006408\n",
      "11        0.889565       0.000888       0.874383      0.006407\n",
      "12        0.891167       0.000923       0.875366      0.006187\n",
      "13        0.892515       0.000935       0.876081      0.006158\n",
      "14        0.893764       0.000866       0.876343      0.006230\n",
      "15        0.895055       0.000942       0.876877      0.006134\n",
      "16        0.896214       0.000941       0.877381      0.005912\n",
      "17        0.897405       0.000889       0.878008      0.005436\n",
      "18        0.898336       0.000933       0.878191      0.005745\n",
      "19        0.899272       0.000976       0.878244      0.005276\n",
      "20        0.900186       0.000819       0.878457      0.005400\n",
      "21        0.901086       0.000940       0.878453      0.005397\n",
      "22        0.901894       0.000994       0.878577      0.005786\n",
      "23        0.902612       0.000867       0.878473      0.005465\n",
      "24        0.903265       0.000858       0.878595      0.005507\n",
      "25        0.903976       0.000826       0.878624      0.005349\n",
      "26        0.904573       0.000875       0.878852      0.005435\n"
     ]
    }
   ],
   "source": [
    "print(cv_results)"
   ]
  },
  {
   "cell_type": "code",
   "execution_count": 73,
   "id": "fcd923b0-b170-4a85-9733-98e9b696b5bb",
   "metadata": {
    "scrolled": true
   },
   "outputs": [
    {
     "data": {
      "text/plain": [
       "{'objective': 'binary:logistic',\n",
       " 'base_score': None,\n",
       " 'booster': None,\n",
       " 'callbacks': None,\n",
       " 'colsample_bylevel': None,\n",
       " 'colsample_bynode': None,\n",
       " 'colsample_bytree': None,\n",
       " 'device': None,\n",
       " 'early_stopping_rounds': None,\n",
       " 'enable_categorical': False,\n",
       " 'eval_metric': 'auc',\n",
       " 'feature_types': None,\n",
       " 'gamma': 0.2,\n",
       " 'grow_policy': None,\n",
       " 'importance_type': None,\n",
       " 'interaction_constraints': None,\n",
       " 'learning_rate': None,\n",
       " 'max_bin': None,\n",
       " 'max_cat_threshold': None,\n",
       " 'max_cat_to_onehot': None,\n",
       " 'max_delta_step': None,\n",
       " 'max_depth': 4,\n",
       " 'max_leaves': None,\n",
       " 'min_child_weight': 1,\n",
       " 'missing': nan,\n",
       " 'monotone_constraints': None,\n",
       " 'multi_strategy': None,\n",
       " 'n_estimators': 27,\n",
       " 'n_jobs': None,\n",
       " 'num_parallel_tree': None,\n",
       " 'random_state': None,\n",
       " 'reg_alpha': None,\n",
       " 'reg_lambda': None,\n",
       " 'sampling_method': None,\n",
       " 'scale_pos_weight': None,\n",
       " 'subsample': None,\n",
       " 'tree_method': None,\n",
       " 'validate_parameters': None,\n",
       " 'verbosity': None,\n",
       " 'eta': 0.4}"
      ]
     },
     "execution_count": 73,
     "metadata": {},
     "output_type": "execute_result"
    }
   ],
   "source": [
    "parameters['n_estimators'] = optimal_num_rounds\n",
    "parameters = {\n",
    "    'max_depth': 4,\n",
    "              'eta':0.4,\n",
    "              'gamma': 0.2, \n",
    "              'objective':'binary:logistic',\n",
    "              'eval_metric': 'auc',\n",
    "              'min_child_weight': 1\n",
    "             }\n",
    "# Train the model with the updated parameters\n",
    "model.set_params(**parameters)\n",
    "model.get_params()"
   ]
  },
  {
   "cell_type": "code",
   "execution_count": 75,
   "id": "7d18f284-b821-4230-9766-df8b5bb38acd",
   "metadata": {
    "scrolled": true
   },
   "outputs": [
    {
     "name": "stdout",
     "output_type": "stream",
     "text": [
      "[0]\ttrain-auc:0.79393+0.00214\ttest-auc:0.79302+0.00613\n",
      "[1]\ttrain-auc:0.80894+0.00597\ttest-auc:0.80656+0.00924\n",
      "[2]\ttrain-auc:0.82354+0.00293\ttest-auc:0.82076+0.00538\n",
      "[3]\ttrain-auc:0.82851+0.00316\ttest-auc:0.82471+0.00453\n",
      "[4]\ttrain-auc:0.83577+0.00163\ttest-auc:0.83254+0.00593\n",
      "[5]\ttrain-auc:0.83969+0.00132\ttest-auc:0.83681+0.00592\n",
      "[6]\ttrain-auc:0.84333+0.00133\ttest-auc:0.84124+0.00646\n",
      "[7]\ttrain-auc:0.85468+0.00171\ttest-auc:0.85125+0.00580\n",
      "[8]\ttrain-auc:0.86232+0.00162\ttest-auc:0.85767+0.00628\n",
      "[9]\ttrain-auc:0.86814+0.00140\ttest-auc:0.86287+0.00559\n",
      "[10]\ttrain-auc:0.87351+0.00113\ttest-auc:0.86868+0.00509\n",
      "[11]\ttrain-auc:0.87766+0.00098\ttest-auc:0.87233+0.00534\n",
      "[12]\ttrain-auc:0.88114+0.00076\ttest-auc:0.87532+0.00527\n",
      "[13]\ttrain-auc:0.88404+0.00073\ttest-auc:0.87801+0.00530\n",
      "[14]\ttrain-auc:0.88648+0.00068\ttest-auc:0.88017+0.00530\n",
      "[15]\ttrain-auc:0.88872+0.00052\ttest-auc:0.88205+0.00538\n",
      "[16]\ttrain-auc:0.89067+0.00052\ttest-auc:0.88356+0.00529\n",
      "[17]\ttrain-auc:0.89223+0.00046\ttest-auc:0.88476+0.00520\n",
      "[18]\ttrain-auc:0.89372+0.00048\ttest-auc:0.88573+0.00520\n",
      "[19]\ttrain-auc:0.89514+0.00049\ttest-auc:0.88639+0.00541\n",
      "[20]\ttrain-auc:0.89627+0.00048\ttest-auc:0.88689+0.00552\n",
      "[21]\ttrain-auc:0.89746+0.00060\ttest-auc:0.88786+0.00548\n",
      "[22]\ttrain-auc:0.89851+0.00055\ttest-auc:0.88834+0.00544\n",
      "[23]\ttrain-auc:0.89942+0.00045\ttest-auc:0.88874+0.00547\n",
      "[24]\ttrain-auc:0.90031+0.00054\ttest-auc:0.88952+0.00533\n",
      "[25]\ttrain-auc:0.90117+0.00058\ttest-auc:0.88990+0.00539\n",
      "[26]\ttrain-auc:0.90203+0.00063\ttest-auc:0.89020+0.00535\n",
      "[27]\ttrain-auc:0.90268+0.00059\ttest-auc:0.89053+0.00539\n",
      "[28]\ttrain-auc:0.90333+0.00060\ttest-auc:0.89075+0.00532\n",
      "[29]\ttrain-auc:0.90392+0.00061\ttest-auc:0.89096+0.00510\n",
      "[30]\ttrain-auc:0.90453+0.00055\ttest-auc:0.89125+0.00522\n",
      "[31]\ttrain-auc:0.90507+0.00051\ttest-auc:0.89165+0.00516\n",
      "[32]\ttrain-auc:0.90565+0.00050\ttest-auc:0.89193+0.00521\n",
      "[33]\ttrain-auc:0.90621+0.00045\ttest-auc:0.89211+0.00518\n",
      "[34]\ttrain-auc:0.90667+0.00045\ttest-auc:0.89230+0.00522\n",
      "[35]\ttrain-auc:0.90714+0.00048\ttest-auc:0.89242+0.00511\n",
      "[36]\ttrain-auc:0.90758+0.00049\ttest-auc:0.89262+0.00496\n",
      "[37]\ttrain-auc:0.90801+0.00051\ttest-auc:0.89262+0.00498\n",
      "[38]\ttrain-auc:0.90844+0.00051\ttest-auc:0.89270+0.00491\n",
      "[39]\ttrain-auc:0.90884+0.00054\ttest-auc:0.89284+0.00482\n",
      "[40]\ttrain-auc:0.90928+0.00060\ttest-auc:0.89287+0.00466\n",
      "[41]\ttrain-auc:0.90965+0.00061\ttest-auc:0.89300+0.00463\n",
      "[42]\ttrain-auc:0.91006+0.00059\ttest-auc:0.89305+0.00469\n",
      "[43]\ttrain-auc:0.91046+0.00058\ttest-auc:0.89303+0.00460\n",
      "[44]\ttrain-auc:0.91084+0.00064\ttest-auc:0.89303+0.00458\n",
      "[45]\ttrain-auc:0.91123+0.00060\ttest-auc:0.89314+0.00449\n",
      "[46]\ttrain-auc:0.91158+0.00058\ttest-auc:0.89315+0.00451\n",
      "[47]\ttrain-auc:0.91196+0.00057\ttest-auc:0.89324+0.00453\n",
      "[48]\ttrain-auc:0.91231+0.00061\ttest-auc:0.89318+0.00449\n",
      "[49]\ttrain-auc:0.91264+0.00060\ttest-auc:0.89314+0.00457\n",
      "[50]\ttrain-auc:0.91299+0.00061\ttest-auc:0.89317+0.00458\n",
      "[51]\ttrain-auc:0.91333+0.00057\ttest-auc:0.89321+0.00456\n",
      "[52]\ttrain-auc:0.91368+0.00054\ttest-auc:0.89309+0.00465\n"
     ]
    }
   ],
   "source": [
    "num_boost_round_test = 100\n",
    "n_folds = 10\n",
    "early_stopping_rounds = 5\n",
    "\n",
    "cv_results_test = xgb.cv(\n",
    "    params=parameters,\n",
    "    dtrain=dtrain,\n",
    "    num_boost_round=num_boost_round_test,\n",
    "    nfold=n_folds,\n",
    "    metrics='auc',\n",
    "    early_stopping_rounds=early_stopping_rounds,\n",
    "    seed=42,\n",
    "    verbose_eval=True,\n",
    ")"
   ]
  },
  {
   "cell_type": "code",
   "execution_count": 76,
   "id": "b6b8d11e-9422-4cb8-a8ec-26b0cd05760c",
   "metadata": {},
   "outputs": [
    {
     "name": "stdout",
     "output_type": "stream",
     "text": [
      "Optimal number of boosting rounds: 48\n",
      "Best CV AUC: 0.8932\n"
     ]
    }
   ],
   "source": [
    "optimal_num_rounds = len(cv_results_test)\n",
    "print(f\"Optimal number of boosting rounds: {optimal_num_rounds}\")\n",
    "\n",
    "best_auc = cv_results_test['test-auc-mean'].max()\n",
    "print(f\"Best CV AUC: {best_auc:.4f}\")"
   ]
  },
  {
   "cell_type": "code",
   "execution_count": 85,
   "id": "3a71cb1d-84d0-4e63-b212-4a52048624cc",
   "metadata": {
    "scrolled": true
   },
   "outputs": [
    {
     "name": "stdout",
     "output_type": "stream",
     "text": [
      "[0]\ttraining-auc:0.79313\ttesting-auc:0.79219\n",
      "[1]\ttraining-auc:0.81668\ttesting-auc:0.81307\n",
      "[2]\ttraining-auc:0.82261\ttesting-auc:0.81876\n",
      "[3]\ttraining-auc:0.82989\ttesting-auc:0.82600\n",
      "[4]\ttraining-auc:0.83795\ttesting-auc:0.83377\n",
      "[5]\ttraining-auc:0.84060\ttesting-auc:0.83654\n",
      "[6]\ttraining-auc:0.84397\ttesting-auc:0.84132\n",
      "[7]\ttraining-auc:0.85367\ttesting-auc:0.85071\n",
      "[8]\ttraining-auc:0.85922\ttesting-auc:0.85721\n",
      "[9]\ttraining-auc:0.86798\ttesting-auc:0.86507\n",
      "[10]\ttraining-auc:0.87313\ttesting-auc:0.87092\n",
      "[11]\ttraining-auc:0.87602\ttesting-auc:0.87354\n",
      "[12]\ttraining-auc:0.87903\ttesting-auc:0.87530\n",
      "[13]\ttraining-auc:0.88243\ttesting-auc:0.87778\n",
      "[14]\ttraining-auc:0.88549\ttesting-auc:0.88052\n",
      "[15]\ttraining-auc:0.88746\ttesting-auc:0.88175\n",
      "[16]\ttraining-auc:0.88963\ttesting-auc:0.88306\n",
      "[17]\ttraining-auc:0.89137\ttesting-auc:0.88465\n",
      "[18]\ttraining-auc:0.89240\ttesting-auc:0.88536\n",
      "[19]\ttraining-auc:0.89353\ttesting-auc:0.88592\n",
      "[20]\ttraining-auc:0.89523\ttesting-auc:0.88812\n",
      "[21]\ttraining-auc:0.89660\ttesting-auc:0.88913\n",
      "[22]\ttraining-auc:0.89758\ttesting-auc:0.89004\n",
      "[23]\ttraining-auc:0.89856\ttesting-auc:0.89088\n",
      "[24]\ttraining-auc:0.89952\ttesting-auc:0.89138\n",
      "[25]\ttraining-auc:0.90058\ttesting-auc:0.89177\n",
      "[26]\ttraining-auc:0.90131\ttesting-auc:0.89223\n",
      "[27]\ttraining-auc:0.90185\ttesting-auc:0.89266\n",
      "[28]\ttraining-auc:0.90266\ttesting-auc:0.89300\n",
      "[29]\ttraining-auc:0.90315\ttesting-auc:0.89381\n",
      "[30]\ttraining-auc:0.90376\ttesting-auc:0.89435\n",
      "[31]\ttraining-auc:0.90419\ttesting-auc:0.89446\n",
      "[32]\ttraining-auc:0.90484\ttesting-auc:0.89478\n",
      "[33]\ttraining-auc:0.90540\ttesting-auc:0.89505\n",
      "[34]\ttraining-auc:0.90589\ttesting-auc:0.89524\n",
      "[35]\ttraining-auc:0.90638\ttesting-auc:0.89547\n",
      "[36]\ttraining-auc:0.90665\ttesting-auc:0.89566\n",
      "[37]\ttraining-auc:0.90704\ttesting-auc:0.89551\n",
      "[38]\ttraining-auc:0.90754\ttesting-auc:0.89586\n",
      "[39]\ttraining-auc:0.90788\ttesting-auc:0.89580\n",
      "[40]\ttraining-auc:0.90829\ttesting-auc:0.89600\n",
      "[41]\ttraining-auc:0.90874\ttesting-auc:0.89619\n",
      "[42]\ttraining-auc:0.90903\ttesting-auc:0.89633\n",
      "[43]\ttraining-auc:0.90937\ttesting-auc:0.89660\n",
      "[44]\ttraining-auc:0.90977\ttesting-auc:0.89649\n",
      "[45]\ttraining-auc:0.90995\ttesting-auc:0.89660\n",
      "[46]\ttraining-auc:0.91029\ttesting-auc:0.89679\n",
      "[47]\ttraining-auc:0.91061\ttesting-auc:0.89693\n",
      "[48]\ttraining-auc:0.91086\ttesting-auc:0.89703\n",
      "[49]\ttraining-auc:0.91123\ttesting-auc:0.89710\n",
      "[50]\ttraining-auc:0.91171\ttesting-auc:0.89710\n",
      "[51]\ttraining-auc:0.91218\ttesting-auc:0.89702\n",
      "[52]\ttraining-auc:0.91236\ttesting-auc:0.89698\n",
      "[53]\ttraining-auc:0.91267\ttesting-auc:0.89709\n",
      "[54]\ttraining-auc:0.91295\ttesting-auc:0.89695\n",
      "[55]\ttraining-auc:0.91330\ttesting-auc:0.89713\n",
      "[56]\ttraining-auc:0.91359\ttesting-auc:0.89710\n",
      "[57]\ttraining-auc:0.91384\ttesting-auc:0.89702\n",
      "[58]\ttraining-auc:0.91412\ttesting-auc:0.89703\n",
      "[59]\ttraining-auc:0.91435\ttesting-auc:0.89716\n",
      "[60]\ttraining-auc:0.91460\ttesting-auc:0.89724\n",
      "[61]\ttraining-auc:0.91490\ttesting-auc:0.89738\n",
      "[62]\ttraining-auc:0.91512\ttesting-auc:0.89746\n",
      "[63]\ttraining-auc:0.91552\ttesting-auc:0.89720\n",
      "[64]\ttraining-auc:0.91580\ttesting-auc:0.89709\n",
      "[65]\ttraining-auc:0.91592\ttesting-auc:0.89698\n",
      "[66]\ttraining-auc:0.91624\ttesting-auc:0.89682\n"
     ]
    }
   ],
   "source": [
    "final_model_test = xgb.train(\n",
    "    params=parameters,\n",
    "    dtrain=dtrain,\n",
    "    num_boost_round=100,\n",
    "    early_stopping_rounds=5,\n",
    "    evals=[(dtrain, 'training'), (dtest, 'testing')],\n",
    "    maximize=True,\n",
    "    verbose_eval=True\n",
    ")"
   ]
  },
  {
   "cell_type": "code",
   "execution_count": 91,
   "id": "47abbc09-c480-4f4d-b0ae-13993a352d08",
   "metadata": {},
   "outputs": [
    {
     "data": {
      "text/plain": [
       "{'best_iteration': '62', 'best_score': '0.897458107790271'}"
      ]
     },
     "execution_count": 91,
     "metadata": {},
     "output_type": "execute_result"
    }
   ],
   "source": [
    "final_model_test.attributes()"
   ]
  },
  {
   "cell_type": "markdown",
   "id": "54d21f16-e16c-409f-8995-100b304fc96d",
   "metadata": {},
   "source": [
    "# Hyperparameter tuning random search"
   ]
  },
  {
   "cell_type": "code",
   "execution_count": 42,
   "id": "e931e62f-abc2-4b1f-aee7-03976dfc9294",
   "metadata": {},
   "outputs": [],
   "source": [
    "dtrain = xgb.DMatrix(X_train, label=y_train)\n",
    "dtest = xgb.DMatrix(X_test, label=y_test)"
   ]
  },
  {
   "cell_type": "code",
   "execution_count": 77,
   "id": "24f74596-aeae-463f-9942-73eeb6573272",
   "metadata": {},
   "outputs": [],
   "source": [
    "def fit_xgb_binary(xgb_train, xgb_test, iterations=1):\n",
    "    \"\"\"\n",
    "    Train a binary classification model using XGBoost with randomized hyperparameter search.\n",
    "\n",
    "    Parameters:\n",
    "        xgb_train: XGBoost DMatrix for training\n",
    "        xgb_test: XGBoost DMatrix for testing\n",
    "        iterations: number of iterations for hyperparameter tuning\n",
    "\n",
    "    Returns:\n",
    "        Trained XGBoost model\n",
    "    \"\"\"\n",
    "    best_auc = 0\n",
    "    best_params = {}\n",
    "\n",
    "    for _ in range(iterations):\n",
    "        # Random hyperparameters for this iteration\n",
    "        hparams = {\n",
    "            'eta': np.random.uniform(0.01, 0.6),\n",
    "            'lambda': np.random.uniform(0.01, 0.2),\n",
    "            'alpha': np.random.uniform(0.01, 0.2),\n",
    "            'gamma': np.random.uniform(0, 20),\n",
    "            'max_depth': np.random.randint(3, 15),\n",
    "            'subsample': np.random.uniform(0.5, 1),\n",
    "            'colsample_bytree': np.random.uniform(0.5, 1),\n",
    "            'objective': 'binary:logistic',\n",
    "            'eval_metric': 'auc',\n",
    "            'min_child_weight': np.random.uniform(0.8, 1.2)\n",
    "        }\n",
    "\n",
    "        # Cross-validation\n",
    "        xgb_cv = xgb.cv(\n",
    "            params=hparams,\n",
    "            dtrain=xgb_train,\n",
    "            num_boost_round=52,\n",
    "            nfold=10,\n",
    "            early_stopping_rounds=2,\n",
    "            metrics=['auc'],\n",
    "            maximize=True,\n",
    "            verbose_eval=2\n",
    "        )\n",
    "\n",
    "        # Get the best AUC score from CV\n",
    "        best_iteration = xgb_cv['test-auc-mean'].idxmax()\n",
    "        auc_score = xgb_cv['test-auc-mean'][best_iteration]\n",
    "\n",
    "        # Update best params if the new score is better\n",
    "        if auc_score > best_auc:\n",
    "            best_auc = auc_score\n",
    "            best_params = hparams\n",
    "\n",
    "    # Train the final model with the best hyperparameters\n",
    "    final_model = xgb.train(\n",
    "        params=best_params,\n",
    "        dtrain=xgb_train,\n",
    "        num_boost_round=50,\n",
    "        early_stopping_rounds=3,\n",
    "        evals=[(xgb_train, 'training'), (xgb_test, 'testing')],\n",
    "        maximize=True,\n",
    "        verbose_eval=2\n",
    "    )\n",
    "\n",
    "    return final_model, best_params, best_auc"
   ]
  },
  {
   "cell_type": "code",
   "execution_count": 78,
   "id": "ef4a3d2b-13a6-4902-9325-d04032cac924",
   "metadata": {},
   "outputs": [
    {
     "name": "stdout",
     "output_type": "stream",
     "text": [
      "[0]\ttrain-auc:0.81353+0.00161\ttest-auc:0.81082+0.00688\n",
      "[2]\ttrain-auc:0.83389+0.00213\ttest-auc:0.83028+0.00883\n",
      "[4]\ttrain-auc:0.84039+0.00169\ttest-auc:0.83688+0.00866\n",
      "[6]\ttrain-auc:0.84534+0.00113\ttest-auc:0.84097+0.00772\n",
      "[8]\ttrain-auc:0.85181+0.00096\ttest-auc:0.84667+0.00784\n",
      "[10]\ttrain-auc:0.85839+0.00103\ttest-auc:0.85267+0.00711\n",
      "[12]\ttrain-auc:0.86142+0.00078\ttest-auc:0.85522+0.00727\n",
      "[14]\ttrain-auc:0.86390+0.00092\ttest-auc:0.85716+0.00699\n",
      "[16]\ttrain-auc:0.86953+0.00131\ttest-auc:0.86210+0.00642\n",
      "[18]\ttrain-auc:0.87539+0.00092\ttest-auc:0.86755+0.00700\n",
      "[20]\ttrain-auc:0.88100+0.00083\ttest-auc:0.87239+0.00637\n",
      "[22]\ttrain-auc:0.88554+0.00066\ttest-auc:0.87576+0.00659\n",
      "[24]\ttrain-auc:0.88942+0.00075\ttest-auc:0.87879+0.00667\n",
      "[26]\ttrain-auc:0.89222+0.00078\ttest-auc:0.88089+0.00612\n",
      "[28]\ttrain-auc:0.89501+0.00079\ttest-auc:0.88281+0.00606\n",
      "[30]\ttrain-auc:0.89740+0.00067\ttest-auc:0.88424+0.00622\n",
      "[32]\ttrain-auc:0.89951+0.00055\ttest-auc:0.88545+0.00634\n",
      "[34]\ttrain-auc:0.90149+0.00068\ttest-auc:0.88677+0.00611\n",
      "[36]\ttrain-auc:0.90322+0.00063\ttest-auc:0.88797+0.00607\n",
      "[38]\ttrain-auc:0.90477+0.00057\ttest-auc:0.88875+0.00618\n",
      "[40]\ttrain-auc:0.90625+0.00056\ttest-auc:0.88943+0.00623\n",
      "[42]\ttrain-auc:0.90752+0.00053\ttest-auc:0.89012+0.00614\n",
      "[44]\ttrain-auc:0.90873+0.00052\ttest-auc:0.89074+0.00598\n",
      "[46]\ttrain-auc:0.90993+0.00051\ttest-auc:0.89107+0.00599\n",
      "[48]\ttrain-auc:0.91106+0.00047\ttest-auc:0.89142+0.00599\n",
      "[50]\ttrain-auc:0.91202+0.00054\ttest-auc:0.89180+0.00586\n",
      "[51]\ttrain-auc:0.91254+0.00063\ttest-auc:0.89190+0.00587\n",
      "[0]\ttrain-auc:0.76853+0.00284\ttest-auc:0.75833+0.01180\n",
      "[2]\ttrain-auc:0.86447+0.00123\ttest-auc:0.84842+0.00682\n",
      "[4]\ttrain-auc:0.88053+0.00154\ttest-auc:0.86075+0.00828\n",
      "[6]\ttrain-auc:0.89112+0.00120\ttest-auc:0.86545+0.00778\n",
      "[8]\ttrain-auc:0.90088+0.00133\ttest-auc:0.86826+0.00773\n",
      "[10]\ttrain-auc:0.91263+0.00089\ttest-auc:0.87133+0.00809\n",
      "[12]\ttrain-auc:0.92019+0.00055\ttest-auc:0.87252+0.00825\n",
      "[14]\ttrain-auc:0.92603+0.00057\ttest-auc:0.87342+0.00807\n",
      "[16]\ttrain-auc:0.93128+0.00072\ttest-auc:0.87280+0.00776\n",
      "[0]\ttrain-auc:0.76853+0.00284\ttest-auc:0.75833+0.01180\n",
      "[2]\ttrain-auc:0.86447+0.00123\ttest-auc:0.84842+0.00682\n",
      "[4]\ttrain-auc:0.88053+0.00154\ttest-auc:0.86075+0.00828\n",
      "[6]\ttrain-auc:0.89112+0.00120\ttest-auc:0.86545+0.00778\n",
      "[8]\ttrain-auc:0.90088+0.00133\ttest-auc:0.86826+0.00773\n",
      "[10]\ttrain-auc:0.91263+0.00089\ttest-auc:0.87133+0.00809\n",
      "[12]\ttrain-auc:0.92019+0.00055\ttest-auc:0.87252+0.00825\n",
      "[14]\ttrain-auc:0.92603+0.00057\ttest-auc:0.87342+0.00807\n",
      "[16]\ttrain-auc:0.93128+0.00072\ttest-auc:0.87280+0.00776\n",
      "[17]\ttrain-auc:0.93331+0.00076\ttest-auc:0.87292+0.00736\n",
      "[0]\ttrain-auc:0.76853+0.00284\ttest-auc:0.75833+0.01180\n",
      "[2]\ttrain-auc:0.86447+0.00123\ttest-auc:0.84842+0.00682\n",
      "[4]\ttrain-auc:0.88053+0.00154\ttest-auc:0.86075+0.00828\n",
      "[6]\ttrain-auc:0.89112+0.00120\ttest-auc:0.86545+0.00778\n",
      "[8]\ttrain-auc:0.90088+0.00133\ttest-auc:0.86826+0.00773\n",
      "[10]\ttrain-auc:0.91263+0.00089\ttest-auc:0.87133+0.00809\n",
      "[12]\ttrain-auc:0.92019+0.00055\ttest-auc:0.87252+0.00825\n",
      "[14]\ttrain-auc:0.92603+0.00057\ttest-auc:0.87342+0.00807\n",
      "[16]\ttrain-auc:0.93128+0.00072\ttest-auc:0.87280+0.00776\n",
      "[0]\ttrain-auc:0.76853+0.00284\ttest-auc:0.75833+0.01180\n",
      "[2]\ttrain-auc:0.86447+0.00123\ttest-auc:0.84842+0.00682\n",
      "[4]\ttrain-auc:0.88053+0.00154\ttest-auc:0.86075+0.00828\n",
      "[6]\ttrain-auc:0.89112+0.00120\ttest-auc:0.86545+0.00778\n",
      "[8]\ttrain-auc:0.90088+0.00133\ttest-auc:0.86826+0.00773\n",
      "[10]\ttrain-auc:0.91263+0.00089\ttest-auc:0.87133+0.00809\n",
      "[12]\ttrain-auc:0.92019+0.00055\ttest-auc:0.87252+0.00825\n",
      "[14]\ttrain-auc:0.92603+0.00057\ttest-auc:0.87342+0.00807\n",
      "[16]\ttrain-auc:0.93128+0.00072\ttest-auc:0.87280+0.00776\n",
      "[17]\ttrain-auc:0.93331+0.00076\ttest-auc:0.87292+0.00736\n",
      "[0]\ttraining-auc:0.81236\ttesting-auc:0.80872\n",
      "[2]\ttraining-auc:0.83488\ttesting-auc:0.83041\n",
      "[4]\ttraining-auc:0.84027\ttesting-auc:0.83509\n",
      "[6]\ttraining-auc:0.84538\ttesting-auc:0.84028\n",
      "[8]\ttraining-auc:0.85242\ttesting-auc:0.84618\n",
      "[10]\ttraining-auc:0.85954\ttesting-auc:0.85466\n",
      "[12]\ttraining-auc:0.86160\ttesting-auc:0.85525\n",
      "[14]\ttraining-auc:0.86474\ttesting-auc:0.85819\n",
      "[16]\ttraining-auc:0.87049\ttesting-auc:0.86344\n",
      "[18]\ttraining-auc:0.87502\ttesting-auc:0.86768\n",
      "[20]\ttraining-auc:0.87947\ttesting-auc:0.87210\n",
      "[22]\ttraining-auc:0.88478\ttesting-auc:0.87675\n",
      "[24]\ttraining-auc:0.88881\ttesting-auc:0.88019\n",
      "[26]\ttraining-auc:0.89127\ttesting-auc:0.88241\n",
      "[28]\ttraining-auc:0.89388\ttesting-auc:0.88435\n",
      "[30]\ttraining-auc:0.89602\ttesting-auc:0.88569\n",
      "[32]\ttraining-auc:0.89814\ttesting-auc:0.88743\n",
      "[34]\ttraining-auc:0.89971\ttesting-auc:0.88819\n",
      "[36]\ttraining-auc:0.90175\ttesting-auc:0.89012\n",
      "[38]\ttraining-auc:0.90344\ttesting-auc:0.89090\n",
      "[40]\ttraining-auc:0.90502\ttesting-auc:0.89183\n",
      "[42]\ttraining-auc:0.90597\ttesting-auc:0.89231\n",
      "[44]\ttraining-auc:0.90745\ttesting-auc:0.89288\n",
      "[46]\ttraining-auc:0.90894\ttesting-auc:0.89385\n",
      "[48]\ttraining-auc:0.90991\ttesting-auc:0.89431\n",
      "[49]\ttraining-auc:0.91053\ttesting-auc:0.89444\n"
     ]
    }
   ],
   "source": [
    "final_model, best_params, best_auc = fit_xgb_binary(dtrain, dtest, iterations=5)"
   ]
  },
  {
   "cell_type": "code",
   "execution_count": 81,
   "id": "24738eb5-d005-4592-9977-3f9fbf7429d5",
   "metadata": {},
   "outputs": [
    {
     "name": "stdout",
     "output_type": "stream",
     "text": [
      "{'eta': 0.19229545808697532, 'lambda': 0.06770652472612759, 'alpha': 0.13161618937790642, 'gamma': 0.4932988918488146, 'max_depth': 5, 'subsample': 0.789267471165026, 'colsample_bytree': 0.8779666388531073, 'objective': 'binary:logistic', 'eval_metric': 'auc', 'min_child_weight': 1.1583385157539368} 0.8918971766819503\n"
     ]
    }
   ],
   "source": [
    "print(best_params, best_auc)"
   ]
  },
  {
   "cell_type": "code",
   "execution_count": 93,
   "id": "b6a00ab0-1dfa-4286-ad42-06febfd12610",
   "metadata": {},
   "outputs": [
    {
     "data": {
      "text/plain": [
       "{'best_iteration': '49', 'best_score': '0.8944375408813966'}"
      ]
     },
     "execution_count": 93,
     "metadata": {},
     "output_type": "execute_result"
    }
   ],
   "source": [
    "final_model.attributes()"
   ]
  },
  {
   "cell_type": "code",
   "execution_count": null,
   "id": "b4977239-596d-410b-8b61-7860fff6593e",
   "metadata": {},
   "outputs": [],
   "source": []
  }
 ],
 "metadata": {
  "kernelspec": {
   "display_name": "Python 3 (ipykernel)",
   "language": "python",
   "name": "python3"
  },
  "language_info": {
   "codemirror_mode": {
    "name": "ipython",
    "version": 3
   },
   "file_extension": ".py",
   "mimetype": "text/x-python",
   "name": "python",
   "nbconvert_exporter": "python",
   "pygments_lexer": "ipython3",
   "version": "3.11.10"
  }
 },
 "nbformat": 4,
 "nbformat_minor": 5
}
