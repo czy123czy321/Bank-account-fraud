{
 "cells": [
  {
   "cell_type": "code",
   "execution_count": 1,
   "id": "54c70b58-c409-46db-b6e4-0199f664894e",
   "metadata": {},
   "outputs": [
    {
     "data": {
      "text/plain": [
       "{'data_location': './data', 'output_location': './output'}"
      ]
     },
     "execution_count": 1,
     "metadata": {},
     "output_type": "execute_result"
    }
   ],
   "source": [
    "import os\n",
    "import yaml\n",
    "\n",
    "with open('../params.yaml', 'r') as file:\n",
    "    params = yaml.safe_load(file)\n",
    "params"
   ]
  },
  {
   "cell_type": "code",
   "execution_count": 2,
   "id": "c03b62cd-c347-4b45-bdce-4a13297096c6",
   "metadata": {},
   "outputs": [
    {
     "data": {
      "text/plain": [
       "'/Users/zoe/Documents/Bank-account-fraud'"
      ]
     },
     "execution_count": 2,
     "metadata": {},
     "output_type": "execute_result"
    }
   ],
   "source": [
    "dir_path = os.getcwd()\n",
    "parent_dir = os.path.dirname(dir_path)\n",
    "parent_dir"
   ]
  },
  {
   "cell_type": "code",
   "execution_count": 3,
   "id": "25e8de4b-a7f1-4f4f-9e6c-8299a2a4840c",
   "metadata": {},
   "outputs": [],
   "source": [
    "import pandas as pd\n",
    "import numpy as np\n",
    "pd.set_option('display.max_columns', 500)\n",
    "import warnings as wr\n",
    "wr.filterwarnings('ignore')\n",
    "\n",
    "import matplotlib.pyplot as plt\n",
    "import seaborn as sns\n",
    "import sklearn"
   ]
  },
  {
   "cell_type": "code",
   "execution_count": 4,
   "id": "d4b5edcc-38a5-49b0-87a5-42d352bf158b",
   "metadata": {},
   "outputs": [],
   "source": [
    "X_train = pd.read_csv(f\"{parent_dir}/data/x_train_data.csv\", index_col=0)\n",
    "y_train = pd.read_csv(f\"{parent_dir}/data/y_train_data.csv\", index_col=0)\n",
    "X_test = pd.read_csv(f\"{parent_dir}/data/x_test_data.csv\", index_col=0)\n",
    "y_test = pd.read_csv(f\"{parent_dir}/data/y_test_data.csv\", index_col=0)\n",
    "\n",
    "# X_train_smote = pd.read_csv(f\"{parent_dir}/data/x_train_data_smote.csv\", index_col=0)\n",
    "# y_train_smote = pd.read_csv(f\"{parent_dir}/data/y_train_data_smote.csv\", index_col=0)"
   ]
  },
  {
   "cell_type": "code",
   "execution_count": 5,
   "id": "8ebad10f-6f54-41fe-b446-c885f227a3b3",
   "metadata": {},
   "outputs": [],
   "source": [
    "import xgboost as xgb\n",
    "from xgboost import XGBClassifier"
   ]
  },
  {
   "cell_type": "markdown",
   "id": "0155834e-bfc6-4bfc-9759-f4ece3975ff4",
   "metadata": {},
   "source": [
    "# Baseline model"
   ]
  },
  {
   "cell_type": "markdown",
   "id": "61cbe157-cbf5-4323-a0f2-6b79eb7831aa",
   "metadata": {},
   "source": [
    "Assumptions:\n",
    "1. imbalaned dataset with low percentage of positive cases, so we use AUC as the measuring metrics\n",
    "2. assume it's more costly to have higher FN(misclassified fraud cases as not fraud) than higher FP (false alarm for not fraud as fraud). So we aim for a higher recall "
   ]
  },
  {
   "cell_type": "markdown",
   "id": "bf89a770-27e1-4152-bae7-977c60c87a3c",
   "metadata": {},
   "source": [
    "# function to get all evaluation metrics"
   ]
  },
  {
   "cell_type": "code",
   "execution_count": 58,
   "id": "51454a36-d725-4d28-b390-051260440a5c",
   "metadata": {},
   "outputs": [],
   "source": [
    "from sklearn.metrics import roc_auc_score, confusion_matrix, roc_curve, ConfusionMatrixDisplay\n",
    "\n",
    "def evaluate_model_performance(model, X_test, y_test, threshold=0.5):\n",
    "    preds = model.predict_proba(X_test)[:, 1]\n",
    "    auc_score = roc_auc_score(y_test, preds)\n",
    "\n",
    "    # Classify based on the threshold\n",
    "    pred_bool = (preds >= threshold).astype(int)\n",
    "\n",
    "    # Compute confusion matrix metrics\n",
    "    tn, fp, fn, tp = confusion_matrix(y_test, pred_bool).ravel()\n",
    "    tpr = tp / (tp + fn)  # True Positive Rate\n",
    "    fpr = fp / (fp + tn)  # False Positive Rate\n",
    "\n",
    "    # Compute ROC curve\n",
    "    fpr_curve, tpr_curve, thresholds = roc_curve(y_test, preds)\n",
    "\n",
    "    # Print the results\n",
    "    print(f\"Recall (TPR): {tpr:.4f}\")\n",
    "    print(f\"False Positive Rate (FPR): {fpr:.4f}\")\n",
    "    print(f'ROC AUC: {auc_score:.5f}')\n",
    "\n",
    "    return {\n",
    "        \"TPR\": tpr,\n",
    "        \"FPR\": fpr,\n",
    "        \"ROC AUC\": auc_score,\n",
    "        \"Confusion Matrix\": (tn, fp, fn, tp),\n",
    "        \"ROC Curve\": (fpr_curve, tpr_curve, thresholds),\n",
    "    }"
   ]
  },
  {
   "cell_type": "markdown",
   "id": "56378fb9-720e-4b0b-81cd-fef7252a4dbf",
   "metadata": {},
   "source": [
    "### use xgb.cv to provide a baseline model eval"
   ]
  },
  {
   "cell_type": "code",
   "execution_count": 38,
   "id": "09d8c1cc-eb8f-469f-8dad-39e66e49add8",
   "metadata": {},
   "outputs": [
    {
     "name": "stdout",
     "output_type": "stream",
     "text": [
      "{'objective': 'binary:logistic', 'base_score': None, 'booster': None, 'callbacks': None, 'colsample_bylevel': None, 'colsample_bynode': None, 'colsample_bytree': None, 'device': None, 'early_stopping_rounds': None, 'enable_categorical': False, 'eval_metric': None, 'feature_types': None, 'gamma': None, 'grow_policy': None, 'importance_type': None, 'interaction_constraints': None, 'learning_rate': None, 'max_bin': None, 'max_cat_threshold': None, 'max_cat_to_onehot': None, 'max_delta_step': None, 'max_depth': None, 'max_leaves': None, 'min_child_weight': None, 'missing': nan, 'monotone_constraints': None, 'multi_strategy': None, 'n_estimators': None, 'n_jobs': None, 'num_parallel_tree': None, 'random_state': None, 'reg_alpha': None, 'reg_lambda': None, 'sampling_method': None, 'scale_pos_weight': None, 'subsample': None, 'tree_method': None, 'validate_parameters': None, 'verbosity': None}\n"
     ]
    }
   ],
   "source": [
    "base_model = XGBClassifier()\n",
    "default_params = base_model.get_params()\n",
    "print(default_params)"
   ]
  },
  {
   "cell_type": "code",
   "execution_count": 183,
   "id": "a485a28d-58b5-4f90-993b-7b8c04833a9e",
   "metadata": {},
   "outputs": [],
   "source": [
    "dtrain_smote = xgb.DMatrix(X_train_smote, label=y_train_smote)"
   ]
  },
  {
   "cell_type": "code",
   "execution_count": 184,
   "id": "a6ab085b-aacb-44da-8686-50a2b34e529a",
   "metadata": {
    "scrolled": true
   },
   "outputs": [
    {
     "name": "stdout",
     "output_type": "stream",
     "text": [
      "[0]\ttrain-auc:0.95763+0.00009\ttest-auc:0.95761+0.00087\n",
      "[1]\ttrain-auc:0.97290+0.00016\ttest-auc:0.97287+0.00063\n",
      "[2]\ttrain-auc:0.97615+0.00027\ttest-auc:0.97616+0.00067\n",
      "[3]\ttrain-auc:0.98019+0.00016\ttest-auc:0.98014+0.00039\n",
      "[4]\ttrain-auc:0.98194+0.00019\ttest-auc:0.98191+0.00043\n",
      "[5]\ttrain-auc:0.98377+0.00047\ttest-auc:0.98371+0.00079\n",
      "[6]\ttrain-auc:0.98490+0.00062\ttest-auc:0.98482+0.00086\n",
      "[7]\ttrain-auc:0.98713+0.00060\ttest-auc:0.98707+0.00066\n",
      "[8]\ttrain-auc:0.98904+0.00073\ttest-auc:0.98899+0.00089\n",
      "[9]\ttrain-auc:0.99010+0.00041\ttest-auc:0.99005+0.00048\n",
      "[10]\ttrain-auc:0.99106+0.00028\ttest-auc:0.99100+0.00038\n",
      "[11]\ttrain-auc:0.99161+0.00024\ttest-auc:0.99153+0.00029\n",
      "[12]\ttrain-auc:0.99205+0.00022\ttest-auc:0.99195+0.00026\n",
      "[13]\ttrain-auc:0.99245+0.00020\ttest-auc:0.99234+0.00024\n",
      "[14]\ttrain-auc:0.99279+0.00022\ttest-auc:0.99269+0.00027\n",
      "[15]\ttrain-auc:0.99307+0.00018\ttest-auc:0.99296+0.00025\n",
      "[16]\ttrain-auc:0.99327+0.00019\ttest-auc:0.99316+0.00028\n",
      "[17]\ttrain-auc:0.99344+0.00018\ttest-auc:0.99332+0.00027\n",
      "[18]\ttrain-auc:0.99358+0.00016\ttest-auc:0.99347+0.00025\n",
      "[19]\ttrain-auc:0.99374+0.00016\ttest-auc:0.99361+0.00025\n",
      "[20]\ttrain-auc:0.99386+0.00017\ttest-auc:0.99373+0.00025\n",
      "[21]\ttrain-auc:0.99400+0.00018\ttest-auc:0.99385+0.00026\n",
      "[22]\ttrain-auc:0.99413+0.00018\ttest-auc:0.99398+0.00025\n",
      "[23]\ttrain-auc:0.99422+0.00018\ttest-auc:0.99406+0.00026\n",
      "[24]\ttrain-auc:0.99432+0.00019\ttest-auc:0.99416+0.00027\n",
      "[25]\ttrain-auc:0.99442+0.00018\ttest-auc:0.99426+0.00025\n",
      "[26]\ttrain-auc:0.99452+0.00016\ttest-auc:0.99434+0.00023\n",
      "[27]\ttrain-auc:0.99460+0.00014\ttest-auc:0.99441+0.00024\n",
      "[28]\ttrain-auc:0.99469+0.00013\ttest-auc:0.99448+0.00025\n",
      "[29]\ttrain-auc:0.99476+0.00014\ttest-auc:0.99454+0.00023\n",
      "[30]\ttrain-auc:0.99482+0.00013\ttest-auc:0.99459+0.00023\n",
      "[31]\ttrain-auc:0.99488+0.00012\ttest-auc:0.99465+0.00023\n",
      "[32]\ttrain-auc:0.99495+0.00010\ttest-auc:0.99472+0.00019\n",
      "[33]\ttrain-auc:0.99502+0.00010\ttest-auc:0.99478+0.00019\n",
      "[34]\ttrain-auc:0.99506+0.00009\ttest-auc:0.99481+0.00020\n",
      "[35]\ttrain-auc:0.99510+0.00009\ttest-auc:0.99483+0.00020\n",
      "[36]\ttrain-auc:0.99514+0.00009\ttest-auc:0.99486+0.00021\n",
      "[37]\ttrain-auc:0.99518+0.00009\ttest-auc:0.99490+0.00022\n",
      "[38]\ttrain-auc:0.99522+0.00008\ttest-auc:0.99493+0.00022\n",
      "[39]\ttrain-auc:0.99525+0.00008\ttest-auc:0.99496+0.00022\n",
      "[40]\ttrain-auc:0.99529+0.00009\ttest-auc:0.99499+0.00021\n",
      "[41]\ttrain-auc:0.99532+0.00009\ttest-auc:0.99502+0.00022\n",
      "[42]\ttrain-auc:0.99535+0.00008\ttest-auc:0.99505+0.00022\n",
      "[43]\ttrain-auc:0.99538+0.00008\ttest-auc:0.99507+0.00022\n",
      "[44]\ttrain-auc:0.99542+0.00008\ttest-auc:0.99509+0.00021\n",
      "[45]\ttrain-auc:0.99545+0.00007\ttest-auc:0.99512+0.00022\n",
      "[46]\ttrain-auc:0.99548+0.00007\ttest-auc:0.99514+0.00022\n",
      "[47]\ttrain-auc:0.99551+0.00007\ttest-auc:0.99516+0.00022\n",
      "[48]\ttrain-auc:0.99554+0.00007\ttest-auc:0.99518+0.00021\n",
      "[49]\ttrain-auc:0.99557+0.00007\ttest-auc:0.99520+0.00021\n",
      "[50]\ttrain-auc:0.99560+0.00007\ttest-auc:0.99523+0.00022\n",
      "[51]\ttrain-auc:0.99562+0.00006\ttest-auc:0.99524+0.00021\n",
      "[52]\ttrain-auc:0.99564+0.00007\ttest-auc:0.99525+0.00022\n",
      "[53]\ttrain-auc:0.99567+0.00007\ttest-auc:0.99527+0.00022\n",
      "[54]\ttrain-auc:0.99569+0.00007\ttest-auc:0.99529+0.00022\n",
      "[55]\ttrain-auc:0.99572+0.00007\ttest-auc:0.99531+0.00022\n",
      "[56]\ttrain-auc:0.99574+0.00007\ttest-auc:0.99532+0.00021\n",
      "[57]\ttrain-auc:0.99576+0.00007\ttest-auc:0.99533+0.00020\n",
      "[58]\ttrain-auc:0.99578+0.00007\ttest-auc:0.99534+0.00021\n",
      "[59]\ttrain-auc:0.99580+0.00006\ttest-auc:0.99536+0.00022\n",
      "[60]\ttrain-auc:0.99583+0.00006\ttest-auc:0.99538+0.00022\n",
      "[61]\ttrain-auc:0.99584+0.00006\ttest-auc:0.99539+0.00021\n",
      "[62]\ttrain-auc:0.99587+0.00006\ttest-auc:0.99541+0.00022\n",
      "[63]\ttrain-auc:0.99588+0.00006\ttest-auc:0.99542+0.00021\n",
      "[64]\ttrain-auc:0.99590+0.00006\ttest-auc:0.99543+0.00021\n",
      "[65]\ttrain-auc:0.99592+0.00006\ttest-auc:0.99545+0.00022\n",
      "[66]\ttrain-auc:0.99594+0.00007\ttest-auc:0.99546+0.00022\n",
      "[67]\ttrain-auc:0.99596+0.00007\ttest-auc:0.99547+0.00022\n",
      "[68]\ttrain-auc:0.99598+0.00006\ttest-auc:0.99548+0.00021\n",
      "[69]\ttrain-auc:0.99600+0.00006\ttest-auc:0.99549+0.00021\n",
      "[70]\ttrain-auc:0.99601+0.00007\ttest-auc:0.99551+0.00022\n",
      "[71]\ttrain-auc:0.99603+0.00007\ttest-auc:0.99552+0.00022\n",
      "[72]\ttrain-auc:0.99605+0.00007\ttest-auc:0.99552+0.00021\n",
      "[73]\ttrain-auc:0.99606+0.00006\ttest-auc:0.99554+0.00020\n",
      "[74]\ttrain-auc:0.99608+0.00006\ttest-auc:0.99555+0.00020\n",
      "[75]\ttrain-auc:0.99610+0.00006\ttest-auc:0.99556+0.00020\n",
      "[76]\ttrain-auc:0.99612+0.00006\ttest-auc:0.99557+0.00020\n",
      "[77]\ttrain-auc:0.99613+0.00006\ttest-auc:0.99558+0.00020\n",
      "[78]\ttrain-auc:0.99614+0.00006\ttest-auc:0.99559+0.00021\n",
      "[79]\ttrain-auc:0.99616+0.00006\ttest-auc:0.99559+0.00021\n",
      "[80]\ttrain-auc:0.99617+0.00006\ttest-auc:0.99560+0.00021\n",
      "[81]\ttrain-auc:0.99619+0.00006\ttest-auc:0.99561+0.00021\n",
      "[82]\ttrain-auc:0.99621+0.00005\ttest-auc:0.99562+0.00021\n",
      "[83]\ttrain-auc:0.99622+0.00005\ttest-auc:0.99562+0.00022\n",
      "[84]\ttrain-auc:0.99624+0.00005\ttest-auc:0.99563+0.00022\n",
      "[85]\ttrain-auc:0.99626+0.00005\ttest-auc:0.99564+0.00022\n",
      "[86]\ttrain-auc:0.99627+0.00005\ttest-auc:0.99564+0.00022\n",
      "[87]\ttrain-auc:0.99628+0.00005\ttest-auc:0.99565+0.00022\n",
      "[88]\ttrain-auc:0.99630+0.00005\ttest-auc:0.99565+0.00023\n",
      "[89]\ttrain-auc:0.99631+0.00005\ttest-auc:0.99566+0.00022\n",
      "[90]\ttrain-auc:0.99632+0.00005\ttest-auc:0.99567+0.00022\n",
      "[91]\ttrain-auc:0.99634+0.00006\ttest-auc:0.99567+0.00022\n",
      "[92]\ttrain-auc:0.99635+0.00006\ttest-auc:0.99568+0.00022\n",
      "[93]\ttrain-auc:0.99636+0.00005\ttest-auc:0.99568+0.00022\n",
      "[94]\ttrain-auc:0.99638+0.00005\ttest-auc:0.99569+0.00022\n",
      "[95]\ttrain-auc:0.99639+0.00006\ttest-auc:0.99570+0.00021\n",
      "[96]\ttrain-auc:0.99641+0.00005\ttest-auc:0.99570+0.00021\n",
      "[97]\ttrain-auc:0.99642+0.00005\ttest-auc:0.99571+0.00021\n",
      "[98]\ttrain-auc:0.99643+0.00005\ttest-auc:0.99571+0.00021\n",
      "[99]\ttrain-auc:0.99644+0.00005\ttest-auc:0.99571+0.00021\n",
      "[100]\ttrain-auc:0.99645+0.00005\ttest-auc:0.99572+0.00021\n",
      "[101]\ttrain-auc:0.99647+0.00005\ttest-auc:0.99573+0.00021\n",
      "[102]\ttrain-auc:0.99648+0.00005\ttest-auc:0.99573+0.00021\n",
      "[103]\ttrain-auc:0.99649+0.00005\ttest-auc:0.99574+0.00021\n",
      "[104]\ttrain-auc:0.99651+0.00005\ttest-auc:0.99574+0.00021\n",
      "[105]\ttrain-auc:0.99652+0.00006\ttest-auc:0.99574+0.00021\n",
      "[106]\ttrain-auc:0.99653+0.00006\ttest-auc:0.99575+0.00022\n",
      "[107]\ttrain-auc:0.99654+0.00005\ttest-auc:0.99575+0.00021\n",
      "[108]\ttrain-auc:0.99656+0.00005\ttest-auc:0.99577+0.00020\n",
      "[109]\ttrain-auc:0.99657+0.00006\ttest-auc:0.99577+0.00021\n",
      "[110]\ttrain-auc:0.99658+0.00005\ttest-auc:0.99578+0.00021\n",
      "[111]\ttrain-auc:0.99659+0.00006\ttest-auc:0.99579+0.00020\n",
      "[112]\ttrain-auc:0.99660+0.00005\ttest-auc:0.99579+0.00020\n",
      "[113]\ttrain-auc:0.99661+0.00005\ttest-auc:0.99579+0.00020\n",
      "[114]\ttrain-auc:0.99662+0.00006\ttest-auc:0.99579+0.00020\n",
      "[115]\ttrain-auc:0.99663+0.00005\ttest-auc:0.99580+0.00021\n",
      "[116]\ttrain-auc:0.99664+0.00005\ttest-auc:0.99580+0.00021\n",
      "[117]\ttrain-auc:0.99665+0.00006\ttest-auc:0.99581+0.00021\n",
      "[118]\ttrain-auc:0.99667+0.00005\ttest-auc:0.99581+0.00021\n",
      "[119]\ttrain-auc:0.99668+0.00005\ttest-auc:0.99582+0.00021\n",
      "[120]\ttrain-auc:0.99669+0.00005\ttest-auc:0.99583+0.00022\n",
      "[121]\ttrain-auc:0.99670+0.00005\ttest-auc:0.99583+0.00022\n",
      "[122]\ttrain-auc:0.99671+0.00005\ttest-auc:0.99583+0.00022\n",
      "[123]\ttrain-auc:0.99672+0.00005\ttest-auc:0.99583+0.00022\n",
      "[124]\ttrain-auc:0.99673+0.00005\ttest-auc:0.99584+0.00022\n",
      "[125]\ttrain-auc:0.99674+0.00005\ttest-auc:0.99584+0.00022\n",
      "[126]\ttrain-auc:0.99675+0.00005\ttest-auc:0.99585+0.00021\n",
      "[127]\ttrain-auc:0.99676+0.00005\ttest-auc:0.99585+0.00021\n",
      "[128]\ttrain-auc:0.99678+0.00005\ttest-auc:0.99585+0.00021\n",
      "[129]\ttrain-auc:0.99679+0.00005\ttest-auc:0.99585+0.00022\n",
      "[130]\ttrain-auc:0.99680+0.00005\ttest-auc:0.99585+0.00022\n",
      "[131]\ttrain-auc:0.99681+0.00005\ttest-auc:0.99585+0.00022\n",
      "[132]\ttrain-auc:0.99681+0.00005\ttest-auc:0.99585+0.00022\n",
      "[133]\ttrain-auc:0.99682+0.00005\ttest-auc:0.99585+0.00022\n",
      "[134]\ttrain-auc:0.99683+0.00005\ttest-auc:0.99586+0.00022\n",
      "[135]\ttrain-auc:0.99684+0.00005\ttest-auc:0.99586+0.00021\n",
      "[136]\ttrain-auc:0.99685+0.00005\ttest-auc:0.99586+0.00021\n",
      "[137]\ttrain-auc:0.99686+0.00005\ttest-auc:0.99585+0.00021\n",
      "[138]\ttrain-auc:0.99687+0.00005\ttest-auc:0.99586+0.00021\n",
      "[139]\ttrain-auc:0.99688+0.00005\ttest-auc:0.99586+0.00020\n",
      "[140]\ttrain-auc:0.99689+0.00005\ttest-auc:0.99586+0.00021\n",
      "[141]\ttrain-auc:0.99690+0.00005\ttest-auc:0.99586+0.00020\n",
      "[142]\ttrain-auc:0.99691+0.00005\ttest-auc:0.99587+0.00020\n",
      "[143]\ttrain-auc:0.99692+0.00005\ttest-auc:0.99587+0.00021\n",
      "[144]\ttrain-auc:0.99693+0.00005\ttest-auc:0.99587+0.00021\n",
      "[145]\ttrain-auc:0.99694+0.00005\ttest-auc:0.99588+0.00021\n",
      "[146]\ttrain-auc:0.99694+0.00005\ttest-auc:0.99588+0.00021\n",
      "[147]\ttrain-auc:0.99695+0.00005\ttest-auc:0.99587+0.00021\n",
      "[148]\ttrain-auc:0.99696+0.00005\ttest-auc:0.99588+0.00021\n",
      "[149]\ttrain-auc:0.99697+0.00005\ttest-auc:0.99588+0.00021\n",
      "[150]\ttrain-auc:0.99698+0.00005\ttest-auc:0.99588+0.00021\n",
      "[151]\ttrain-auc:0.99699+0.00005\ttest-auc:0.99589+0.00021\n",
      "[152]\ttrain-auc:0.99700+0.00005\ttest-auc:0.99589+0.00021\n",
      "[153]\ttrain-auc:0.99701+0.00005\ttest-auc:0.99589+0.00021\n",
      "[154]\ttrain-auc:0.99702+0.00005\ttest-auc:0.99589+0.00021\n",
      "[155]\ttrain-auc:0.99702+0.00005\ttest-auc:0.99589+0.00021\n",
      "[156]\ttrain-auc:0.99703+0.00005\ttest-auc:0.99590+0.00021\n",
      "[157]\ttrain-auc:0.99704+0.00005\ttest-auc:0.99590+0.00021\n",
      "[158]\ttrain-auc:0.99705+0.00005\ttest-auc:0.99590+0.00021\n",
      "[159]\ttrain-auc:0.99706+0.00005\ttest-auc:0.99590+0.00021\n",
      "[160]\ttrain-auc:0.99707+0.00005\ttest-auc:0.99590+0.00021\n",
      "[161]\ttrain-auc:0.99708+0.00005\ttest-auc:0.99591+0.00021\n",
      "[162]\ttrain-auc:0.99708+0.00005\ttest-auc:0.99591+0.00021\n",
      "[163]\ttrain-auc:0.99709+0.00005\ttest-auc:0.99592+0.00021\n",
      "[164]\ttrain-auc:0.99710+0.00005\ttest-auc:0.99592+0.00021\n",
      "[165]\ttrain-auc:0.99711+0.00005\ttest-auc:0.99593+0.00020\n",
      "[166]\ttrain-auc:0.99712+0.00005\ttest-auc:0.99593+0.00020\n",
      "[167]\ttrain-auc:0.99712+0.00005\ttest-auc:0.99593+0.00019\n",
      "[168]\ttrain-auc:0.99713+0.00005\ttest-auc:0.99593+0.00019\n",
      "[169]\ttrain-auc:0.99714+0.00005\ttest-auc:0.99594+0.00019\n",
      "[170]\ttrain-auc:0.99715+0.00005\ttest-auc:0.99594+0.00019\n",
      "[171]\ttrain-auc:0.99715+0.00005\ttest-auc:0.99594+0.00019\n",
      "[172]\ttrain-auc:0.99716+0.00005\ttest-auc:0.99594+0.00019\n",
      "[173]\ttrain-auc:0.99717+0.00005\ttest-auc:0.99595+0.00019\n",
      "[174]\ttrain-auc:0.99718+0.00005\ttest-auc:0.99595+0.00019\n",
      "[175]\ttrain-auc:0.99719+0.00005\ttest-auc:0.99595+0.00019\n",
      "[176]\ttrain-auc:0.99719+0.00005\ttest-auc:0.99595+0.00019\n",
      "[177]\ttrain-auc:0.99720+0.00005\ttest-auc:0.99595+0.00020\n",
      "[178]\ttrain-auc:0.99721+0.00005\ttest-auc:0.99595+0.00020\n",
      "[179]\ttrain-auc:0.99722+0.00004\ttest-auc:0.99595+0.00020\n",
      "[180]\ttrain-auc:0.99723+0.00004\ttest-auc:0.99596+0.00020\n",
      "[181]\ttrain-auc:0.99724+0.00004\ttest-auc:0.99596+0.00020\n",
      "[182]\ttrain-auc:0.99724+0.00004\ttest-auc:0.99596+0.00020\n",
      "[183]\ttrain-auc:0.99725+0.00004\ttest-auc:0.99596+0.00020\n",
      "[184]\ttrain-auc:0.99726+0.00004\ttest-auc:0.99596+0.00020\n",
      "[185]\ttrain-auc:0.99727+0.00004\ttest-auc:0.99596+0.00020\n",
      "[186]\ttrain-auc:0.99727+0.00004\ttest-auc:0.99596+0.00020\n",
      "[187]\ttrain-auc:0.99728+0.00004\ttest-auc:0.99597+0.00020\n",
      "[188]\ttrain-auc:0.99729+0.00004\ttest-auc:0.99597+0.00020\n",
      "[189]\ttrain-auc:0.99730+0.00004\ttest-auc:0.99597+0.00020\n",
      "[190]\ttrain-auc:0.99730+0.00004\ttest-auc:0.99597+0.00020\n",
      "[191]\ttrain-auc:0.99731+0.00004\ttest-auc:0.99597+0.00020\n",
      "[192]\ttrain-auc:0.99732+0.00004\ttest-auc:0.99597+0.00019\n",
      "[193]\ttrain-auc:0.99733+0.00004\ttest-auc:0.99597+0.00020\n",
      "[194]\ttrain-auc:0.99733+0.00004\ttest-auc:0.99598+0.00020\n",
      "[195]\ttrain-auc:0.99734+0.00004\ttest-auc:0.99598+0.00020\n",
      "[196]\ttrain-auc:0.99735+0.00004\ttest-auc:0.99598+0.00019\n",
      "[197]\ttrain-auc:0.99735+0.00003\ttest-auc:0.99598+0.00020\n",
      "[198]\ttrain-auc:0.99736+0.00003\ttest-auc:0.99599+0.00020\n",
      "[199]\ttrain-auc:0.99737+0.00004\ttest-auc:0.99599+0.00020\n",
      "[200]\ttrain-auc:0.99737+0.00003\ttest-auc:0.99599+0.00020\n",
      "[201]\ttrain-auc:0.99738+0.00003\ttest-auc:0.99599+0.00020\n",
      "[202]\ttrain-auc:0.99739+0.00003\ttest-auc:0.99600+0.00020\n",
      "[203]\ttrain-auc:0.99740+0.00003\ttest-auc:0.99600+0.00020\n",
      "[204]\ttrain-auc:0.99740+0.00003\ttest-auc:0.99601+0.00020\n",
      "[205]\ttrain-auc:0.99741+0.00003\ttest-auc:0.99601+0.00020\n",
      "[206]\ttrain-auc:0.99742+0.00003\ttest-auc:0.99601+0.00020\n",
      "[207]\ttrain-auc:0.99742+0.00003\ttest-auc:0.99601+0.00020\n",
      "[208]\ttrain-auc:0.99743+0.00003\ttest-auc:0.99601+0.00020\n",
      "[209]\ttrain-auc:0.99744+0.00003\ttest-auc:0.99601+0.00020\n",
      "[210]\ttrain-auc:0.99744+0.00003\ttest-auc:0.99602+0.00020\n",
      "[211]\ttrain-auc:0.99745+0.00003\ttest-auc:0.99602+0.00020\n",
      "[212]\ttrain-auc:0.99746+0.00003\ttest-auc:0.99602+0.00020\n",
      "[213]\ttrain-auc:0.99746+0.00003\ttest-auc:0.99602+0.00020\n",
      "[214]\ttrain-auc:0.99747+0.00003\ttest-auc:0.99602+0.00021\n",
      "[215]\ttrain-auc:0.99748+0.00003\ttest-auc:0.99602+0.00020\n",
      "[216]\ttrain-auc:0.99748+0.00003\ttest-auc:0.99602+0.00020\n",
      "[217]\ttrain-auc:0.99749+0.00003\ttest-auc:0.99603+0.00020\n",
      "[218]\ttrain-auc:0.99749+0.00003\ttest-auc:0.99603+0.00020\n",
      "[219]\ttrain-auc:0.99750+0.00003\ttest-auc:0.99603+0.00020\n",
      "[220]\ttrain-auc:0.99751+0.00003\ttest-auc:0.99603+0.00019\n",
      "[221]\ttrain-auc:0.99751+0.00003\ttest-auc:0.99603+0.00020\n",
      "[222]\ttrain-auc:0.99752+0.00003\ttest-auc:0.99604+0.00020\n",
      "[223]\ttrain-auc:0.99752+0.00003\ttest-auc:0.99604+0.00020\n",
      "[224]\ttrain-auc:0.99753+0.00003\ttest-auc:0.99604+0.00020\n",
      "[225]\ttrain-auc:0.99754+0.00003\ttest-auc:0.99604+0.00020\n",
      "[226]\ttrain-auc:0.99754+0.00003\ttest-auc:0.99604+0.00021\n",
      "[227]\ttrain-auc:0.99755+0.00003\ttest-auc:0.99604+0.00021\n",
      "[228]\ttrain-auc:0.99755+0.00003\ttest-auc:0.99604+0.00021\n",
      "[229]\ttrain-auc:0.99756+0.00003\ttest-auc:0.99604+0.00021\n",
      "[230]\ttrain-auc:0.99757+0.00003\ttest-auc:0.99605+0.00021\n",
      "[231]\ttrain-auc:0.99757+0.00003\ttest-auc:0.99605+0.00021\n",
      "[232]\ttrain-auc:0.99758+0.00003\ttest-auc:0.99605+0.00021\n",
      "[233]\ttrain-auc:0.99759+0.00003\ttest-auc:0.99604+0.00021\n",
      "[234]\ttrain-auc:0.99759+0.00003\ttest-auc:0.99605+0.00021\n",
      "[235]\ttrain-auc:0.99760+0.00003\ttest-auc:0.99605+0.00021\n",
      "[236]\ttrain-auc:0.99760+0.00003\ttest-auc:0.99605+0.00021\n",
      "[237]\ttrain-auc:0.99761+0.00003\ttest-auc:0.99605+0.00021\n",
      "[238]\ttrain-auc:0.99761+0.00003\ttest-auc:0.99605+0.00021\n",
      "[239]\ttrain-auc:0.99762+0.00003\ttest-auc:0.99605+0.00021\n",
      "[240]\ttrain-auc:0.99762+0.00003\ttest-auc:0.99605+0.00021\n",
      "[241]\ttrain-auc:0.99763+0.00003\ttest-auc:0.99606+0.00022\n",
      "[242]\ttrain-auc:0.99763+0.00003\ttest-auc:0.99605+0.00021\n",
      "[243]\ttrain-auc:0.99764+0.00003\ttest-auc:0.99606+0.00021\n",
      "[244]\ttrain-auc:0.99765+0.00003\ttest-auc:0.99606+0.00021\n",
      "[245]\ttrain-auc:0.99765+0.00003\ttest-auc:0.99606+0.00021\n",
      "[246]\ttrain-auc:0.99766+0.00003\ttest-auc:0.99606+0.00021\n",
      "[247]\ttrain-auc:0.99766+0.00003\ttest-auc:0.99606+0.00021\n",
      "[248]\ttrain-auc:0.99767+0.00003\ttest-auc:0.99606+0.00021\n",
      "[249]\ttrain-auc:0.99767+0.00003\ttest-auc:0.99606+0.00021\n",
      "[250]\ttrain-auc:0.99768+0.00003\ttest-auc:0.99606+0.00021\n",
      "[251]\ttrain-auc:0.99768+0.00003\ttest-auc:0.99606+0.00021\n",
      "[252]\ttrain-auc:0.99769+0.00003\ttest-auc:0.99606+0.00021\n",
      "[253]\ttrain-auc:0.99769+0.00003\ttest-auc:0.99606+0.00020\n",
      "[254]\ttrain-auc:0.99770+0.00003\ttest-auc:0.99606+0.00020\n",
      "[255]\ttrain-auc:0.99771+0.00003\ttest-auc:0.99606+0.00020\n",
      "[256]\ttrain-auc:0.99771+0.00003\ttest-auc:0.99607+0.00020\n",
      "[257]\ttrain-auc:0.99772+0.00003\ttest-auc:0.99606+0.00020\n",
      "[258]\ttrain-auc:0.99772+0.00003\ttest-auc:0.99607+0.00020\n",
      "[259]\ttrain-auc:0.99773+0.00003\ttest-auc:0.99607+0.00020\n",
      "[260]\ttrain-auc:0.99773+0.00003\ttest-auc:0.99607+0.00020\n",
      "[261]\ttrain-auc:0.99774+0.00003\ttest-auc:0.99607+0.00020\n",
      "[262]\ttrain-auc:0.99774+0.00003\ttest-auc:0.99607+0.00020\n",
      "[263]\ttrain-auc:0.99775+0.00003\ttest-auc:0.99607+0.00020\n",
      "[264]\ttrain-auc:0.99775+0.00003\ttest-auc:0.99607+0.00020\n",
      "[265]\ttrain-auc:0.99776+0.00003\ttest-auc:0.99607+0.00020\n",
      "[266]\ttrain-auc:0.99776+0.00003\ttest-auc:0.99608+0.00020\n",
      "[267]\ttrain-auc:0.99777+0.00003\ttest-auc:0.99608+0.00020\n",
      "[268]\ttrain-auc:0.99778+0.00003\ttest-auc:0.99608+0.00020\n",
      "[269]\ttrain-auc:0.99778+0.00003\ttest-auc:0.99608+0.00020\n",
      "[270]\ttrain-auc:0.99779+0.00003\ttest-auc:0.99608+0.00020\n",
      "[271]\ttrain-auc:0.99779+0.00003\ttest-auc:0.99608+0.00020\n",
      "[272]\ttrain-auc:0.99780+0.00003\ttest-auc:0.99608+0.00020\n",
      "[273]\ttrain-auc:0.99780+0.00003\ttest-auc:0.99609+0.00020\n",
      "[274]\ttrain-auc:0.99781+0.00003\ttest-auc:0.99609+0.00020\n",
      "[275]\ttrain-auc:0.99781+0.00003\ttest-auc:0.99609+0.00020\n",
      "[276]\ttrain-auc:0.99782+0.00003\ttest-auc:0.99609+0.00020\n",
      "[277]\ttrain-auc:0.99782+0.00003\ttest-auc:0.99609+0.00020\n",
      "[278]\ttrain-auc:0.99783+0.00003\ttest-auc:0.99609+0.00020\n",
      "[279]\ttrain-auc:0.99784+0.00003\ttest-auc:0.99610+0.00020\n",
      "[280]\ttrain-auc:0.99784+0.00003\ttest-auc:0.99610+0.00020\n",
      "[281]\ttrain-auc:0.99785+0.00003\ttest-auc:0.99610+0.00020\n",
      "[282]\ttrain-auc:0.99785+0.00003\ttest-auc:0.99610+0.00020\n",
      "[283]\ttrain-auc:0.99786+0.00003\ttest-auc:0.99610+0.00020\n",
      "[284]\ttrain-auc:0.99786+0.00003\ttest-auc:0.99611+0.00020\n",
      "[285]\ttrain-auc:0.99787+0.00003\ttest-auc:0.99611+0.00020\n",
      "[286]\ttrain-auc:0.99787+0.00003\ttest-auc:0.99611+0.00020\n",
      "[287]\ttrain-auc:0.99788+0.00003\ttest-auc:0.99611+0.00020\n",
      "[288]\ttrain-auc:0.99788+0.00003\ttest-auc:0.99611+0.00020\n",
      "[289]\ttrain-auc:0.99789+0.00003\ttest-auc:0.99611+0.00020\n",
      "[290]\ttrain-auc:0.99789+0.00003\ttest-auc:0.99612+0.00020\n",
      "[291]\ttrain-auc:0.99790+0.00003\ttest-auc:0.99612+0.00019\n",
      "[292]\ttrain-auc:0.99790+0.00003\ttest-auc:0.99612+0.00020\n",
      "[293]\ttrain-auc:0.99791+0.00003\ttest-auc:0.99612+0.00020\n",
      "[294]\ttrain-auc:0.99791+0.00003\ttest-auc:0.99611+0.00020\n",
      "[295]\ttrain-auc:0.99792+0.00003\ttest-auc:0.99612+0.00020\n",
      "[296]\ttrain-auc:0.99792+0.00003\ttest-auc:0.99612+0.00020\n",
      "[297]\ttrain-auc:0.99793+0.00003\ttest-auc:0.99612+0.00020\n",
      "[298]\ttrain-auc:0.99793+0.00003\ttest-auc:0.99612+0.00019\n",
      "[299]\ttrain-auc:0.99794+0.00003\ttest-auc:0.99612+0.00019\n",
      "[300]\ttrain-auc:0.99794+0.00003\ttest-auc:0.99613+0.00019\n",
      "[301]\ttrain-auc:0.99795+0.00003\ttest-auc:0.99613+0.00019\n",
      "[302]\ttrain-auc:0.99795+0.00003\ttest-auc:0.99613+0.00019\n",
      "[303]\ttrain-auc:0.99796+0.00003\ttest-auc:0.99613+0.00019\n",
      "[304]\ttrain-auc:0.99796+0.00003\ttest-auc:0.99614+0.00019\n",
      "[305]\ttrain-auc:0.99797+0.00003\ttest-auc:0.99613+0.00019\n",
      "[306]\ttrain-auc:0.99797+0.00003\ttest-auc:0.99614+0.00019\n",
      "[307]\ttrain-auc:0.99797+0.00003\ttest-auc:0.99614+0.00018\n",
      "[308]\ttrain-auc:0.99798+0.00003\ttest-auc:0.99614+0.00019\n",
      "[309]\ttrain-auc:0.99798+0.00003\ttest-auc:0.99614+0.00018\n",
      "[310]\ttrain-auc:0.99799+0.00003\ttest-auc:0.99614+0.00019\n",
      "[311]\ttrain-auc:0.99799+0.00003\ttest-auc:0.99613+0.00019\n",
      "[312]\ttrain-auc:0.99800+0.00003\ttest-auc:0.99613+0.00018\n"
     ]
    }
   ],
   "source": [
    "# Specify cross-validation parameters\n",
    "num_boost_round = 1000\n",
    "n_folds = 10\n",
    "early_stopping_rounds = 5\n",
    "model = XGBClassifier()\n",
    "\n",
    "smote_default_cv_result = xgb.cv(\n",
    "    params=parameters,\n",
    "    dtrain=dtrain_smote,\n",
    "    num_boost_round=num_boost_round,\n",
    "    nfold=n_folds,\n",
    "    metrics='auc',\n",
    "    early_stopping_rounds=early_stopping_rounds,\n",
    "    seed=42,\n",
    "    verbose_eval=True,\n",
    ")"
   ]
  },
  {
   "cell_type": "code",
   "execution_count": 185,
   "id": "f47d936d-d557-4dde-aa99-352722e764a6",
   "metadata": {},
   "outputs": [
    {
     "name": "stdout",
     "output_type": "stream",
     "text": [
      "Optimal number of boosting rounds (estimators): 309\n",
      "Best ROC AUC from CV: 0.9961\n"
     ]
    }
   ],
   "source": [
    "optimal_num_rounds = len(smote_default_cv_result)\n",
    "print(f\"Optimal number of boosting rounds (estimators): {optimal_num_rounds}\")\n",
    "\n",
    "best_auc = smote_default_cv_result['test-auc-mean'].max()\n",
    "print(f\"Best ROC AUC from CV: {best_auc:.4f}\")"
   ]
  },
  {
   "cell_type": "code",
   "execution_count": 171,
   "id": "07928e7e-91e3-46db-97e5-f94d029c97d3",
   "metadata": {},
   "outputs": [
    {
     "name": "stdout",
     "output_type": "stream",
     "text": [
      "Recall (TPR): 0.0725\n",
      "False Positive Rate (FPR): 0.0017\n",
      "The baseline model scores 0.88016 ROC AUC on the test set.\n"
     ]
    }
   ],
   "source": [
    "model.n_estimators = optimal_num_rounds\n",
    "\n",
    "# Train and make predicions with model\n",
    "model.fit(X_train_smote, y_train_smote)\n",
    "preds = model.predict_proba(X_test)[:, 1]\n",
    "baseline_auc = roc_auc_score(y_test, preds)\n",
    "pred_bool = (preds >= 0.5).astype(int)\n",
    "tn, fp, fn, tp = confusion_matrix(y_test, pred_bool).ravel()\n",
    "cm = confusion_matrix(y_test, pred_bool)\n",
    "fpr, tpr, thresholds = roc_curve(y_test, preds)\n",
    "\n",
    "print(f\"Recall (TPR): {tp / (tp + fn):.4f}\")\n",
    "print(f\"False Positive Rate (FPR): {fp / (fp + tn):.4f}\")\n",
    "\n",
    "print('The baseline model scores {:.5f} ROC AUC on the test set.'.format(baseline_auc))"
   ]
  },
  {
   "cell_type": "code",
   "execution_count": 62,
   "id": "341c0b9b-0306-4350-a4cf-3a1fbf3e1882",
   "metadata": {},
   "outputs": [
    {
     "data": {
      "text/html": [
       "<div>\n",
       "<style scoped>\n",
       "    .dataframe tbody tr th:only-of-type {\n",
       "        vertical-align: middle;\n",
       "    }\n",
       "\n",
       "    .dataframe tbody tr th {\n",
       "        vertical-align: top;\n",
       "    }\n",
       "\n",
       "    .dataframe thead th {\n",
       "        text-align: right;\n",
       "    }\n",
       "</style>\n",
       "<table border=\"1\" class=\"dataframe\">\n",
       "  <thead>\n",
       "    <tr style=\"text-align: right;\">\n",
       "      <th></th>\n",
       "      <th>fraud_bool</th>\n",
       "    </tr>\n",
       "  </thead>\n",
       "  <tbody>\n",
       "    <tr>\n",
       "      <th>987231</th>\n",
       "      <td>0</td>\n",
       "    </tr>\n",
       "    <tr>\n",
       "      <th>79954</th>\n",
       "      <td>0</td>\n",
       "    </tr>\n",
       "    <tr>\n",
       "      <th>567130</th>\n",
       "      <td>0</td>\n",
       "    </tr>\n",
       "    <tr>\n",
       "      <th>500891</th>\n",
       "      <td>0</td>\n",
       "    </tr>\n",
       "    <tr>\n",
       "      <th>55399</th>\n",
       "      <td>0</td>\n",
       "    </tr>\n",
       "    <tr>\n",
       "      <th>...</th>\n",
       "      <td>...</td>\n",
       "    </tr>\n",
       "    <tr>\n",
       "      <th>90245</th>\n",
       "      <td>0</td>\n",
       "    </tr>\n",
       "    <tr>\n",
       "      <th>639296</th>\n",
       "      <td>0</td>\n",
       "    </tr>\n",
       "    <tr>\n",
       "      <th>311939</th>\n",
       "      <td>0</td>\n",
       "    </tr>\n",
       "    <tr>\n",
       "      <th>324459</th>\n",
       "      <td>0</td>\n",
       "    </tr>\n",
       "    <tr>\n",
       "      <th>390499</th>\n",
       "      <td>0</td>\n",
       "    </tr>\n",
       "  </tbody>\n",
       "</table>\n",
       "<p>200000 rows × 1 columns</p>\n",
       "</div>"
      ],
      "text/plain": [
       "        fraud_bool\n",
       "987231           0\n",
       "79954            0\n",
       "567130           0\n",
       "500891           0\n",
       "55399            0\n",
       "...            ...\n",
       "90245            0\n",
       "639296           0\n",
       "311939           0\n",
       "324459           0\n",
       "390499           0\n",
       "\n",
       "[200000 rows x 1 columns]"
      ]
     },
     "execution_count": 62,
     "metadata": {},
     "output_type": "execute_result"
    }
   ],
   "source": [
    "y_test."
   ]
  },
  {
   "cell_type": "code",
   "execution_count": 68,
   "id": "dda5adc5-59e9-45f4-9323-3e52591bd43a",
   "metadata": {},
   "outputs": [
    {
     "data": {
      "text/plain": [
       "y        2109\n",
       "y_hat     150\n",
       "dtype: int64"
      ]
     },
     "execution_count": 68,
     "metadata": {},
     "output_type": "execute_result"
    }
   ],
   "source": [
    "compare = pd.DataFrame({\n",
    "    'y':y_test.fraud_bool,\n",
    "    'y_hat':pred_bool\n",
    "})\n",
    "\n",
    "compare[compare.y==1].sum()"
   ]
  },
  {
   "cell_type": "code",
   "execution_count": 172,
   "id": "be36edb4-2cc1-4cd5-8f40-0b3067b780c6",
   "metadata": {},
   "outputs": [
    {
     "data": {
      "image/png": "[encoded data removed]",
      "text/plain": [
       "<Figure size 800x600 with 1 Axes>"
      ]
     },
     "metadata": {},
     "output_type": "display_data"
    }
   ],
   "source": [
    "# Plot the ROC curve\n",
    "plt.figure(figsize=(8, 6))\n",
    "plt.plot(fpr, tpr, color='blue', label=f'AUC = {baseline_auc:.4f}')\n",
    "plt.plot([0, 1], [0, 1], color='grey', linestyle='--', label='Random Guess')\n",
    "plt.title('Receiver Operating Characteristic (ROC) Curve')\n",
    "plt.xlabel('False Positive Rate (FPR)')\n",
    "plt.ylabel('True Positive Rate (TPR)')\n",
    "plt.legend(loc='lower right')\n",
    "plt.grid()\n",
    "plt.show()"
   ]
  },
  {
   "cell_type": "code",
   "execution_count": null,
   "id": "b94ba0ca-4307-461a-a825-5acb0fcea9fe",
   "metadata": {},
   "outputs": [],
   "source": []
  },
  {
   "cell_type": "markdown",
   "id": "8606aa42-f266-40b5-bc37-b4513f72f641",
   "metadata": {},
   "source": [
    "#### data adjusted with smote no.2"
   ]
  },
  {
   "cell_type": "code",
   "execution_count": 7,
   "id": "44606a8e-61aa-4ef5-ad21-6b00c9046cad",
   "metadata": {},
   "outputs": [],
   "source": [
    "dtrain = xgb.DMatrix(X_train, label=y_train)"
   ]
  },
  {
   "cell_type": "code",
   "execution_count": 39,
   "id": "6307d0bd-ad53-42f2-b76c-01c90fc6940b",
   "metadata": {
    "scrolled": true
   },
   "outputs": [
    {
     "name": "stdout",
     "output_type": "stream",
     "text": [
      "[0]\ttrain-auc:0.96133+0.00012\ttest-auc:0.96131+0.00063\n",
      "[1]\ttrain-auc:0.96664+0.00026\ttest-auc:0.96656+0.00041\n",
      "[2]\ttrain-auc:0.97121+0.00027\ttest-auc:0.97116+0.00053\n",
      "[3]\ttrain-auc:0.97572+0.00082\ttest-auc:0.97567+0.00096\n",
      "[4]\ttrain-auc:0.97933+0.00064\ttest-auc:0.97926+0.00084\n",
      "[5]\ttrain-auc:0.98165+0.00058\ttest-auc:0.98156+0.00080\n",
      "[6]\ttrain-auc:0.98497+0.00043\ttest-auc:0.98488+0.00063\n",
      "[7]\ttrain-auc:0.98712+0.00050\ttest-auc:0.98703+0.00069\n",
      "[8]\ttrain-auc:0.98880+0.00048\ttest-auc:0.98872+0.00069\n",
      "[9]\ttrain-auc:0.99012+0.00026\ttest-auc:0.99005+0.00043\n",
      "[10]\ttrain-auc:0.99142+0.00020\ttest-auc:0.99136+0.00038\n",
      "[11]\ttrain-auc:0.99251+0.00030\ttest-auc:0.99243+0.00037\n",
      "[12]\ttrain-auc:0.99360+0.00048\ttest-auc:0.99352+0.00054\n",
      "[13]\ttrain-auc:0.99434+0.00048\ttest-auc:0.99426+0.00054\n",
      "[14]\ttrain-auc:0.99493+0.00045\ttest-auc:0.99484+0.00051\n",
      "[15]\ttrain-auc:0.99549+0.00023\ttest-auc:0.99539+0.00030\n",
      "[16]\ttrain-auc:0.99589+0.00023\ttest-auc:0.99580+0.00024\n",
      "[17]\ttrain-auc:0.99616+0.00020\ttest-auc:0.99607+0.00022\n",
      "[18]\ttrain-auc:0.99651+0.00010\ttest-auc:0.99642+0.00022\n",
      "[19]\ttrain-auc:0.99670+0.00008\ttest-auc:0.99661+0.00021\n",
      "[20]\ttrain-auc:0.99691+0.00010\ttest-auc:0.99682+0.00017\n",
      "[21]\ttrain-auc:0.99706+0.00011\ttest-auc:0.99697+0.00018\n",
      "[22]\ttrain-auc:0.99719+0.00012\ttest-auc:0.99709+0.00017\n",
      "[23]\ttrain-auc:0.99731+0.00009\ttest-auc:0.99721+0.00016\n",
      "[24]\ttrain-auc:0.99740+0.00007\ttest-auc:0.99729+0.00016\n",
      "[25]\ttrain-auc:0.99749+0.00006\ttest-auc:0.99738+0.00016\n",
      "[26]\ttrain-auc:0.99757+0.00006\ttest-auc:0.99745+0.00016\n",
      "[27]\ttrain-auc:0.99764+0.00005\ttest-auc:0.99752+0.00016\n",
      "[28]\ttrain-auc:0.99771+0.00005\ttest-auc:0.99758+0.00015\n",
      "[29]\ttrain-auc:0.99776+0.00005\ttest-auc:0.99764+0.00014\n",
      "[30]\ttrain-auc:0.99781+0.00004\ttest-auc:0.99768+0.00014\n",
      "[31]\ttrain-auc:0.99787+0.00004\ttest-auc:0.99774+0.00014\n",
      "[32]\ttrain-auc:0.99791+0.00004\ttest-auc:0.99778+0.00013\n",
      "[33]\ttrain-auc:0.99796+0.00003\ttest-auc:0.99782+0.00014\n",
      "[34]\ttrain-auc:0.99800+0.00004\ttest-auc:0.99785+0.00014\n",
      "[35]\ttrain-auc:0.99803+0.00004\ttest-auc:0.99788+0.00014\n",
      "[36]\ttrain-auc:0.99806+0.00004\ttest-auc:0.99790+0.00014\n",
      "[37]\ttrain-auc:0.99809+0.00004\ttest-auc:0.99792+0.00013\n",
      "[38]\ttrain-auc:0.99812+0.00003\ttest-auc:0.99795+0.00013\n",
      "[39]\ttrain-auc:0.99815+0.00003\ttest-auc:0.99798+0.00013\n",
      "[40]\ttrain-auc:0.99818+0.00003\ttest-auc:0.99800+0.00013\n",
      "[41]\ttrain-auc:0.99821+0.00003\ttest-auc:0.99803+0.00014\n",
      "[42]\ttrain-auc:0.99824+0.00003\ttest-auc:0.99805+0.00014\n",
      "[43]\ttrain-auc:0.99827+0.00003\ttest-auc:0.99807+0.00015\n",
      "[44]\ttrain-auc:0.99829+0.00002\ttest-auc:0.99809+0.00014\n",
      "[45]\ttrain-auc:0.99832+0.00002\ttest-auc:0.99811+0.00014\n",
      "[46]\ttrain-auc:0.99833+0.00003\ttest-auc:0.99812+0.00014\n",
      "[47]\ttrain-auc:0.99835+0.00003\ttest-auc:0.99814+0.00014\n",
      "[48]\ttrain-auc:0.99837+0.00003\ttest-auc:0.99815+0.00014\n",
      "[49]\ttrain-auc:0.99840+0.00003\ttest-auc:0.99817+0.00013\n",
      "[50]\ttrain-auc:0.99842+0.00002\ttest-auc:0.99818+0.00013\n",
      "[51]\ttrain-auc:0.99844+0.00003\ttest-auc:0.99819+0.00013\n",
      "[52]\ttrain-auc:0.99846+0.00002\ttest-auc:0.99821+0.00013\n",
      "[53]\ttrain-auc:0.99848+0.00002\ttest-auc:0.99822+0.00013\n",
      "[54]\ttrain-auc:0.99850+0.00002\ttest-auc:0.99824+0.00014\n",
      "[55]\ttrain-auc:0.99852+0.00002\ttest-auc:0.99825+0.00013\n",
      "[56]\ttrain-auc:0.99854+0.00002\ttest-auc:0.99826+0.00013\n",
      "[57]\ttrain-auc:0.99856+0.00002\ttest-auc:0.99828+0.00013\n",
      "[58]\ttrain-auc:0.99857+0.00002\ttest-auc:0.99829+0.00012\n",
      "[59]\ttrain-auc:0.99859+0.00002\ttest-auc:0.99830+0.00012\n",
      "[60]\ttrain-auc:0.99861+0.00002\ttest-auc:0.99832+0.00012\n",
      "[61]\ttrain-auc:0.99863+0.00002\ttest-auc:0.99833+0.00012\n",
      "[62]\ttrain-auc:0.99864+0.00002\ttest-auc:0.99834+0.00012\n",
      "[63]\ttrain-auc:0.99866+0.00002\ttest-auc:0.99835+0.00012\n",
      "[64]\ttrain-auc:0.99867+0.00002\ttest-auc:0.99835+0.00012\n",
      "[65]\ttrain-auc:0.99869+0.00002\ttest-auc:0.99836+0.00012\n",
      "[66]\ttrain-auc:0.99871+0.00002\ttest-auc:0.99837+0.00012\n",
      "[67]\ttrain-auc:0.99872+0.00002\ttest-auc:0.99838+0.00012\n",
      "[68]\ttrain-auc:0.99874+0.00002\ttest-auc:0.99839+0.00012\n",
      "[69]\ttrain-auc:0.99875+0.00002\ttest-auc:0.99839+0.00013\n",
      "[70]\ttrain-auc:0.99877+0.00001\ttest-auc:0.99840+0.00013\n",
      "[71]\ttrain-auc:0.99878+0.00001\ttest-auc:0.99841+0.00013\n",
      "[72]\ttrain-auc:0.99880+0.00001\ttest-auc:0.99842+0.00013\n",
      "[73]\ttrain-auc:0.99881+0.00001\ttest-auc:0.99842+0.00013\n",
      "[74]\ttrain-auc:0.99882+0.00001\ttest-auc:0.99843+0.00013\n",
      "[75]\ttrain-auc:0.99883+0.00001\ttest-auc:0.99844+0.00013\n",
      "[76]\ttrain-auc:0.99885+0.00001\ttest-auc:0.99844+0.00013\n",
      "[77]\ttrain-auc:0.99886+0.00001\ttest-auc:0.99845+0.00013\n",
      "[78]\ttrain-auc:0.99887+0.00001\ttest-auc:0.99846+0.00013\n",
      "[79]\ttrain-auc:0.99889+0.00001\ttest-auc:0.99846+0.00013\n",
      "[80]\ttrain-auc:0.99890+0.00001\ttest-auc:0.99847+0.00013\n",
      "[81]\ttrain-auc:0.99892+0.00001\ttest-auc:0.99847+0.00013\n",
      "[82]\ttrain-auc:0.99893+0.00001\ttest-auc:0.99848+0.00013\n",
      "[83]\ttrain-auc:0.99894+0.00001\ttest-auc:0.99848+0.00013\n",
      "[84]\ttrain-auc:0.99895+0.00001\ttest-auc:0.99849+0.00013\n",
      "[85]\ttrain-auc:0.99896+0.00001\ttest-auc:0.99849+0.00013\n",
      "[86]\ttrain-auc:0.99897+0.00001\ttest-auc:0.99849+0.00013\n",
      "[87]\ttrain-auc:0.99898+0.00001\ttest-auc:0.99850+0.00012\n",
      "[88]\ttrain-auc:0.99899+0.00001\ttest-auc:0.99851+0.00013\n",
      "[89]\ttrain-auc:0.99901+0.00001\ttest-auc:0.99851+0.00013\n",
      "[90]\ttrain-auc:0.99902+0.00001\ttest-auc:0.99852+0.00013\n",
      "[91]\ttrain-auc:0.99903+0.00001\ttest-auc:0.99852+0.00013\n",
      "[92]\ttrain-auc:0.99904+0.00001\ttest-auc:0.99853+0.00012\n",
      "[93]\ttrain-auc:0.99905+0.00001\ttest-auc:0.99853+0.00012\n",
      "[94]\ttrain-auc:0.99906+0.00001\ttest-auc:0.99853+0.00012\n",
      "[95]\ttrain-auc:0.99907+0.00001\ttest-auc:0.99854+0.00012\n",
      "[96]\ttrain-auc:0.99908+0.00001\ttest-auc:0.99854+0.00012\n",
      "[97]\ttrain-auc:0.99909+0.00001\ttest-auc:0.99855+0.00012\n",
      "[98]\ttrain-auc:0.99910+0.00001\ttest-auc:0.99855+0.00012\n",
      "[99]\ttrain-auc:0.99911+0.00001\ttest-auc:0.99855+0.00012\n",
      "[100]\ttrain-auc:0.99912+0.00001\ttest-auc:0.99856+0.00012\n",
      "[101]\ttrain-auc:0.99913+0.00001\ttest-auc:0.99856+0.00012\n",
      "[102]\ttrain-auc:0.99914+0.00001\ttest-auc:0.99856+0.00012\n",
      "[103]\ttrain-auc:0.99915+0.00001\ttest-auc:0.99856+0.00012\n",
      "[104]\ttrain-auc:0.99915+0.00001\ttest-auc:0.99857+0.00012\n",
      "[105]\ttrain-auc:0.99916+0.00001\ttest-auc:0.99857+0.00012\n",
      "[106]\ttrain-auc:0.99917+0.00001\ttest-auc:0.99857+0.00012\n",
      "[107]\ttrain-auc:0.99918+0.00001\ttest-auc:0.99857+0.00012\n",
      "[108]\ttrain-auc:0.99919+0.00001\ttest-auc:0.99858+0.00012\n",
      "[109]\ttrain-auc:0.99920+0.00001\ttest-auc:0.99858+0.00012\n",
      "[110]\ttrain-auc:0.99920+0.00001\ttest-auc:0.99859+0.00012\n",
      "[111]\ttrain-auc:0.99921+0.00001\ttest-auc:0.99859+0.00011\n",
      "[112]\ttrain-auc:0.99922+0.00001\ttest-auc:0.99859+0.00012\n",
      "[113]\ttrain-auc:0.99923+0.00001\ttest-auc:0.99859+0.00011\n",
      "[114]\ttrain-auc:0.99924+0.00001\ttest-auc:0.99859+0.00011\n",
      "[115]\ttrain-auc:0.99924+0.00001\ttest-auc:0.99860+0.00011\n",
      "[116]\ttrain-auc:0.99925+0.00001\ttest-auc:0.99860+0.00011\n",
      "[117]\ttrain-auc:0.99926+0.00001\ttest-auc:0.99860+0.00011\n",
      "[118]\ttrain-auc:0.99926+0.00001\ttest-auc:0.99861+0.00011\n",
      "[119]\ttrain-auc:0.99927+0.00001\ttest-auc:0.99861+0.00011\n",
      "[120]\ttrain-auc:0.99928+0.00001\ttest-auc:0.99861+0.00011\n",
      "[121]\ttrain-auc:0.99929+0.00001\ttest-auc:0.99861+0.00011\n",
      "[122]\ttrain-auc:0.99929+0.00001\ttest-auc:0.99861+0.00011\n",
      "[123]\ttrain-auc:0.99930+0.00001\ttest-auc:0.99861+0.00011\n",
      "[124]\ttrain-auc:0.99931+0.00001\ttest-auc:0.99862+0.00011\n",
      "[125]\ttrain-auc:0.99931+0.00001\ttest-auc:0.99862+0.00011\n",
      "[126]\ttrain-auc:0.99932+0.00001\ttest-auc:0.99862+0.00011\n",
      "[127]\ttrain-auc:0.99932+0.00001\ttest-auc:0.99862+0.00010\n",
      "[128]\ttrain-auc:0.99933+0.00001\ttest-auc:0.99862+0.00010\n",
      "[129]\ttrain-auc:0.99934+0.00001\ttest-auc:0.99862+0.00010\n",
      "[130]\ttrain-auc:0.99934+0.00001\ttest-auc:0.99863+0.00011\n",
      "[131]\ttrain-auc:0.99935+0.00001\ttest-auc:0.99863+0.00011\n",
      "[132]\ttrain-auc:0.99936+0.00001\ttest-auc:0.99863+0.00011\n",
      "[133]\ttrain-auc:0.99936+0.00001\ttest-auc:0.99863+0.00011\n",
      "[134]\ttrain-auc:0.99937+0.00001\ttest-auc:0.99863+0.00011\n",
      "[135]\ttrain-auc:0.99937+0.00001\ttest-auc:0.99863+0.00011\n",
      "[136]\ttrain-auc:0.99938+0.00001\ttest-auc:0.99863+0.00011\n",
      "[137]\ttrain-auc:0.99938+0.00001\ttest-auc:0.99863+0.00011\n",
      "[138]\ttrain-auc:0.99939+0.00001\ttest-auc:0.99863+0.00011\n",
      "[139]\ttrain-auc:0.99940+0.00001\ttest-auc:0.99864+0.00011\n",
      "[140]\ttrain-auc:0.99940+0.00001\ttest-auc:0.99864+0.00011\n",
      "[141]\ttrain-auc:0.99941+0.00001\ttest-auc:0.99864+0.00011\n",
      "[142]\ttrain-auc:0.99941+0.00001\ttest-auc:0.99864+0.00011\n",
      "[143]\ttrain-auc:0.99942+0.00001\ttest-auc:0.99864+0.00011\n",
      "[144]\ttrain-auc:0.99943+0.00001\ttest-auc:0.99864+0.00011\n",
      "[145]\ttrain-auc:0.99943+0.00001\ttest-auc:0.99864+0.00011\n",
      "[146]\ttrain-auc:0.99943+0.00001\ttest-auc:0.99865+0.00011\n",
      "[147]\ttrain-auc:0.99944+0.00001\ttest-auc:0.99865+0.00011\n",
      "[148]\ttrain-auc:0.99945+0.00001\ttest-auc:0.99865+0.00011\n",
      "[149]\ttrain-auc:0.99945+0.00001\ttest-auc:0.99865+0.00011\n",
      "[150]\ttrain-auc:0.99946+0.00001\ttest-auc:0.99865+0.00011\n",
      "[151]\ttrain-auc:0.99946+0.00001\ttest-auc:0.99865+0.00011\n",
      "[152]\ttrain-auc:0.99947+0.00001\ttest-auc:0.99865+0.00011\n",
      "[153]\ttrain-auc:0.99947+0.00001\ttest-auc:0.99865+0.00011\n",
      "[154]\ttrain-auc:0.99948+0.00001\ttest-auc:0.99865+0.00011\n",
      "[155]\ttrain-auc:0.99948+0.00001\ttest-auc:0.99865+0.00011\n",
      "[156]\ttrain-auc:0.99949+0.00001\ttest-auc:0.99865+0.00011\n",
      "[157]\ttrain-auc:0.99949+0.00001\ttest-auc:0.99866+0.00011\n",
      "[158]\ttrain-auc:0.99950+0.00001\ttest-auc:0.99866+0.00011\n",
      "[159]\ttrain-auc:0.99950+0.00001\ttest-auc:0.99866+0.00011\n",
      "[160]\ttrain-auc:0.99951+0.00001\ttest-auc:0.99866+0.00011\n",
      "[161]\ttrain-auc:0.99951+0.00001\ttest-auc:0.99866+0.00011\n",
      "[162]\ttrain-auc:0.99951+0.00001\ttest-auc:0.99866+0.00011\n",
      "[163]\ttrain-auc:0.99952+0.00001\ttest-auc:0.99867+0.00011\n",
      "[164]\ttrain-auc:0.99952+0.00001\ttest-auc:0.99867+0.00011\n",
      "[165]\ttrain-auc:0.99953+0.00001\ttest-auc:0.99866+0.00011\n",
      "[166]\ttrain-auc:0.99953+0.00001\ttest-auc:0.99866+0.00011\n",
      "[167]\ttrain-auc:0.99954+0.00001\ttest-auc:0.99867+0.00011\n",
      "[168]\ttrain-auc:0.99954+0.00001\ttest-auc:0.99867+0.00011\n",
      "[169]\ttrain-auc:0.99955+0.00001\ttest-auc:0.99867+0.00011\n",
      "[170]\ttrain-auc:0.99955+0.00001\ttest-auc:0.99867+0.00011\n",
      "[171]\ttrain-auc:0.99955+0.00001\ttest-auc:0.99867+0.00011\n",
      "[172]\ttrain-auc:0.99956+0.00001\ttest-auc:0.99867+0.00011\n",
      "[173]\ttrain-auc:0.99956+0.00001\ttest-auc:0.99867+0.00011\n",
      "[174]\ttrain-auc:0.99957+0.00001\ttest-auc:0.99867+0.00011\n",
      "[175]\ttrain-auc:0.99957+0.00001\ttest-auc:0.99867+0.00011\n",
      "[176]\ttrain-auc:0.99957+0.00001\ttest-auc:0.99867+0.00011\n",
      "[177]\ttrain-auc:0.99958+0.00001\ttest-auc:0.99867+0.00011\n",
      "[178]\ttrain-auc:0.99958+0.00001\ttest-auc:0.99867+0.00011\n",
      "[179]\ttrain-auc:0.99959+0.00001\ttest-auc:0.99868+0.00011\n",
      "[180]\ttrain-auc:0.99959+0.00001\ttest-auc:0.99868+0.00011\n",
      "[181]\ttrain-auc:0.99959+0.00001\ttest-auc:0.99868+0.00011\n",
      "[182]\ttrain-auc:0.99960+0.00001\ttest-auc:0.99868+0.00011\n",
      "[183]\ttrain-auc:0.99960+0.00001\ttest-auc:0.99868+0.00011\n",
      "[184]\ttrain-auc:0.99961+0.00001\ttest-auc:0.99868+0.00011\n",
      "[185]\ttrain-auc:0.99961+0.00001\ttest-auc:0.99868+0.00011\n",
      "[186]\ttrain-auc:0.99961+0.00001\ttest-auc:0.99868+0.00011\n",
      "[187]\ttrain-auc:0.99962+0.00001\ttest-auc:0.99868+0.00011\n"
     ]
    }
   ],
   "source": [
    "#cross validation parameters\n",
    "num_boost_round = 10000\n",
    "n_folds = 10\n",
    "early_stopping_rounds = 5\n",
    "default_cv_result = xgb.cv(\n",
    "    params=base_model.get_params(),\n",
    "    dtrain=dtrain,\n",
    "    num_boost_round=num_boost_round,\n",
    "    nfold=n_folds,\n",
    "    metrics='auc',\n",
    "    early_stopping_rounds=early_stopping_rounds,\n",
    "    seed=42,\n",
    "    verbose_eval=True,\n",
    ")"
   ]
  },
  {
   "cell_type": "code",
   "execution_count": 40,
   "id": "a6050391-851c-4fb6-93dd-e2bd2e5efc39",
   "metadata": {},
   "outputs": [
    {
     "name": "stdout",
     "output_type": "stream",
     "text": [
      "Optimal number of boosting rounds (estimators): 184\n",
      "Best ROC AUC from CV: 0.9987\n"
     ]
    }
   ],
   "source": [
    "optimal_num_rounds = len(default_cv_result)\n",
    "print(f\"Optimal number of boosting rounds (estimators): {optimal_num_rounds}\")\n",
    "\n",
    "best_auc = default_cv_result['test-auc-mean'].max()\n",
    "print(f\"Best ROC AUC from CV: {best_auc:.4f}\")"
   ]
  },
  {
   "cell_type": "code",
   "execution_count": 46,
   "id": "e8261e01-6987-4e27-85ce-b74590f41c20",
   "metadata": {},
   "outputs": [
    {
     "name": "stdout",
     "output_type": "stream",
     "text": [
      "Recall (TPR): 0.0915\n",
      "False Positive Rate (FPR): 0.0023\n",
      "ROC AUC: 0.87100\n"
     ]
    }
   ],
   "source": [
    "base_model.fit(X_train, y_train)\n",
    "base_results = evaluate_model_performance(base_model, X_test, y_test)"
   ]
  },
  {
   "cell_type": "code",
   "execution_count": 52,
   "id": "5d422bf8-ae21-4dae-a1a2-c46aa3e4481b",
   "metadata": {},
   "outputs": [
    {
     "data": {
      "text/plain": [
       "y        2109\n",
       "y_hat     169\n",
       "dtype: int64"
      ]
     },
     "execution_count": 52,
     "metadata": {},
     "output_type": "execute_result"
    }
   ],
   "source": [
    "compare = pd.DataFrame({\n",
    "    'y':y_test.fraud_bool,\n",
    "    'y_hat':pred_bool\n",
    "})\n",
    "\n",
    "compare[compare.y==1].sum()"
   ]
  },
  {
   "cell_type": "code",
   "execution_count": 53,
   "id": "b0949e53-bb3d-4a35-962d-58c8b01b9052",
   "metadata": {},
   "outputs": [
    {
     "data": {
      "image/png": "[encoded data removed]",
      "text/plain": [
       "<Figure size 800x600 with 1 Axes>"
      ]
     },
     "metadata": {},
     "output_type": "display_data"
    }
   ],
   "source": [
    "# Plot the ROC curve\n",
    "plt.figure(figsize=(8, 6))\n",
    "plt.plot(fpr, tpr, color='blue', label=f'AUC = {baseline_auc:.4f}')\n",
    "plt.plot([0, 1], [0, 1], color='grey', linestyle='--', label='Random Guess')\n",
    "plt.title('Receiver Operating Characteristic (ROC) Curve')\n",
    "plt.xlabel('False Positive Rate (FPR)')\n",
    "plt.ylabel('True Positive Rate (TPR)')\n",
    "plt.legend(loc='lower right')\n",
    "plt.grid()\n",
    "plt.show()"
   ]
  },
  {
   "cell_type": "code",
   "execution_count": 54,
   "id": "3e0dfe6e-7028-4838-a254-20fd763630a7",
   "metadata": {},
   "outputs": [
    {
     "data": {
      "image/png": "[encoded data removed]",
      "text/plain": [
       "<Figure size 800x600 with 1 Axes>"
      ]
     },
     "metadata": {},
     "output_type": "display_data"
    }
   ],
   "source": [
    "# Plot confusion matrix\n",
    "plt.figure(figsize=(8, 6))\n",
    "sns.heatmap(cm, annot=True, fmt='d', cmap='Blues', cbar=False, xticklabels=['Not Fraud', 'Fraud'], yticklabels=['Not Fraud', 'Fraud'])\n",
    "plt.xlabel('Predicted')\n",
    "plt.ylabel('Actual')\n",
    "plt.title('Confusion Matrix')\n",
    "plt.show()"
   ]
  },
  {
   "cell_type": "code",
   "execution_count": 10,
   "id": "2707bfd8-38ef-426c-94fa-4319e8a15b33",
   "metadata": {},
   "outputs": [],
   "source": [
    "X_train_smote3 = pd.read_csv(f\"{params['data_location']}/x_train_data_smote3.csv\", index_col=0)"
   ]
  },
  {
   "cell_type": "code",
   "execution_count": 11,
   "id": "8d5267c5-bafb-45d4-8851-04997dc589b6",
   "metadata": {},
   "outputs": [],
   "source": [
    "y_train_smote3 = pd.read_csv(f\"{params['data_location']}/y_train_data_smote3.csv\", index_col=0)"
   ]
  },
  {
   "cell_type": "code",
   "execution_count": 12,
   "id": "e0ae6412-11f1-408d-b4a3-251f15d1d312",
   "metadata": {},
   "outputs": [],
   "source": [
    "dtrain_smote3 = xgb.DMatrix(X_train_smote3, label=y_train_smote3)"
   ]
  },
  {
   "cell_type": "code",
   "execution_count": 18,
   "id": "f0052754-d1a7-4c50-8d87-3183a59586f3",
   "metadata": {
    "scrolled": true
   },
   "outputs": [
    {
     "name": "stdout",
     "output_type": "stream",
     "text": [
      "[0]\ttrain-auc:0.96314+0.00010\ttest-auc:0.96309+0.00051\n",
      "[1]\ttrain-auc:0.96828+0.00053\ttest-auc:0.96824+0.00084\n",
      "[2]\ttrain-auc:0.97650+0.00052\ttest-auc:0.97644+0.00065\n",
      "[3]\ttrain-auc:0.97811+0.00020\ttest-auc:0.97807+0.00040\n",
      "[4]\ttrain-auc:0.98020+0.00017\ttest-auc:0.98017+0.00028\n",
      "[5]\ttrain-auc:0.98277+0.00041\ttest-auc:0.98274+0.00032\n",
      "[6]\ttrain-auc:0.98493+0.00031\ttest-auc:0.98493+0.00030\n",
      "[7]\ttrain-auc:0.98698+0.00043\ttest-auc:0.98697+0.00041\n",
      "[8]\ttrain-auc:0.98876+0.00051\ttest-auc:0.98874+0.00046\n",
      "[9]\ttrain-auc:0.99021+0.00027\ttest-auc:0.99019+0.00030\n",
      "[10]\ttrain-auc:0.99132+0.00048\ttest-auc:0.99131+0.00038\n",
      "[11]\ttrain-auc:0.99258+0.00052\ttest-auc:0.99256+0.00049\n",
      "[12]\ttrain-auc:0.99369+0.00060\ttest-auc:0.99366+0.00062\n",
      "[13]\ttrain-auc:0.99451+0.00046\ttest-auc:0.99447+0.00045\n",
      "[14]\ttrain-auc:0.99517+0.00022\ttest-auc:0.99513+0.00027\n",
      "[15]\ttrain-auc:0.99560+0.00018\ttest-auc:0.99555+0.00026\n",
      "[16]\ttrain-auc:0.99594+0.00010\ttest-auc:0.99589+0.00017\n",
      "[17]\ttrain-auc:0.99634+0.00010\ttest-auc:0.99630+0.00011\n",
      "[18]\ttrain-auc:0.99662+0.00016\ttest-auc:0.99659+0.00017\n",
      "[19]\ttrain-auc:0.99682+0.00015\ttest-auc:0.99678+0.00016\n",
      "[20]\ttrain-auc:0.99694+0.00014\ttest-auc:0.99690+0.00016\n",
      "[21]\ttrain-auc:0.99713+0.00015\ttest-auc:0.99708+0.00018\n",
      "[22]\ttrain-auc:0.99731+0.00013\ttest-auc:0.99725+0.00016\n",
      "[23]\ttrain-auc:0.99742+0.00011\ttest-auc:0.99736+0.00013\n",
      "[24]\ttrain-auc:0.99749+0.00011\ttest-auc:0.99744+0.00014\n",
      "[25]\ttrain-auc:0.99760+0.00011\ttest-auc:0.99753+0.00013\n",
      "[26]\ttrain-auc:0.99767+0.00011\ttest-auc:0.99761+0.00013\n",
      "[27]\ttrain-auc:0.99776+0.00007\ttest-auc:0.99769+0.00010\n",
      "[28]\ttrain-auc:0.99782+0.00008\ttest-auc:0.99774+0.00011\n",
      "[29]\ttrain-auc:0.99788+0.00007\ttest-auc:0.99780+0.00010\n",
      "[30]\ttrain-auc:0.99793+0.00007\ttest-auc:0.99785+0.00009\n",
      "[31]\ttrain-auc:0.99797+0.00007\ttest-auc:0.99790+0.00009\n",
      "[32]\ttrain-auc:0.99801+0.00007\ttest-auc:0.99793+0.00010\n",
      "[33]\ttrain-auc:0.99806+0.00006\ttest-auc:0.99797+0.00010\n",
      "[34]\ttrain-auc:0.99810+0.00006\ttest-auc:0.99801+0.00010\n",
      "[35]\ttrain-auc:0.99813+0.00006\ttest-auc:0.99804+0.00009\n",
      "[36]\ttrain-auc:0.99816+0.00006\ttest-auc:0.99807+0.00009\n",
      "[37]\ttrain-auc:0.99820+0.00005\ttest-auc:0.99810+0.00009\n",
      "[38]\ttrain-auc:0.99823+0.00005\ttest-auc:0.99813+0.00008\n",
      "[39]\ttrain-auc:0.99826+0.00004\ttest-auc:0.99815+0.00008\n",
      "[40]\ttrain-auc:0.99829+0.00003\ttest-auc:0.99818+0.00007\n",
      "[41]\ttrain-auc:0.99832+0.00003\ttest-auc:0.99821+0.00006\n",
      "[42]\ttrain-auc:0.99834+0.00003\ttest-auc:0.99823+0.00007\n",
      "[43]\ttrain-auc:0.99836+0.00003\ttest-auc:0.99825+0.00006\n",
      "[44]\ttrain-auc:0.99839+0.00002\ttest-auc:0.99827+0.00005\n",
      "[45]\ttrain-auc:0.99840+0.00002\ttest-auc:0.99828+0.00005\n",
      "[46]\ttrain-auc:0.99842+0.00002\ttest-auc:0.99829+0.00005\n",
      "[47]\ttrain-auc:0.99844+0.00002\ttest-auc:0.99831+0.00005\n",
      "[48]\ttrain-auc:0.99845+0.00002\ttest-auc:0.99832+0.00005\n",
      "[49]\ttrain-auc:0.99847+0.00001\ttest-auc:0.99833+0.00005\n",
      "[50]\ttrain-auc:0.99849+0.00001\ttest-auc:0.99834+0.00005\n",
      "[51]\ttrain-auc:0.99850+0.00001\ttest-auc:0.99836+0.00005\n",
      "[52]\ttrain-auc:0.99852+0.00001\ttest-auc:0.99837+0.00006\n",
      "[53]\ttrain-auc:0.99854+0.00001\ttest-auc:0.99838+0.00005\n",
      "[54]\ttrain-auc:0.99855+0.00001\ttest-auc:0.99839+0.00005\n",
      "[55]\ttrain-auc:0.99857+0.00001\ttest-auc:0.99840+0.00006\n",
      "[56]\ttrain-auc:0.99858+0.00001\ttest-auc:0.99841+0.00006\n",
      "[57]\ttrain-auc:0.99860+0.00001\ttest-auc:0.99843+0.00006\n",
      "[58]\ttrain-auc:0.99861+0.00001\ttest-auc:0.99843+0.00006\n",
      "[59]\ttrain-auc:0.99862+0.00001\ttest-auc:0.99844+0.00006\n",
      "[60]\ttrain-auc:0.99863+0.00001\ttest-auc:0.99845+0.00006\n",
      "[61]\ttrain-auc:0.99864+0.00002\ttest-auc:0.99846+0.00005\n",
      "[62]\ttrain-auc:0.99866+0.00001\ttest-auc:0.99847+0.00005\n",
      "[63]\ttrain-auc:0.99867+0.00002\ttest-auc:0.99848+0.00005\n",
      "[64]\ttrain-auc:0.99868+0.00001\ttest-auc:0.99848+0.00005\n",
      "[65]\ttrain-auc:0.99869+0.00001\ttest-auc:0.99849+0.00005\n",
      "[66]\ttrain-auc:0.99871+0.00001\ttest-auc:0.99850+0.00005\n",
      "[67]\ttrain-auc:0.99872+0.00001\ttest-auc:0.99850+0.00005\n",
      "[68]\ttrain-auc:0.99873+0.00001\ttest-auc:0.99851+0.00005\n",
      "[69]\ttrain-auc:0.99874+0.00001\ttest-auc:0.99852+0.00005\n",
      "[70]\ttrain-auc:0.99875+0.00001\ttest-auc:0.99853+0.00005\n",
      "[71]\ttrain-auc:0.99876+0.00001\ttest-auc:0.99853+0.00005\n",
      "[72]\ttrain-auc:0.99877+0.00001\ttest-auc:0.99854+0.00005\n",
      "[73]\ttrain-auc:0.99878+0.00001\ttest-auc:0.99855+0.00005\n",
      "[74]\ttrain-auc:0.99879+0.00001\ttest-auc:0.99855+0.00005\n",
      "[75]\ttrain-auc:0.99881+0.00001\ttest-auc:0.99856+0.00005\n",
      "[76]\ttrain-auc:0.99882+0.00001\ttest-auc:0.99857+0.00005\n",
      "[77]\ttrain-auc:0.99883+0.00001\ttest-auc:0.99857+0.00005\n",
      "[78]\ttrain-auc:0.99884+0.00001\ttest-auc:0.99858+0.00005\n",
      "[79]\ttrain-auc:0.99885+0.00001\ttest-auc:0.99858+0.00005\n",
      "[80]\ttrain-auc:0.99886+0.00001\ttest-auc:0.99859+0.00005\n",
      "[81]\ttrain-auc:0.99887+0.00001\ttest-auc:0.99859+0.00005\n",
      "[82]\ttrain-auc:0.99888+0.00001\ttest-auc:0.99860+0.00005\n",
      "[83]\ttrain-auc:0.99889+0.00001\ttest-auc:0.99860+0.00005\n",
      "[84]\ttrain-auc:0.99890+0.00001\ttest-auc:0.99861+0.00005\n",
      "[85]\ttrain-auc:0.99890+0.00001\ttest-auc:0.99861+0.00005\n",
      "[86]\ttrain-auc:0.99891+0.00001\ttest-auc:0.99861+0.00005\n",
      "[87]\ttrain-auc:0.99892+0.00001\ttest-auc:0.99862+0.00005\n",
      "[88]\ttrain-auc:0.99893+0.00001\ttest-auc:0.99862+0.00005\n",
      "[89]\ttrain-auc:0.99894+0.00001\ttest-auc:0.99863+0.00005\n",
      "[90]\ttrain-auc:0.99895+0.00001\ttest-auc:0.99863+0.00005\n",
      "[91]\ttrain-auc:0.99896+0.00001\ttest-auc:0.99864+0.00005\n",
      "[92]\ttrain-auc:0.99897+0.00001\ttest-auc:0.99864+0.00005\n",
      "[93]\ttrain-auc:0.99897+0.00001\ttest-auc:0.99865+0.00005\n",
      "[94]\ttrain-auc:0.99899+0.00001\ttest-auc:0.99865+0.00005\n",
      "[95]\ttrain-auc:0.99899+0.00001\ttest-auc:0.99866+0.00005\n",
      "[96]\ttrain-auc:0.99900+0.00001\ttest-auc:0.99866+0.00005\n",
      "[97]\ttrain-auc:0.99901+0.00001\ttest-auc:0.99866+0.00005\n",
      "[98]\ttrain-auc:0.99902+0.00001\ttest-auc:0.99867+0.00005\n",
      "[99]\ttrain-auc:0.99903+0.00001\ttest-auc:0.99867+0.00005\n",
      "[100]\ttrain-auc:0.99903+0.00001\ttest-auc:0.99868+0.00005\n",
      "[101]\ttrain-auc:0.99904+0.00001\ttest-auc:0.99868+0.00005\n",
      "[102]\ttrain-auc:0.99904+0.00001\ttest-auc:0.99868+0.00006\n",
      "[103]\ttrain-auc:0.99905+0.00001\ttest-auc:0.99868+0.00006\n",
      "[104]\ttrain-auc:0.99906+0.00001\ttest-auc:0.99869+0.00005\n",
      "[105]\ttrain-auc:0.99907+0.00001\ttest-auc:0.99869+0.00006\n",
      "[106]\ttrain-auc:0.99907+0.00001\ttest-auc:0.99869+0.00006\n",
      "[107]\ttrain-auc:0.99908+0.00001\ttest-auc:0.99870+0.00006\n",
      "[108]\ttrain-auc:0.99909+0.00001\ttest-auc:0.99870+0.00006\n",
      "[109]\ttrain-auc:0.99909+0.00001\ttest-auc:0.99870+0.00005\n",
      "[110]\ttrain-auc:0.99910+0.00001\ttest-auc:0.99870+0.00006\n",
      "[111]\ttrain-auc:0.99911+0.00001\ttest-auc:0.99871+0.00005\n",
      "[112]\ttrain-auc:0.99911+0.00001\ttest-auc:0.99871+0.00005\n",
      "[113]\ttrain-auc:0.99912+0.00001\ttest-auc:0.99871+0.00005\n",
      "[114]\ttrain-auc:0.99913+0.00001\ttest-auc:0.99871+0.00005\n",
      "[115]\ttrain-auc:0.99913+0.00001\ttest-auc:0.99871+0.00005\n",
      "[116]\ttrain-auc:0.99914+0.00001\ttest-auc:0.99872+0.00005\n",
      "[117]\ttrain-auc:0.99914+0.00001\ttest-auc:0.99872+0.00005\n",
      "[118]\ttrain-auc:0.99915+0.00001\ttest-auc:0.99872+0.00005\n",
      "[119]\ttrain-auc:0.99916+0.00001\ttest-auc:0.99873+0.00005\n",
      "[120]\ttrain-auc:0.99916+0.00001\ttest-auc:0.99873+0.00005\n",
      "[121]\ttrain-auc:0.99917+0.00001\ttest-auc:0.99873+0.00005\n",
      "[122]\ttrain-auc:0.99918+0.00001\ttest-auc:0.99873+0.00005\n",
      "[123]\ttrain-auc:0.99918+0.00001\ttest-auc:0.99874+0.00005\n",
      "[124]\ttrain-auc:0.99919+0.00001\ttest-auc:0.99874+0.00005\n",
      "[125]\ttrain-auc:0.99919+0.00001\ttest-auc:0.99874+0.00005\n",
      "[126]\ttrain-auc:0.99920+0.00001\ttest-auc:0.99874+0.00005\n",
      "[127]\ttrain-auc:0.99920+0.00001\ttest-auc:0.99874+0.00005\n",
      "[128]\ttrain-auc:0.99921+0.00001\ttest-auc:0.99875+0.00005\n",
      "[129]\ttrain-auc:0.99921+0.00001\ttest-auc:0.99875+0.00005\n",
      "[130]\ttrain-auc:0.99922+0.00001\ttest-auc:0.99875+0.00005\n",
      "[131]\ttrain-auc:0.99922+0.00001\ttest-auc:0.99875+0.00005\n",
      "[132]\ttrain-auc:0.99923+0.00001\ttest-auc:0.99875+0.00005\n",
      "[133]\ttrain-auc:0.99923+0.00001\ttest-auc:0.99875+0.00005\n",
      "[134]\ttrain-auc:0.99924+0.00001\ttest-auc:0.99875+0.00005\n",
      "[135]\ttrain-auc:0.99924+0.00001\ttest-auc:0.99875+0.00005\n",
      "[136]\ttrain-auc:0.99925+0.00001\ttest-auc:0.99876+0.00005\n",
      "[137]\ttrain-auc:0.99925+0.00001\ttest-auc:0.99876+0.00005\n",
      "[138]\ttrain-auc:0.99926+0.00001\ttest-auc:0.99876+0.00005\n",
      "[139]\ttrain-auc:0.99926+0.00001\ttest-auc:0.99876+0.00005\n",
      "[140]\ttrain-auc:0.99927+0.00001\ttest-auc:0.99876+0.00005\n",
      "[141]\ttrain-auc:0.99927+0.00001\ttest-auc:0.99877+0.00005\n",
      "[142]\ttrain-auc:0.99928+0.00001\ttest-auc:0.99877+0.00005\n",
      "[143]\ttrain-auc:0.99928+0.00001\ttest-auc:0.99877+0.00005\n",
      "[144]\ttrain-auc:0.99929+0.00001\ttest-auc:0.99877+0.00005\n",
      "[145]\ttrain-auc:0.99929+0.00001\ttest-auc:0.99877+0.00005\n",
      "[146]\ttrain-auc:0.99930+0.00001\ttest-auc:0.99877+0.00005\n",
      "[147]\ttrain-auc:0.99930+0.00001\ttest-auc:0.99877+0.00005\n",
      "[148]\ttrain-auc:0.99930+0.00001\ttest-auc:0.99878+0.00005\n",
      "[149]\ttrain-auc:0.99931+0.00001\ttest-auc:0.99878+0.00005\n",
      "[150]\ttrain-auc:0.99931+0.00001\ttest-auc:0.99878+0.00005\n",
      "[151]\ttrain-auc:0.99932+0.00001\ttest-auc:0.99878+0.00005\n",
      "[152]\ttrain-auc:0.99932+0.00001\ttest-auc:0.99878+0.00005\n",
      "[153]\ttrain-auc:0.99933+0.00001\ttest-auc:0.99878+0.00005\n",
      "[154]\ttrain-auc:0.99933+0.00001\ttest-auc:0.99878+0.00005\n",
      "[155]\ttrain-auc:0.99934+0.00001\ttest-auc:0.99879+0.00005\n",
      "[156]\ttrain-auc:0.99934+0.00001\ttest-auc:0.99879+0.00005\n",
      "[157]\ttrain-auc:0.99934+0.00001\ttest-auc:0.99879+0.00004\n",
      "[158]\ttrain-auc:0.99935+0.00001\ttest-auc:0.99879+0.00004\n",
      "[159]\ttrain-auc:0.99935+0.00001\ttest-auc:0.99879+0.00004\n",
      "[160]\ttrain-auc:0.99936+0.00001\ttest-auc:0.99879+0.00004\n",
      "[161]\ttrain-auc:0.99936+0.00001\ttest-auc:0.99879+0.00004\n",
      "[162]\ttrain-auc:0.99936+0.00001\ttest-auc:0.99879+0.00004\n",
      "[163]\ttrain-auc:0.99937+0.00001\ttest-auc:0.99879+0.00004\n",
      "[164]\ttrain-auc:0.99937+0.00001\ttest-auc:0.99879+0.00004\n",
      "[165]\ttrain-auc:0.99938+0.00001\ttest-auc:0.99879+0.00004\n",
      "[166]\ttrain-auc:0.99938+0.00001\ttest-auc:0.99879+0.00004\n",
      "[167]\ttrain-auc:0.99938+0.00001\ttest-auc:0.99879+0.00004\n",
      "[168]\ttrain-auc:0.99939+0.00001\ttest-auc:0.99880+0.00004\n",
      "[169]\ttrain-auc:0.99939+0.00001\ttest-auc:0.99880+0.00004\n",
      "[170]\ttrain-auc:0.99939+0.00001\ttest-auc:0.99880+0.00004\n",
      "[171]\ttrain-auc:0.99940+0.00001\ttest-auc:0.99880+0.00004\n",
      "[172]\ttrain-auc:0.99940+0.00001\ttest-auc:0.99880+0.00004\n",
      "[173]\ttrain-auc:0.99941+0.00001\ttest-auc:0.99880+0.00004\n",
      "[174]\ttrain-auc:0.99941+0.00001\ttest-auc:0.99880+0.00004\n",
      "[175]\ttrain-auc:0.99941+0.00001\ttest-auc:0.99880+0.00004\n",
      "[176]\ttrain-auc:0.99942+0.00001\ttest-auc:0.99880+0.00004\n",
      "[177]\ttrain-auc:0.99942+0.00001\ttest-auc:0.99880+0.00004\n",
      "[178]\ttrain-auc:0.99943+0.00001\ttest-auc:0.99880+0.00004\n",
      "[179]\ttrain-auc:0.99943+0.00001\ttest-auc:0.99880+0.00004\n",
      "[180]\ttrain-auc:0.99943+0.00001\ttest-auc:0.99880+0.00004\n",
      "[181]\ttrain-auc:0.99944+0.00001\ttest-auc:0.99880+0.00004\n",
      "[182]\ttrain-auc:0.99944+0.00001\ttest-auc:0.99880+0.00004\n",
      "[183]\ttrain-auc:0.99944+0.00001\ttest-auc:0.99881+0.00004\n",
      "[184]\ttrain-auc:0.99945+0.00001\ttest-auc:0.99881+0.00004\n",
      "[185]\ttrain-auc:0.99945+0.00001\ttest-auc:0.99881+0.00004\n",
      "[186]\ttrain-auc:0.99946+0.00001\ttest-auc:0.99881+0.00004\n",
      "[187]\ttrain-auc:0.99946+0.00001\ttest-auc:0.99881+0.00004\n",
      "[188]\ttrain-auc:0.99946+0.00001\ttest-auc:0.99881+0.00004\n",
      "[189]\ttrain-auc:0.99947+0.00001\ttest-auc:0.99881+0.00004\n",
      "[190]\ttrain-auc:0.99947+0.00001\ttest-auc:0.99881+0.00004\n",
      "[191]\ttrain-auc:0.99947+0.00001\ttest-auc:0.99881+0.00004\n",
      "[192]\ttrain-auc:0.99948+0.00001\ttest-auc:0.99881+0.00004\n",
      "[193]\ttrain-auc:0.99948+0.00001\ttest-auc:0.99881+0.00004\n",
      "[194]\ttrain-auc:0.99948+0.00001\ttest-auc:0.99881+0.00004\n",
      "[195]\ttrain-auc:0.99949+0.00001\ttest-auc:0.99881+0.00004\n",
      "[196]\ttrain-auc:0.99949+0.00001\ttest-auc:0.99881+0.00004\n",
      "[197]\ttrain-auc:0.99949+0.00001\ttest-auc:0.99881+0.00004\n",
      "[198]\ttrain-auc:0.99950+0.00001\ttest-auc:0.99881+0.00004\n",
      "[199]\ttrain-auc:0.99950+0.00001\ttest-auc:0.99881+0.00004\n",
      "[200]\ttrain-auc:0.99950+0.00001\ttest-auc:0.99882+0.00004\n",
      "[201]\ttrain-auc:0.99951+0.00001\ttest-auc:0.99882+0.00004\n",
      "[202]\ttrain-auc:0.99951+0.00001\ttest-auc:0.99882+0.00004\n",
      "[203]\ttrain-auc:0.99951+0.00000\ttest-auc:0.99882+0.00004\n",
      "[204]\ttrain-auc:0.99951+0.00000\ttest-auc:0.99882+0.00004\n",
      "[205]\ttrain-auc:0.99952+0.00000\ttest-auc:0.99882+0.00004\n",
      "[206]\ttrain-auc:0.99952+0.00000\ttest-auc:0.99882+0.00004\n",
      "[207]\ttrain-auc:0.99952+0.00001\ttest-auc:0.99882+0.00004\n",
      "[208]\ttrain-auc:0.99953+0.00001\ttest-auc:0.99882+0.00004\n",
      "[209]\ttrain-auc:0.99953+0.00001\ttest-auc:0.99882+0.00004\n",
      "[210]\ttrain-auc:0.99953+0.00001\ttest-auc:0.99882+0.00004\n",
      "[211]\ttrain-auc:0.99953+0.00001\ttest-auc:0.99882+0.00004\n",
      "[212]\ttrain-auc:0.99954+0.00001\ttest-auc:0.99882+0.00004\n",
      "[213]\ttrain-auc:0.99954+0.00001\ttest-auc:0.99882+0.00004\n",
      "[214]\ttrain-auc:0.99954+0.00001\ttest-auc:0.99882+0.00004\n",
      "[215]\ttrain-auc:0.99955+0.00001\ttest-auc:0.99882+0.00004\n",
      "[216]\ttrain-auc:0.99955+0.00001\ttest-auc:0.99882+0.00004\n",
      "[217]\ttrain-auc:0.99955+0.00001\ttest-auc:0.99882+0.00004\n",
      "[218]\ttrain-auc:0.99955+0.00001\ttest-auc:0.99882+0.00004\n",
      "[219]\ttrain-auc:0.99956+0.00001\ttest-auc:0.99883+0.00004\n",
      "[220]\ttrain-auc:0.99956+0.00001\ttest-auc:0.99883+0.00004\n",
      "[221]\ttrain-auc:0.99956+0.00001\ttest-auc:0.99883+0.00004\n",
      "[222]\ttrain-auc:0.99957+0.00001\ttest-auc:0.99883+0.00004\n",
      "[223]\ttrain-auc:0.99957+0.00001\ttest-auc:0.99883+0.00004\n",
      "[224]\ttrain-auc:0.99957+0.00001\ttest-auc:0.99883+0.00004\n",
      "[225]\ttrain-auc:0.99957+0.00001\ttest-auc:0.99883+0.00004\n",
      "[226]\ttrain-auc:0.99958+0.00001\ttest-auc:0.99883+0.00004\n",
      "[227]\ttrain-auc:0.99958+0.00001\ttest-auc:0.99883+0.00004\n",
      "[228]\ttrain-auc:0.99958+0.00001\ttest-auc:0.99883+0.00004\n",
      "[229]\ttrain-auc:0.99959+0.00001\ttest-auc:0.99883+0.00004\n",
      "[230]\ttrain-auc:0.99959+0.00001\ttest-auc:0.99883+0.00004\n",
      "[231]\ttrain-auc:0.99959+0.00001\ttest-auc:0.99883+0.00004\n",
      "[232]\ttrain-auc:0.99959+0.00001\ttest-auc:0.99883+0.00004\n",
      "[233]\ttrain-auc:0.99960+0.00001\ttest-auc:0.99883+0.00004\n",
      "[234]\ttrain-auc:0.99960+0.00001\ttest-auc:0.99883+0.00004\n",
      "[235]\ttrain-auc:0.99960+0.00001\ttest-auc:0.99883+0.00004\n",
      "[236]\ttrain-auc:0.99960+0.00001\ttest-auc:0.99883+0.00004\n",
      "[237]\ttrain-auc:0.99961+0.00001\ttest-auc:0.99883+0.00004\n",
      "[238]\ttrain-auc:0.99961+0.00001\ttest-auc:0.99883+0.00004\n",
      "[239]\ttrain-auc:0.99961+0.00001\ttest-auc:0.99883+0.00004\n",
      "[240]\ttrain-auc:0.99961+0.00001\ttest-auc:0.99883+0.00004\n",
      "[241]\ttrain-auc:0.99962+0.00001\ttest-auc:0.99883+0.00004\n",
      "[242]\ttrain-auc:0.99962+0.00001\ttest-auc:0.99883+0.00005\n",
      "[243]\ttrain-auc:0.99962+0.00001\ttest-auc:0.99883+0.00005\n",
      "[244]\ttrain-auc:0.99962+0.00001\ttest-auc:0.99884+0.00005\n",
      "[245]\ttrain-auc:0.99963+0.00001\ttest-auc:0.99883+0.00005\n",
      "[246]\ttrain-auc:0.99963+0.00001\ttest-auc:0.99884+0.00005\n",
      "[247]\ttrain-auc:0.99963+0.00001\ttest-auc:0.99884+0.00005\n",
      "[248]\ttrain-auc:0.99963+0.00001\ttest-auc:0.99884+0.00005\n",
      "[249]\ttrain-auc:0.99963+0.00001\ttest-auc:0.99884+0.00005\n",
      "[250]\ttrain-auc:0.99964+0.00001\ttest-auc:0.99884+0.00005\n",
      "[251]\ttrain-auc:0.99964+0.00001\ttest-auc:0.99884+0.00005\n",
      "[252]\ttrain-auc:0.99964+0.00001\ttest-auc:0.99884+0.00005\n",
      "[253]\ttrain-auc:0.99964+0.00001\ttest-auc:0.99884+0.00005\n",
      "[254]\ttrain-auc:0.99965+0.00001\ttest-auc:0.99884+0.00005\n",
      "[255]\ttrain-auc:0.99965+0.00001\ttest-auc:0.99884+0.00005\n",
      "[256]\ttrain-auc:0.99965+0.00001\ttest-auc:0.99884+0.00005\n",
      "[257]\ttrain-auc:0.99965+0.00001\ttest-auc:0.99884+0.00005\n",
      "[258]\ttrain-auc:0.99966+0.00001\ttest-auc:0.99884+0.00005\n"
     ]
    }
   ],
   "source": [
    "smote3_cv_result = xgb.cv(\n",
    "    params=default_params,\n",
    "    dtrain=dtrain_smote3,\n",
    "    num_boost_round=num_boost_round,\n",
    "    nfold=n_folds,\n",
    "    metrics='auc',\n",
    "    early_stopping_rounds=early_stopping_rounds,\n",
    "    seed=42,\n",
    "    verbose_eval=True,\n",
    ")"
   ]
  },
  {
   "cell_type": "code",
   "execution_count": 20,
   "id": "c156edaf-5d33-4798-a48b-3ceceab3c99b",
   "metadata": {},
   "outputs": [
    {
     "name": "stdout",
     "output_type": "stream",
     "text": [
      "Optimal number of boosting rounds (estimators): 254\n",
      "Best ROC AUC from CV: 0.9988\n"
     ]
    }
   ],
   "source": [
    "optimal_num_rounds = len(smote3_cv_result)\n",
    "print(f\"Optimal number of boosting rounds (estimators): {optimal_num_rounds}\")\n",
    "\n",
    "best_auc = smote3_cv_result['test-auc-mean'].max()\n",
    "print(f\"Best ROC AUC from CV: {best_auc:.4f}\")"
   ]
  },
  {
   "cell_type": "code",
   "execution_count": 21,
   "id": "0e255a41-e0cc-494e-8b78-73a9c4600aa9",
   "metadata": {},
   "outputs": [
    {
     "name": "stdout",
     "output_type": "stream",
     "text": [
      "Recall (TPR): 0.0711\n",
      "False Positive Rate (FPR): 0.0015\n",
      "The baseline model scores 0.87650 ROC AUC on the test set.\n"
     ]
    }
   ],
   "source": [
    "from sklearn.metrics import roc_auc_score, confusion_matrix, roc_curve\n",
    "model.n_estimators = optimal_num_rounds\n",
    "\n",
    "# Train and make predicions with model\n",
    "model.fit(X_train_smote3, y_train_smote3)\n",
    "preds = model.predict_proba(X_test)[:, 1]\n",
    "baseline_auc = roc_auc_score(y_test, preds)\n",
    "pred_bool = (preds >= 0.5).astype(int)\n",
    "tn, fp, fn, tp = confusion_matrix(y_test, pred_bool).ravel()\n",
    "cm = confusion_matrix(y_test, pred_bool)\n",
    "fpr, tpr, thresholds = roc_curve(y_test, preds)\n",
    "\n",
    "print(f\"Recall (TPR): {tp / (tp + fn):.4f}\")\n",
    "print(f\"False Positive Rate (FPR): {fp / (fp + tn):.4f}\")\n",
    "\n",
    "print('The baseline model scores {:.5f} ROC AUC on the test set.'.format(baseline_auc))"
   ]
  },
  {
   "cell_type": "code",
   "execution_count": 22,
   "id": "955753ed-dc56-4bc4-ae6c-8a3c5feabaea",
   "metadata": {},
   "outputs": [
    {
     "data": {
      "image/png": "[encoded data removed]",
      "text/plain": [
       "<Figure size 800x600 with 1 Axes>"
      ]
     },
     "metadata": {},
     "output_type": "display_data"
    }
   ],
   "source": [
    "# Plot the ROC curve\n",
    "plt.figure(figsize=(8, 6))\n",
    "plt.plot(fpr, tpr, color='blue', label=f'AUC = {baseline_auc:.4f}')\n",
    "plt.plot([0, 1], [0, 1], color='grey', linestyle='--', label='Random Guess')\n",
    "plt.title('Receiver Operating Characteristic (ROC) Curve')\n",
    "plt.xlabel('False Positive Rate (FPR)')\n",
    "plt.ylabel('True Positive Rate (TPR)')\n",
    "plt.legend(loc='lower right')\n",
    "plt.grid()\n",
    "plt.show()"
   ]
  },
  {
   "cell_type": "markdown",
   "id": "455640e7-2140-4d08-a7dc-0d1a6d3e6b16",
   "metadata": {},
   "source": [
    "This is the baseline score before hyperparameter tuning. The only difference we made from the default model was using early stopping to set the number of estimators."
   ]
  },
  {
   "cell_type": "markdown",
   "id": "3e144ac8-26b0-4a2b-9d8f-ee62020d179a",
   "metadata": {},
   "source": [
    "how is the true negative different from the one's that are not captured as fraud;\n",
    "exmaine the true negatives and go back to the features to alter the figure\n",
    "and let the model learn from new features "
   ]
  },
  {
   "cell_type": "markdown",
   "id": "bdafaad9-1614-4b48-a369-6cbc4ada55d8",
   "metadata": {},
   "source": [
    "# Tuning"
   ]
  },
  {
   "cell_type": "markdown",
   "id": "a5c21e4c-9430-4c26-a03a-7ac22edcbadf",
   "metadata": {},
   "source": [
    "## objective function"
   ]
  },
  {
   "cell_type": "code",
   "execution_count": 19,
   "id": "1ab4fc1d-5911-44a5-bf6b-fd72f95e8fae",
   "metadata": {},
   "outputs": [],
   "source": [
    "def objective(hyperparameters, iteration):\n",
    "    \"\"\"Objective function for grid and random search. Returns\n",
    "       the cross validation score from a set of hyperparameters.\"\"\"\n",
    "    \n",
    "    # Number of estimators will be found using early stopping\n",
    "    if 'n_estimators' in hyperparameters.keys():\n",
    "        del hyperparameters['n_estimators']\n",
    "    \n",
    "    # Perform n_folds cross validation\n",
    "    cv_results = xgb.cv(params = hyperparameters, dtrain = D_TRAIN, num_boost_round = 10000, nfold = 10, \n",
    "                        early_stopping_rounds = 5, metrics = 'auc', seed = 42)\n",
    "    \n",
    "    # results to retun\n",
    "    score = cv_results['test-auc-mean'].max()\n",
    "    estimators = len(cv_results['test-auc-mean'])\n",
    "    hyperparameters['n_estimators'] = estimators \n",
    "    \n",
    "    return [score, hyperparameters, iteration]"
   ]
  },
  {
   "cell_type": "markdown",
   "id": "f5cea4c5-0659-4bd4-ba3a-41e49931b740",
   "metadata": {},
   "source": [
    "## Grid search "
   ]
  },
  {
   "cell_type": "code",
   "execution_count": 15,
   "id": "329c1a99-5bed-40c9-856b-9db152a72e55",
   "metadata": {},
   "outputs": [
    {
     "name": "stdout",
     "output_type": "stream",
     "text": [
      "{'objective': 'binary:logistic', 'base_score': None, 'booster': None, 'callbacks': None, 'colsample_bylevel': None, 'colsample_bynode': None, 'colsample_bytree': None, 'device': None, 'early_stopping_rounds': None, 'enable_categorical': False, 'eval_metric': None, 'feature_types': None, 'gamma': None, 'grow_policy': None, 'importance_type': None, 'interaction_constraints': None, 'learning_rate': None, 'max_bin': None, 'max_cat_threshold': None, 'max_cat_to_onehot': None, 'max_delta_step': None, 'max_depth': None, 'max_leaves': None, 'min_child_weight': None, 'missing': nan, 'monotone_constraints': None, 'multi_strategy': None, 'n_estimators': None, 'n_jobs': None, 'num_parallel_tree': None, 'random_state': None, 'reg_alpha': None, 'reg_lambda': None, 'sampling_method': None, 'scale_pos_weight': None, 'subsample': None, 'tree_method': None, 'validate_parameters': None, 'verbosity': None}\n"
     ]
    }
   ],
   "source": [
    "model = XGBClassifier()\n",
    "param = model.get_params()\n",
    "print(param)"
   ]
  },
  {
   "cell_type": "markdown",
   "id": "c1e38a39-0bb4-476e-8bed-aa56172bf680",
   "metadata": {},
   "source": [
    "uniform distribution vs. normal distribution in random search "
   ]
  },
  {
   "cell_type": "markdown",
   "id": "3b69363d-5173-406e-b34d-1db0960ff571",
   "metadata": {
    "jp-MarkdownHeadingCollapsed": true
   },
   "source": [
    "## normative distributino visualization "
   ]
  },
  {
   "cell_type": "code",
   "execution_count": 37,
   "id": "91f6db4d-a85b-4d15-b349-6d71c15b260d",
   "metadata": {},
   "outputs": [
    {
     "data": {
      "image/png": "[encoded data removed]",
      "text/plain": [
       "<Figure size 640x480 with 1 Axes>"
      ]
     },
     "metadata": {},
     "output_type": "display_data"
    }
   ],
   "source": [
    "%matplotlib inline\n",
    "\n",
    "# Learning rate histogram\n",
    "plt.hist(param_grid['eta'], bins = 20, color = 'r', edgecolor = 'k');\n",
    "plt.xlabel('Learning Rate', size = 14); plt.ylabel('Count', size = 14); plt.title('Learning Rate Distribution', size = 18);"
   ]
  },
  {
   "cell_type": "markdown",
   "id": "ec226527-e496-4afd-a11d-676a07a38b0f",
   "metadata": {},
   "source": [
    "Using a logarithmic uniform distribution allows us to create a domain where there are as many values from 0.005 to 0.05 as from 0.05 to 0.5.\n",
    "\n",
    "This is useful for values that differ over several orders of magnitude such as the learning rate.\n",
    " \n",
    "A logarithmic uniform distribution lets us sample more evenly from a domain that varies over several orders of magnitude."
   ]
  },
  {
   "cell_type": "markdown",
   "id": "fe9b80a3-3932-4606-9946-16ff4cf2bd3e",
   "metadata": {},
   "source": [
    " In the case of grid search, we input the domain and the algorithm selects the next value for each hyperparameter in an ordered sequence. The only requirement of grid search is that it tries every combination in a grid once (and only once). For random search, we input the domain and each time the algorithm gives us a random combination of hyperparameter values to try. "
   ]
  },
  {
   "cell_type": "code",
   "execution_count": 139,
   "id": "f60bda44-e7f8-49b6-9934-8c01f3ea7be3",
   "metadata": {},
   "outputs": [
    {
     "data": {
      "text/plain": [
       "Text(0, 0.5, 'Count')"
      ]
     },
     "execution_count": 139,
     "metadata": {},
     "output_type": "execute_result"
    },
    {
     "data": {
      "image/png": "[encoded data removed]",
      "text/plain": [
       "<Figure size 640x480 with 1 Axes>"
      ]
     },
     "metadata": {},
     "output_type": "display_data"
    }
   ],
   "source": [
    "%matplotlib inline\n",
    "\n",
    "# Learning rate histogram\n",
    "plt.hist(param_grid['max_depth'], bins = 20, color = 'r', edgecolor = 'k');\n",
    "plt.xlabel('max_depth distribution', size = 14); plt.ylabel('Count', size = 14)"
   ]
  },
  {
   "cell_type": "code",
   "execution_count": 146,
   "id": "ebf6f1c7-45f2-4c60-8cf2-8d7278a57d90",
   "metadata": {},
   "outputs": [
    {
     "name": "stdout",
     "output_type": "stream",
     "text": [
      "There are 500 combinations\n",
      "There are 25000 combinations\n",
      "There are 1250000 combinations\n",
      "There are 125000000 combinations\n",
      "There are 1500000000 combinations\n",
      "There are 7500000000 combinations\n",
      "There are 37500000000 combinations\n",
      "There are 562500000000 combinations\n",
      "There are 1687500000000 combinations\n",
      "There are 8437500000000 combinations\n"
     ]
    }
   ],
   "source": [
    "com = 1\n",
    "for x in param_grid.values():\n",
    "    com *= len(x)\n",
    "    print('There are {} combinations'.format(com))"
   ]
  },
  {
   "cell_type": "markdown",
   "id": "fc9e21ac-db8f-4888-afe1-f12dc505f43b",
   "metadata": {},
   "source": [
    "## Start grid search"
   ]
  },
  {
   "cell_type": "code",
   "execution_count": 20,
   "id": "08024dc8-6ed0-4eae-b847-306e5d844b7b",
   "metadata": {},
   "outputs": [],
   "source": [
    "import itertools\n",
    "grid_results = pd.DataFrame(columns = ['score', 'params', 'iteration'],\n",
    "                              index = list(range(MAX_EVALS)))\n",
    "\n",
    "\n",
    "def grid_search(param_grid, max_evals = MAX_EVALS):\n",
    "    \"\"\"Grid search algorithm (with limit on max evals)\"\"\"\n",
    "    \n",
    "    # Dataframe to store results\n",
    "    results = pd.DataFrame(columns = ['score', 'params', 'iteration'],\n",
    "                              index = list(range(MAX_EVALS)))\n",
    "    \n",
    "    # https://codereview.stackexchange.com/questions/171173/list-all-possible-permutations-from-a-python-dictionary-of-lists\n",
    "    keys, values = zip(*param_grid.items())\n",
    "    \n",
    "    i = 0\n",
    "    \n",
    "    # Iterate through every possible combination of hyperparameters\n",
    "    for v in itertools.product(*values):\n",
    "        \n",
    "        # Create a hyperparameter dictionary\n",
    "        hyperparameters = dict(zip(keys, v))\n",
    "        \n",
    "        # Evalute the hyperparameters\n",
    "        eval_results = objective(hyperparameters, i)\n",
    "        \n",
    "        results.loc[i, :] = eval_results\n",
    "        \n",
    "        i += 1\n",
    "        \n",
    "        # Normally would not limit iterations\n",
    "        if i > MAX_EVALS:\n",
    "            break\n",
    "       \n",
    "    # Sort with best score on top\n",
    "    results.sort_values('score', ascending = False, inplace = True)\n",
    "    results.reset_index(inplace = True)\n",
    "    \n",
    "    return results"
   ]
  },
  {
   "cell_type": "code",
   "execution_count": 23,
   "id": "205d2129-e039-4027-ae0e-3b43f32b01cd",
   "metadata": {},
   "outputs": [
    {
     "name": "stdout",
     "output_type": "stream",
     "text": [
      "The best validation score was 0.95893\n",
      "\n",
      "The best hyperparameters were:\n",
      "{'alpha': np.float64(0.01),\n",
      " 'colsample_bytree': np.float64(0.5),\n",
      " 'eta': np.float64(0.001),\n",
      " 'eval_metric': 'auc',\n",
      " 'gamma': np.float64(0.0),\n",
      " 'lambda': np.float64(0.01),\n",
      " 'max_depth': 3,\n",
      " 'min_child_weight': np.float64(0.8),\n",
      " 'n_estimators': 6,\n",
      " 'objective': 'binary:logistic',\n",
      " 'subsample': np.float64(0.5)}\n"
     ]
    }
   ],
   "source": [
    "N_FOLD = 10\n",
    "D_TRAIN = xgb.DMatrix(X_train, label=y_train)\n",
    "MAX_EVALS = 30\n",
    "param_grid = {\n",
    "    'eta': list(np.logspace(np.log10(0.001), np.log10(0.6), base = 10, num = 500)),\n",
    "    'lambda': list(np.linspace(0.01, 0.2, num = 100)),\n",
    "    'alpha': list(np.linspace(0.01, 0.2, 100)),\n",
    "    'gamma': list(np.linspace(0, 20, 100)),\n",
    "    'max_depth': list(range(3, 15, 1)),\n",
    "    'subsample': list(np.linspace(0.5, 1, 5)),\n",
    "    'colsample_bytree': list(np.linspace(0.5, 1, 5)),\n",
    "    'objective': ['binary:logistic'],\n",
    "    'eval_metric': ['auc'],\n",
    "    'min_child_weight': list(np.linspace(0.8, 1.2, 5))\n",
    "}\n",
    "grid_results = grid_search(param_grid)\n",
    "\n",
    "print('The best validation score was {:.5f}'.format(grid_results.loc[0, 'score']))\n",
    "print('\\nThe best hyperparameters were:')\n",
    "\n",
    "import pprint\n",
    "pprint.pprint(grid_results.loc[0, 'params'])"
   ]
  },
  {
   "cell_type": "code",
   "execution_count": 25,
   "id": "11e7a566-9079-4fe5-b52e-f1991bd00bde",
   "metadata": {},
   "outputs": [],
   "source": [
    "grid_search_params = grid_results.loc[0, 'params']\n",
    "# model_grid_search = XGBClassifier(**grid_search_params, random_state=42)"
   ]
  },
  {
   "cell_type": "code",
   "execution_count": 61,
   "id": "00c9e68f-003e-48b1-8dc9-386c87939c09",
   "metadata": {},
   "outputs": [
    {
     "name": "stdout",
     "output_type": "stream",
     "text": [
      "[0]\ttraining-auc:0.83741\ttesting-auc:0.69655\n",
      "[1]\ttraining-auc:0.93393\ttesting-auc:0.77610\n",
      "[2]\ttraining-auc:0.93762\ttesting-auc:0.79139\n",
      "[3]\ttraining-auc:0.94848\ttesting-auc:0.80987\n",
      "[4]\ttraining-auc:0.95741\ttesting-auc:0.81919\n",
      "[5]\ttraining-auc:0.95891\ttesting-auc:0.81488\n",
      "[6]\ttraining-auc:0.95633\ttesting-auc:0.81604\n",
      "[7]\ttraining-auc:0.95479\ttesting-auc:0.81694\n",
      "[8]\ttraining-auc:0.95478\ttesting-auc:0.81751\n",
      "[9]\ttraining-auc:0.95614\ttesting-auc:0.81744\n"
     ]
    }
   ],
   "source": [
    "dtest = xgb.DMatrix(X_test, label=y_test)\n",
    "\n",
    "grid_search_final_model = xgb.train(\n",
    "    params=grid_search_params,\n",
    "    dtrain=D_TRAIN,\n",
    "    num_boost_round=10000,\n",
    "    early_stopping_rounds=5,\n",
    "    evals=[(dtrain, 'training'), (dtest, 'testing')],\n",
    "    maximize=True,\n",
    "    verbose_eval=True\n",
    ")"
   ]
  },
  {
   "cell_type": "code",
   "execution_count": 62,
   "id": "b6b8d11e-9422-4cb8-a8ec-26b0cd05760c",
   "metadata": {},
   "outputs": [
    {
     "data": {
      "text/plain": [
       "{'best_iteration': '4', 'best_score': '0.8191889736158259'}"
      ]
     },
     "execution_count": 62,
     "metadata": {},
     "output_type": "execute_result"
    }
   ],
   "source": [
    "grid_search_final_model.attributes()"
   ]
  },
  {
   "cell_type": "code",
   "execution_count": 71,
   "id": "3a3880c9-2fd3-41c8-abd7-82ed52198bc1",
   "metadata": {},
   "outputs": [
    {
     "name": "stdout",
     "output_type": "stream",
     "text": [
      "Recall (TPR): 0.5235\n",
      "False Positive Rate (FPR): 0.0994\n",
      "ROC AUC: 0.81744\n"
     ]
    }
   ],
   "source": [
    "grid_preds = grid_search_final_model.predict(dtest)\n",
    "threshold = 0.5\n",
    "y_pred = (grid_preds >= threshold).astype(int)\n",
    "grid_auc = roc_auc_score(y_test, grid_preds)\n",
    "tn, fp, fn, tp = confusion_matrix(y_test, y_pred).ravel()\n",
    "tpr = tp / (tp + fn)\n",
    "fpr = fp / (fp + tn)\n",
    "\n",
    "print(f\"Recall (TPR): {tpr:.4f}\")\n",
    "print(f\"False Positive Rate (FPR): {fpr:.4f}\")\n",
    "print(f'ROC AUC: {grid_auc:.5f}')"
   ]
  },
  {
   "cell_type": "markdown",
   "id": "54d21f16-e16c-409f-8995-100b304fc96d",
   "metadata": {},
   "source": [
    "# tuning with random search"
   ]
  },
  {
   "cell_type": "code",
   "execution_count": 28,
   "id": "e931e62f-abc2-4b1f-aee7-03976dfc9294",
   "metadata": {},
   "outputs": [],
   "source": [
    "dtrain = xgb.DMatrix(X_train, label=y_train)\n",
    "dtest = xgb.DMatrix(X_test, label=y_test)"
   ]
  },
  {
   "cell_type": "code",
   "execution_count": 30,
   "id": "4df23287-da4b-4457-b766-48e6e4540bbc",
   "metadata": {},
   "outputs": [
    {
     "data": {
      "text/plain": [
       "(965396, 54)"
      ]
     },
     "execution_count": 30,
     "metadata": {},
     "output_type": "execute_result"
    }
   ],
   "source": [
    "X_train.shape"
   ]
  },
  {
   "cell_type": "code",
   "execution_count": 34,
   "id": "24f74596-aeae-463f-9942-73eeb6573272",
   "metadata": {},
   "outputs": [],
   "source": [
    "def fit_xgb_binary(xgb_train, xgb_test, iterations=1):\n",
    "    best_auc = 0\n",
    "    best_params = {}\n",
    "\n",
    "    for _ in range(iterations):\n",
    "        # Random hyperparameters for this iteration\n",
    "        hparams = {\n",
    "            'eta': np.random.uniform(0.01, 0.6),\n",
    "            'lambda': np.random.uniform(0.01, 0.2),\n",
    "            'alpha': np.random.uniform(0.01, 0.2),\n",
    "            'gamma': np.random.uniform(0, 20),\n",
    "            'max_depth': np.random.randint(3, 15),\n",
    "            'subsample': np.random.uniform(0.5, 1),\n",
    "            'colsample_bytree': np.random.uniform(0.5, 1),\n",
    "            'objective': 'binary:logistic',\n",
    "            'eval_metric': 'auc',\n",
    "            'min_child_weight': np.random.uniform(0.8, 1.2)\n",
    "        }\n",
    "\n",
    "        # Cross-validation\n",
    "        xgb_cv = xgb.cv(\n",
    "            params=hparams,\n",
    "            dtrain=xgb_train,\n",
    "            num_boost_round=10000,\n",
    "            nfold=10,\n",
    "            early_stopping_rounds=5,\n",
    "            metrics=['auc'],\n",
    "            maximize=True,\n",
    "            verbose_eval=2,\n",
    "            seed=1234\n",
    "        )\n",
    "\n",
    "        # Get the best AUC score from CV\n",
    "        best_iteration = xgb_cv['test-auc-mean'].idxmax()\n",
    "        auc_score = xgb_cv['test-auc-mean'][best_iteration]\n",
    "\n",
    "        # Update best params if the new score is better\n",
    "        if auc_score > best_auc:\n",
    "            best_auc = auc_score\n",
    "            best_params = hparams\n",
    "\n",
    "    # Train the final model with the best hyperparameters\n",
    "    final_random_search_model = xgb.train(\n",
    "        params=best_params,\n",
    "        dtrain=xgb_train,\n",
    "        num_boost_round=10000,\n",
    "        early_stopping_rounds=5,\n",
    "        evals=[(xgb_train, 'training'), (xgb_test, 'testing')],\n",
    "        maximize=True,\n",
    "        verbose_eval=2\n",
    "    )\n",
    "\n",
    "    return final_random_search_model, best_params, best_auc"
   ]
  },
  {
   "cell_type": "code",
   "execution_count": 72,
   "id": "ef4a3d2b-13a6-4902-9325-d04032cac924",
   "metadata": {
    "collapsed": true,
    "jupyter": {
     "outputs_hidden": true
    },
    "scrolled": true
   },
   "outputs": [
    {
     "name": "stdout",
     "output_type": "stream",
     "text": [
      "[0]\ttrain-auc:0.96230+0.00008\ttest-auc:0.96226+0.00035\n",
      "[2]\ttrain-auc:0.96871+0.00060\ttest-auc:0.96864+0.00080\n",
      "[4]\ttrain-auc:0.97383+0.00057\ttest-auc:0.97377+0.00081\n",
      "[6]\ttrain-auc:0.97897+0.00028\ttest-auc:0.97889+0.00049\n",
      "[8]\ttrain-auc:0.98129+0.00025\ttest-auc:0.98122+0.00033\n",
      "[10]\ttrain-auc:0.98336+0.00027\ttest-auc:0.98327+0.00039\n",
      "[12]\ttrain-auc:0.98496+0.00022\ttest-auc:0.98488+0.00032\n",
      "[14]\ttrain-auc:0.98654+0.00034\ttest-auc:0.98646+0.00039\n",
      "[16]\ttrain-auc:0.98843+0.00023\ttest-auc:0.98835+0.00033\n",
      "[18]\ttrain-auc:0.98998+0.00033\ttest-auc:0.98991+0.00031\n",
      "[20]\ttrain-auc:0.99095+0.00032\ttest-auc:0.99089+0.00028\n",
      "[22]\ttrain-auc:0.99213+0.00045\ttest-auc:0.99206+0.00045\n",
      "[24]\ttrain-auc:0.99300+0.00042\ttest-auc:0.99293+0.00041\n",
      "[26]\ttrain-auc:0.99397+0.00042\ttest-auc:0.99391+0.00045\n",
      "[28]\ttrain-auc:0.99460+0.00039\ttest-auc:0.99453+0.00042\n",
      "[30]\ttrain-auc:0.99518+0.00028\ttest-auc:0.99510+0.00033\n",
      "[32]\ttrain-auc:0.99568+0.00029\ttest-auc:0.99560+0.00031\n",
      "[34]\ttrain-auc:0.99611+0.00022\ttest-auc:0.99604+0.00025\n",
      "[36]\ttrain-auc:0.99646+0.00017\ttest-auc:0.99638+0.00024\n",
      "[38]\ttrain-auc:0.99673+0.00014\ttest-auc:0.99665+0.00016\n",
      "[40]\ttrain-auc:0.99690+0.00011\ttest-auc:0.99682+0.00016\n",
      "[42]\ttrain-auc:0.99709+0.00009\ttest-auc:0.99700+0.00016\n",
      "[44]\ttrain-auc:0.99723+0.00009\ttest-auc:0.99714+0.00016\n",
      "[46]\ttrain-auc:0.99734+0.00007\ttest-auc:0.99725+0.00015\n",
      "[48]\ttrain-auc:0.99745+0.00006\ttest-auc:0.99736+0.00015\n",
      "[50]\ttrain-auc:0.99753+0.00006\ttest-auc:0.99743+0.00015\n",
      "[51]\ttrain-auc:0.99757+0.00006\ttest-auc:0.99747+0.00015\n",
      "[0]\ttrain-auc:0.98207+0.00021\ttest-auc:0.98143+0.00048\n",
      "[2]\ttrain-auc:0.99085+0.00011\ttest-auc:0.99045+0.00031\n",
      "[4]\ttrain-auc:0.99434+0.00010\ttest-auc:0.99404+0.00022\n",
      "[6]\ttrain-auc:0.99520+0.00008\ttest-auc:0.99494+0.00019\n",
      "[8]\ttrain-auc:0.99600+0.00007\ttest-auc:0.99573+0.00015\n",
      "[10]\ttrain-auc:0.99662+0.00005\ttest-auc:0.99635+0.00013\n",
      "[12]\ttrain-auc:0.99699+0.00007\ttest-auc:0.99672+0.00014\n",
      "[14]\ttrain-auc:0.99723+0.00004\ttest-auc:0.99697+0.00013\n",
      "[16]\ttrain-auc:0.99750+0.00003\ttest-auc:0.99724+0.00012\n",
      "[18]\ttrain-auc:0.99766+0.00002\ttest-auc:0.99740+0.00012\n",
      "[20]\ttrain-auc:0.99783+0.00002\ttest-auc:0.99758+0.00012\n",
      "[22]\ttrain-auc:0.99798+0.00003\ttest-auc:0.99774+0.00011\n",
      "[24]\ttrain-auc:0.99809+0.00003\ttest-auc:0.99786+0.00013\n",
      "[26]\ttrain-auc:0.99818+0.00003\ttest-auc:0.99795+0.00013\n",
      "[28]\ttrain-auc:0.99824+0.00002\ttest-auc:0.99802+0.00013\n",
      "[30]\ttrain-auc:0.99830+0.00001\ttest-auc:0.99808+0.00013\n",
      "[32]\ttrain-auc:0.99834+0.00001\ttest-auc:0.99812+0.00013\n",
      "[34]\ttrain-auc:0.99838+0.00001\ttest-auc:0.99816+0.00014\n",
      "[36]\ttrain-auc:0.99843+0.00001\ttest-auc:0.99821+0.00014\n",
      "[38]\ttrain-auc:0.99846+0.00001\ttest-auc:0.99824+0.00013\n",
      "[40]\ttrain-auc:0.99849+0.00001\ttest-auc:0.99826+0.00013\n",
      "[42]\ttrain-auc:0.99851+0.00001\ttest-auc:0.99828+0.00014\n",
      "[44]\ttrain-auc:0.99853+0.00001\ttest-auc:0.99830+0.00013\n",
      "[46]\ttrain-auc:0.99854+0.00001\ttest-auc:0.99831+0.00013\n",
      "[48]\ttrain-auc:0.99855+0.00001\ttest-auc:0.99832+0.00013\n",
      "[50]\ttrain-auc:0.99856+0.00001\ttest-auc:0.99834+0.00013\n",
      "[51]\ttrain-auc:0.99857+0.00001\ttest-auc:0.99834+0.00013\n",
      "[0]\ttrain-auc:0.98207+0.00021\ttest-auc:0.98143+0.00048\n",
      "[2]\ttrain-auc:0.99085+0.00011\ttest-auc:0.99045+0.00031\n",
      "[4]\ttrain-auc:0.99434+0.00010\ttest-auc:0.99404+0.00022\n",
      "[6]\ttrain-auc:0.99520+0.00008\ttest-auc:0.99494+0.00019\n",
      "[8]\ttrain-auc:0.99600+0.00007\ttest-auc:0.99573+0.00015\n",
      "[10]\ttrain-auc:0.99662+0.00005\ttest-auc:0.99635+0.00013\n",
      "[12]\ttrain-auc:0.99699+0.00007\ttest-auc:0.99672+0.00014\n",
      "[14]\ttrain-auc:0.99723+0.00004\ttest-auc:0.99697+0.00013\n",
      "[16]\ttrain-auc:0.99750+0.00003\ttest-auc:0.99724+0.00012\n",
      "[18]\ttrain-auc:0.99766+0.00002\ttest-auc:0.99740+0.00012\n",
      "[20]\ttrain-auc:0.99783+0.00002\ttest-auc:0.99758+0.00012\n",
      "[22]\ttrain-auc:0.99798+0.00003\ttest-auc:0.99774+0.00011\n",
      "[24]\ttrain-auc:0.99809+0.00003\ttest-auc:0.99786+0.00013\n",
      "[26]\ttrain-auc:0.99818+0.00003\ttest-auc:0.99795+0.00013\n",
      "[28]\ttrain-auc:0.99824+0.00002\ttest-auc:0.99802+0.00013\n",
      "[30]\ttrain-auc:0.99830+0.00001\ttest-auc:0.99808+0.00013\n",
      "[32]\ttrain-auc:0.99834+0.00001\ttest-auc:0.99812+0.00013\n",
      "[34]\ttrain-auc:0.99838+0.00001\ttest-auc:0.99816+0.00014\n",
      "[36]\ttrain-auc:0.99843+0.00001\ttest-auc:0.99821+0.00014\n",
      "[38]\ttrain-auc:0.99846+0.00001\ttest-auc:0.99824+0.00013\n",
      "[40]\ttrain-auc:0.99849+0.00001\ttest-auc:0.99826+0.00013\n",
      "[42]\ttrain-auc:0.99851+0.00001\ttest-auc:0.99828+0.00014\n",
      "[44]\ttrain-auc:0.99853+0.00001\ttest-auc:0.99830+0.00013\n",
      "[46]\ttrain-auc:0.99854+0.00001\ttest-auc:0.99831+0.00013\n",
      "[48]\ttrain-auc:0.99855+0.00001\ttest-auc:0.99832+0.00013\n",
      "[50]\ttrain-auc:0.99856+0.00001\ttest-auc:0.99834+0.00013\n",
      "[51]\ttrain-auc:0.99857+0.00001\ttest-auc:0.99834+0.00013\n",
      "[0]\ttrain-auc:0.98207+0.00021\ttest-auc:0.98143+0.00048\n",
      "[2]\ttrain-auc:0.99085+0.00011\ttest-auc:0.99045+0.00031\n",
      "[4]\ttrain-auc:0.99434+0.00010\ttest-auc:0.99404+0.00022\n",
      "[6]\ttrain-auc:0.99520+0.00008\ttest-auc:0.99494+0.00019\n",
      "[8]\ttrain-auc:0.99600+0.00007\ttest-auc:0.99573+0.00015\n",
      "[10]\ttrain-auc:0.99662+0.00005\ttest-auc:0.99635+0.00013\n",
      "[12]\ttrain-auc:0.99699+0.00007\ttest-auc:0.99672+0.00014\n",
      "[14]\ttrain-auc:0.99723+0.00004\ttest-auc:0.99697+0.00013\n",
      "[16]\ttrain-auc:0.99750+0.00003\ttest-auc:0.99724+0.00012\n",
      "[18]\ttrain-auc:0.99766+0.00002\ttest-auc:0.99740+0.00012\n",
      "[20]\ttrain-auc:0.99783+0.00002\ttest-auc:0.99758+0.00012\n",
      "[22]\ttrain-auc:0.99798+0.00003\ttest-auc:0.99774+0.00011\n",
      "[24]\ttrain-auc:0.99809+0.00003\ttest-auc:0.99786+0.00013\n",
      "[26]\ttrain-auc:0.99818+0.00003\ttest-auc:0.99795+0.00013\n",
      "[28]\ttrain-auc:0.99824+0.00002\ttest-auc:0.99802+0.00013\n",
      "[30]\ttrain-auc:0.99830+0.00001\ttest-auc:0.99808+0.00013\n",
      "[32]\ttrain-auc:0.99834+0.00001\ttest-auc:0.99812+0.00013\n",
      "[34]\ttrain-auc:0.99838+0.00001\ttest-auc:0.99816+0.00014\n",
      "[36]\ttrain-auc:0.99843+0.00001\ttest-auc:0.99821+0.00014\n",
      "[38]\ttrain-auc:0.99846+0.00001\ttest-auc:0.99824+0.00013\n",
      "[40]\ttrain-auc:0.99849+0.00001\ttest-auc:0.99826+0.00013\n",
      "[42]\ttrain-auc:0.99851+0.00001\ttest-auc:0.99828+0.00014\n",
      "[44]\ttrain-auc:0.99853+0.00001\ttest-auc:0.99830+0.00013\n",
      "[46]\ttrain-auc:0.99854+0.00001\ttest-auc:0.99831+0.00013\n",
      "[48]\ttrain-auc:0.99855+0.00001\ttest-auc:0.99832+0.00013\n",
      "[50]\ttrain-auc:0.99856+0.00001\ttest-auc:0.99834+0.00013\n",
      "[51]\ttrain-auc:0.99857+0.00001\ttest-auc:0.99834+0.00013\n",
      "[0]\ttrain-auc:0.98207+0.00021\ttest-auc:0.98143+0.00048\n",
      "[2]\ttrain-auc:0.99085+0.00011\ttest-auc:0.99045+0.00031\n",
      "[4]\ttrain-auc:0.99434+0.00010\ttest-auc:0.99404+0.00022\n",
      "[6]\ttrain-auc:0.99520+0.00008\ttest-auc:0.99494+0.00019\n",
      "[8]\ttrain-auc:0.99600+0.00007\ttest-auc:0.99573+0.00015\n",
      "[10]\ttrain-auc:0.99662+0.00005\ttest-auc:0.99635+0.00013\n",
      "[12]\ttrain-auc:0.99699+0.00007\ttest-auc:0.99672+0.00014\n",
      "[14]\ttrain-auc:0.99723+0.00004\ttest-auc:0.99697+0.00013\n",
      "[16]\ttrain-auc:0.99750+0.00003\ttest-auc:0.99724+0.00012\n",
      "[18]\ttrain-auc:0.99766+0.00002\ttest-auc:0.99740+0.00012\n",
      "[20]\ttrain-auc:0.99783+0.00002\ttest-auc:0.99758+0.00012\n",
      "[22]\ttrain-auc:0.99798+0.00003\ttest-auc:0.99774+0.00011\n",
      "[24]\ttrain-auc:0.99809+0.00003\ttest-auc:0.99786+0.00013\n",
      "[26]\ttrain-auc:0.99818+0.00003\ttest-auc:0.99795+0.00013\n",
      "[28]\ttrain-auc:0.99824+0.00002\ttest-auc:0.99802+0.00013\n",
      "[30]\ttrain-auc:0.99830+0.00001\ttest-auc:0.99808+0.00013\n",
      "[32]\ttrain-auc:0.99834+0.00001\ttest-auc:0.99812+0.00013\n",
      "[34]\ttrain-auc:0.99838+0.00001\ttest-auc:0.99816+0.00014\n",
      "[36]\ttrain-auc:0.99843+0.00001\ttest-auc:0.99821+0.00014\n",
      "[38]\ttrain-auc:0.99846+0.00001\ttest-auc:0.99824+0.00013\n",
      "[40]\ttrain-auc:0.99849+0.00001\ttest-auc:0.99826+0.00013\n",
      "[42]\ttrain-auc:0.99851+0.00001\ttest-auc:0.99828+0.00014\n",
      "[44]\ttrain-auc:0.99853+0.00001\ttest-auc:0.99830+0.00013\n",
      "[46]\ttrain-auc:0.99854+0.00001\ttest-auc:0.99831+0.00013\n",
      "[48]\ttrain-auc:0.99855+0.00001\ttest-auc:0.99832+0.00013\n",
      "[50]\ttrain-auc:0.99856+0.00001\ttest-auc:0.99834+0.00013\n",
      "[51]\ttrain-auc:0.99857+0.00001\ttest-auc:0.99834+0.00013\n",
      "[0]\ttraining-auc:0.98214\ttesting-auc:0.77994\n",
      "[2]\ttraining-auc:0.99083\ttesting-auc:0.81068\n",
      "[4]\ttraining-auc:0.99444\ttesting-auc:0.82471\n",
      "[6]\ttraining-auc:0.99529\ttesting-auc:0.83258\n",
      "[8]\ttraining-auc:0.99604\ttesting-auc:0.83528\n",
      "[10]\ttraining-auc:0.99667\ttesting-auc:0.83983\n",
      "[12]\ttraining-auc:0.99708\ttesting-auc:0.84368\n",
      "[14]\ttraining-auc:0.99736\ttesting-auc:0.84573\n",
      "[16]\ttraining-auc:0.99759\ttesting-auc:0.84772\n",
      "[18]\ttraining-auc:0.99774\ttesting-auc:0.85029\n",
      "[20]\ttraining-auc:0.99790\ttesting-auc:0.85220\n",
      "[22]\ttraining-auc:0.99805\ttesting-auc:0.85452\n",
      "[24]\ttraining-auc:0.99816\ttesting-auc:0.85533\n",
      "[26]\ttraining-auc:0.99823\ttesting-auc:0.85689\n",
      "[28]\ttraining-auc:0.99829\ttesting-auc:0.85851\n",
      "[30]\ttraining-auc:0.99835\ttesting-auc:0.86108\n",
      "[32]\ttraining-auc:0.99838\ttesting-auc:0.86275\n",
      "[34]\ttraining-auc:0.99842\ttesting-auc:0.86356\n",
      "[36]\ttraining-auc:0.99846\ttesting-auc:0.86424\n",
      "[38]\ttraining-auc:0.99849\ttesting-auc:0.86486\n",
      "[40]\ttraining-auc:0.99851\ttesting-auc:0.86622\n",
      "[42]\ttraining-auc:0.99854\ttesting-auc:0.86675\n",
      "[44]\ttraining-auc:0.99856\ttesting-auc:0.86763\n",
      "[46]\ttraining-auc:0.99857\ttesting-auc:0.86823\n",
      "[48]\ttraining-auc:0.99858\ttesting-auc:0.86813\n",
      "[49]\ttraining-auc:0.99859\ttesting-auc:0.86788\n"
     ]
    }
   ],
   "source": [
    "final_random_search_model, best_params, best_auc = fit_xgb_binary(dtrain, dtest, iterations=5)"
   ]
  },
  {
   "cell_type": "code",
   "execution_count": 75,
   "id": "24738eb5-d005-4592-9977-3f9fbf7429d5",
   "metadata": {},
   "outputs": [
    {
     "name": "stdout",
     "output_type": "stream",
     "text": [
      "{'eta': 0.18043474692241304, 'lambda': 0.17857122216563456, 'alpha': 0.016266858678106212, 'gamma': 17.55358323588516, 'max_depth': 13, 'subsample': 0.6834624708149393, 'colsample_bytree': 0.6547071853481344, 'objective': 'binary:logistic', 'eval_metric': 'auc', 'min_child_weight': 1.1628021170037834} 0.9983408330554733\n"
     ]
    }
   ],
   "source": [
    "print(best_params, best_auc)"
   ]
  },
  {
   "cell_type": "code",
   "execution_count": 79,
   "id": "775846a5-be68-41db-8d4d-91ffde34c3ce",
   "metadata": {},
   "outputs": [
    {
     "name": "stdout",
     "output_type": "stream",
     "text": [
      "Recall (TPR): 0.1157\n",
      "False Positive Rate (FPR): 0.0045\n",
      "ROC AUC: 0.86829\n"
     ]
    }
   ],
   "source": [
    "random_preds = final_random_search_model.predict(dtest)\n",
    "threshold = 0.5\n",
    "y_pred = (random_preds >= threshold).astype(int)\n",
    "random_auc = roc_auc_score(y_test, random_preds)\n",
    "tn, fp, fn, tp = confusion_matrix(y_test, y_pred).ravel()\n",
    "tpr = tp / (tp + fn)\n",
    "fpr = fp / (fp + tn)\n",
    "\n",
    "print(f\"Recall (TPR): {tpr:.4f}\")\n",
    "print(f\"False Positive Rate (FPR): {fpr:.4f}\")\n",
    "print(f'ROC AUC: {random_auc:.5f}')"
   ]
  }
 ],
 "metadata": {
  "kernelspec": {
   "display_name": "Python 3 (ipykernel)",
   "language": "python",
   "name": "python3"
  },
  "language_info": {
   "codemirror_mode": {
    "name": "ipython",
    "version": 3
   },
   "file_extension": ".py",
   "mimetype": "text/x-python",
   "name": "python",
   "nbconvert_exporter": "python",
   "pygments_lexer": "ipython3",
   "version": "3.11.10"
  }
 },
 "nbformat": 4,
 "nbformat_minor": 5
}
