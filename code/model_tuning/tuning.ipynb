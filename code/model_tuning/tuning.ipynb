{
 "cells": [
  {
   "cell_type": "code",
   "execution_count": 1,
   "id": "d8885a09-e652-438a-8a10-91a4d7026392",
   "metadata": {},
   "outputs": [
    {
     "name": "stdout",
     "output_type": "stream",
     "text": [
      "Starting setups...\n"
     ]
    }
   ],
   "source": [
    "print(\"Starting setups...\")\n",
    "import sys\n",
    "import os"
   ]
  },
  {
   "cell_type": "code",
   "execution_count": 2,
   "id": "af79d62c-9f69-4863-94f8-4e8615a47540",
   "metadata": {},
   "outputs": [
    {
     "name": "stdout",
     "output_type": "stream",
     "text": [
      "dir_path is /Users/zoe/Documents/Bank-account-fraud/code/model_tuning\n",
      "parent_dir is /Users/zoe/Documents/Bank-account-fraud/code\n",
      "home_dir is /Users/zoe/Documents/Bank-account-fraud\n"
     ]
    }
   ],
   "source": [
    "dir_path = os.getcwd()\n",
    "parent_dir = os.path.dirname(dir_path)\n",
    "home_dir = os.path.dirname(parent_dir)\n",
    "print(\"dir_path is\", dir_path)\n",
    "print(\"parent_dir is\", parent_dir)\n",
    "print(\"home_dir is\", home_dir)"
   ]
  },
  {
   "cell_type": "code",
   "execution_count": 3,
   "id": "f47e810f-11d9-45ce-9529-8c5c9015dc37",
   "metadata": {},
   "outputs": [
    {
     "name": "stdout",
     "output_type": "stream",
     "text": [
      "/Users/zoe/Documents/Bank-account-fraud/params.yaml\n"
     ]
    },
    {
     "data": {
      "text/plain": [
       "{'data_location': '/data',\n",
       " 'output_location': '/output',\n",
       " 'code_location': '/code'}"
      ]
     },
     "execution_count": 3,
     "metadata": {},
     "output_type": "execute_result"
    }
   ],
   "source": [
    "import yaml\n",
    "print(home_dir+'/params.yaml')\n",
    "with open(home_dir+'/params.yaml', 'r') as file:\n",
    "    params = yaml.safe_load(file)\n",
    "params"
   ]
  },
  {
   "cell_type": "code",
   "execution_count": 4,
   "id": "e73be67d-25c9-47ca-82f1-5804388c7135",
   "metadata": {},
   "outputs": [
    {
     "name": "stdout",
     "output_type": "stream",
     "text": [
      "Data is stored at /Users/zoe/Documents/Bank-account-fraud/data\n"
     ]
    }
   ],
   "source": [
    "data_folder = home_dir+params['data_location']\n",
    "print('Data is stored at', data_folder)"
   ]
  },
  {
   "cell_type": "code",
   "execution_count": 5,
   "id": "eab746c2-6b30-4223-b8ea-eb7c54329a89",
   "metadata": {},
   "outputs": [
    {
     "name": "stdout",
     "output_type": "stream",
     "text": [
      "Current configuration is: {'tuning': {'method': 'random_search', 'random_search': {'param_distributions': {'n_estimators': [50, 100, 200, 500], 'learning_rate': [0.01, 0.05, 0.1, 0.2], 'max_depth': [3, 5, 7, 9], 'subsample': [0.6, 0.8, 1.0], 'colsample_bytree': [0.6, 0.8, 1.0]}, 'n_iter': 50, 'cv': 3, 'scoring': 'roc_auc', 'random_state': 42}, 'grid_search': {'param_grid': {'n_estimators': [100, 200, 300], 'learning_rate': [0.01, 0.05, 0.1], 'max_depth': [3, 6, 9], 'subsample': [0.6, 0.8, 1.0], 'colsample_bytree': [0.6, 0.8, 1.0]}, 'cv': 5, 'scoring': 'roc_auc'}, 'bayesian_optimization': {'param_bounds': {'n_estimators': [50, 500], 'learning_rate': [0.01, 0.2], 'max_depth': [3, 10], 'subsample': [0.5, 1.0], 'colsample_bytree': [0.5, 1.0]}, 'init_points': 5, 'n_iter': 25, 'scoring': 'roc_auc'}}}\n"
     ]
    }
   ],
   "source": [
    "with open(dir_path+\"/params.yaml\", \"r\") as file:\n",
    "    config = yaml.safe_load(file)\n",
    "\n",
    "print(f\"Current configuration is: {config}\")"
   ]
  },
  {
   "cell_type": "code",
   "execution_count": 6,
   "id": "25e8de4b-a7f1-4f4f-9e6c-8299a2a4840c",
   "metadata": {},
   "outputs": [],
   "source": [
    "import pandas as pd\n",
    "import numpy as np\n",
    "pd.set_option('display.max_columns', 500)\n",
    "import warnings as wr\n",
    "wr.filterwarnings('ignore')\n",
    "\n",
    "import matplotlib.pyplot as plt\n",
    "import seaborn as sns\n",
    "import sklearn\n",
    "\n",
    "import xgboost as xgb\n",
    "from xgboost import XGBClassifier\n",
    "\n",
    "sys.path.append(os.path.abspath(\"model_tuning\"))\n",
    "from functions import *"
   ]
  },
  {
   "cell_type": "code",
   "execution_count": 7,
   "id": "d4b5edcc-38a5-49b0-87a5-42d352bf158b",
   "metadata": {},
   "outputs": [
    {
     "name": "stdout",
     "output_type": "stream",
     "text": [
      "Reading training and test data...\n"
     ]
    }
   ],
   "source": [
    "print(\"Reading training and test data...\")\n",
    "X_train = pd.read_csv(f\"{home_dir}/data/x_train_data.csv\", index_col=0)\n",
    "y_train = pd.read_csv(f\"{home_dir}/data/y_train_data.csv\", index_col=0)\n",
    "X_test = pd.read_csv(f\"{home_dir}/data/x_test_data.csv\", index_col=0)\n",
    "y_test = pd.read_csv(f\"{home_dir}/data/y_test_data.csv\", index_col=0)\n",
    "\n",
    "# X_train_smote = pd.read_csv(f\"{parent_dir}/data/x_train_data_smote.csv\", index_col=0)\n",
    "# y_train_smote = pd.read_csv(f\"{parent_dir}/data/y_train_data_smote.csv\", index_col=0)"
   ]
  },
  {
   "cell_type": "markdown",
   "id": "0155834e-bfc6-4bfc-9759-f4ece3975ff4",
   "metadata": {},
   "source": [
    "# Baseline model"
   ]
  },
  {
   "cell_type": "markdown",
   "id": "61cbe157-cbf5-4323-a0f2-6b79eb7831aa",
   "metadata": {},
   "source": [
    "Assumptions:\n",
    "1. imbalaned dataset with low percentage of positive cases, so we use AUC as the measuring metrics\n",
    "2. assume it's more costly to have higher FN(misclassified fraud cases as not fraud) than higher FP (false alarm for not fraud as fraud). So we aim for a higher recall (higher true positive rate & lower false negative rate)"
   ]
  },
  {
   "cell_type": "markdown",
   "id": "bf89a770-27e1-4152-bae7-977c60c87a3c",
   "metadata": {},
   "source": [
    "# function to get all evaluation metrics"
   ]
  },
  {
   "cell_type": "code",
   "execution_count": 55,
   "id": "51454a36-d725-4d28-b390-051260440a5c",
   "metadata": {},
   "outputs": [],
   "source": [
    "# from sklearn.metrics import roc_auc_score, confusion_matrix, roc_curve, ConfusionMatrixDisplay\n",
    "\n",
    "# def evaluate_model_performance(model, X_test, y_test, threshold=0.5):\n",
    "#     preds = model.predict_proba(X_test)[:, 1]\n",
    "#     auc_score = roc_auc_score(y_test, preds)\n",
    "\n",
    "#     # Classify based on the threshold\n",
    "#     pred_bool = (preds >= threshold).astype(int)\n",
    "\n",
    "#     # Compute confusion matrix metrics\n",
    "#     tn, fp, fn, tp = confusion_matrix(y_test, pred_bool).ravel()\n",
    "#     cm = confusion_matrix(y_test, pred_bool)\n",
    "#     tpr = tp / (tp + fn)  # True Positive Rate\n",
    "#     fpr = fp / (fp + tn)  # False Positive Rate\n",
    "\n",
    "#     # Compute ROC curve\n",
    "#     fpr_curve, tpr_curve, thresholds = roc_curve(y_test, preds)\n",
    "\n",
    "#     # Print the results\n",
    "#     print(f\"Recall (TPR): {tpr:.4f}\")\n",
    "#     print(f\"False Positive Rate (FPR): {fpr:.4f}\")\n",
    "#     print(f'ROC AUC: {auc_score:.5f}')\n",
    "\n",
    "#     return {\n",
    "#         \"PREDS\": preds, \n",
    "#         \"PREDS_BOOL\": pred_bool, \n",
    "#         \"TN\": tn, \n",
    "#         \"FP\": fp, \n",
    "#         \"FN\": fn, \n",
    "#         \"TP\": tp, \n",
    "#         # pr_curve, tpr_curve, thresholds\n",
    "#         \"TPR\": tpr,\n",
    "#         \"FPR\": fpr,\n",
    "#         \"ROC AUC\": auc_score,\n",
    "#         \"Confusion Matrix\": cm,\n",
    "#         \"ROC Curve\": (fpr_curve, tpr_curve),\n",
    "#     }"
   ]
  },
  {
   "cell_type": "markdown",
   "id": "56378fb9-720e-4b0b-81cd-fef7252a4dbf",
   "metadata": {},
   "source": [
    "### use xgb.cv to provide a baseline model eval"
   ]
  },
  {
   "cell_type": "code",
   "execution_count": 8,
   "id": "e931e62f-abc2-4b1f-aee7-03976dfc9294",
   "metadata": {},
   "outputs": [],
   "source": [
    "dtrain = xgb.DMatrix(X_train, label=y_train)\n",
    "dtest = xgb.DMatrix(X_test, label=y_test)"
   ]
  },
  {
   "cell_type": "code",
   "execution_count": 9,
   "id": "09d8c1cc-eb8f-469f-8dad-39e66e49add8",
   "metadata": {},
   "outputs": [
    {
     "name": "stdout",
     "output_type": "stream",
     "text": [
      "{'objective': 'binary:logistic', 'base_score': None, 'booster': None, 'callbacks': None, 'colsample_bylevel': None, 'colsample_bynode': None, 'colsample_bytree': None, 'device': None, 'early_stopping_rounds': None, 'enable_categorical': False, 'eval_metric': None, 'feature_types': None, 'gamma': None, 'grow_policy': None, 'importance_type': None, 'interaction_constraints': None, 'learning_rate': None, 'max_bin': None, 'max_cat_threshold': None, 'max_cat_to_onehot': None, 'max_delta_step': None, 'max_depth': None, 'max_leaves': None, 'min_child_weight': None, 'missing': nan, 'monotone_constraints': None, 'multi_strategy': None, 'n_estimators': None, 'n_jobs': None, 'num_parallel_tree': None, 'random_state': None, 'reg_alpha': None, 'reg_lambda': None, 'sampling_method': None, 'scale_pos_weight': None, 'subsample': None, 'tree_method': None, 'validate_parameters': None, 'verbosity': None}\n"
     ]
    }
   ],
   "source": [
    "default_model = XGBClassifier()\n",
    "default_params = default_model.get_params()\n",
    "print(default_params)"
   ]
  },
  {
   "cell_type": "code",
   "execution_count": 147,
   "id": "1ab4fc1d-5911-44a5-bf6b-fd72f95e8fae",
   "metadata": {},
   "outputs": [],
   "source": [
    "# def objective(hyperparameters, dtrain, iteration):\n",
    "#     \"\"\"Objective function for grid and random search. Returns\n",
    "#        the cross validation score from a set of hyperparameters.\"\"\"\n",
    "    \n",
    "#     # Perform n_folds cross validation\n",
    "#     cv_results = xgb.cv(params = hyperparameters, \n",
    "#                         dtrain = dtrain, num_boost_round = 10000, nfold = 10, \n",
    "#                         early_stopping_rounds = 5, metrics = 'auc', seed = 42,\n",
    "#                         verbose_eval=2, maximize=True)\n",
    "    \n",
    "#     # results to retun\n",
    "#     score = cv_results['test-auc-mean'].max()\n",
    "#     # estimators = len(cv_results['test-auc-mean'])\n",
    "#     # hyperparameters['n_estimators'] = estimators \n",
    "    \n",
    "#     return [cv_results, score, hyperparameters, iteration]"
   ]
  },
  {
   "cell_type": "code",
   "execution_count": 10,
   "id": "5da50ec3-93dc-4a9d-be6b-432e8db60731",
   "metadata": {
    "scrolled": true
   },
   "outputs": [
    {
     "name": "stdout",
     "output_type": "stream",
     "text": [
      "[0]\ttrain-auc:0.96025+0.00007\ttest-auc:0.96021+0.00053\n",
      "[2]\ttrain-auc:0.97327+0.00113\ttest-auc:0.97318+0.00103\n",
      "[4]\ttrain-auc:0.97959+0.00037\ttest-auc:0.97951+0.00043\n",
      "[6]\ttrain-auc:0.98297+0.00034\ttest-auc:0.98291+0.00052\n",
      "[8]\ttrain-auc:0.98693+0.00041\ttest-auc:0.98685+0.00056\n",
      "[10]\ttrain-auc:0.99102+0.00078\ttest-auc:0.99092+0.00084\n",
      "[12]\ttrain-auc:0.99293+0.00052\ttest-auc:0.99285+0.00054\n",
      "[14]\ttrain-auc:0.99402+0.00038\ttest-auc:0.99395+0.00042\n",
      "[16]\ttrain-auc:0.99485+0.00023\ttest-auc:0.99477+0.00031\n",
      "[18]\ttrain-auc:0.99541+0.00019\ttest-auc:0.99532+0.00029\n",
      "[20]\ttrain-auc:0.99589+0.00018\ttest-auc:0.99580+0.00022\n",
      "[22]\ttrain-auc:0.99619+0.00020\ttest-auc:0.99609+0.00024\n",
      "[24]\ttrain-auc:0.99646+0.00017\ttest-auc:0.99635+0.00021\n",
      "[26]\ttrain-auc:0.99668+0.00011\ttest-auc:0.99655+0.00015\n",
      "[28]\ttrain-auc:0.99686+0.00013\ttest-auc:0.99673+0.00019\n",
      "[30]\ttrain-auc:0.99701+0.00010\ttest-auc:0.99687+0.00017\n",
      "[32]\ttrain-auc:0.99714+0.00009\ttest-auc:0.99700+0.00015\n",
      "[34]\ttrain-auc:0.99726+0.00006\ttest-auc:0.99711+0.00011\n",
      "[36]\ttrain-auc:0.99735+0.00005\ttest-auc:0.99719+0.00011\n",
      "[38]\ttrain-auc:0.99743+0.00006\ttest-auc:0.99725+0.00011\n",
      "[40]\ttrain-auc:0.99751+0.00005\ttest-auc:0.99732+0.00011\n",
      "[42]\ttrain-auc:0.99757+0.00005\ttest-auc:0.99737+0.00011\n",
      "[44]\ttrain-auc:0.99764+0.00004\ttest-auc:0.99743+0.00010\n",
      "[46]\ttrain-auc:0.99770+0.00003\ttest-auc:0.99748+0.00011\n",
      "[48]\ttrain-auc:0.99776+0.00003\ttest-auc:0.99752+0.00010\n",
      "[50]\ttrain-auc:0.99782+0.00002\ttest-auc:0.99756+0.00010\n",
      "[52]\ttrain-auc:0.99787+0.00002\ttest-auc:0.99759+0.00010\n",
      "[54]\ttrain-auc:0.99791+0.00002\ttest-auc:0.99763+0.00010\n",
      "[56]\ttrain-auc:0.99796+0.00002\ttest-auc:0.99767+0.00009\n",
      "[58]\ttrain-auc:0.99801+0.00002\ttest-auc:0.99770+0.00010\n",
      "[60]\ttrain-auc:0.99805+0.00002\ttest-auc:0.99773+0.00010\n",
      "[62]\ttrain-auc:0.99810+0.00002\ttest-auc:0.99775+0.00010\n",
      "[64]\ttrain-auc:0.99814+0.00002\ttest-auc:0.99778+0.00010\n",
      "[66]\ttrain-auc:0.99818+0.00002\ttest-auc:0.99781+0.00009\n",
      "[68]\ttrain-auc:0.99822+0.00002\ttest-auc:0.99784+0.00009\n",
      "[70]\ttrain-auc:0.99825+0.00002\ttest-auc:0.99786+0.00009\n",
      "[72]\ttrain-auc:0.99829+0.00002\ttest-auc:0.99788+0.00009\n",
      "[74]\ttrain-auc:0.99832+0.00002\ttest-auc:0.99790+0.00009\n",
      "[76]\ttrain-auc:0.99836+0.00002\ttest-auc:0.99792+0.00009\n",
      "[78]\ttrain-auc:0.99838+0.00002\ttest-auc:0.99794+0.00009\n",
      "[80]\ttrain-auc:0.99841+0.00001\ttest-auc:0.99795+0.00009\n",
      "[82]\ttrain-auc:0.99844+0.00002\ttest-auc:0.99797+0.00009\n",
      "[84]\ttrain-auc:0.99847+0.00001\ttest-auc:0.99798+0.00009\n",
      "[86]\ttrain-auc:0.99850+0.00001\ttest-auc:0.99800+0.00009\n",
      "[88]\ttrain-auc:0.99853+0.00001\ttest-auc:0.99801+0.00009\n",
      "[90]\ttrain-auc:0.99855+0.00001\ttest-auc:0.99802+0.00009\n",
      "[92]\ttrain-auc:0.99858+0.00001\ttest-auc:0.99803+0.00009\n",
      "[94]\ttrain-auc:0.99860+0.00001\ttest-auc:0.99804+0.00008\n",
      "[96]\ttrain-auc:0.99862+0.00001\ttest-auc:0.99805+0.00008\n",
      "[98]\ttrain-auc:0.99865+0.00001\ttest-auc:0.99807+0.00008\n",
      "[100]\ttrain-auc:0.99867+0.00001\ttest-auc:0.99808+0.00008\n",
      "[102]\ttrain-auc:0.99869+0.00001\ttest-auc:0.99808+0.00008\n",
      "[104]\ttrain-auc:0.99871+0.00001\ttest-auc:0.99809+0.00008\n",
      "[106]\ttrain-auc:0.99873+0.00001\ttest-auc:0.99810+0.00008\n",
      "[108]\ttrain-auc:0.99875+0.00001\ttest-auc:0.99811+0.00008\n",
      "[110]\ttrain-auc:0.99877+0.00001\ttest-auc:0.99812+0.00007\n",
      "[112]\ttrain-auc:0.99879+0.00001\ttest-auc:0.99813+0.00007\n",
      "[114]\ttrain-auc:0.99881+0.00001\ttest-auc:0.99813+0.00007\n",
      "[116]\ttrain-auc:0.99882+0.00001\ttest-auc:0.99814+0.00007\n",
      "[118]\ttrain-auc:0.99885+0.00001\ttest-auc:0.99815+0.00007\n",
      "[120]\ttrain-auc:0.99886+0.00001\ttest-auc:0.99815+0.00007\n",
      "[122]\ttrain-auc:0.99888+0.00001\ttest-auc:0.99816+0.00007\n",
      "[124]\ttrain-auc:0.99889+0.00001\ttest-auc:0.99816+0.00007\n",
      "[126]\ttrain-auc:0.99891+0.00001\ttest-auc:0.99817+0.00006\n",
      "[128]\ttrain-auc:0.99892+0.00001\ttest-auc:0.99817+0.00007\n",
      "[130]\ttrain-auc:0.99894+0.00001\ttest-auc:0.99817+0.00007\n",
      "[132]\ttrain-auc:0.99895+0.00001\ttest-auc:0.99818+0.00007\n",
      "[134]\ttrain-auc:0.99897+0.00001\ttest-auc:0.99819+0.00007\n",
      "[136]\ttrain-auc:0.99899+0.00001\ttest-auc:0.99819+0.00007\n",
      "[138]\ttrain-auc:0.99900+0.00001\ttest-auc:0.99820+0.00007\n",
      "[140]\ttrain-auc:0.99901+0.00001\ttest-auc:0.99820+0.00007\n",
      "[142]\ttrain-auc:0.99902+0.00001\ttest-auc:0.99820+0.00006\n",
      "[144]\ttrain-auc:0.99904+0.00001\ttest-auc:0.99821+0.00006\n",
      "[146]\ttrain-auc:0.99905+0.00001\ttest-auc:0.99821+0.00007\n",
      "[148]\ttrain-auc:0.99906+0.00001\ttest-auc:0.99821+0.00007\n",
      "[150]\ttrain-auc:0.99908+0.00001\ttest-auc:0.99821+0.00007\n",
      "[152]\ttrain-auc:0.99909+0.00001\ttest-auc:0.99822+0.00006\n",
      "[154]\ttrain-auc:0.99910+0.00001\ttest-auc:0.99822+0.00006\n",
      "[156]\ttrain-auc:0.99911+0.00001\ttest-auc:0.99822+0.00006\n",
      "[158]\ttrain-auc:0.99913+0.00001\ttest-auc:0.99822+0.00006\n",
      "[160]\ttrain-auc:0.99914+0.00002\ttest-auc:0.99823+0.00006\n",
      "[162]\ttrain-auc:0.99915+0.00002\ttest-auc:0.99823+0.00006\n",
      "[164]\ttrain-auc:0.99916+0.00001\ttest-auc:0.99823+0.00006\n",
      "[166]\ttrain-auc:0.99917+0.00001\ttest-auc:0.99823+0.00007\n",
      "[168]\ttrain-auc:0.99918+0.00001\ttest-auc:0.99823+0.00006\n",
      "[170]\ttrain-auc:0.99920+0.00001\ttest-auc:0.99824+0.00007\n",
      "[172]\ttrain-auc:0.99921+0.00001\ttest-auc:0.99824+0.00007\n",
      "[174]\ttrain-auc:0.99922+0.00001\ttest-auc:0.99824+0.00007\n",
      "[176]\ttrain-auc:0.99923+0.00001\ttest-auc:0.99824+0.00007\n",
      "[178]\ttrain-auc:0.99924+0.00001\ttest-auc:0.99825+0.00007\n",
      "[180]\ttrain-auc:0.99925+0.00001\ttest-auc:0.99825+0.00007\n",
      "[182]\ttrain-auc:0.99926+0.00001\ttest-auc:0.99825+0.00007\n",
      "[184]\ttrain-auc:0.99927+0.00001\ttest-auc:0.99826+0.00007\n",
      "[186]\ttrain-auc:0.99928+0.00001\ttest-auc:0.99826+0.00007\n",
      "[188]\ttrain-auc:0.99929+0.00001\ttest-auc:0.99826+0.00007\n",
      "[190]\ttrain-auc:0.99930+0.00001\ttest-auc:0.99826+0.00007\n",
      "[192]\ttrain-auc:0.99931+0.00001\ttest-auc:0.99826+0.00006\n",
      "[194]\ttrain-auc:0.99932+0.00001\ttest-auc:0.99827+0.00006\n",
      "[196]\ttrain-auc:0.99933+0.00001\ttest-auc:0.99827+0.00006\n",
      "[198]\ttrain-auc:0.99934+0.00001\ttest-auc:0.99827+0.00006\n",
      "[200]\ttrain-auc:0.99935+0.00001\ttest-auc:0.99827+0.00006\n",
      "[202]\ttrain-auc:0.99936+0.00001\ttest-auc:0.99827+0.00006\n",
      "[204]\ttrain-auc:0.99936+0.00001\ttest-auc:0.99827+0.00006\n",
      "[206]\ttrain-auc:0.99937+0.00001\ttest-auc:0.99827+0.00006\n",
      "[208]\ttrain-auc:0.99938+0.00001\ttest-auc:0.99827+0.00006\n",
      "[210]\ttrain-auc:0.99939+0.00001\ttest-auc:0.99828+0.00006\n",
      "[212]\ttrain-auc:0.99940+0.00001\ttest-auc:0.99828+0.00006\n",
      "[214]\ttrain-auc:0.99940+0.00001\ttest-auc:0.99828+0.00006\n",
      "[216]\ttrain-auc:0.99941+0.00001\ttest-auc:0.99828+0.00006\n",
      "[218]\ttrain-auc:0.99942+0.00001\ttest-auc:0.99828+0.00006\n",
      "[220]\ttrain-auc:0.99943+0.00001\ttest-auc:0.99828+0.00006\n",
      "[222]\ttrain-auc:0.99944+0.00001\ttest-auc:0.99828+0.00006\n",
      "[224]\ttrain-auc:0.99944+0.00001\ttest-auc:0.99828+0.00006\n",
      "[226]\ttrain-auc:0.99945+0.00001\ttest-auc:0.99828+0.00006\n",
      "[228]\ttrain-auc:0.99946+0.00001\ttest-auc:0.99828+0.00006\n",
      "[230]\ttrain-auc:0.99947+0.00001\ttest-auc:0.99828+0.00006\n",
      "[232]\ttrain-auc:0.99947+0.00001\ttest-auc:0.99828+0.00006\n",
      "[234]\ttrain-auc:0.99948+0.00001\ttest-auc:0.99828+0.00006\n",
      "[236]\ttrain-auc:0.99949+0.00001\ttest-auc:0.99829+0.00006\n",
      "[238]\ttrain-auc:0.99950+0.00001\ttest-auc:0.99829+0.00006\n",
      "[240]\ttrain-auc:0.99950+0.00001\ttest-auc:0.99829+0.00006\n",
      "[242]\ttrain-auc:0.99951+0.00001\ttest-auc:0.99829+0.00006\n",
      "[244]\ttrain-auc:0.99952+0.00001\ttest-auc:0.99829+0.00006\n",
      "[245]\ttrain-auc:0.99952+0.00001\ttest-auc:0.99829+0.00006\n"
     ]
    }
   ],
   "source": [
    "r = objective(default_params, dtrain, iteration=1)"
   ]
  },
  {
   "cell_type": "code",
   "execution_count": 18,
   "id": "4ace2f21-5e8f-476f-9244-c731108c9978",
   "metadata": {},
   "outputs": [
    {
     "data": {
      "text/plain": [
       "{'score': np.float64(0.9982889029064763),\n",
       " 'params': {'objective': 'binary:logistic',\n",
       "  'base_score': None,\n",
       "  'booster': None,\n",
       "  'callbacks': None,\n",
       "  'colsample_bylevel': None,\n",
       "  'colsample_bynode': None,\n",
       "  'colsample_bytree': None,\n",
       "  'device': None,\n",
       "  'early_stopping_rounds': None,\n",
       "  'enable_categorical': False,\n",
       "  'eval_metric': None,\n",
       "  'feature_types': None,\n",
       "  'gamma': None,\n",
       "  'grow_policy': None,\n",
       "  'importance_type': None,\n",
       "  'interaction_constraints': None,\n",
       "  'learning_rate': None,\n",
       "  'max_bin': None,\n",
       "  'max_cat_threshold': None,\n",
       "  'max_cat_to_onehot': None,\n",
       "  'max_delta_step': None,\n",
       "  'max_depth': None,\n",
       "  'max_leaves': None,\n",
       "  'min_child_weight': None,\n",
       "  'missing': nan,\n",
       "  'monotone_constraints': None,\n",
       "  'multi_strategy': None,\n",
       "  'n_estimators': None,\n",
       "  'n_jobs': None,\n",
       "  'num_parallel_tree': None,\n",
       "  'random_state': None,\n",
       "  'reg_alpha': None,\n",
       "  'reg_lambda': None,\n",
       "  'sampling_method': None,\n",
       "  'scale_pos_weight': None,\n",
       "  'subsample': None,\n",
       "  'tree_method': None,\n",
       "  'validate_parameters': None,\n",
       "  'verbosity': None},\n",
       " 'iterations': 1}"
      ]
     },
     "execution_count": 18,
     "metadata": {},
     "output_type": "execute_result"
    }
   ],
   "source": [
    "default_cv =  {\n",
    "            \"score\": r[1], \n",
    "            \"params\": r[2], \n",
    "            \"iterations\": r[3]\n",
    "        }\n",
    "default_cv"
   ]
  },
  {
   "cell_type": "code",
   "execution_count": 13,
   "id": "7fe4cce2-9d71-41c6-8e4c-fb8c9505449d",
   "metadata": {},
   "outputs": [
    {
     "name": "stdout",
     "output_type": "stream",
     "text": [
      "[0]\ttraining-logloss:0.51093\ttesting-logloss:0.48024\n",
      "[2]\ttraining-logloss:0.33799\ttesting-logloss:0.31929\n",
      "[4]\ttraining-logloss:0.25764\ttesting-logloss:0.24440\n"
     ]
    }
   ],
   "source": [
    "default_model = train_model(default_params, dtrain, dtest)"
   ]
  },
  {
   "cell_type": "code",
   "execution_count": 16,
   "id": "1c34beda-e117-41a2-b6d2-258ad9389c44",
   "metadata": {},
   "outputs": [
    {
     "name": "stdout",
     "output_type": "stream",
     "text": [
      "Recall (TPR): 0.3457\n",
      "False Positive Rate (FPR): 0.0474\n",
      "ROC AUC: 0.81835\n"
     ]
    },
    {
     "data": {
      "image/png": "[encoded data removed]",
      "text/plain": [
       "<Figure size 800x600 with 1 Axes>"
      ]
     },
     "metadata": {},
     "output_type": "display_data"
    },
    {
     "data": {
      "image/png": "[encoded data removed]",
      "text/plain": [
       "<Figure size 800x600 with 1 Axes>"
      ]
     },
     "metadata": {},
     "output_type": "display_data"
    },
    {
     "name": "stdout",
     "output_type": "stream",
     "text": [
      "{'PREDS': array([0.10538135, 0.09202541, 0.14346935, ..., 0.08144739, 0.1062959 ,\n",
      "       0.08547435], dtype=float32), 'PREDS_BOOL': array([0, 0, 0, ..., 0, 0, 0]), 'TN': np.int64(188510), 'FP': np.int64(9381), 'FN': np.int64(1380), 'TP': np.int64(729), 'TPR': np.float64(0.3456614509246088), 'FPR': np.float64(0.04740488450712766), 'ROC AUC': np.float64(0.8183495062115641), 'Confusion Matrix': array([[188510,   9381],\n",
      "       [  1380,    729]]), 'ROC Curve': (array([0.        , 0.00977811, 0.01066244, ..., 0.98749311, 0.98779126,\n",
      "       1.        ]), array([0.        , 0.1161688 , 0.12565197, ..., 0.99715505, 0.99762921,\n",
      "       1.        ]))}\n"
     ]
    }
   ],
   "source": [
    "baseline_result = evaluate_model_performance3(default_model, \n",
    "                                              X_test, y_test, \n",
    "                                              threshold=0.5, \n",
    "                                              plot_roc_curve=True, plot_confusion_matrix=True)\n",
    "print(baseline_result)"
   ]
  },
  {
   "cell_type": "code",
   "execution_count": 19,
   "id": "dda5adc5-59e9-45f4-9323-3e52591bd43a",
   "metadata": {},
   "outputs": [
    {
     "data": {
      "text/plain": [
       "y        2109\n",
       "y_hat     729\n",
       "dtype: int64"
      ]
     },
     "execution_count": 19,
     "metadata": {},
     "output_type": "execute_result"
    }
   ],
   "source": [
    "compare = pd.DataFrame({\n",
    "    'y':y_test.fraud_bool,\n",
    "    'y_hat':baseline_result[\"PREDS_BOOL\"]\n",
    "})\n",
    "\n",
    "compare[compare.y==1].sum()"
   ]
  },
  {
   "cell_type": "markdown",
   "id": "455640e7-2140-4d08-a7dc-0d1a6d3e6b16",
   "metadata": {},
   "source": [
    "This is the baseline score before hyperparameter tuning. The only difference we made from the default model was using early stopping to get the number of estimators."
   ]
  },
  {
   "cell_type": "markdown",
   "id": "3e144ac8-26b0-4a2b-9d8f-ee62020d179a",
   "metadata": {},
   "source": [
    "how is the true negative different from the one's that are not captured as fraud;\n",
    "exmaine the true negatives and go back to the features to alter the figure and let the model learn from new features "
   ]
  },
  {
   "cell_type": "markdown",
   "id": "bdafaad9-1614-4b48-a369-6cbc4ada55d8",
   "metadata": {},
   "source": [
    "# Tuning"
   ]
  },
  {
   "cell_type": "markdown",
   "id": "a5c21e4c-9430-4c26-a03a-7ac22edcbadf",
   "metadata": {},
   "source": [
    "## objective function"
   ]
  },
  {
   "cell_type": "markdown",
   "id": "a8009092-0a01-404e-bfce-66947dd09a71",
   "metadata": {},
   "source": [
    "# Random search first"
   ]
  },
  {
   "cell_type": "code",
   "execution_count": 35,
   "id": "aea1c65d-410b-4cf1-bef7-a6cc09e19601",
   "metadata": {},
   "outputs": [],
   "source": [
    "import csv\n",
    "\n",
    "# Create file and open connection\n",
    "out_file = 'random_search_trials.csv'\n",
    "of_connection = open(out_file, 'w')\n",
    "writer = csv.writer(of_connection)\n",
    "\n",
    "# Write column names\n",
    "headers = ['score', 'hyperparameters', 'iteration']\n",
    "writer.writerow(headers)\n",
    "of_connection.close()"
   ]
  },
  {
   "cell_type": "code",
   "execution_count": 36,
   "id": "39a617fa-be8b-445e-9e65-fa22000bcbcb",
   "metadata": {},
   "outputs": [
    {
     "data": {
      "text/html": [
       "<div>\n",
       "<style scoped>\n",
       "    .dataframe tbody tr th:only-of-type {\n",
       "        vertical-align: middle;\n",
       "    }\n",
       "\n",
       "    .dataframe tbody tr th {\n",
       "        vertical-align: top;\n",
       "    }\n",
       "\n",
       "    .dataframe thead th {\n",
       "        text-align: right;\n",
       "    }\n",
       "</style>\n",
       "<table border=\"1\" class=\"dataframe\">\n",
       "  <thead>\n",
       "    <tr style=\"text-align: right;\">\n",
       "      <th></th>\n",
       "      <th>score</th>\n",
       "      <th>params</th>\n",
       "      <th>iterations</th>\n",
       "    </tr>\n",
       "  </thead>\n",
       "  <tbody>\n",
       "    <tr>\n",
       "      <th>4</th>\n",
       "      <td>9</td>\n",
       "      <td>10</td>\n",
       "      <td>11</td>\n",
       "    </tr>\n",
       "    <tr>\n",
       "      <th>3</th>\n",
       "      <td>8</td>\n",
       "      <td>9</td>\n",
       "      <td>10</td>\n",
       "    </tr>\n",
       "    <tr>\n",
       "      <th>2</th>\n",
       "      <td>7</td>\n",
       "      <td>8</td>\n",
       "      <td>9</td>\n",
       "    </tr>\n",
       "    <tr>\n",
       "      <th>1</th>\n",
       "      <td>6</td>\n",
       "      <td>7</td>\n",
       "      <td>8</td>\n",
       "    </tr>\n",
       "    <tr>\n",
       "      <th>0</th>\n",
       "      <td>5</td>\n",
       "      <td>6</td>\n",
       "      <td>7</td>\n",
       "    </tr>\n",
       "  </tbody>\n",
       "</table>\n",
       "</div>"
      ],
      "text/plain": [
       "  score params iterations\n",
       "4     9     10         11\n",
       "3     8      9         10\n",
       "2     7      8          9\n",
       "1     6      7          8\n",
       "0     5      6          7"
      ]
     },
     "execution_count": 36,
     "metadata": {},
     "output_type": "execute_result"
    }
   ],
   "source": [
    "def write_csv_test(outfile, iteration=5):\n",
    "    results = pd.DataFrame(columns = ['score', 'params', 'iterations'],index = list(range(iteration)))\n",
    "    for i in range(iteration): \n",
    "        results.loc[i, :] = {\n",
    "            \"score\": i+5, \n",
    "            \"params\": i+6, \n",
    "            \"iterations\": i+7\n",
    "        }\n",
    "\n",
    "        of_connection = open(out_file, 'a')\n",
    "        writer = csv.writer(of_connection)\n",
    "        writer.writerow(results)\n",
    "\n",
    "        of_connection.close()\n",
    "    results.sort_values('score', ascending = False, inplace = True)\n",
    "    # results.reset_index(inplace = True)\n",
    "    return results\n",
    "        \n",
    "results = write_csv_test(out_file)\n",
    "results"
   ]
  },
  {
   "cell_type": "code",
   "execution_count": 80,
   "id": "791b0545-9d0d-474b-b11b-f0850cfd7432",
   "metadata": {},
   "outputs": [],
   "source": [
    "# def random_search(dtrain, param_grid, out_file, iteration=1):\n",
    "#     best_auc = 0\n",
    "#     best_params = {}\n",
    "#     results = pd.DataFrame(columns = ['score', 'params', 'iterations'], \n",
    "#                           index = list(range(iteration)))\n",
    "#     for i in range(iteration): \n",
    "#         param_grid = param_grid\n",
    "#         eval_results = objective(param_grid, dtrain, i)\n",
    "#         results.loc[i, :] = {\n",
    "#             \"score\": eval_results[1], \n",
    "#             \"params\": eval_results[2], \n",
    "#             \"iterations\": eval_results[3]\n",
    "#         }\n",
    "\n",
    "#         of_connection = open(out_file, 'a')\n",
    "#         writer = csv.writer(of_connection)\n",
    "#         writer.writerow([eval_results[1], eval_results[2], eval_results[3]])\n",
    "\n",
    "#         of_connection.close()\n",
    "        \n",
    "#         auc_score = eval_results[1]\n",
    "        \n",
    "#         if auc_score > best_auc:\n",
    "#             best_auc = auc_score\n",
    "#             best_params = eval_results[2]\n",
    "\n",
    "#     results.sort_values('score', ascending = False, inplace = True)\n",
    "#     results.reset_index(inplace = True)\n",
    "        \n",
    "#     return best_params, best_auc\n",
    "\n",
    "# def train_model(best_params, dtrain, dtest):\n",
    "#     # Train the final model with the best hyperparameters\n",
    "#     final_random_search_model = xgb.train(\n",
    "#         params=best_params,\n",
    "#         dtrain=dtrain,\n",
    "#         num_boost_round=10000,\n",
    "#         early_stopping_rounds=5,\n",
    "#         evals=[(dtrain, 'training'), (dtest, 'testing')],\n",
    "#         maximize=True,\n",
    "#         verbose_eval=2\n",
    "#     )\n",
    "#     return final_random_search_model"
   ]
  },
  {
   "cell_type": "code",
   "execution_count": 34,
   "id": "24f74596-aeae-463f-9942-73eeb6573272",
   "metadata": {},
   "outputs": [],
   "source": [
    "# def fit_xgb_binary(xgb_train, xgb_test, iterations=1):\n",
    "#     best_auc = 0\n",
    "#     best_params = {}\n",
    "\n",
    "#     for _ in range(iterations):\n",
    "#         # Random hyperparameters for this iteration\n",
    "#         hparams = {\n",
    "#             'eta': np.random.uniform(0.01, 0.6),\n",
    "#             'lambda': np.random.uniform(0.01, 0.2),\n",
    "#             'alpha': np.random.uniform(0.01, 0.2),\n",
    "#             'gamma': np.random.uniform(0, 20),\n",
    "#             'max_depth': np.random.randint(3, 15),\n",
    "#             'subsample': np.random.uniform(0.5, 1),\n",
    "#             'colsample_bytree': np.random.uniform(0.5, 1),\n",
    "#             'objective': 'binary:logistic',\n",
    "#             'eval_metric': 'auc',\n",
    "#             'min_child_weight': np.random.uniform(0.8, 1.2)\n",
    "#         }\n",
    "\n",
    "#         # Cross-validation\n",
    "#         xgb_cv = xgb.cv(\n",
    "#             params=hparams,\n",
    "#             dtrain=xgb_train,\n",
    "#             num_boost_round=10000,\n",
    "#             nfold=10,\n",
    "#             early_stopping_rounds=5,\n",
    "#             metrics=['auc'],\n",
    "#             maximize=True,\n",
    "#             verbose_eval=2,\n",
    "#             seed=1234\n",
    "#         )\n",
    "\n",
    "#         # Get the best AUC score from CV\n",
    "#         best_iteration = xgb_cv['test-auc-mean'].idxmax()\n",
    "#         auc_score = xgb_cv['test-auc-mean'][best_iteration]\n",
    "\n",
    "#         # Update best params if the new score is better\n",
    "#         if auc_score > best_auc:\n",
    "#             best_auc = auc_score\n",
    "#             best_params = hparams\n",
    "\n",
    "#     # Train the final model with the best hyperparameters\n",
    "#     final_random_search_model = xgb.train(\n",
    "#         params=best_params,\n",
    "#         dtrain=xgb_train,\n",
    "#         num_boost_round=10000,\n",
    "#         early_stopping_rounds=5,\n",
    "#         evals=[(xgb_train, 'training'), (xgb_test, 'testing')],\n",
    "#         maximize=True,\n",
    "#         verbose_eval=2\n",
    "#     )\n",
    "\n",
    "#     return final_random_search_model, best_params, best_auc"
   ]
  },
  {
   "cell_type": "code",
   "execution_count": 23,
   "id": "c5810192-07b1-44f8-86cb-eb72ffd3546b",
   "metadata": {
    "scrolled": true
   },
   "outputs": [
    {
     "name": "stdout",
     "output_type": "stream",
     "text": [
      "[0]\ttrain-auc:0.96667+0.00065\ttest-auc:0.96657+0.00073\n",
      "[2]\ttrain-auc:0.97534+0.00054\ttest-auc:0.97526+0.00072\n",
      "[4]\ttrain-auc:0.97866+0.00057\ttest-auc:0.97853+0.00073\n",
      "[6]\ttrain-auc:0.98155+0.00024\ttest-auc:0.98146+0.00047\n",
      "[8]\ttrain-auc:0.98298+0.00030\ttest-auc:0.98288+0.00054\n",
      "[10]\ttrain-auc:0.98443+0.00027\ttest-auc:0.98431+0.00033\n",
      "[12]\ttrain-auc:0.98547+0.00023\ttest-auc:0.98537+0.00032\n",
      "[14]\ttrain-auc:0.98649+0.00029\ttest-auc:0.98640+0.00030\n",
      "[16]\ttrain-auc:0.98750+0.00031\ttest-auc:0.98741+0.00032\n",
      "[18]\ttrain-auc:0.98885+0.00022\ttest-auc:0.98876+0.00031\n",
      "[20]\ttrain-auc:0.99019+0.00032\ttest-auc:0.99010+0.00029\n",
      "[22]\ttrain-auc:0.99129+0.00042\ttest-auc:0.99118+0.00034\n",
      "[24]\ttrain-auc:0.99236+0.00036\ttest-auc:0.99225+0.00040\n",
      "[26]\ttrain-auc:0.99287+0.00038\ttest-auc:0.99276+0.00043\n",
      "[28]\ttrain-auc:0.99394+0.00028\ttest-auc:0.99382+0.00031\n",
      "[30]\ttrain-auc:0.99464+0.00022\ttest-auc:0.99451+0.00029\n",
      "[32]\ttrain-auc:0.99500+0.00022\ttest-auc:0.99487+0.00030\n",
      "[34]\ttrain-auc:0.99541+0.00012\ttest-auc:0.99528+0.00025\n",
      "[36]\ttrain-auc:0.99566+0.00012\ttest-auc:0.99552+0.00023\n",
      "[38]\ttrain-auc:0.99591+0.00011\ttest-auc:0.99577+0.00020\n",
      "[40]\ttrain-auc:0.99608+0.00007\ttest-auc:0.99593+0.00017\n",
      "[42]\ttrain-auc:0.99624+0.00008\ttest-auc:0.99609+0.00017\n",
      "[44]\ttrain-auc:0.99640+0.00008\ttest-auc:0.99624+0.00017\n",
      "[46]\ttrain-auc:0.99655+0.00009\ttest-auc:0.99639+0.00017\n",
      "[48]\ttrain-auc:0.99670+0.00006\ttest-auc:0.99652+0.00016\n",
      "[50]\ttrain-auc:0.99682+0.00006\ttest-auc:0.99664+0.00017\n",
      "[52]\ttrain-auc:0.99692+0.00006\ttest-auc:0.99674+0.00016\n",
      "[54]\ttrain-auc:0.99702+0.00006\ttest-auc:0.99682+0.00015\n",
      "[56]\ttrain-auc:0.99710+0.00005\ttest-auc:0.99690+0.00014\n",
      "[58]\ttrain-auc:0.99719+0.00004\ttest-auc:0.99699+0.00014\n",
      "[60]\ttrain-auc:0.99727+0.00004\ttest-auc:0.99706+0.00012\n",
      "[62]\ttrain-auc:0.99733+0.00003\ttest-auc:0.99712+0.00012\n",
      "[64]\ttrain-auc:0.99740+0.00003\ttest-auc:0.99717+0.00011\n",
      "[66]\ttrain-auc:0.99745+0.00003\ttest-auc:0.99721+0.00011\n",
      "[68]\ttrain-auc:0.99751+0.00003\ttest-auc:0.99726+0.00011\n",
      "[70]\ttrain-auc:0.99756+0.00003\ttest-auc:0.99730+0.00011\n",
      "[72]\ttrain-auc:0.99760+0.00003\ttest-auc:0.99734+0.00011\n",
      "[74]\ttrain-auc:0.99765+0.00003\ttest-auc:0.99739+0.00011\n",
      "[76]\ttrain-auc:0.99769+0.00003\ttest-auc:0.99742+0.00011\n",
      "[78]\ttrain-auc:0.99774+0.00003\ttest-auc:0.99745+0.00010\n",
      "[80]\ttrain-auc:0.99778+0.00003\ttest-auc:0.99748+0.00010\n",
      "[82]\ttrain-auc:0.99781+0.00003\ttest-auc:0.99752+0.00010\n",
      "[84]\ttrain-auc:0.99785+0.00003\ttest-auc:0.99754+0.00010\n",
      "[86]\ttrain-auc:0.99789+0.00002\ttest-auc:0.99757+0.00010\n",
      "[88]\ttrain-auc:0.99792+0.00003\ttest-auc:0.99760+0.00011\n",
      "[90]\ttrain-auc:0.99796+0.00003\ttest-auc:0.99763+0.00010\n",
      "[92]\ttrain-auc:0.99799+0.00003\ttest-auc:0.99765+0.00011\n",
      "[94]\ttrain-auc:0.99802+0.00002\ttest-auc:0.99768+0.00010\n",
      "[96]\ttrain-auc:0.99806+0.00002\ttest-auc:0.99770+0.00011\n",
      "[98]\ttrain-auc:0.99809+0.00002\ttest-auc:0.99773+0.00010\n",
      "[100]\ttrain-auc:0.99811+0.00002\ttest-auc:0.99774+0.00010\n",
      "[102]\ttrain-auc:0.99814+0.00002\ttest-auc:0.99776+0.00010\n",
      "[104]\ttrain-auc:0.99817+0.00002\ttest-auc:0.99778+0.00010\n",
      "[106]\ttrain-auc:0.99819+0.00002\ttest-auc:0.99780+0.00010\n",
      "[108]\ttrain-auc:0.99822+0.00002\ttest-auc:0.99782+0.00010\n",
      "[110]\ttrain-auc:0.99825+0.00002\ttest-auc:0.99783+0.00010\n",
      "[112]\ttrain-auc:0.99827+0.00002\ttest-auc:0.99785+0.00010\n",
      "[114]\ttrain-auc:0.99830+0.00002\ttest-auc:0.99787+0.00010\n",
      "[116]\ttrain-auc:0.99832+0.00002\ttest-auc:0.99789+0.00010\n",
      "[118]\ttrain-auc:0.99835+0.00002\ttest-auc:0.99790+0.00010\n",
      "[120]\ttrain-auc:0.99837+0.00002\ttest-auc:0.99792+0.00010\n",
      "[122]\ttrain-auc:0.99839+0.00002\ttest-auc:0.99793+0.00009\n",
      "[124]\ttrain-auc:0.99842+0.00002\ttest-auc:0.99794+0.00009\n",
      "[126]\ttrain-auc:0.99844+0.00001\ttest-auc:0.99796+0.00009\n",
      "[128]\ttrain-auc:0.99846+0.00001\ttest-auc:0.99797+0.00009\n",
      "[130]\ttrain-auc:0.99848+0.00001\ttest-auc:0.99798+0.00009\n",
      "[132]\ttrain-auc:0.99851+0.00001\ttest-auc:0.99800+0.00009\n",
      "[134]\ttrain-auc:0.99853+0.00002\ttest-auc:0.99801+0.00009\n",
      "[136]\ttrain-auc:0.99855+0.00002\ttest-auc:0.99802+0.00008\n",
      "[138]\ttrain-auc:0.99857+0.00002\ttest-auc:0.99803+0.00008\n",
      "[140]\ttrain-auc:0.99859+0.00002\ttest-auc:0.99804+0.00008\n",
      "[142]\ttrain-auc:0.99860+0.00002\ttest-auc:0.99805+0.00008\n",
      "[144]\ttrain-auc:0.99862+0.00002\ttest-auc:0.99806+0.00008\n",
      "[146]\ttrain-auc:0.99864+0.00002\ttest-auc:0.99807+0.00008\n",
      "[148]\ttrain-auc:0.99866+0.00002\ttest-auc:0.99808+0.00008\n",
      "[150]\ttrain-auc:0.99867+0.00002\ttest-auc:0.99809+0.00008\n",
      "[152]\ttrain-auc:0.99869+0.00002\ttest-auc:0.99810+0.00008\n",
      "[154]\ttrain-auc:0.99871+0.00002\ttest-auc:0.99811+0.00008\n",
      "[156]\ttrain-auc:0.99873+0.00002\ttest-auc:0.99811+0.00008\n",
      "[158]\ttrain-auc:0.99874+0.00002\ttest-auc:0.99812+0.00008\n",
      "[160]\ttrain-auc:0.99876+0.00002\ttest-auc:0.99813+0.00008\n",
      "[162]\ttrain-auc:0.99877+0.00002\ttest-auc:0.99814+0.00008\n",
      "[164]\ttrain-auc:0.99879+0.00002\ttest-auc:0.99815+0.00008\n",
      "[166]\ttrain-auc:0.99881+0.00002\ttest-auc:0.99816+0.00008\n",
      "[168]\ttrain-auc:0.99882+0.00002\ttest-auc:0.99816+0.00008\n",
      "[170]\ttrain-auc:0.99884+0.00001\ttest-auc:0.99817+0.00008\n",
      "[172]\ttrain-auc:0.99885+0.00001\ttest-auc:0.99818+0.00008\n",
      "[174]\ttrain-auc:0.99886+0.00002\ttest-auc:0.99818+0.00008\n",
      "[176]\ttrain-auc:0.99888+0.00002\ttest-auc:0.99819+0.00008\n",
      "[178]\ttrain-auc:0.99889+0.00002\ttest-auc:0.99820+0.00008\n",
      "[180]\ttrain-auc:0.99891+0.00002\ttest-auc:0.99820+0.00008\n",
      "[182]\ttrain-auc:0.99892+0.00002\ttest-auc:0.99821+0.00008\n",
      "[184]\ttrain-auc:0.99893+0.00002\ttest-auc:0.99821+0.00008\n",
      "[186]\ttrain-auc:0.99895+0.00001\ttest-auc:0.99822+0.00008\n",
      "[188]\ttrain-auc:0.99896+0.00001\ttest-auc:0.99822+0.00009\n",
      "[190]\ttrain-auc:0.99897+0.00001\ttest-auc:0.99823+0.00008\n",
      "[192]\ttrain-auc:0.99898+0.00001\ttest-auc:0.99823+0.00008\n",
      "[194]\ttrain-auc:0.99900+0.00001\ttest-auc:0.99824+0.00008\n",
      "[196]\ttrain-auc:0.99901+0.00001\ttest-auc:0.99824+0.00008\n",
      "[198]\ttrain-auc:0.99902+0.00001\ttest-auc:0.99825+0.00008\n",
      "[200]\ttrain-auc:0.99903+0.00001\ttest-auc:0.99825+0.00008\n",
      "[202]\ttrain-auc:0.99904+0.00001\ttest-auc:0.99826+0.00008\n",
      "[204]\ttrain-auc:0.99905+0.00001\ttest-auc:0.99826+0.00008\n",
      "[206]\ttrain-auc:0.99906+0.00001\ttest-auc:0.99827+0.00008\n",
      "[208]\ttrain-auc:0.99907+0.00001\ttest-auc:0.99827+0.00008\n",
      "[210]\ttrain-auc:0.99908+0.00001\ttest-auc:0.99828+0.00008\n",
      "[212]\ttrain-auc:0.99909+0.00001\ttest-auc:0.99828+0.00008\n",
      "[214]\ttrain-auc:0.99910+0.00001\ttest-auc:0.99828+0.00008\n",
      "[216]\ttrain-auc:0.99911+0.00001\ttest-auc:0.99829+0.00008\n",
      "[218]\ttrain-auc:0.99912+0.00001\ttest-auc:0.99829+0.00008\n",
      "[220]\ttrain-auc:0.99913+0.00001\ttest-auc:0.99829+0.00008\n",
      "[222]\ttrain-auc:0.99914+0.00001\ttest-auc:0.99830+0.00008\n",
      "[224]\ttrain-auc:0.99915+0.00001\ttest-auc:0.99830+0.00008\n",
      "[226]\ttrain-auc:0.99916+0.00001\ttest-auc:0.99830+0.00007\n",
      "[228]\ttrain-auc:0.99917+0.00001\ttest-auc:0.99831+0.00007\n",
      "[230]\ttrain-auc:0.99918+0.00001\ttest-auc:0.99831+0.00007\n",
      "[232]\ttrain-auc:0.99919+0.00001\ttest-auc:0.99831+0.00007\n",
      "[234]\ttrain-auc:0.99920+0.00001\ttest-auc:0.99831+0.00007\n",
      "[236]\ttrain-auc:0.99921+0.00001\ttest-auc:0.99832+0.00007\n",
      "[238]\ttrain-auc:0.99922+0.00001\ttest-auc:0.99832+0.00007\n",
      "[240]\ttrain-auc:0.99922+0.00002\ttest-auc:0.99832+0.00007\n",
      "[242]\ttrain-auc:0.99923+0.00002\ttest-auc:0.99833+0.00007\n",
      "[244]\ttrain-auc:0.99924+0.00002\ttest-auc:0.99833+0.00007\n",
      "[246]\ttrain-auc:0.99925+0.00002\ttest-auc:0.99833+0.00007\n",
      "[248]\ttrain-auc:0.99926+0.00002\ttest-auc:0.99833+0.00007\n",
      "[250]\ttrain-auc:0.99927+0.00001\ttest-auc:0.99834+0.00007\n",
      "[252]\ttrain-auc:0.99927+0.00001\ttest-auc:0.99834+0.00007\n",
      "[254]\ttrain-auc:0.99928+0.00001\ttest-auc:0.99834+0.00007\n",
      "[256]\ttrain-auc:0.99929+0.00001\ttest-auc:0.99834+0.00007\n",
      "[258]\ttrain-auc:0.99929+0.00001\ttest-auc:0.99834+0.00007\n",
      "[260]\ttrain-auc:0.99930+0.00001\ttest-auc:0.99835+0.00007\n",
      "[262]\ttrain-auc:0.99931+0.00002\ttest-auc:0.99835+0.00007\n",
      "[264]\ttrain-auc:0.99932+0.00002\ttest-auc:0.99835+0.00007\n",
      "[266]\ttrain-auc:0.99933+0.00002\ttest-auc:0.99836+0.00007\n",
      "[268]\ttrain-auc:0.99933+0.00002\ttest-auc:0.99836+0.00007\n",
      "[270]\ttrain-auc:0.99934+0.00002\ttest-auc:0.99836+0.00007\n",
      "[272]\ttrain-auc:0.99935+0.00001\ttest-auc:0.99836+0.00007\n",
      "[274]\ttrain-auc:0.99935+0.00001\ttest-auc:0.99837+0.00007\n",
      "[276]\ttrain-auc:0.99936+0.00001\ttest-auc:0.99837+0.00007\n",
      "[278]\ttrain-auc:0.99937+0.00001\ttest-auc:0.99837+0.00007\n",
      "[280]\ttrain-auc:0.99938+0.00001\ttest-auc:0.99837+0.00007\n",
      "[282]\ttrain-auc:0.99938+0.00001\ttest-auc:0.99838+0.00007\n",
      "[284]\ttrain-auc:0.99939+0.00001\ttest-auc:0.99838+0.00007\n",
      "[286]\ttrain-auc:0.99940+0.00001\ttest-auc:0.99838+0.00007\n",
      "[288]\ttrain-auc:0.99940+0.00001\ttest-auc:0.99838+0.00007\n",
      "[290]\ttrain-auc:0.99941+0.00001\ttest-auc:0.99838+0.00007\n",
      "[292]\ttrain-auc:0.99941+0.00001\ttest-auc:0.99838+0.00007\n",
      "[294]\ttrain-auc:0.99942+0.00001\ttest-auc:0.99838+0.00007\n",
      "[296]\ttrain-auc:0.99943+0.00001\ttest-auc:0.99838+0.00007\n",
      "[298]\ttrain-auc:0.99943+0.00001\ttest-auc:0.99839+0.00007\n",
      "[300]\ttrain-auc:0.99944+0.00001\ttest-auc:0.99839+0.00007\n",
      "[302]\ttrain-auc:0.99945+0.00001\ttest-auc:0.99839+0.00007\n",
      "[304]\ttrain-auc:0.99945+0.00001\ttest-auc:0.99839+0.00007\n",
      "[306]\ttrain-auc:0.99946+0.00001\ttest-auc:0.99839+0.00007\n",
      "[308]\ttrain-auc:0.99946+0.00001\ttest-auc:0.99839+0.00007\n",
      "[310]\ttrain-auc:0.99947+0.00001\ttest-auc:0.99840+0.00007\n",
      "[312]\ttrain-auc:0.99948+0.00001\ttest-auc:0.99840+0.00007\n",
      "[314]\ttrain-auc:0.99948+0.00001\ttest-auc:0.99840+0.00007\n",
      "[316]\ttrain-auc:0.99949+0.00001\ttest-auc:0.99840+0.00007\n",
      "[318]\ttrain-auc:0.99949+0.00001\ttest-auc:0.99840+0.00006\n",
      "[320]\ttrain-auc:0.99950+0.00001\ttest-auc:0.99840+0.00006\n",
      "[322]\ttrain-auc:0.99950+0.00001\ttest-auc:0.99840+0.00006\n",
      "[324]\ttrain-auc:0.99951+0.00001\ttest-auc:0.99841+0.00006\n",
      "[326]\ttrain-auc:0.99951+0.00001\ttest-auc:0.99841+0.00006\n",
      "[328]\ttrain-auc:0.99952+0.00001\ttest-auc:0.99841+0.00006\n",
      "[330]\ttrain-auc:0.99953+0.00001\ttest-auc:0.99841+0.00006\n",
      "[332]\ttrain-auc:0.99953+0.00001\ttest-auc:0.99841+0.00006\n",
      "[334]\ttrain-auc:0.99954+0.00001\ttest-auc:0.99841+0.00006\n",
      "[336]\ttrain-auc:0.99954+0.00001\ttest-auc:0.99841+0.00006\n",
      "[338]\ttrain-auc:0.99955+0.00001\ttest-auc:0.99842+0.00006\n",
      "[340]\ttrain-auc:0.99955+0.00001\ttest-auc:0.99842+0.00006\n",
      "[342]\ttrain-auc:0.99956+0.00001\ttest-auc:0.99842+0.00006\n",
      "[344]\ttrain-auc:0.99956+0.00001\ttest-auc:0.99842+0.00006\n",
      "[346]\ttrain-auc:0.99957+0.00001\ttest-auc:0.99842+0.00006\n",
      "[348]\ttrain-auc:0.99957+0.00001\ttest-auc:0.99842+0.00006\n",
      "[350]\ttrain-auc:0.99958+0.00001\ttest-auc:0.99842+0.00006\n",
      "[352]\ttrain-auc:0.99958+0.00001\ttest-auc:0.99842+0.00006\n",
      "[354]\ttrain-auc:0.99959+0.00001\ttest-auc:0.99842+0.00006\n",
      "[356]\ttrain-auc:0.99959+0.00001\ttest-auc:0.99843+0.00006\n",
      "[358]\ttrain-auc:0.99959+0.00001\ttest-auc:0.99843+0.00006\n",
      "[360]\ttrain-auc:0.99960+0.00001\ttest-auc:0.99843+0.00006\n",
      "[362]\ttrain-auc:0.99960+0.00001\ttest-auc:0.99843+0.00006\n",
      "[364]\ttrain-auc:0.99961+0.00001\ttest-auc:0.99843+0.00006\n",
      "[366]\ttrain-auc:0.99961+0.00001\ttest-auc:0.99843+0.00006\n",
      "[368]\ttrain-auc:0.99962+0.00001\ttest-auc:0.99843+0.00006\n",
      "[370]\ttrain-auc:0.99962+0.00001\ttest-auc:0.99843+0.00006\n",
      "[372]\ttrain-auc:0.99963+0.00001\ttest-auc:0.99843+0.00006\n",
      "[374]\ttrain-auc:0.99963+0.00001\ttest-auc:0.99843+0.00006\n",
      "[376]\ttrain-auc:0.99963+0.00001\ttest-auc:0.99843+0.00006\n",
      "[378]\ttrain-auc:0.99964+0.00001\ttest-auc:0.99844+0.00006\n",
      "[380]\ttrain-auc:0.99964+0.00001\ttest-auc:0.99844+0.00006\n",
      "[382]\ttrain-auc:0.99965+0.00001\ttest-auc:0.99844+0.00006\n",
      "[384]\ttrain-auc:0.99965+0.00001\ttest-auc:0.99844+0.00006\n",
      "[386]\ttrain-auc:0.99965+0.00001\ttest-auc:0.99844+0.00006\n",
      "[388]\ttrain-auc:0.99966+0.00001\ttest-auc:0.99844+0.00006\n",
      "[390]\ttrain-auc:0.99966+0.00001\ttest-auc:0.99844+0.00006\n",
      "[392]\ttrain-auc:0.99967+0.00001\ttest-auc:0.99844+0.00006\n",
      "[394]\ttrain-auc:0.99967+0.00001\ttest-auc:0.99844+0.00006\n",
      "[396]\ttrain-auc:0.99967+0.00001\ttest-auc:0.99844+0.00006\n",
      "[398]\ttrain-auc:0.99968+0.00001\ttest-auc:0.99844+0.00006\n",
      "[400]\ttrain-auc:0.99968+0.00000\ttest-auc:0.99844+0.00006\n",
      "[402]\ttrain-auc:0.99968+0.00000\ttest-auc:0.99844+0.00006\n",
      "[404]\ttrain-auc:0.99969+0.00000\ttest-auc:0.99845+0.00006\n",
      "[406]\ttrain-auc:0.99969+0.00000\ttest-auc:0.99845+0.00006\n",
      "[408]\ttrain-auc:0.99969+0.00000\ttest-auc:0.99845+0.00006\n",
      "[410]\ttrain-auc:0.99970+0.00001\ttest-auc:0.99844+0.00007\n"
     ]
    },
    {
     "ename": "NameError",
     "evalue": "name 'csv' is not defined",
     "output_type": "error",
     "traceback": [
      "\u001b[0;31m---------------------------------------------------------------------------\u001b[0m",
      "\u001b[0;31mNameError\u001b[0m                                 Traceback (most recent call last)",
      "Cell \u001b[0;32mIn[23], line 14\u001b[0m\n\u001b[1;32m      1\u001b[0m param_grid \u001b[38;5;241m=\u001b[39m {\n\u001b[1;32m      2\u001b[0m     \u001b[38;5;124m'\u001b[39m\u001b[38;5;124meta\u001b[39m\u001b[38;5;124m'\u001b[39m: np\u001b[38;5;241m.\u001b[39mrandom\u001b[38;5;241m.\u001b[39muniform(\u001b[38;5;241m0.01\u001b[39m, \u001b[38;5;241m0.6\u001b[39m),\n\u001b[1;32m      3\u001b[0m     \u001b[38;5;124m'\u001b[39m\u001b[38;5;124mlambda\u001b[39m\u001b[38;5;124m'\u001b[39m: np\u001b[38;5;241m.\u001b[39mrandom\u001b[38;5;241m.\u001b[39muniform(\u001b[38;5;241m0.01\u001b[39m, \u001b[38;5;241m0.2\u001b[39m),\n\u001b[0;32m   (...)\u001b[0m\n\u001b[1;32m     11\u001b[0m     \u001b[38;5;124m'\u001b[39m\u001b[38;5;124mmin_child_weight\u001b[39m\u001b[38;5;124m'\u001b[39m: np\u001b[38;5;241m.\u001b[39mrandom\u001b[38;5;241m.\u001b[39muniform(\u001b[38;5;241m0.8\u001b[39m, \u001b[38;5;241m1.2\u001b[39m)\n\u001b[1;32m     12\u001b[0m }\n\u001b[0;32m---> 14\u001b[0m best_params, best_auc \u001b[38;5;241m=\u001b[39m \u001b[43mrandom_search\u001b[49m\u001b[43m(\u001b[49m\u001b[43mdtrain\u001b[49m\u001b[43m,\u001b[49m\u001b[43m \u001b[49m\u001b[43mparam_grid\u001b[49m\u001b[43m,\u001b[49m\u001b[43m \u001b[49m\u001b[43mout_file\u001b[49m\u001b[43m,\u001b[49m\u001b[43m \u001b[49m\u001b[43miteration\u001b[49m\u001b[38;5;241;43m=\u001b[39;49m\u001b[38;5;241;43m1\u001b[39;49m\u001b[43m)\u001b[49m\n",
      "File \u001b[0;32m~/Documents/Bank-account-fraud/code/model_tuning/functions.py:130\u001b[0m, in \u001b[0;36mrandom_search\u001b[0;34m(dtrain, param_grid, out_file, iteration)\u001b[0m\n\u001b[1;32m    123\u001b[0m results\u001b[38;5;241m.\u001b[39mloc[i, :] \u001b[38;5;241m=\u001b[39m {\n\u001b[1;32m    124\u001b[0m     \u001b[38;5;124m\"\u001b[39m\u001b[38;5;124mscore\u001b[39m\u001b[38;5;124m\"\u001b[39m: eval_results[\u001b[38;5;241m1\u001b[39m], \n\u001b[1;32m    125\u001b[0m     \u001b[38;5;124m\"\u001b[39m\u001b[38;5;124mparams\u001b[39m\u001b[38;5;124m\"\u001b[39m: eval_results[\u001b[38;5;241m2\u001b[39m], \n\u001b[1;32m    126\u001b[0m     \u001b[38;5;124m\"\u001b[39m\u001b[38;5;124miterations\u001b[39m\u001b[38;5;124m\"\u001b[39m: eval_results[\u001b[38;5;241m3\u001b[39m]\n\u001b[1;32m    127\u001b[0m }\n\u001b[1;32m    129\u001b[0m of_connection \u001b[38;5;241m=\u001b[39m \u001b[38;5;28mopen\u001b[39m(out_file, \u001b[38;5;124m'\u001b[39m\u001b[38;5;124ma\u001b[39m\u001b[38;5;124m'\u001b[39m)\n\u001b[0;32m--> 130\u001b[0m writer \u001b[38;5;241m=\u001b[39m \u001b[43mcsv\u001b[49m\u001b[38;5;241m.\u001b[39mwriter(of_connection)\n\u001b[1;32m    131\u001b[0m writer\u001b[38;5;241m.\u001b[39mwriterow([eval_results[\u001b[38;5;241m1\u001b[39m], eval_results[\u001b[38;5;241m2\u001b[39m], eval_results[\u001b[38;5;241m3\u001b[39m]])\n\u001b[1;32m    133\u001b[0m of_connection\u001b[38;5;241m.\u001b[39mclose()\n",
      "\u001b[0;31mNameError\u001b[0m: name 'csv' is not defined"
     ]
    }
   ],
   "source": [
    "param_grid = {\n",
    "    'eta': np.random.uniform(0.01, 0.6),\n",
    "    'lambda': np.random.uniform(0.01, 0.2),\n",
    "    'alpha': np.random.uniform(0.01, 0.2),\n",
    "    'gamma': np.random.uniform(0, 20),\n",
    "    'max_depth': np.random.randint(3, 15),\n",
    "    'subsample': np.random.uniform(0.5, 1),\n",
    "    'colsample_bytree': np.random.uniform(0.5, 1),\n",
    "    'objective': 'binary:logistic',\n",
    "    'eval_metric': 'auc',\n",
    "    'min_child_weight': np.random.uniform(0.8, 1.2)\n",
    "}\n",
    "\n",
    "best_params, best_auc = random_search(dtrain, param_grid, out_file, iteration=1)"
   ]
  },
  {
   "cell_type": "code",
   "execution_count": 82,
   "id": "c8ac5e26-0653-4cf2-8727-8d565832f57b",
   "metadata": {},
   "outputs": [
    {
     "name": "stdout",
     "output_type": "stream",
     "text": [
      "{'eta': 0.07635234625625796, 'lambda': 0.055239661898757064, 'alpha': 0.06174512575183837, 'gamma': 17.98904708808636, 'max_depth': 5, 'subsample': 0.8861326905841858, 'colsample_bytree': 0.7801397835410766, 'objective': 'binary:logistic', 'eval_metric': 'auc', 'min_child_weight': 1.0893843878159348} 0.9977072433076135\n"
     ]
    }
   ],
   "source": [
    "print(best_params, best_auc)"
   ]
  },
  {
   "cell_type": "code",
   "execution_count": 83,
   "id": "6d7c2a59-001e-4d5d-88a1-1aab7b23f0f8",
   "metadata": {
    "scrolled": true
   },
   "outputs": [
    {
     "name": "stdout",
     "output_type": "stream",
     "text": [
      "[0]\ttraining-auc:0.94961\ttesting-auc:0.79071\n",
      "[2]\ttraining-auc:0.96019\ttesting-auc:0.80338\n",
      "[4]\ttraining-auc:0.96548\ttesting-auc:0.80305\n",
      "[6]\ttraining-auc:0.96936\ttesting-auc:0.80759\n",
      "[8]\ttraining-auc:0.96892\ttesting-auc:0.80711\n",
      "[10]\ttraining-auc:0.97048\ttesting-auc:0.81218\n",
      "[12]\ttraining-auc:0.97067\ttesting-auc:0.81332\n",
      "[14]\ttraining-auc:0.97261\ttesting-auc:0.81505\n",
      "[16]\ttraining-auc:0.97340\ttesting-auc:0.81648\n",
      "[18]\ttraining-auc:0.97428\ttesting-auc:0.81798\n",
      "[20]\ttraining-auc:0.97565\ttesting-auc:0.82004\n",
      "[22]\ttraining-auc:0.97672\ttesting-auc:0.82116\n",
      "[24]\ttraining-auc:0.97896\ttesting-auc:0.82451\n",
      "[26]\ttraining-auc:0.97966\ttesting-auc:0.82451\n",
      "[28]\ttraining-auc:0.98073\ttesting-auc:0.82586\n",
      "[30]\ttraining-auc:0.98174\ttesting-auc:0.82602\n",
      "[32]\ttraining-auc:0.98289\ttesting-auc:0.82744\n",
      "[34]\ttraining-auc:0.98399\ttesting-auc:0.82844\n",
      "[36]\ttraining-auc:0.98483\ttesting-auc:0.82904\n",
      "[38]\ttraining-auc:0.98554\ttesting-auc:0.82975\n",
      "[40]\ttraining-auc:0.98616\ttesting-auc:0.83081\n",
      "[42]\ttraining-auc:0.98716\ttesting-auc:0.83158\n",
      "[44]\ttraining-auc:0.98775\ttesting-auc:0.83197\n",
      "[46]\ttraining-auc:0.98877\ttesting-auc:0.83268\n",
      "[48]\ttraining-auc:0.98930\ttesting-auc:0.83316\n",
      "[50]\ttraining-auc:0.98986\ttesting-auc:0.83324\n",
      "[52]\ttraining-auc:0.99058\ttesting-auc:0.83361\n",
      "[54]\ttraining-auc:0.99081\ttesting-auc:0.83368\n",
      "[56]\ttraining-auc:0.99113\ttesting-auc:0.83446\n",
      "[58]\ttraining-auc:0.99164\ttesting-auc:0.83452\n",
      "[60]\ttraining-auc:0.99192\ttesting-auc:0.83477\n",
      "[62]\ttraining-auc:0.99214\ttesting-auc:0.83522\n",
      "[64]\ttraining-auc:0.99258\ttesting-auc:0.83501\n",
      "[66]\ttraining-auc:0.99272\ttesting-auc:0.83540\n",
      "[68]\ttraining-auc:0.99303\ttesting-auc:0.83674\n",
      "[70]\ttraining-auc:0.99329\ttesting-auc:0.83690\n",
      "[72]\ttraining-auc:0.99351\ttesting-auc:0.83771\n",
      "[74]\ttraining-auc:0.99366\ttesting-auc:0.83768\n",
      "[76]\ttraining-auc:0.99379\ttesting-auc:0.83787\n",
      "[78]\ttraining-auc:0.99391\ttesting-auc:0.83862\n",
      "[80]\ttraining-auc:0.99431\ttesting-auc:0.83925\n",
      "[82]\ttraining-auc:0.99458\ttesting-auc:0.83969\n",
      "[84]\ttraining-auc:0.99477\ttesting-auc:0.84018\n",
      "[86]\ttraining-auc:0.99482\ttesting-auc:0.84069\n",
      "[88]\ttraining-auc:0.99493\ttesting-auc:0.84108\n",
      "[90]\ttraining-auc:0.99509\ttesting-auc:0.84082\n",
      "[92]\ttraining-auc:0.99515\ttesting-auc:0.84067\n"
     ]
    }
   ],
   "source": [
    "final_random_search_model = train_model(best_params, dtrain, dtest)"
   ]
  },
  {
   "cell_type": "code",
   "execution_count": 95,
   "id": "22d60b43-ed8b-4fda-bb67-909816e7b455",
   "metadata": {},
   "outputs": [
    {
     "name": "stdout",
     "output_type": "stream",
     "text": [
      "Recall (TPR): 0.2475\n",
      "False Positive Rate (FPR): 0.0213\n",
      "ROC AUC: 0.84091\n"
     ]
    }
   ],
   "source": [
    "# def evaluate_model_performance2(model, dtest, y_test, threshold=0.5):\n",
    "#     preds = model.predict(dtest)\n",
    "#     auc_score = roc_auc_score(y_test, preds)\n",
    "\n",
    "#     # Classify based on the threshold\n",
    "#     pred_bool = (preds >= threshold).astype(int)\n",
    "\n",
    "#     # Compute confusion matrix metrics\n",
    "#     tn, fp, fn, tp = confusion_matrix(y_test, pred_bool).ravel()\n",
    "#     cm = confusion_matrix(y_test, pred_bool)\n",
    "#     tpr = tp / (tp + fn)  # True Positive Rate\n",
    "#     fpr = fp / (fp + tn)  # False Positive Rate\n",
    "\n",
    "#     # Compute ROC curve\n",
    "#     fpr_curve, tpr_curve, thresholds = roc_curve(y_test, preds)\n",
    "\n",
    "#     # Print the results\n",
    "#     print(f\"Recall (TPR): {tpr:.4f}\")\n",
    "#     print(f\"False Positive Rate (FPR): {fpr:.4f}\")\n",
    "#     print(f'ROC AUC: {auc_score:.5f}')\n",
    "\n",
    "#     return {\n",
    "#         \"PREDS\": preds, \n",
    "#         \"PREDS_BOOL\": pred_bool, \n",
    "#         \"TN\": tn, \n",
    "#         \"FP\": fp, \n",
    "#         \"FN\": fn, \n",
    "#         \"TP\": tp, \n",
    "#         # pr_curve, tpr_curve, thresholds\n",
    "#         \"TPR\": tpr,\n",
    "#         \"FPR\": fpr,\n",
    "#         \"ROC AUC\": auc_score,\n",
    "#         \"Confusion Matrix\": cm,\n",
    "#         \"ROC Curve\": (fpr_curve, tpr_curve),\n",
    "#     }\n",
    "\n",
    "# performance_metrics = evaluate_model_performance2(final_random_search_model, dtest, y_test)"
   ]
  },
  {
   "cell_type": "code",
   "execution_count": null,
   "id": "997caa5b-f348-44dc-a75a-548d63ada371",
   "metadata": {},
   "outputs": [],
   "source": []
  },
  {
   "cell_type": "code",
   "execution_count": null,
   "id": "08cfea95-f917-41d4-abbd-b3c57ee67fa9",
   "metadata": {},
   "outputs": [],
   "source": []
  },
  {
   "cell_type": "code",
   "execution_count": null,
   "id": "4685aebe-538f-4f0b-9411-7f71dbff2760",
   "metadata": {},
   "outputs": [],
   "source": []
  },
  {
   "cell_type": "code",
   "execution_count": null,
   "id": "c5683be6-ec76-4008-81eb-a81fb11ffe97",
   "metadata": {},
   "outputs": [],
   "source": []
  },
  {
   "cell_type": "code",
   "execution_count": null,
   "id": "4e8793fb-bb83-4bd7-8fd3-6e66e453d1d5",
   "metadata": {},
   "outputs": [],
   "source": []
  },
  {
   "cell_type": "code",
   "execution_count": 72,
   "id": "ef4a3d2b-13a6-4902-9325-d04032cac924",
   "metadata": {
    "scrolled": true
   },
   "outputs": [
    {
     "name": "stdout",
     "output_type": "stream",
     "text": [
      "[0]\ttrain-auc:0.96230+0.00008\ttest-auc:0.96226+0.00035\n",
      "[2]\ttrain-auc:0.96871+0.00060\ttest-auc:0.96864+0.00080\n",
      "[4]\ttrain-auc:0.97383+0.00057\ttest-auc:0.97377+0.00081\n",
      "[6]\ttrain-auc:0.97897+0.00028\ttest-auc:0.97889+0.00049\n",
      "[8]\ttrain-auc:0.98129+0.00025\ttest-auc:0.98122+0.00033\n",
      "[10]\ttrain-auc:0.98336+0.00027\ttest-auc:0.98327+0.00039\n",
      "[12]\ttrain-auc:0.98496+0.00022\ttest-auc:0.98488+0.00032\n",
      "[14]\ttrain-auc:0.98654+0.00034\ttest-auc:0.98646+0.00039\n",
      "[16]\ttrain-auc:0.98843+0.00023\ttest-auc:0.98835+0.00033\n",
      "[18]\ttrain-auc:0.98998+0.00033\ttest-auc:0.98991+0.00031\n",
      "[20]\ttrain-auc:0.99095+0.00032\ttest-auc:0.99089+0.00028\n",
      "[22]\ttrain-auc:0.99213+0.00045\ttest-auc:0.99206+0.00045\n",
      "[24]\ttrain-auc:0.99300+0.00042\ttest-auc:0.99293+0.00041\n",
      "[26]\ttrain-auc:0.99397+0.00042\ttest-auc:0.99391+0.00045\n",
      "[28]\ttrain-auc:0.99460+0.00039\ttest-auc:0.99453+0.00042\n",
      "[30]\ttrain-auc:0.99518+0.00028\ttest-auc:0.99510+0.00033\n",
      "[32]\ttrain-auc:0.99568+0.00029\ttest-auc:0.99560+0.00031\n",
      "[34]\ttrain-auc:0.99611+0.00022\ttest-auc:0.99604+0.00025\n",
      "[36]\ttrain-auc:0.99646+0.00017\ttest-auc:0.99638+0.00024\n",
      "[38]\ttrain-auc:0.99673+0.00014\ttest-auc:0.99665+0.00016\n",
      "[40]\ttrain-auc:0.99690+0.00011\ttest-auc:0.99682+0.00016\n",
      "[42]\ttrain-auc:0.99709+0.00009\ttest-auc:0.99700+0.00016\n",
      "[44]\ttrain-auc:0.99723+0.00009\ttest-auc:0.99714+0.00016\n",
      "[46]\ttrain-auc:0.99734+0.00007\ttest-auc:0.99725+0.00015\n",
      "[48]\ttrain-auc:0.99745+0.00006\ttest-auc:0.99736+0.00015\n",
      "[50]\ttrain-auc:0.99753+0.00006\ttest-auc:0.99743+0.00015\n",
      "[51]\ttrain-auc:0.99757+0.00006\ttest-auc:0.99747+0.00015\n",
      "[0]\ttrain-auc:0.98207+0.00021\ttest-auc:0.98143+0.00048\n",
      "[2]\ttrain-auc:0.99085+0.00011\ttest-auc:0.99045+0.00031\n",
      "[4]\ttrain-auc:0.99434+0.00010\ttest-auc:0.99404+0.00022\n",
      "[6]\ttrain-auc:0.99520+0.00008\ttest-auc:0.99494+0.00019\n",
      "[8]\ttrain-auc:0.99600+0.00007\ttest-auc:0.99573+0.00015\n",
      "[10]\ttrain-auc:0.99662+0.00005\ttest-auc:0.99635+0.00013\n",
      "[12]\ttrain-auc:0.99699+0.00007\ttest-auc:0.99672+0.00014\n",
      "[14]\ttrain-auc:0.99723+0.00004\ttest-auc:0.99697+0.00013\n",
      "[16]\ttrain-auc:0.99750+0.00003\ttest-auc:0.99724+0.00012\n",
      "[18]\ttrain-auc:0.99766+0.00002\ttest-auc:0.99740+0.00012\n",
      "[20]\ttrain-auc:0.99783+0.00002\ttest-auc:0.99758+0.00012\n",
      "[22]\ttrain-auc:0.99798+0.00003\ttest-auc:0.99774+0.00011\n",
      "[24]\ttrain-auc:0.99809+0.00003\ttest-auc:0.99786+0.00013\n",
      "[26]\ttrain-auc:0.99818+0.00003\ttest-auc:0.99795+0.00013\n",
      "[28]\ttrain-auc:0.99824+0.00002\ttest-auc:0.99802+0.00013\n",
      "[30]\ttrain-auc:0.99830+0.00001\ttest-auc:0.99808+0.00013\n",
      "[32]\ttrain-auc:0.99834+0.00001\ttest-auc:0.99812+0.00013\n",
      "[34]\ttrain-auc:0.99838+0.00001\ttest-auc:0.99816+0.00014\n",
      "[36]\ttrain-auc:0.99843+0.00001\ttest-auc:0.99821+0.00014\n",
      "[38]\ttrain-auc:0.99846+0.00001\ttest-auc:0.99824+0.00013\n",
      "[40]\ttrain-auc:0.99849+0.00001\ttest-auc:0.99826+0.00013\n",
      "[42]\ttrain-auc:0.99851+0.00001\ttest-auc:0.99828+0.00014\n",
      "[44]\ttrain-auc:0.99853+0.00001\ttest-auc:0.99830+0.00013\n",
      "[46]\ttrain-auc:0.99854+0.00001\ttest-auc:0.99831+0.00013\n",
      "[48]\ttrain-auc:0.99855+0.00001\ttest-auc:0.99832+0.00013\n",
      "[50]\ttrain-auc:0.99856+0.00001\ttest-auc:0.99834+0.00013\n",
      "[51]\ttrain-auc:0.99857+0.00001\ttest-auc:0.99834+0.00013\n",
      "[0]\ttrain-auc:0.98207+0.00021\ttest-auc:0.98143+0.00048\n",
      "[2]\ttrain-auc:0.99085+0.00011\ttest-auc:0.99045+0.00031\n",
      "[4]\ttrain-auc:0.99434+0.00010\ttest-auc:0.99404+0.00022\n",
      "[6]\ttrain-auc:0.99520+0.00008\ttest-auc:0.99494+0.00019\n",
      "[8]\ttrain-auc:0.99600+0.00007\ttest-auc:0.99573+0.00015\n",
      "[10]\ttrain-auc:0.99662+0.00005\ttest-auc:0.99635+0.00013\n",
      "[12]\ttrain-auc:0.99699+0.00007\ttest-auc:0.99672+0.00014\n",
      "[14]\ttrain-auc:0.99723+0.00004\ttest-auc:0.99697+0.00013\n",
      "[16]\ttrain-auc:0.99750+0.00003\ttest-auc:0.99724+0.00012\n",
      "[18]\ttrain-auc:0.99766+0.00002\ttest-auc:0.99740+0.00012\n",
      "[20]\ttrain-auc:0.99783+0.00002\ttest-auc:0.99758+0.00012\n",
      "[22]\ttrain-auc:0.99798+0.00003\ttest-auc:0.99774+0.00011\n",
      "[24]\ttrain-auc:0.99809+0.00003\ttest-auc:0.99786+0.00013\n",
      "[26]\ttrain-auc:0.99818+0.00003\ttest-auc:0.99795+0.00013\n",
      "[28]\ttrain-auc:0.99824+0.00002\ttest-auc:0.99802+0.00013\n",
      "[30]\ttrain-auc:0.99830+0.00001\ttest-auc:0.99808+0.00013\n",
      "[32]\ttrain-auc:0.99834+0.00001\ttest-auc:0.99812+0.00013\n",
      "[34]\ttrain-auc:0.99838+0.00001\ttest-auc:0.99816+0.00014\n",
      "[36]\ttrain-auc:0.99843+0.00001\ttest-auc:0.99821+0.00014\n",
      "[38]\ttrain-auc:0.99846+0.00001\ttest-auc:0.99824+0.00013\n",
      "[40]\ttrain-auc:0.99849+0.00001\ttest-auc:0.99826+0.00013\n",
      "[42]\ttrain-auc:0.99851+0.00001\ttest-auc:0.99828+0.00014\n",
      "[44]\ttrain-auc:0.99853+0.00001\ttest-auc:0.99830+0.00013\n",
      "[46]\ttrain-auc:0.99854+0.00001\ttest-auc:0.99831+0.00013\n",
      "[48]\ttrain-auc:0.99855+0.00001\ttest-auc:0.99832+0.00013\n",
      "[50]\ttrain-auc:0.99856+0.00001\ttest-auc:0.99834+0.00013\n",
      "[51]\ttrain-auc:0.99857+0.00001\ttest-auc:0.99834+0.00013\n",
      "[0]\ttrain-auc:0.98207+0.00021\ttest-auc:0.98143+0.00048\n",
      "[2]\ttrain-auc:0.99085+0.00011\ttest-auc:0.99045+0.00031\n",
      "[4]\ttrain-auc:0.99434+0.00010\ttest-auc:0.99404+0.00022\n",
      "[6]\ttrain-auc:0.99520+0.00008\ttest-auc:0.99494+0.00019\n",
      "[8]\ttrain-auc:0.99600+0.00007\ttest-auc:0.99573+0.00015\n",
      "[10]\ttrain-auc:0.99662+0.00005\ttest-auc:0.99635+0.00013\n",
      "[12]\ttrain-auc:0.99699+0.00007\ttest-auc:0.99672+0.00014\n",
      "[14]\ttrain-auc:0.99723+0.00004\ttest-auc:0.99697+0.00013\n",
      "[16]\ttrain-auc:0.99750+0.00003\ttest-auc:0.99724+0.00012\n",
      "[18]\ttrain-auc:0.99766+0.00002\ttest-auc:0.99740+0.00012\n",
      "[20]\ttrain-auc:0.99783+0.00002\ttest-auc:0.99758+0.00012\n",
      "[22]\ttrain-auc:0.99798+0.00003\ttest-auc:0.99774+0.00011\n",
      "[24]\ttrain-auc:0.99809+0.00003\ttest-auc:0.99786+0.00013\n",
      "[26]\ttrain-auc:0.99818+0.00003\ttest-auc:0.99795+0.00013\n",
      "[28]\ttrain-auc:0.99824+0.00002\ttest-auc:0.99802+0.00013\n",
      "[30]\ttrain-auc:0.99830+0.00001\ttest-auc:0.99808+0.00013\n",
      "[32]\ttrain-auc:0.99834+0.00001\ttest-auc:0.99812+0.00013\n",
      "[34]\ttrain-auc:0.99838+0.00001\ttest-auc:0.99816+0.00014\n",
      "[36]\ttrain-auc:0.99843+0.00001\ttest-auc:0.99821+0.00014\n",
      "[38]\ttrain-auc:0.99846+0.00001\ttest-auc:0.99824+0.00013\n",
      "[40]\ttrain-auc:0.99849+0.00001\ttest-auc:0.99826+0.00013\n",
      "[42]\ttrain-auc:0.99851+0.00001\ttest-auc:0.99828+0.00014\n",
      "[44]\ttrain-auc:0.99853+0.00001\ttest-auc:0.99830+0.00013\n",
      "[46]\ttrain-auc:0.99854+0.00001\ttest-auc:0.99831+0.00013\n",
      "[48]\ttrain-auc:0.99855+0.00001\ttest-auc:0.99832+0.00013\n",
      "[50]\ttrain-auc:0.99856+0.00001\ttest-auc:0.99834+0.00013\n",
      "[51]\ttrain-auc:0.99857+0.00001\ttest-auc:0.99834+0.00013\n",
      "[0]\ttrain-auc:0.98207+0.00021\ttest-auc:0.98143+0.00048\n",
      "[2]\ttrain-auc:0.99085+0.00011\ttest-auc:0.99045+0.00031\n",
      "[4]\ttrain-auc:0.99434+0.00010\ttest-auc:0.99404+0.00022\n",
      "[6]\ttrain-auc:0.99520+0.00008\ttest-auc:0.99494+0.00019\n",
      "[8]\ttrain-auc:0.99600+0.00007\ttest-auc:0.99573+0.00015\n",
      "[10]\ttrain-auc:0.99662+0.00005\ttest-auc:0.99635+0.00013\n",
      "[12]\ttrain-auc:0.99699+0.00007\ttest-auc:0.99672+0.00014\n",
      "[14]\ttrain-auc:0.99723+0.00004\ttest-auc:0.99697+0.00013\n",
      "[16]\ttrain-auc:0.99750+0.00003\ttest-auc:0.99724+0.00012\n",
      "[18]\ttrain-auc:0.99766+0.00002\ttest-auc:0.99740+0.00012\n",
      "[20]\ttrain-auc:0.99783+0.00002\ttest-auc:0.99758+0.00012\n",
      "[22]\ttrain-auc:0.99798+0.00003\ttest-auc:0.99774+0.00011\n",
      "[24]\ttrain-auc:0.99809+0.00003\ttest-auc:0.99786+0.00013\n",
      "[26]\ttrain-auc:0.99818+0.00003\ttest-auc:0.99795+0.00013\n",
      "[28]\ttrain-auc:0.99824+0.00002\ttest-auc:0.99802+0.00013\n",
      "[30]\ttrain-auc:0.99830+0.00001\ttest-auc:0.99808+0.00013\n",
      "[32]\ttrain-auc:0.99834+0.00001\ttest-auc:0.99812+0.00013\n",
      "[34]\ttrain-auc:0.99838+0.00001\ttest-auc:0.99816+0.00014\n",
      "[36]\ttrain-auc:0.99843+0.00001\ttest-auc:0.99821+0.00014\n",
      "[38]\ttrain-auc:0.99846+0.00001\ttest-auc:0.99824+0.00013\n",
      "[40]\ttrain-auc:0.99849+0.00001\ttest-auc:0.99826+0.00013\n",
      "[42]\ttrain-auc:0.99851+0.00001\ttest-auc:0.99828+0.00014\n",
      "[44]\ttrain-auc:0.99853+0.00001\ttest-auc:0.99830+0.00013\n",
      "[46]\ttrain-auc:0.99854+0.00001\ttest-auc:0.99831+0.00013\n",
      "[48]\ttrain-auc:0.99855+0.00001\ttest-auc:0.99832+0.00013\n",
      "[50]\ttrain-auc:0.99856+0.00001\ttest-auc:0.99834+0.00013\n",
      "[51]\ttrain-auc:0.99857+0.00001\ttest-auc:0.99834+0.00013\n",
      "[0]\ttraining-auc:0.98214\ttesting-auc:0.77994\n",
      "[2]\ttraining-auc:0.99083\ttesting-auc:0.81068\n",
      "[4]\ttraining-auc:0.99444\ttesting-auc:0.82471\n",
      "[6]\ttraining-auc:0.99529\ttesting-auc:0.83258\n",
      "[8]\ttraining-auc:0.99604\ttesting-auc:0.83528\n",
      "[10]\ttraining-auc:0.99667\ttesting-auc:0.83983\n",
      "[12]\ttraining-auc:0.99708\ttesting-auc:0.84368\n",
      "[14]\ttraining-auc:0.99736\ttesting-auc:0.84573\n",
      "[16]\ttraining-auc:0.99759\ttesting-auc:0.84772\n",
      "[18]\ttraining-auc:0.99774\ttesting-auc:0.85029\n",
      "[20]\ttraining-auc:0.99790\ttesting-auc:0.85220\n",
      "[22]\ttraining-auc:0.99805\ttesting-auc:0.85452\n",
      "[24]\ttraining-auc:0.99816\ttesting-auc:0.85533\n",
      "[26]\ttraining-auc:0.99823\ttesting-auc:0.85689\n",
      "[28]\ttraining-auc:0.99829\ttesting-auc:0.85851\n",
      "[30]\ttraining-auc:0.99835\ttesting-auc:0.86108\n",
      "[32]\ttraining-auc:0.99838\ttesting-auc:0.86275\n",
      "[34]\ttraining-auc:0.99842\ttesting-auc:0.86356\n",
      "[36]\ttraining-auc:0.99846\ttesting-auc:0.86424\n",
      "[38]\ttraining-auc:0.99849\ttesting-auc:0.86486\n",
      "[40]\ttraining-auc:0.99851\ttesting-auc:0.86622\n",
      "[42]\ttraining-auc:0.99854\ttesting-auc:0.86675\n",
      "[44]\ttraining-auc:0.99856\ttesting-auc:0.86763\n",
      "[46]\ttraining-auc:0.99857\ttesting-auc:0.86823\n",
      "[48]\ttraining-auc:0.99858\ttesting-auc:0.86813\n",
      "[49]\ttraining-auc:0.99859\ttesting-auc:0.86788\n"
     ]
    }
   ],
   "source": [
    "# final_random_search_model, best_params, best_auc = fit_xgb_binary(dtrain, dtest, iterations=5)"
   ]
  },
  {
   "cell_type": "code",
   "execution_count": 75,
   "id": "24738eb5-d005-4592-9977-3f9fbf7429d5",
   "metadata": {},
   "outputs": [
    {
     "name": "stdout",
     "output_type": "stream",
     "text": [
      "{'eta': 0.18043474692241304, 'lambda': 0.17857122216563456, 'alpha': 0.016266858678106212, 'gamma': 17.55358323588516, 'max_depth': 13, 'subsample': 0.6834624708149393, 'colsample_bytree': 0.6547071853481344, 'objective': 'binary:logistic', 'eval_metric': 'auc', 'min_child_weight': 1.1628021170037834} 0.9983408330554733\n"
     ]
    }
   ],
   "source": [
    "# print(best_params, best_auc)"
   ]
  },
  {
   "cell_type": "code",
   "execution_count": 79,
   "id": "775846a5-be68-41db-8d4d-91ffde34c3ce",
   "metadata": {},
   "outputs": [
    {
     "name": "stdout",
     "output_type": "stream",
     "text": [
      "Recall (TPR): 0.1157\n",
      "False Positive Rate (FPR): 0.0045\n",
      "ROC AUC: 0.86829\n"
     ]
    }
   ],
   "source": [
    "# random_preds = final_random_search_model.predict(dtest)\n",
    "# threshold = 0.5\n",
    "# y_pred = (random_preds >= threshold).astype(int)\n",
    "# random_auc = roc_auc_score(y_test, random_preds)\n",
    "# tn, fp, fn, tp = confusion_matrix(y_test, y_pred).ravel()\n",
    "# tpr = tp / (tp + fn)\n",
    "# fpr = fp / (fp + tn)\n",
    "\n",
    "# print(f\"Recall (TPR): {tpr:.4f}\")\n",
    "# print(f\"False Positive Rate (FPR): {fpr:.4f}\")\n",
    "# print(f'ROC AUC: {random_auc:.5f}')"
   ]
  },
  {
   "cell_type": "code",
   "execution_count": 70,
   "id": "d68229d4-5645-4b0e-98a3-59fbf5abd797",
   "metadata": {},
   "outputs": [],
   "source": []
  },
  {
   "cell_type": "code",
   "execution_count": null,
   "id": "55cc7170-ab39-4248-ab8f-66d3fc7fb74d",
   "metadata": {},
   "outputs": [],
   "source": []
  },
  {
   "cell_type": "code",
   "execution_count": null,
   "id": "2a0a37fa-a932-4f3a-9a20-2387050ae66b",
   "metadata": {},
   "outputs": [],
   "source": []
  },
  {
   "cell_type": "code",
   "execution_count": null,
   "id": "6e1df2d1-105e-4e70-99a2-deb777c3c0ab",
   "metadata": {},
   "outputs": [],
   "source": []
  },
  {
   "cell_type": "code",
   "execution_count": null,
   "id": "fa330ccc-993b-4f71-aff8-31b6a0f8b2c7",
   "metadata": {},
   "outputs": [],
   "source": []
  },
  {
   "cell_type": "code",
   "execution_count": null,
   "id": "e31f6c97-c247-4201-abc1-f545167209e1",
   "metadata": {},
   "outputs": [],
   "source": []
  },
  {
   "cell_type": "code",
   "execution_count": null,
   "id": "8943e28a-60ad-4c6e-8c22-7347a3879d8a",
   "metadata": {},
   "outputs": [],
   "source": []
  },
  {
   "cell_type": "code",
   "execution_count": null,
   "id": "0cc28c27-88e0-494e-8a97-05d0a46ea64d",
   "metadata": {},
   "outputs": [],
   "source": []
  },
  {
   "cell_type": "code",
   "execution_count": null,
   "id": "49eced35-17c6-4e27-b176-cdebf0ff6fc7",
   "metadata": {},
   "outputs": [],
   "source": []
  },
  {
   "cell_type": "code",
   "execution_count": null,
   "id": "3c23d783-2a25-47a0-898c-cf14c4a06cd8",
   "metadata": {},
   "outputs": [],
   "source": []
  },
  {
   "cell_type": "code",
   "execution_count": null,
   "id": "7ce7c70d-0d46-4cae-bc3d-93e1a217b545",
   "metadata": {},
   "outputs": [],
   "source": []
  },
  {
   "cell_type": "markdown",
   "id": "f5cea4c5-0659-4bd4-ba3a-41e49931b740",
   "metadata": {},
   "source": [
    "## Informed grid search based on the random search"
   ]
  },
  {
   "cell_type": "code",
   "execution_count": 15,
   "id": "329c1a99-5bed-40c9-856b-9db152a72e55",
   "metadata": {},
   "outputs": [
    {
     "name": "stdout",
     "output_type": "stream",
     "text": [
      "{'objective': 'binary:logistic', 'base_score': None, 'booster': None, 'callbacks': None, 'colsample_bylevel': None, 'colsample_bynode': None, 'colsample_bytree': None, 'device': None, 'early_stopping_rounds': None, 'enable_categorical': False, 'eval_metric': None, 'feature_types': None, 'gamma': None, 'grow_policy': None, 'importance_type': None, 'interaction_constraints': None, 'learning_rate': None, 'max_bin': None, 'max_cat_threshold': None, 'max_cat_to_onehot': None, 'max_delta_step': None, 'max_depth': None, 'max_leaves': None, 'min_child_weight': None, 'missing': nan, 'monotone_constraints': None, 'multi_strategy': None, 'n_estimators': None, 'n_jobs': None, 'num_parallel_tree': None, 'random_state': None, 'reg_alpha': None, 'reg_lambda': None, 'sampling_method': None, 'scale_pos_weight': None, 'subsample': None, 'tree_method': None, 'validate_parameters': None, 'verbosity': None}\n"
     ]
    }
   ],
   "source": [
    "model = XGBClassifier()\n",
    "param = model.get_params()\n",
    "print(param)"
   ]
  },
  {
   "cell_type": "markdown",
   "id": "c1e38a39-0bb4-476e-8bed-aa56172bf680",
   "metadata": {},
   "source": [
    "uniform distribution vs. normal distribution in random search "
   ]
  },
  {
   "cell_type": "markdown",
   "id": "3b69363d-5173-406e-b34d-1db0960ff571",
   "metadata": {
    "jp-MarkdownHeadingCollapsed": true
   },
   "source": [
    "## normative distributino visualization "
   ]
  },
  {
   "cell_type": "code",
   "execution_count": 37,
   "id": "91f6db4d-a85b-4d15-b349-6d71c15b260d",
   "metadata": {},
   "outputs": [
    {
     "data": {
      "image/png": "[encoded data removed]",
      "text/plain": [
       "<Figure size 640x480 with 1 Axes>"
      ]
     },
     "metadata": {},
     "output_type": "display_data"
    }
   ],
   "source": [
    "%matplotlib inline\n",
    "\n",
    "# Learning rate histogram\n",
    "plt.hist(param_grid['eta'], bins = 20, color = 'r', edgecolor = 'k');\n",
    "plt.xlabel('Learning Rate', size = 14); plt.ylabel('Count', size = 14); plt.title('Learning Rate Distribution', size = 18);"
   ]
  },
  {
   "cell_type": "markdown",
   "id": "ec226527-e496-4afd-a11d-676a07a38b0f",
   "metadata": {},
   "source": [
    "Using a logarithmic uniform distribution allows us to create a domain where there are as many values from 0.005 to 0.05 as from 0.05 to 0.5.\n",
    "\n",
    "This is useful for values that differ over several orders of magnitude such as the learning rate.\n",
    " \n",
    "A logarithmic uniform distribution lets us sample more evenly from a domain that varies over several orders of magnitude."
   ]
  },
  {
   "cell_type": "markdown",
   "id": "fe9b80a3-3932-4606-9946-16ff4cf2bd3e",
   "metadata": {},
   "source": [
    " In the case of grid search, we input the domain and the algorithm selects the next value for each hyperparameter in an ordered sequence. The only requirement of grid search is that it tries every combination in a grid once (and only once). For random search, we input the domain and each time the algorithm gives us a random combination of hyperparameter values to try. "
   ]
  },
  {
   "cell_type": "code",
   "execution_count": 139,
   "id": "f60bda44-e7f8-49b6-9934-8c01f3ea7be3",
   "metadata": {},
   "outputs": [
    {
     "data": {
      "text/plain": [
       "Text(0, 0.5, 'Count')"
      ]
     },
     "execution_count": 139,
     "metadata": {},
     "output_type": "execute_result"
    },
    {
     "data": {
      "image/png": "[encoded data removed]",
      "text/plain": [
       "<Figure size 640x480 with 1 Axes>"
      ]
     },
     "metadata": {},
     "output_type": "display_data"
    }
   ],
   "source": [
    "%matplotlib inline\n",
    "\n",
    "# Learning rate histogram\n",
    "plt.hist(param_grid['max_depth'], bins = 20, color = 'r', edgecolor = 'k');\n",
    "plt.xlabel('max_depth distribution', size = 14); plt.ylabel('Count', size = 14)"
   ]
  },
  {
   "cell_type": "code",
   "execution_count": 146,
   "id": "ebf6f1c7-45f2-4c60-8cf2-8d7278a57d90",
   "metadata": {},
   "outputs": [
    {
     "name": "stdout",
     "output_type": "stream",
     "text": [
      "There are 500 combinations\n",
      "There are 25000 combinations\n",
      "There are 1250000 combinations\n",
      "There are 125000000 combinations\n",
      "There are 1500000000 combinations\n",
      "There are 7500000000 combinations\n",
      "There are 37500000000 combinations\n",
      "There are 562500000000 combinations\n",
      "There are 1687500000000 combinations\n",
      "There are 8437500000000 combinations\n"
     ]
    }
   ],
   "source": [
    "com = 1\n",
    "for x in param_grid.values():\n",
    "    com *= len(x)\n",
    "    print('There are {} combinations'.format(com))"
   ]
  },
  {
   "cell_type": "markdown",
   "id": "fc9e21ac-db8f-4888-afe1-f12dc505f43b",
   "metadata": {},
   "source": [
    "## Start grid search"
   ]
  },
  {
   "cell_type": "code",
   "execution_count": 20,
   "id": "08024dc8-6ed0-4eae-b847-306e5d844b7b",
   "metadata": {},
   "outputs": [],
   "source": [
    "import itertools\n",
    "grid_results = pd.DataFrame(columns = ['score', 'params', 'iteration'],\n",
    "                              index = list(range(MAX_EVALS)))\n",
    "\n",
    "\n",
    "def grid_search(param_grid, max_evals = MAX_EVALS):\n",
    "    \"\"\"Grid search algorithm (with limit on max evals)\"\"\"\n",
    "    \n",
    "    # Dataframe to store results\n",
    "    results = pd.DataFrame(columns = ['score', 'params', 'iteration'],\n",
    "                              index = list(range(MAX_EVALS)))\n",
    "    \n",
    "    # https://codereview.stackexchange.com/questions/171173/list-all-possible-permutations-from-a-python-dictionary-of-lists\n",
    "    keys, values = zip(*param_grid.items())\n",
    "    \n",
    "    i = 0\n",
    "    \n",
    "    # Iterate through every possible combination of hyperparameters\n",
    "    for v in itertools.product(*values):\n",
    "        \n",
    "        # Create a hyperparameter dictionary\n",
    "        hyperparameters = dict(zip(keys, v))\n",
    "        \n",
    "        # Evalute the hyperparameters\n",
    "        eval_results = objective(hyperparameters, i)\n",
    "        \n",
    "        results.loc[i, :] = eval_results\n",
    "        \n",
    "        i += 1\n",
    "        \n",
    "        # Normally would not limit iterations\n",
    "        if i > MAX_EVALS:\n",
    "            break\n",
    "       \n",
    "    # Sort with best score on top\n",
    "    results.sort_values('score', ascending = False, inplace = True)\n",
    "    results.reset_index(inplace = True)\n",
    "    \n",
    "    return results"
   ]
  },
  {
   "cell_type": "code",
   "execution_count": 23,
   "id": "205d2129-e039-4027-ae0e-3b43f32b01cd",
   "metadata": {},
   "outputs": [
    {
     "name": "stdout",
     "output_type": "stream",
     "text": [
      "The best validation score was 0.95893\n",
      "\n",
      "The best hyperparameters were:\n",
      "{'alpha': np.float64(0.01),\n",
      " 'colsample_bytree': np.float64(0.5),\n",
      " 'eta': np.float64(0.001),\n",
      " 'eval_metric': 'auc',\n",
      " 'gamma': np.float64(0.0),\n",
      " 'lambda': np.float64(0.01),\n",
      " 'max_depth': 3,\n",
      " 'min_child_weight': np.float64(0.8),\n",
      " 'n_estimators': 6,\n",
      " 'objective': 'binary:logistic',\n",
      " 'subsample': np.float64(0.5)}\n"
     ]
    }
   ],
   "source": [
    "N_FOLD = 10\n",
    "D_TRAIN = xgb.DMatrix(X_train, label=y_train)\n",
    "MAX_EVALS = 30\n",
    "param_grid = {\n",
    "    'eta': list(np.logspace(np.log10(0.001), np.log10(0.6), base = 10, num = 500)),\n",
    "    'lambda': list(np.linspace(0.01, 0.2, num = 100)),\n",
    "    'alpha': list(np.linspace(0.01, 0.2, 100)),\n",
    "    'gamma': list(np.linspace(0, 20, 100)),\n",
    "    'max_depth': list(range(3, 15, 1)),\n",
    "    'subsample': list(np.linspace(0.5, 1, 5)),\n",
    "    'colsample_bytree': list(np.linspace(0.5, 1, 5)),\n",
    "    'objective': ['binary:logistic'],\n",
    "    'eval_metric': ['auc'],\n",
    "    'min_child_weight': list(np.linspace(0.8, 1.2, 5))\n",
    "}\n",
    "grid_results = grid_search(param_grid)\n",
    "\n",
    "print('The best validation score was {:.5f}'.format(grid_results.loc[0, 'score']))\n",
    "print('\\nThe best hyperparameters were:')\n",
    "\n",
    "import pprint\n",
    "pprint.pprint(grid_results.loc[0, 'params'])"
   ]
  },
  {
   "cell_type": "code",
   "execution_count": 25,
   "id": "11e7a566-9079-4fe5-b52e-f1991bd00bde",
   "metadata": {},
   "outputs": [],
   "source": [
    "grid_search_params = grid_results.loc[0, 'params']\n",
    "# model_grid_search = XGBClassifier(**grid_search_params, random_state=42)"
   ]
  },
  {
   "cell_type": "code",
   "execution_count": 61,
   "id": "00c9e68f-003e-48b1-8dc9-386c87939c09",
   "metadata": {},
   "outputs": [
    {
     "name": "stdout",
     "output_type": "stream",
     "text": [
      "[0]\ttraining-auc:0.83741\ttesting-auc:0.69655\n",
      "[1]\ttraining-auc:0.93393\ttesting-auc:0.77610\n",
      "[2]\ttraining-auc:0.93762\ttesting-auc:0.79139\n",
      "[3]\ttraining-auc:0.94848\ttesting-auc:0.80987\n",
      "[4]\ttraining-auc:0.95741\ttesting-auc:0.81919\n",
      "[5]\ttraining-auc:0.95891\ttesting-auc:0.81488\n",
      "[6]\ttraining-auc:0.95633\ttesting-auc:0.81604\n",
      "[7]\ttraining-auc:0.95479\ttesting-auc:0.81694\n",
      "[8]\ttraining-auc:0.95478\ttesting-auc:0.81751\n",
      "[9]\ttraining-auc:0.95614\ttesting-auc:0.81744\n"
     ]
    }
   ],
   "source": [
    "dtest = xgb.DMatrix(X_test, label=y_test)\n",
    "\n",
    "grid_search_final_model = xgb.train(\n",
    "    params=grid_search_params,\n",
    "    dtrain=D_TRAIN,\n",
    "    num_boost_round=10000,\n",
    "    early_stopping_rounds=5,\n",
    "    evals=[(dtrain, 'training'), (dtest, 'testing')],\n",
    "    maximize=True,\n",
    "    verbose_eval=True\n",
    ")"
   ]
  },
  {
   "cell_type": "code",
   "execution_count": 62,
   "id": "b6b8d11e-9422-4cb8-a8ec-26b0cd05760c",
   "metadata": {},
   "outputs": [
    {
     "data": {
      "text/plain": [
       "{'best_iteration': '4', 'best_score': '0.8191889736158259'}"
      ]
     },
     "execution_count": 62,
     "metadata": {},
     "output_type": "execute_result"
    }
   ],
   "source": [
    "grid_search_final_model.attributes()"
   ]
  },
  {
   "cell_type": "code",
   "execution_count": 71,
   "id": "3a3880c9-2fd3-41c8-abd7-82ed52198bc1",
   "metadata": {},
   "outputs": [
    {
     "name": "stdout",
     "output_type": "stream",
     "text": [
      "Recall (TPR): 0.5235\n",
      "False Positive Rate (FPR): 0.0994\n",
      "ROC AUC: 0.81744\n"
     ]
    }
   ],
   "source": [
    "grid_preds = grid_search_final_model.predict(dtest)\n",
    "threshold = 0.5\n",
    "y_pred = (grid_preds >= threshold).astype(int)\n",
    "grid_auc = roc_auc_score(y_test, grid_preds)\n",
    "tn, fp, fn, tp = confusion_matrix(y_test, y_pred).ravel()\n",
    "tpr = tp / (tp + fn)\n",
    "fpr = fp / (fp + tn)\n",
    "\n",
    "print(f\"Recall (TPR): {tpr:.4f}\")\n",
    "print(f\"False Positive Rate (FPR): {fpr:.4f}\")\n",
    "print(f'ROC AUC: {grid_auc:.5f}')"
   ]
  },
  {
   "cell_type": "markdown",
   "id": "54d21f16-e16c-409f-8995-100b304fc96d",
   "metadata": {},
   "source": [
    "# tuning with random search"
   ]
  },
  {
   "cell_type": "code",
   "execution_count": null,
   "id": "5f06b78a-5066-4f50-9078-d576b0abb3dd",
   "metadata": {},
   "outputs": [],
   "source": []
  }
 ],
 "metadata": {
  "kernelspec": {
   "display_name": "Python 3 (ipykernel)",
   "language": "python",
   "name": "python3"
  },
  "language_info": {
   "codemirror_mode": {
    "name": "ipython",
    "version": 3
   },
   "file_extension": ".py",
   "mimetype": "text/x-python",
   "name": "python",
   "nbconvert_exporter": "python",
   "pygments_lexer": "ipython3",
   "version": "3.11.10"
  }
 },
 "nbformat": 4,
 "nbformat_minor": 5
}
