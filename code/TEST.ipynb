{
 "cells": [
  {
   "cell_type": "markdown",
   "id": "4d22a738-a0c0-461b-a7d7-d7a99418c45e",
   "metadata": {},
   "source": [
    "# TEST python"
   ]
  },
  {
   "cell_type": "code",
   "execution_count": 2,
   "id": "c3a40c4f-942c-4a51-a947-bb0a19b48519",
   "metadata": {},
   "outputs": [
    {
     "name": "stdout",
     "output_type": "stream",
     "text": [
      "converted to script and executed!\n"
     ]
    }
   ],
   "source": [
    "print(\"converted to script and executed!\")"
   ]
  },
  {
   "cell_type": "code",
   "execution_count": null,
   "id": "a65035aa-0ef6-4dfa-9942-2184a335cf91",
   "metadata": {},
   "outputs": [],
   "source": []
  }
 ],
 "metadata": {
  "kernelspec": {
   "display_name": "Python 3 (ipykernel)",
   "language": "python",
   "name": "python3"
  },
  "language_info": {
   "codemirror_mode": {
    "name": "ipython",
    "version": 3
   },
   "file_extension": ".py",
   "mimetype": "text/x-python",
   "name": "python",
   "nbconvert_exporter": "python",
   "pygments_lexer": "ipython3",
   "version": "3.11.10"
  }
 },
 "nbformat": 4,
 "nbformat_minor": 5
}
